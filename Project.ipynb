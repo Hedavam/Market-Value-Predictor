{
 "cells": [
  {
   "cell_type": "code",
   "execution_count": 3,
   "id": "8f1bbb29-38bd-4b0c-baf3-5cef7310c81b",
   "metadata": {},
   "outputs": [],
   "source": [
    "import pandas as pd\n",
    "import numpy as np\n",
    "import seaborn as sns\n",
    "import matplotlib.pyplot as plt"
   ]
  },
  {
   "cell_type": "code",
   "execution_count": 6,
   "id": "d51fbaad-5d04-45c5-85ed-bae3ea66041b",
   "metadata": {},
   "outputs": [
    {
     "ename": "NameError",
     "evalue": "name 'pd' is not defined",
     "output_type": "error",
     "traceback": [
      "\u001b[0;31m---------------------------------------------------------------------------\u001b[0m",
      "\u001b[0;31mNameError\u001b[0m                                 Traceback (most recent call last)",
      "Cell \u001b[0;32mIn[6], line 1\u001b[0m\n\u001b[0;32m----> 1\u001b[0m mf_data \u001b[38;5;241m=\u001b[39m \u001b[43mpd\u001b[49m\u001b[38;5;241m.\u001b[39mread_csv(\u001b[38;5;124m\"\u001b[39m\u001b[38;5;124mmidfielder_data.csv\u001b[39m\u001b[38;5;124m\"\u001b[39m)\n\u001b[1;32m      2\u001b[0m gk_data \u001b[38;5;241m=\u001b[39m pd\u001b[38;5;241m.\u001b[39mread_csv(\u001b[38;5;124m\"\u001b[39m\u001b[38;5;124mgoalkeeper_data.csv\u001b[39m\u001b[38;5;124m\"\u001b[39m)\n\u001b[1;32m      3\u001b[0m df_data \u001b[38;5;241m=\u001b[39m pd\u001b[38;5;241m.\u001b[39mread_csv(\u001b[38;5;124m\"\u001b[39m\u001b[38;5;124mdefender_data.csv\u001b[39m\u001b[38;5;124m\"\u001b[39m)\n",
      "\u001b[0;31mNameError\u001b[0m: name 'pd' is not defined"
     ]
    }
   ],
   "source": [
    "mf_data = pd.read_csv(\"midfielder_data.csv\")\n",
    "gk_data = pd.read_csv(\"goalkeeper_data.csv\")\n",
    "df_data = pd.read_csv(\"defender_data.csv\")\n",
    "at_data = pd.read_csv(\"attacker_data.csv\")"
   ]
  },
  {
   "cell_type": "code",
   "execution_count": 255,
   "id": "388f6abd-b48a-42d1-a2f6-8e81990c188b",
   "metadata": {},
   "outputs": [
    {
     "name": "stderr",
     "output_type": "stream",
     "text": [
      "/var/folders/x_/pzlfspq52sd41dygb97kcztm0000gn/T/ipykernel_8271/663454476.py:2: FutureWarning: The default value of regex will change from True to False in a future version. In addition, single character regular expressions will *not* be treated as literal strings when regex=True.\n",
      "  mf_data.columns = mf_data.columns.str.replace('.', '_')\n",
      "/var/folders/x_/pzlfspq52sd41dygb97kcztm0000gn/T/ipykernel_8271/663454476.py:6: FutureWarning: The default value of regex will change from True to False in a future version. In addition, single character regular expressions will *not* be treated as literal strings when regex=True.\n",
      "  gk_data.columns = gk_data.columns.str.replace('.', '_')\n"
     ]
    }
   ],
   "source": [
    "#do some renaming\n",
    "mf_data.columns = mf_data.columns.str.replace('.', '_')\n",
    "mf_data.columns = mf_data.columns.str.replace('___', '_')\n",
    "mf_data.columns = mf_data.columns.str.replace(' ', '_')\n",
    "\n",
    "gk_data.columns = gk_data.columns.str.replace('.', '_')\n",
    "gk_data.columns = gk_data.columns.str.replace('___', '_')\n",
    "gk_data.columns = gk_data.columns.str.replace(' ', '_')"
   ]
  },
  {
   "cell_type": "code",
   "execution_count": 1029,
   "id": "982ca738-f429-4ceb-80b1-2c40742f2c28",
   "metadata": {},
   "outputs": [
    {
     "data": {
      "text/html": [
       "<div>\n",
       "<style scoped>\n",
       "    .dataframe tbody tr th:only-of-type {\n",
       "        vertical-align: middle;\n",
       "    }\n",
       "\n",
       "    .dataframe tbody tr th {\n",
       "        vertical-align: top;\n",
       "    }\n",
       "\n",
       "    .dataframe thead th {\n",
       "        text-align: right;\n",
       "    }\n",
       "</style>\n",
       "<table border=\"1\" class=\"dataframe\">\n",
       "  <thead>\n",
       "    <tr style=\"text-align: right;\">\n",
       "      <th></th>\n",
       "      <th>Name</th>\n",
       "      <th>Age</th>\n",
       "      <th>Overall.rating</th>\n",
       "      <th>Potential</th>\n",
       "      <th>Years Left</th>\n",
       "      <th>field_position</th>\n",
       "      <th>Value</th>\n",
       "      <th>Wage</th>\n",
       "      <th>Skill.moves</th>\n",
       "      <th>Total.attacking</th>\n",
       "      <th>Total.skill</th>\n",
       "      <th>Total.movement</th>\n",
       "      <th>Total.power</th>\n",
       "      <th>Total.mentality</th>\n",
       "      <th>Weak.foot</th>\n",
       "    </tr>\n",
       "  </thead>\n",
       "  <tbody>\n",
       "    <tr>\n",
       "      <th>0</th>\n",
       "      <td>Cristiano Ronaldo</td>\n",
       "      <td>33</td>\n",
       "      <td>94</td>\n",
       "      <td>94</td>\n",
       "      <td>3</td>\n",
       "      <td>Attacker</td>\n",
       "      <td>77000000</td>\n",
       "      <td>400000</td>\n",
       "      <td>5</td>\n",
       "      <td>435</td>\n",
       "      <td>416</td>\n",
       "      <td>433</td>\n",
       "      <td>450</td>\n",
       "      <td>354</td>\n",
       "      <td>4</td>\n",
       "    </tr>\n",
       "    <tr>\n",
       "      <th>1</th>\n",
       "      <td>Neymar Jr</td>\n",
       "      <td>26</td>\n",
       "      <td>92</td>\n",
       "      <td>92</td>\n",
       "      <td>3</td>\n",
       "      <td>Attacker</td>\n",
       "      <td>108000000</td>\n",
       "      <td>300000</td>\n",
       "      <td>5</td>\n",
       "      <td>400</td>\n",
       "      <td>446</td>\n",
       "      <td>458</td>\n",
       "      <td>353</td>\n",
       "      <td>350</td>\n",
       "      <td>5</td>\n",
       "    </tr>\n",
       "    <tr>\n",
       "      <th>2</th>\n",
       "      <td>L. Suárez</td>\n",
       "      <td>31</td>\n",
       "      <td>91</td>\n",
       "      <td>91</td>\n",
       "      <td>2</td>\n",
       "      <td>Attacker</td>\n",
       "      <td>80000000</td>\n",
       "      <td>450000</td>\n",
       "      <td>3</td>\n",
       "      <td>423</td>\n",
       "      <td>413</td>\n",
       "      <td>413</td>\n",
       "      <td>413</td>\n",
       "      <td>389</td>\n",
       "      <td>4</td>\n",
       "    </tr>\n",
       "    <tr>\n",
       "      <th>3</th>\n",
       "      <td>H. Kane</td>\n",
       "      <td>24</td>\n",
       "      <td>90</td>\n",
       "      <td>92</td>\n",
       "      <td>5</td>\n",
       "      <td>Attacker</td>\n",
       "      <td>96500000</td>\n",
       "      <td>200000</td>\n",
       "      <td>3</td>\n",
       "      <td>422</td>\n",
       "      <td>393</td>\n",
       "      <td>375</td>\n",
       "      <td>426</td>\n",
       "      <td>377</td>\n",
       "      <td>4</td>\n",
       "    </tr>\n",
       "    <tr>\n",
       "      <th>4</th>\n",
       "      <td>R. Lewandowski</td>\n",
       "      <td>29</td>\n",
       "      <td>90</td>\n",
       "      <td>90</td>\n",
       "      <td>2</td>\n",
       "      <td>Attacker</td>\n",
       "      <td>77000000</td>\n",
       "      <td>200000</td>\n",
       "      <td>4</td>\n",
       "      <td>409</td>\n",
       "      <td>402</td>\n",
       "      <td>402</td>\n",
       "      <td>418</td>\n",
       "      <td>374</td>\n",
       "      <td>4</td>\n",
       "    </tr>\n",
       "    <tr>\n",
       "      <th>...</th>\n",
       "      <td>...</td>\n",
       "      <td>...</td>\n",
       "      <td>...</td>\n",
       "      <td>...</td>\n",
       "      <td>...</td>\n",
       "      <td>...</td>\n",
       "      <td>...</td>\n",
       "      <td>...</td>\n",
       "      <td>...</td>\n",
       "      <td>...</td>\n",
       "      <td>...</td>\n",
       "      <td>...</td>\n",
       "      <td>...</td>\n",
       "      <td>...</td>\n",
       "      <td>...</td>\n",
       "    </tr>\n",
       "    <tr>\n",
       "      <th>1693</th>\n",
       "      <td>A. Fink</td>\n",
       "      <td>30</td>\n",
       "      <td>69</td>\n",
       "      <td>69</td>\n",
       "      <td>1</td>\n",
       "      <td>Attacker</td>\n",
       "      <td>1000000</td>\n",
       "      <td>5000</td>\n",
       "      <td>3</td>\n",
       "      <td>322</td>\n",
       "      <td>303</td>\n",
       "      <td>383</td>\n",
       "      <td>322</td>\n",
       "      <td>281</td>\n",
       "      <td>3</td>\n",
       "    </tr>\n",
       "    <tr>\n",
       "      <th>1695</th>\n",
       "      <td>Villalibre</td>\n",
       "      <td>20</td>\n",
       "      <td>69</td>\n",
       "      <td>76</td>\n",
       "      <td>4</td>\n",
       "      <td>Attacker</td>\n",
       "      <td>1500000</td>\n",
       "      <td>9000</td>\n",
       "      <td>3</td>\n",
       "      <td>293</td>\n",
       "      <td>272</td>\n",
       "      <td>346</td>\n",
       "      <td>364</td>\n",
       "      <td>280</td>\n",
       "      <td>3</td>\n",
       "    </tr>\n",
       "    <tr>\n",
       "      <th>1696</th>\n",
       "      <td>Gabrielzinho</td>\n",
       "      <td>22</td>\n",
       "      <td>69</td>\n",
       "      <td>77</td>\n",
       "      <td>3</td>\n",
       "      <td>Attacker</td>\n",
       "      <td>1500000</td>\n",
       "      <td>5000</td>\n",
       "      <td>4</td>\n",
       "      <td>296</td>\n",
       "      <td>283</td>\n",
       "      <td>420</td>\n",
       "      <td>306</td>\n",
       "      <td>265</td>\n",
       "      <td>3</td>\n",
       "    </tr>\n",
       "    <tr>\n",
       "      <th>1699</th>\n",
       "      <td>M. Pourié</td>\n",
       "      <td>27</td>\n",
       "      <td>69</td>\n",
       "      <td>69</td>\n",
       "      <td>3</td>\n",
       "      <td>Attacker</td>\n",
       "      <td>1100000</td>\n",
       "      <td>5000</td>\n",
       "      <td>3</td>\n",
       "      <td>311</td>\n",
       "      <td>265</td>\n",
       "      <td>337</td>\n",
       "      <td>358</td>\n",
       "      <td>294</td>\n",
       "      <td>4</td>\n",
       "    </tr>\n",
       "    <tr>\n",
       "      <th>1700</th>\n",
       "      <td>Isma López  B</td>\n",
       "      <td>28</td>\n",
       "      <td>69</td>\n",
       "      <td>69</td>\n",
       "      <td>2</td>\n",
       "      <td>Attacker</td>\n",
       "      <td>825000</td>\n",
       "      <td>6000</td>\n",
       "      <td>3</td>\n",
       "      <td>283</td>\n",
       "      <td>323</td>\n",
       "      <td>383</td>\n",
       "      <td>343</td>\n",
       "      <td>309</td>\n",
       "      <td>3</td>\n",
       "    </tr>\n",
       "  </tbody>\n",
       "</table>\n",
       "<p>1432 rows × 15 columns</p>\n",
       "</div>"
      ],
      "text/plain": [
       "                   Name  Age  Overall.rating  Potential  Years Left  \\\n",
       "0     Cristiano Ronaldo   33              94         94           3   \n",
       "1             Neymar Jr   26              92         92           3   \n",
       "2             L. Suárez   31              91         91           2   \n",
       "3               H. Kane   24              90         92           5   \n",
       "4        R. Lewandowski   29              90         90           2   \n",
       "...                 ...  ...             ...        ...         ...   \n",
       "1693            A. Fink   30              69         69           1   \n",
       "1695         Villalibre   20              69         76           4   \n",
       "1696       Gabrielzinho   22              69         77           3   \n",
       "1699          M. Pourié   27              69         69           3   \n",
       "1700      Isma López  B   28              69         69           2   \n",
       "\n",
       "     field_position     Value   Wage  Skill.moves  Total.attacking  \\\n",
       "0          Attacker  77000000 400000            5              435   \n",
       "1          Attacker 108000000 300000            5              400   \n",
       "2          Attacker  80000000 450000            3              423   \n",
       "3          Attacker  96500000 200000            3              422   \n",
       "4          Attacker  77000000 200000            4              409   \n",
       "...             ...       ...    ...          ...              ...   \n",
       "1693       Attacker   1000000   5000            3              322   \n",
       "1695       Attacker   1500000   9000            3              293   \n",
       "1696       Attacker   1500000   5000            4              296   \n",
       "1699       Attacker   1100000   5000            3              311   \n",
       "1700       Attacker    825000   6000            3              283   \n",
       "\n",
       "      Total.skill  Total.movement  Total.power  Total.mentality  Weak.foot  \n",
       "0             416             433          450              354          4  \n",
       "1             446             458          353              350          5  \n",
       "2             413             413          413              389          4  \n",
       "3             393             375          426              377          4  \n",
       "4             402             402          418              374          4  \n",
       "...           ...             ...          ...              ...        ...  \n",
       "1693          303             383          322              281          3  \n",
       "1695          272             346          364              280          3  \n",
       "1696          283             420          306              265          3  \n",
       "1699          265             337          358              294          4  \n",
       "1700          323             383          343              309          3  \n",
       "\n",
       "[1432 rows x 15 columns]"
      ]
     },
     "execution_count": 1029,
     "metadata": {},
     "output_type": "execute_result"
    }
   ],
   "source": [
    "#sns.lineplot(data = train, x = \"h\", y = \"Value\")\n",
    "at_data"
   ]
  },
  {
   "cell_type": "code",
   "execution_count": 291,
   "id": "ddf1f663-6551-41d8-9542-dad259f5ad4a",
   "metadata": {},
   "outputs": [
    {
     "data": {
      "text/plain": [
       "'A. Griezmann'"
      ]
     },
     "execution_count": 291,
     "metadata": {},
     "output_type": "execute_result"
    }
   ],
   "source": [
    "at_data.Name"
   ]
  },
  {
   "cell_type": "code",
   "execution_count": 257,
   "id": "32465deb-cb38-45b9-866f-a920e73e07a9",
   "metadata": {},
   "outputs": [],
   "source": [
    "mf_data = mf_data.drop([\"field_position\"], axis = 1)\n",
    "mf_data = mf_data.drop([\"Name\"], axis = 1)\n",
    "mf_data = mf_data.dropna() #drops NA Values"
   ]
  },
  {
   "cell_type": "code",
   "execution_count": 258,
   "id": "37464a01-2d5f-4d9a-a18e-cc2361503567",
   "metadata": {},
   "outputs": [],
   "source": [
    "from sklearn.model_selection import train_test_split\n",
    "mf_train, mf_test = train_test_split(mf_data, test_size = .2, shuffle = True)\n",
    "\n",
    "\n",
    "#getting the target vector\n",
    "X_train_mf = mf_train.drop([\"Value\"], axis = 1)\n",
    "y_train_mf = mf_train[\"Value\"]\n",
    "\n",
    "X_test_mf = mf_test.drop([\"Value\"], axis = 1)\n",
    "y_test_mf = mf_test[\"Value\"]"
   ]
  },
  {
   "cell_type": "code",
   "execution_count": 259,
   "id": "7fe6e3eb-ad81-4b5c-891d-7c46a2586a86",
   "metadata": {},
   "outputs": [],
   "source": [
    "#from sklearn.preprocessing import StandardScaler\n",
    "#sc = StandardScaler()\n",
    "#normalized_X_train = sc.fit_transform(X_train)"
   ]
  },
  {
   "cell_type": "code",
   "execution_count": 260,
   "id": "aed29a01-8b1f-4d66-9939-683dd03fd7c0",
   "metadata": {},
   "outputs": [
    {
     "data": {
      "text/plain": [
       "0.8574553828329162"
      ]
     },
     "execution_count": 260,
     "metadata": {},
     "output_type": "execute_result"
    }
   ],
   "source": [
    "from sklearn.linear_model import Lasso\n",
    "\n",
    "\n",
    "from sklearn.linear_model import LinearRegression\n",
    "\n",
    "reg = LinearRegression().fit(X_train_mf, y_train_mf)\n",
    "reg.score(X_test_mf,y_test_mf)"
   ]
  },
  {
   "cell_type": "code",
   "execution_count": 261,
   "id": "c303abf7-8464-4b8c-8de2-3018e8396f50",
   "metadata": {},
   "outputs": [],
   "source": [
    "#reg.predict(X_test)"
   ]
  },
  {
   "cell_type": "code",
   "execution_count": 262,
   "id": "9c7db5ad-b601-4cbe-9f1a-f9d8f846871a",
   "metadata": {},
   "outputs": [],
   "source": [
    "#make a new dataframe with player and predicted market value"
   ]
  },
  {
   "cell_type": "code",
   "execution_count": 263,
   "id": "f707bfb0-f175-4bf1-8a02-d71764917757",
   "metadata": {},
   "outputs": [],
   "source": [
    "#X_test"
   ]
  },
  {
   "cell_type": "code",
   "execution_count": 264,
   "id": "af668373-d08e-4282-8da5-fa384a99ca48",
   "metadata": {},
   "outputs": [],
   "source": [
    "gk_data = gk_data.drop([\"field_position\"], axis = 1)\n",
    "gk_data = gk_data.drop([\"Name\"], axis = 1)\n",
    "gk_data = gk_data.dropna() #drops NA Values"
   ]
  },
  {
   "cell_type": "code",
   "execution_count": 265,
   "id": "b623ebce-511b-4b78-854a-2990f46fd460",
   "metadata": {},
   "outputs": [],
   "source": [
    "from sklearn.model_selection import train_test_split\n",
    "gk_train, gk_test = train_test_split(gk_data, test_size = .2, shuffle = True)\n",
    "\n",
    "\n",
    "#getting the target vector\n",
    "X_train_gk = gk_train.drop([\"Value\"], axis = 1)\n",
    "y_train_gk = gk_train[\"Value\"]\n",
    "\n",
    "X_test_gk = gk_test.drop([\"Value\"], axis = 1)\n",
    "y_test_gk = gk_test[\"Value\"]"
   ]
  },
  {
   "cell_type": "code",
   "execution_count": 266,
   "id": "a7200996-4096-4769-93e3-c530dc24b38d",
   "metadata": {},
   "outputs": [
    {
     "data": {
      "text/plain": [
       "0.9049225407525437"
      ]
     },
     "execution_count": 266,
     "metadata": {},
     "output_type": "execute_result"
    }
   ],
   "source": [
    "from sklearn.linear_model import LinearRegression\n",
    "\n",
    "reg2 = LinearRegression().fit(X_train_gk, y_train_gk)\n",
    "reg2.score(X_test_gk,y_test_gk)"
   ]
  },
  {
   "cell_type": "code",
   "execution_count": 267,
   "id": "d0197eb9-a2ef-4f6a-8edd-ecc70b9a13b5",
   "metadata": {},
   "outputs": [],
   "source": [
    "#mf_data #could use more specifics"
   ]
  },
  {
   "cell_type": "code",
   "execution_count": 268,
   "id": "a203b3bb-023d-42d4-8ff0-5fe2ce69b481",
   "metadata": {},
   "outputs": [],
   "source": [
    "df_data = df_data.drop([\"field_position\"], axis = 1)\n",
    "df_data = df_data.drop([\"Name\"], axis = 1)\n",
    "df_data = df_data.dropna() #drops NA Values"
   ]
  },
  {
   "cell_type": "code",
   "execution_count": 269,
   "id": "a7f825dc-3e88-4b53-b71e-4691a3f04605",
   "metadata": {},
   "outputs": [],
   "source": [
    "from sklearn.model_selection import train_test_split\n",
    "df_train, df_test = train_test_split(df_data, test_size = .2, shuffle = True)\n",
    "\n",
    "\n",
    "#getting the target vector\n",
    "X_train_df = df_train.drop([\"Value\"], axis = 1)\n",
    "y_train_df = df_train[\"Value\"]\n",
    "\n",
    "X_test_df = df_test.drop([\"Value\"], axis = 1)\n",
    "y_test_df = df_test[\"Value\"]"
   ]
  },
  {
   "cell_type": "code",
   "execution_count": 438,
   "id": "47a55af4-96f5-4807-b22a-3c9bc654bf52",
   "metadata": {},
   "outputs": [
    {
     "data": {
      "text/plain": [
       "0.8300071045277817"
      ]
     },
     "execution_count": 438,
     "metadata": {},
     "output_type": "execute_result"
    }
   ],
   "source": [
    "\n",
    "from sklearn.linear_model import LinearRegression\n",
    "\n",
    "reg3 = LinearRegression().fit(X_train_df, y_train_df)\n",
    "reg3.score(X_test_df,y_test_df)"
   ]
  },
  {
   "cell_type": "code",
   "execution_count": 601,
   "id": "8cb61fc7-1eb9-404c-bbf0-5deaece134cd",
   "metadata": {},
   "outputs": [],
   "source": [
    "#Testing\n",
    "at_data = pd.read_csv(\"attacker_data.csv\")\n",
    "at_data = at_data.dropna()"
   ]
  },
  {
   "cell_type": "code",
   "execution_count": null,
   "id": "eb77d18f-d42e-4469-b5e6-b32dd2bf9f20",
   "metadata": {},
   "outputs": [],
   "source": [
    "from sklearn.model_selection import train_test_split\n",
    "at_train, at_test = train_test_split(at_data, test_size = .2, shuffle = True)\n",
    "\n",
    "final_at = pd.DataFrame(at_test, columns = [\"Name\"])\n",
    "final_at[\"actual\"] = at_test['Value'].copy()\n",
    "\n",
    "#final_at = final_at[\"actual\"] = at_test[\"Value\"] \n",
    "\n",
    "#getting the target vector\n",
    "X_train_at = at_train.drop([\"Value\"], axis = 1)\n",
    "y_train_at = at_train[\"Value\"]\n",
    "\n",
    "X_test_at = at_test.drop([\"Value\"], axis = 1)\n",
    "y_test_at = at_test[\"Value\"]"
   ]
  },
  {
   "cell_type": "code",
   "execution_count": null,
   "id": "442ac613-c03c-4a28-a74d-22e30ec24aec",
   "metadata": {},
   "outputs": [],
   "source": [
    "#final_at.query(\"`Name` == 'M. Vlap'\")[\"predictions\"]"
   ]
  },
  {
   "cell_type": "code",
   "execution_count": null,
   "id": "524e01d0-b8e9-4323-9253-60b683e77092",
   "metadata": {},
   "outputs": [],
   "source": [
    "#pre-modeling cleaning\n",
    "X_train_at = X_train_at.drop([\"field_position\"], axis = 1)\n",
    "X_train_at = X_train_at.drop([\"Name\"], axis = 1)\n",
    "\n",
    "\n",
    "\n",
    "X_test_at = X_test_at.drop([\"field_position\"], axis = 1)\n",
    "X_test_at = X_test_at.drop([\"Name\"], axis = 1)"
   ]
  },
  {
   "cell_type": "code",
   "execution_count": null,
   "id": "4fbc19d9-bff0-48d8-b38f-5ff7ce1cac7e",
   "metadata": {},
   "outputs": [
    {
     "data": {
      "text/html": [
       "<div>\n",
       "<style scoped>\n",
       "    .dataframe tbody tr th:only-of-type {\n",
       "        vertical-align: middle;\n",
       "    }\n",
       "\n",
       "    .dataframe tbody tr th {\n",
       "        vertical-align: top;\n",
       "    }\n",
       "\n",
       "    .dataframe thead th {\n",
       "        text-align: right;\n",
       "    }\n",
       "</style>\n",
       "<table border=\"1\" class=\"dataframe\">\n",
       "  <thead>\n",
       "    <tr style=\"text-align: right;\">\n",
       "      <th></th>\n",
       "      <th>Age</th>\n",
       "      <th>Overall.rating</th>\n",
       "      <th>Potential</th>\n",
       "      <th>Years Left</th>\n",
       "      <th>Value</th>\n",
       "      <th>Skill.moves</th>\n",
       "      <th>Total.attacking</th>\n",
       "      <th>Total.skill</th>\n",
       "      <th>Total.movement</th>\n",
       "      <th>Total.power</th>\n",
       "      <th>Total.mentality</th>\n",
       "      <th>Weak.foot</th>\n",
       "    </tr>\n",
       "  </thead>\n",
       "  <tbody>\n",
       "    <tr>\n",
       "      <th>886</th>\n",
       "      <td>23</td>\n",
       "      <td>73</td>\n",
       "      <td>80</td>\n",
       "      <td>2</td>\n",
       "      <td>5500000</td>\n",
       "      <td>3</td>\n",
       "      <td>336</td>\n",
       "      <td>280</td>\n",
       "      <td>359</td>\n",
       "      <td>333</td>\n",
       "      <td>279</td>\n",
       "      <td>4</td>\n",
       "    </tr>\n",
       "    <tr>\n",
       "      <th>1601</th>\n",
       "      <td>29</td>\n",
       "      <td>70</td>\n",
       "      <td>70</td>\n",
       "      <td>0</td>\n",
       "      <td>1800000</td>\n",
       "      <td>3</td>\n",
       "      <td>327</td>\n",
       "      <td>310</td>\n",
       "      <td>349</td>\n",
       "      <td>367</td>\n",
       "      <td>277</td>\n",
       "      <td>3</td>\n",
       "    </tr>\n",
       "    <tr>\n",
       "      <th>1090</th>\n",
       "      <td>25</td>\n",
       "      <td>72</td>\n",
       "      <td>73</td>\n",
       "      <td>0</td>\n",
       "      <td>3700000</td>\n",
       "      <td>3</td>\n",
       "      <td>306</td>\n",
       "      <td>325</td>\n",
       "      <td>424</td>\n",
       "      <td>318</td>\n",
       "      <td>279</td>\n",
       "      <td>3</td>\n",
       "    </tr>\n",
       "    <tr>\n",
       "      <th>891</th>\n",
       "      <td>28</td>\n",
       "      <td>73</td>\n",
       "      <td>73</td>\n",
       "      <td>2</td>\n",
       "      <td>4000000</td>\n",
       "      <td>3</td>\n",
       "      <td>313</td>\n",
       "      <td>366</td>\n",
       "      <td>385</td>\n",
       "      <td>349</td>\n",
       "      <td>324</td>\n",
       "      <td>3</td>\n",
       "    </tr>\n",
       "    <tr>\n",
       "      <th>966</th>\n",
       "      <td>34</td>\n",
       "      <td>72</td>\n",
       "      <td>72</td>\n",
       "      <td>1</td>\n",
       "      <td>1600000</td>\n",
       "      <td>3</td>\n",
       "      <td>336</td>\n",
       "      <td>346</td>\n",
       "      <td>374</td>\n",
       "      <td>340</td>\n",
       "      <td>312</td>\n",
       "      <td>3</td>\n",
       "    </tr>\n",
       "    <tr>\n",
       "      <th>...</th>\n",
       "      <td>...</td>\n",
       "      <td>...</td>\n",
       "      <td>...</td>\n",
       "      <td>...</td>\n",
       "      <td>...</td>\n",
       "      <td>...</td>\n",
       "      <td>...</td>\n",
       "      <td>...</td>\n",
       "      <td>...</td>\n",
       "      <td>...</td>\n",
       "      <td>...</td>\n",
       "      <td>...</td>\n",
       "    </tr>\n",
       "    <tr>\n",
       "      <th>1263</th>\n",
       "      <td>22</td>\n",
       "      <td>71</td>\n",
       "      <td>76</td>\n",
       "      <td>2</td>\n",
       "      <td>3200000</td>\n",
       "      <td>3</td>\n",
       "      <td>285</td>\n",
       "      <td>296</td>\n",
       "      <td>405</td>\n",
       "      <td>362</td>\n",
       "      <td>254</td>\n",
       "      <td>5</td>\n",
       "    </tr>\n",
       "    <tr>\n",
       "      <th>848</th>\n",
       "      <td>30</td>\n",
       "      <td>73</td>\n",
       "      <td>73</td>\n",
       "      <td>2</td>\n",
       "      <td>3800000</td>\n",
       "      <td>3</td>\n",
       "      <td>326</td>\n",
       "      <td>297</td>\n",
       "      <td>383</td>\n",
       "      <td>301</td>\n",
       "      <td>281</td>\n",
       "      <td>5</td>\n",
       "    </tr>\n",
       "    <tr>\n",
       "      <th>1412</th>\n",
       "      <td>25</td>\n",
       "      <td>71</td>\n",
       "      <td>74</td>\n",
       "      <td>1</td>\n",
       "      <td>3000000</td>\n",
       "      <td>2</td>\n",
       "      <td>324</td>\n",
       "      <td>264</td>\n",
       "      <td>320</td>\n",
       "      <td>372</td>\n",
       "      <td>288</td>\n",
       "      <td>3</td>\n",
       "    </tr>\n",
       "    <tr>\n",
       "      <th>927</th>\n",
       "      <td>28</td>\n",
       "      <td>73</td>\n",
       "      <td>73</td>\n",
       "      <td>0</td>\n",
       "      <td>4000000</td>\n",
       "      <td>3</td>\n",
       "      <td>312</td>\n",
       "      <td>348</td>\n",
       "      <td>361</td>\n",
       "      <td>312</td>\n",
       "      <td>283</td>\n",
       "      <td>3</td>\n",
       "    </tr>\n",
       "    <tr>\n",
       "      <th>601</th>\n",
       "      <td>24</td>\n",
       "      <td>74</td>\n",
       "      <td>75</td>\n",
       "      <td>1</td>\n",
       "      <td>7000000</td>\n",
       "      <td>3</td>\n",
       "      <td>312</td>\n",
       "      <td>348</td>\n",
       "      <td>411</td>\n",
       "      <td>323</td>\n",
       "      <td>296</td>\n",
       "      <td>4</td>\n",
       "    </tr>\n",
       "  </tbody>\n",
       "</table>\n",
       "<p>1145 rows × 12 columns</p>\n",
       "</div>"
      ],
      "text/plain": [
       "      Age  Overall.rating  Potential  Years Left   Value  Skill.moves  \\\n",
       "886    23              73         80           2 5500000            3   \n",
       "1601   29              70         70           0 1800000            3   \n",
       "1090   25              72         73           0 3700000            3   \n",
       "891    28              73         73           2 4000000            3   \n",
       "966    34              72         72           1 1600000            3   \n",
       "...   ...             ...        ...         ...     ...          ...   \n",
       "1263   22              71         76           2 3200000            3   \n",
       "848    30              73         73           2 3800000            3   \n",
       "1412   25              71         74           1 3000000            2   \n",
       "927    28              73         73           0 4000000            3   \n",
       "601    24              74         75           1 7000000            3   \n",
       "\n",
       "      Total.attacking  Total.skill  Total.movement  Total.power  \\\n",
       "886               336          280             359          333   \n",
       "1601              327          310             349          367   \n",
       "1090              306          325             424          318   \n",
       "891               313          366             385          349   \n",
       "966               336          346             374          340   \n",
       "...               ...          ...             ...          ...   \n",
       "1263              285          296             405          362   \n",
       "848               326          297             383          301   \n",
       "1412              324          264             320          372   \n",
       "927               312          348             361          312   \n",
       "601               312          348             411          323   \n",
       "\n",
       "      Total.mentality  Weak.foot  \n",
       "886               279          4  \n",
       "1601              277          3  \n",
       "1090              279          3  \n",
       "891               324          3  \n",
       "966               312          3  \n",
       "...               ...        ...  \n",
       "1263              254          5  \n",
       "848               281          5  \n",
       "1412              288          3  \n",
       "927               283          3  \n",
       "601               296          4  \n",
       "\n",
       "[1145 rows x 12 columns]"
      ]
     },
     "execution_count": 1099,
     "metadata": {},
     "output_type": "execute_result"
    }
   ],
   "source": [
    "X_train_at"
   ]
  },
  {
   "cell_type": "code",
   "execution_count": null,
   "id": "9c557d81-2fe8-42cb-ba38-7c87ecf6d0ac",
   "metadata": {},
   "outputs": [
    {
     "data": {
      "text/plain": [
       "0.3138081959679446"
      ]
     },
     "execution_count": 1100,
     "metadata": {},
     "output_type": "execute_result"
    }
   ],
   "source": [
    "from sklearn.linear_model import LinearRegression\n",
    "\n",
    "reg4 = LinearRegression().fit(X_train_at, y_train_at)\n",
    "reg4.score(X_test_at,y_test_at)\n"
   ]
  },
  {
   "cell_type": "code",
   "execution_count": 700,
   "id": "34ea65da-a24f-475a-b710-eca17a8bbb9b",
   "metadata": {},
   "outputs": [
    {
     "data": {
      "text/plain": [
       "array([-3.60605765e+05,  1.52335317e+06, -1.88386281e+04,  1.39517486e+05,\n",
       "        1.05299318e+02, -5.23029930e+05, -2.33194157e+03, -5.11453305e+03,\n",
       "        6.62686557e+03,  1.67913953e+03, -9.09289757e+03,  2.06698693e+05])"
      ]
     },
     "execution_count": 700,
     "metadata": {},
     "output_type": "execute_result"
    }
   ],
   "source": [
    "reg4.coef_"
   ]
  },
  {
   "cell_type": "code",
   "execution_count": 443,
   "id": "76b272c2-a252-4031-a00e-cfa9c6b5acba",
   "metadata": {},
   "outputs": [],
   "source": [
    "predictions = reg4.predict(X_test_at)\n",
    "final_at[\"predictions\"] = predictions"
   ]
  },
  {
   "cell_type": "code",
   "execution_count": 408,
   "id": "2b74a984-14f0-4f74-b8da-bfd9ee7332d9",
   "metadata": {},
   "outputs": [],
   "source": [
    "pd.options.display.float_format = '{:.0f}'.format"
   ]
  },
  {
   "cell_type": "code",
   "execution_count": 409,
   "id": "fb9b4686-1020-4038-b6ed-d2e7b7072b78",
   "metadata": {},
   "outputs": [
    {
     "data": {
      "text/html": [
       "<div>\n",
       "<style scoped>\n",
       "    .dataframe tbody tr th:only-of-type {\n",
       "        vertical-align: middle;\n",
       "    }\n",
       "\n",
       "    .dataframe tbody tr th {\n",
       "        vertical-align: top;\n",
       "    }\n",
       "\n",
       "    .dataframe thead th {\n",
       "        text-align: right;\n",
       "    }\n",
       "</style>\n",
       "<table border=\"1\" class=\"dataframe\">\n",
       "  <thead>\n",
       "    <tr style=\"text-align: right;\">\n",
       "      <th></th>\n",
       "      <th>Name</th>\n",
       "      <th>actual</th>\n",
       "      <th>predictions</th>\n",
       "    </tr>\n",
       "  </thead>\n",
       "  <tbody>\n",
       "    <tr>\n",
       "      <th>947</th>\n",
       "      <td>J. Pohjanpalo</td>\n",
       "      <td>4200000</td>\n",
       "      <td>6838106</td>\n",
       "    </tr>\n",
       "    <tr>\n",
       "      <th>1624</th>\n",
       "      <td>L. Mousset</td>\n",
       "      <td>2400000</td>\n",
       "      <td>4336576</td>\n",
       "    </tr>\n",
       "    <tr>\n",
       "      <th>522</th>\n",
       "      <td>D. Quintero</td>\n",
       "      <td>6500000</td>\n",
       "      <td>5710074</td>\n",
       "    </tr>\n",
       "    <tr>\n",
       "      <th>1434</th>\n",
       "      <td>D. Solanke</td>\n",
       "      <td>3500000</td>\n",
       "      <td>4658849</td>\n",
       "    </tr>\n",
       "    <tr>\n",
       "      <th>793</th>\n",
       "      <td>M. Vlap</td>\n",
       "      <td>6000000</td>\n",
       "      <td>6466678</td>\n",
       "    </tr>\n",
       "    <tr>\n",
       "      <th>...</th>\n",
       "      <td>...</td>\n",
       "      <td>...</td>\n",
       "      <td>...</td>\n",
       "    </tr>\n",
       "    <tr>\n",
       "      <th>545</th>\n",
       "      <td>Rubén Castro</td>\n",
       "      <td>1900000</td>\n",
       "      <td>2963545</td>\n",
       "    </tr>\n",
       "    <tr>\n",
       "      <th>82</th>\n",
       "      <td>M. Balotelli</td>\n",
       "      <td>23500000</td>\n",
       "      <td>23974132</td>\n",
       "    </tr>\n",
       "    <tr>\n",
       "      <th>153</th>\n",
       "      <td>Mariano</td>\n",
       "      <td>16000000</td>\n",
       "      <td>29194111</td>\n",
       "    </tr>\n",
       "    <tr>\n",
       "      <th>1104</th>\n",
       "      <td>Josué da Feira</td>\n",
       "      <td>3400000</td>\n",
       "      <td>3064473</td>\n",
       "    </tr>\n",
       "    <tr>\n",
       "      <th>1292</th>\n",
       "      <td>R. van La Parra</td>\n",
       "      <td>2500000</td>\n",
       "      <td>3185440</td>\n",
       "    </tr>\n",
       "  </tbody>\n",
       "</table>\n",
       "<p>287 rows × 3 columns</p>\n",
       "</div>"
      ],
      "text/plain": [
       "                 Name   actual  predictions\n",
       "947     J. Pohjanpalo  4200000      6838106\n",
       "1624       L. Mousset  2400000      4336576\n",
       "522       D. Quintero  6500000      5710074\n",
       "1434       D. Solanke  3500000      4658849\n",
       "793           M. Vlap  6000000      6466678\n",
       "...               ...      ...          ...\n",
       "545      Rubén Castro  1900000      2963545\n",
       "82       M. Balotelli 23500000     23974132\n",
       "153           Mariano 16000000     29194111\n",
       "1104   Josué da Feira  3400000      3064473\n",
       "1292  R. van La Parra  2500000      3185440\n",
       "\n",
       "[287 rows x 3 columns]"
      ]
     },
     "execution_count": 409,
     "metadata": {},
     "output_type": "execute_result"
    }
   ],
   "source": [
    "final_at"
   ]
  },
  {
   "cell_type": "markdown",
   "id": "148f3efd-0c5f-44aa-95b3-7bc0c59cf3f6",
   "metadata": {},
   "source": [
    "## Testing different models, doesn't make a difference b/cuz our problem isn't overparametrized\n",
    "## Use whole dataset"
   ]
  },
  {
   "cell_type": "code",
   "execution_count": 618,
   "id": "f44b77b7-cdbe-4af5-9a50-20a492d915cd",
   "metadata": {},
   "outputs": [
    {
     "data": {
      "text/plain": [
       "0.837988768957656"
      ]
     },
     "execution_count": 618,
     "metadata": {},
     "output_type": "execute_result"
    }
   ],
   "source": [
    "from sklearn.linear_model import Lasso\n",
    "L = Lasso(alpha = 1)\n",
    "L.fit(X_train_at, y_train_at)\n",
    "L.score(X_test_at, y_test_at)"
   ]
  },
  {
   "cell_type": "code",
   "execution_count": 619,
   "id": "7855b4aa-af72-4fcd-b5e3-2eb7554a41a6",
   "metadata": {
    "tags": []
   },
   "outputs": [
    {
     "data": {
      "text/plain": [
       "0.8379932558869299"
      ]
     },
     "execution_count": 619,
     "metadata": {},
     "output_type": "execute_result"
    }
   ],
   "source": [
    "from sklearn.linear_model import Ridge\n",
    "\n",
    "ridgeModel = Ridge(alpha=1.0)\n",
    "ridgeModel.fit(X_train_at, y_train_at)\n",
    "ridgeModel.score(X_test_at, y_test_at)"
   ]
  },
  {
   "cell_type": "code",
   "execution_count": 620,
   "id": "99f6cd11-ea67-43c7-b8ae-551eb41d2822",
   "metadata": {},
   "outputs": [
    {
     "data": {
      "text/plain": [
       "0.7661786535178483"
      ]
     },
     "execution_count": 620,
     "metadata": {},
     "output_type": "execute_result"
    }
   ],
   "source": [
    "from sklearn.kernel_ridge import KernelRidge\n",
    "krr = KernelRidge(alpha=1)\n",
    "krr.fit(X_train_at, y_train_at)\n",
    "krr.score(X_test_at, y_test_at)"
   ]
  },
  {
   "cell_type": "markdown",
   "id": "81dc50c0-5731-44a9-9f65-1f4ec63b5e58",
   "metadata": {
    "jp-MarkdownHeadingCollapsed": true,
    "tags": []
   },
   "source": [
    "# Market Value Model "
   ]
  },
  {
   "cell_type": "code",
   "execution_count": 4,
   "id": "f6e2028e-f8b3-4e59-9d15-dc7082f2f36f",
   "metadata": {},
   "outputs": [],
   "source": [
    "all_players = pd.read_csv(\"upd_pldata.csv\")\n",
    "all_data = all_players.dropna()"
   ]
  },
  {
   "cell_type": "code",
   "execution_count": 5,
   "id": "3be5ec36-5775-4134-ab1f-bf2f24374e3d",
   "metadata": {},
   "outputs": [
    {
     "name": "stderr",
     "output_type": "stream",
     "text": [
      "/var/folders/x_/pzlfspq52sd41dygb97kcztm0000gn/T/ipykernel_20360/1130695836.py:1: FutureWarning: The default value of regex will change from True to False in a future version. In addition, single character regular expressions will *not* be treated as literal strings when regex=True.\n",
      "  all_players.columns = all_players.columns.str.replace('.', '_')\n"
     ]
    }
   ],
   "source": [
    "all_players.columns = all_players.columns.str.replace('.', '_')\n",
    "all_players.columns = all_players.columns.str.replace('___', '_')\n",
    "all_players.columns = all_players.columns.str.replace(' ', '_')"
   ]
  },
  {
   "cell_type": "code",
   "execution_count": 6,
   "id": "acd2c65a-582b-4a11-9b50-b24b448589ce",
   "metadata": {},
   "outputs": [],
   "source": [
    "final_all_players = pd.DataFrame(all_players, columns = [\"Name\"])\n",
    "final_all_players[\"actual\"] = all_players['Value'].copy()"
   ]
  },
  {
   "cell_type": "code",
   "execution_count": 7,
   "id": "6a3d90ac-5948-444b-9547-9e82d847d39d",
   "metadata": {},
   "outputs": [],
   "source": [
    "#data pre-processing and cleaning\n"
   ]
  },
  {
   "cell_type": "code",
   "execution_count": 22,
   "id": "e6b5f13d-863e-45fb-a700-0023c8957fae",
   "metadata": {},
   "outputs": [],
   "source": [
    "from sklearn.model_selection import train_test_split\n",
    "all_train, all_test = train_test_split(all_players, test_size = .2, shuffle = True)\n",
    "\n",
    "#final_all_players = pd.DataFrame(at_test, columns = [\"Name\"])\n",
    "#final_all_players[\"actual\"] = at_test['Value'].copy()\n",
    "\n",
    "\n",
    "#getting the target vector and deleting it from feature matrix\n",
    "\n",
    "X_train_all = all_train.dropna(how='any', inplace=True)\n",
    "X_train_all = all_train.drop([\"Value\"], axis = 1)\n",
    "y_train_all = all_train[\"Value\"]\n",
    "\n",
    "\n",
    "\n",
    "X_test_all = all_test.dropna(how='any', inplace=True)\n",
    "X_test_all = all_test.drop([\"Value\"], axis = 1)\n",
    "y_test_all = all_test[\"Value\"]\n",
    "\n",
    "X_train_all = X_train_all.drop([\"field_position\"], axis = 1)\n",
    "X_train_all = X_train_all.drop([\"Name\"], axis = 1)\n",
    "\n",
    "\n",
    "\n",
    "\n",
    "X_test_all = X_test_all.drop([\"field_position\"], axis = 1)\n",
    "X_test_all = X_test_all.drop([\"Name\"], axis = 1)\n",
    "\n",
    "# print(X_train_all)\n",
    "from sklearn.preprocessing import StandardScaler\n",
    "sc = StandardScaler()\n",
    "X_train_all = sc.fit_transform(X_train_all)\n",
    "#y_train_all = sc.fit_transform(y_train_all)\n",
    "\n",
    "X_test_all = sc.fit_transform(X_test_all)\n",
    "#y_test_all = sc.fit_transform(y_test_all)"
   ]
  },
  {
   "cell_type": "code",
   "execution_count": 23,
   "id": "abb3a42d-cd1f-4794-935e-c2710016eee8",
   "metadata": {},
   "outputs": [],
   "source": [
    "#X_train_all.dropna(how='any', inplace=True)"
   ]
  },
  {
   "cell_type": "code",
   "execution_count": 24,
   "id": "746e9c60-3cfd-4e63-9130-4bbfb5765fd6",
   "metadata": {},
   "outputs": [
    {
     "data": {
      "text/plain": [
       "array([[-1.7186254 ,  1.20558118,  2.14658368, ...,  1.41199063,\n",
       "        -0.76697188, -0.46470151],\n",
       "       [-1.7186254 , -0.82684534,  1.33283812, ...,  0.09553343,\n",
       "         0.69276899,  0.68023824],\n",
       "       [-1.96371548, -1.08089865,  0.92596534, ..., -0.23358087,\n",
       "         0.69276899, -0.08305492],\n",
       "       ...,\n",
       "       [ 0.48718529,  0.95152786,  0.31565617, ...,  0.42464773,\n",
       "         0.51760009, -0.46470151],\n",
       "       [ 0.48718529, -0.82684534, -1.10839857, ...,  0.8634668 ,\n",
       "        -1.35086822, -0.08305492],\n",
       "       [ 0.48718529, -1.08089865, -1.31183496, ...,  0.31494296,\n",
       "        -0.94214078, -0.08305492]])"
      ]
     },
     "execution_count": 24,
     "metadata": {},
     "output_type": "execute_result"
    }
   ],
   "source": [
    "X_train_all"
   ]
  },
  {
   "cell_type": "code",
   "execution_count": 11,
   "id": "679ba545-d369-40ed-871a-ac2a2d8dea0f",
   "metadata": {},
   "outputs": [
    {
     "data": {
      "text/plain": [
       "Index(['Age', 'Overall_rating', 'Potential', 'Years_Left', 'Total_stats',\n",
       "       'Wage', 'Release_clause', 'Total_attacking', 'Crossing', 'Finishing',\n",
       "       'Heading_accuracy', 'Short_passing', 'Volleys', 'Total_skill',\n",
       "       'Dribbling', 'Curve', 'FK_Accuracy', 'Long_passing', 'Ball_control',\n",
       "       'Total_movement', 'Acceleration', 'Sprint_speed', 'Agility',\n",
       "       'Reactions', 'Balance', 'Total_power', 'Shot_power', 'Jumping',\n",
       "       'Stamina', 'Strength', 'Long_shots', 'Total_mentality', 'Aggression',\n",
       "       'Interceptions', 'Positioning', 'Vision', 'Penalties', 'Composure',\n",
       "       'Total_defending', 'Marking', 'Standing_tackle', 'Sliding_tackle',\n",
       "       'Total_goalkeeping', 'GK_Diving', 'GK_Handling', 'GK_Kicking',\n",
       "       'GK_Positioning', 'GK_Reflexes', 'Weak_foot', 'Skill_moves',\n",
       "       'Pace_Diving', 'Shooting_Handling', 'Passing_Kicking',\n",
       "       'Dribbling_Reflexes', 'Defending_Pace', 'Physical_Positioning'],\n",
       "      dtype='object')"
      ]
     },
     "execution_count": 11,
     "metadata": {},
     "output_type": "execute_result"
    }
   ],
   "source": [
    "X_train_all.columns"
   ]
  },
  {
   "cell_type": "code",
   "execution_count": 40,
   "id": "74d4d9b4-f9ab-4920-a21a-01384cc6829f",
   "metadata": {},
   "outputs": [
    {
     "name": "stderr",
     "output_type": "stream",
     "text": [
      "/Users/hedavamsolano/opt/anaconda3/envs/ml-0451/lib/python3.9/site-packages/sklearn/linear_model/_coordinate_descent.py:647: ConvergenceWarning: Objective did not converge. You might want to increase the number of iterations, check the scale of the features or consider increasing regularisation. Duality gap: 1.513e+15, tolerance: 3.366e+13\n",
      "  model = cd_fast.enet_coordinate_descent(\n"
     ]
    },
    {
     "data": {
      "text/plain": [
       "Lasso(alpha=0.005, max_iter=4000)"
      ]
     },
     "execution_count": 40,
     "metadata": {},
     "output_type": "execute_result"
    }
   ],
   "source": [
    "from sklearn.linear_model import Lasso\n",
    "Lol8 = Lasso(alpha = 0.005, max_iter = 4000)\n",
    "\n",
    "Lol8.fit(X_train_all, y_train_all)"
   ]
  },
  {
   "cell_type": "code",
   "execution_count": 41,
   "id": "12fb39b5-fff7-4f5b-81c8-426eb6071249",
   "metadata": {},
   "outputs": [
    {
     "data": {
      "text/plain": [
       "0.9766806366801545"
      ]
     },
     "execution_count": 41,
     "metadata": {},
     "output_type": "execute_result"
    }
   ],
   "source": [
    "\n",
    "Lol8.score(X_test_all, y_test_all)"
   ]
  },
  {
   "cell_type": "code",
   "execution_count": 35,
   "id": "5e72c748-b0a7-4ebd-8fc9-d63a3f2e6658",
   "metadata": {},
   "outputs": [
    {
     "data": {
      "text/plain": [
       "array([-2.18292455e+05,  7.34688887e+05, -4.15055903e+05, -7.03570286e+04,\n",
       "        2.80459372e+06,  2.59580596e+05,  8.52677960e+06, -1.18326310e+06,\n",
       "        1.03048306e+04, -1.02197549e+05, -1.95161316e+04, -3.81706087e+04,\n",
       "        2.69788685e+05, -9.12713974e+05, -5.35794348e+04, -5.93799228e+04,\n",
       "        6.25327949e+04,  1.06191031e+05,  2.02476147e+04, -8.18427452e+05,\n",
       "       -8.31296054e+04, -5.60973211e+04,  1.30639215e+05,  5.89570704e+04,\n",
       "        6.53696045e+04, -5.18642573e+05, -7.25658426e+04, -6.09258873e+03,\n",
       "        8.55377994e+04, -1.15295898e+04,  7.90320186e+03, -8.33844415e+05,\n",
       "       -1.03263170e+05,  5.99778200e+03,  2.23163416e+04,  1.43272064e+04,\n",
       "        5.41814980e+04,  2.13399341e+04, -1.14771411e+06,  1.01561081e+05,\n",
       "       -2.13691892e+05,  6.73603795e+04, -1.65077187e+06, -1.69493429e+03,\n",
       "       -1.09467219e+05,  4.07202690e+04,  4.34745204e+04,  7.37193687e+04,\n",
       "        4.29048259e+04, -1.79262254e+04,  1.56920568e+05, -4.97271239e+04,\n",
       "        8.13118447e+03,  3.39181608e+04,  2.15037163e+05,  1.41289784e+05])"
      ]
     },
     "execution_count": 35,
     "metadata": {},
     "output_type": "execute_result"
    }
   ],
   "source": [
    "Lol8.coef_"
   ]
  },
  {
   "cell_type": "code",
   "execution_count": 43,
   "id": "ce657edb-6414-46d2-95c2-27f2a5fccc40",
   "metadata": {},
   "outputs": [],
   "source": [
    "from sklearn.ensemble import RandomForestRegressor"
   ]
  },
  {
   "cell_type": "code",
   "execution_count": 44,
   "id": "1645cdd8-d8b1-416f-9bb1-c5d7d7fc50bf",
   "metadata": {},
   "outputs": [
    {
     "data": {
      "text/plain": [
       "RandomForestRegressor(max_depth=5, random_state=0)"
      ]
     },
     "execution_count": 44,
     "metadata": {},
     "output_type": "execute_result"
    }
   ],
   "source": [
    "regr = RandomForestRegressor(max_depth=5, random_state=0)\n",
    "regr.fit(X_train_all, y_train_all)"
   ]
  },
  {
   "cell_type": "code",
   "execution_count": 45,
   "id": "73b58528-49a4-423e-a135-c079f91d966b",
   "metadata": {},
   "outputs": [
    {
     "data": {
      "text/plain": [
       "0.971147567350731"
      ]
     },
     "execution_count": 45,
     "metadata": {},
     "output_type": "execute_result"
    }
   ],
   "source": [
    "regr.score(X_test_all, y_test_all)"
   ]
  },
  {
   "cell_type": "code",
   "execution_count": 46,
   "id": "5852deb2-207b-4481-8087-1424f6271c88",
   "metadata": {},
   "outputs": [
    {
     "name": "stdout",
     "output_type": "stream",
     "text": [
      "0.9820935191991907\n"
     ]
    }
   ],
   "source": [
    "#cross-validation\n",
    "from sklearn.model_selection import cross_val_score\n",
    "model_scores = cross_val_score(regr, X_train_all, y_train_all, cv=5)\n",
    "print(model_scores.mean())"
   ]
  },
  {
   "cell_type": "code",
   "execution_count": 367,
   "id": "260eff38-fc09-4c82-910b-09fa5066e751",
   "metadata": {},
   "outputs": [
    {
     "data": {
      "text/plain": [
       "0.9805394693227615"
      ]
     },
     "execution_count": 367,
     "metadata": {},
     "output_type": "execute_result"
    }
   ],
   "source": [
    "from sklearn.linear_model import LinearRegression\n",
    "\n",
    "reg3 = LinearRegression()\n",
    "reg3.fit(X_train_all, y_train_all)\n",
    "reg3.score(X_test_all,y_test_all)"
   ]
  },
  {
   "cell_type": "markdown",
   "id": "ec7f54d9-ce95-4a9f-8054-caf5c1b8473a",
   "metadata": {},
   "source": [
    "### Nice, try this same thing but by position"
   ]
  },
  {
   "cell_type": "code",
   "execution_count": 23,
   "id": "7754e016-8ed0-44d9-bb52-4c03edaa306d",
   "metadata": {},
   "outputs": [],
   "source": [
    "att_fees = pd.read_csv(\"att_club.csv\")"
   ]
  },
  {
   "cell_type": "code",
   "execution_count": 1381,
   "id": "a94e8377-6ae9-4772-9ce6-791f13cd0fb6",
   "metadata": {},
   "outputs": [
    {
     "data": {
      "text/html": [
       "<div>\n",
       "<style scoped>\n",
       "    .dataframe tbody tr th:only-of-type {\n",
       "        vertical-align: middle;\n",
       "    }\n",
       "\n",
       "    .dataframe tbody tr th {\n",
       "        vertical-align: top;\n",
       "    }\n",
       "\n",
       "    .dataframe thead th {\n",
       "        text-align: right;\n",
       "    }\n",
       "</style>\n",
       "<table border=\"1\" class=\"dataframe\">\n",
       "  <thead>\n",
       "    <tr style=\"text-align: right;\">\n",
       "      <th></th>\n",
       "      <th>club</th>\n",
       "      <th>name</th>\n",
       "      <th>transfer_fee</th>\n",
       "      <th>Position</th>\n",
       "      <th>league</th>\n",
       "      <th>detailed_position</th>\n",
       "      <th>Squad</th>\n",
       "      <th>AVGage</th>\n",
       "      <th>Foreigners</th>\n",
       "      <th>TotalPlayerValue</th>\n",
       "      <th>League.x</th>\n",
       "      <th>Pos</th>\n",
       "      <th>GP</th>\n",
       "      <th>W</th>\n",
       "      <th>D</th>\n",
       "      <th>L</th>\n",
       "      <th>GR</th>\n",
       "      <th>GD</th>\n",
       "      <th>Points</th>\n",
       "    </tr>\n",
       "  </thead>\n",
       "  <tbody>\n",
       "    <tr>\n",
       "      <th>0</th>\n",
       "      <td>AC Milan</td>\n",
       "      <td>Alexis Saelemaekers</td>\n",
       "      <td>Loan fee:</td>\n",
       "      <td>Forward</td>\n",
       "      <td>Serie A</td>\n",
       "      <td>Right Winger</td>\n",
       "      <td>45</td>\n",
       "      <td>24</td>\n",
       "      <td>22</td>\n",
       "      <td>€578.48m</td>\n",
       "      <td>Serie A</td>\n",
       "      <td>5</td>\n",
       "      <td>38</td>\n",
       "      <td>19</td>\n",
       "      <td>11</td>\n",
       "      <td>8</td>\n",
       "      <td>55:36</td>\n",
       "      <td>19</td>\n",
       "      <td>68</td>\n",
       "    </tr>\n",
       "    <tr>\n",
       "      <th>1</th>\n",
       "      <td>AC Milan</td>\n",
       "      <td>Rafael Le~ao</td>\n",
       "      <td>€29.50m</td>\n",
       "      <td>Forward</td>\n",
       "      <td>Serie A</td>\n",
       "      <td>Left Winger</td>\n",
       "      <td>45</td>\n",
       "      <td>24</td>\n",
       "      <td>22</td>\n",
       "      <td>€578.48m</td>\n",
       "      <td>Serie A</td>\n",
       "      <td>5</td>\n",
       "      <td>38</td>\n",
       "      <td>19</td>\n",
       "      <td>11</td>\n",
       "      <td>8</td>\n",
       "      <td>55:36</td>\n",
       "      <td>19</td>\n",
       "      <td>68</td>\n",
       "    </tr>\n",
       "    <tr>\n",
       "      <th>2</th>\n",
       "      <td>ACF Fiorentina</td>\n",
       "      <td>Pedro</td>\n",
       "      <td>€11.00m</td>\n",
       "      <td>Forward</td>\n",
       "      <td>Serie A</td>\n",
       "      <td>Centre-Forward</td>\n",
       "      <td>56</td>\n",
       "      <td>23</td>\n",
       "      <td>36</td>\n",
       "      <td>€315.33m</td>\n",
       "      <td>Serie A</td>\n",
       "      <td>16</td>\n",
       "      <td>38</td>\n",
       "      <td>8</td>\n",
       "      <td>17</td>\n",
       "      <td>13</td>\n",
       "      <td>47:45</td>\n",
       "      <td>2</td>\n",
       "      <td>41</td>\n",
       "    </tr>\n",
       "    <tr>\n",
       "      <th>3</th>\n",
       "      <td>ACF Fiorentina</td>\n",
       "      <td>Patrick Cutrone</td>\n",
       "      <td>Loan fee:</td>\n",
       "      <td>Forward</td>\n",
       "      <td>Serie A</td>\n",
       "      <td>Centre-Forward</td>\n",
       "      <td>56</td>\n",
       "      <td>23</td>\n",
       "      <td>36</td>\n",
       "      <td>€315.33m</td>\n",
       "      <td>Serie A</td>\n",
       "      <td>16</td>\n",
       "      <td>38</td>\n",
       "      <td>8</td>\n",
       "      <td>17</td>\n",
       "      <td>13</td>\n",
       "      <td>47:45</td>\n",
       "      <td>2</td>\n",
       "      <td>41</td>\n",
       "    </tr>\n",
       "    <tr>\n",
       "      <th>4</th>\n",
       "      <td>AFC Bournemouth</td>\n",
       "      <td>Arnaut Danjuma</td>\n",
       "      <td>€16.46m</td>\n",
       "      <td>Forward</td>\n",
       "      <td>Premier League</td>\n",
       "      <td>Left Winger</td>\n",
       "      <td>37</td>\n",
       "      <td>26</td>\n",
       "      <td>17</td>\n",
       "      <td>€310.00m</td>\n",
       "      <td>Premier League</td>\n",
       "      <td>14</td>\n",
       "      <td>38</td>\n",
       "      <td>13</td>\n",
       "      <td>6</td>\n",
       "      <td>19</td>\n",
       "      <td>56:70</td>\n",
       "      <td>-14</td>\n",
       "      <td>45</td>\n",
       "    </tr>\n",
       "    <tr>\n",
       "      <th>...</th>\n",
       "      <td>...</td>\n",
       "      <td>...</td>\n",
       "      <td>...</td>\n",
       "      <td>...</td>\n",
       "      <td>...</td>\n",
       "      <td>...</td>\n",
       "      <td>...</td>\n",
       "      <td>...</td>\n",
       "      <td>...</td>\n",
       "      <td>...</td>\n",
       "      <td>...</td>\n",
       "      <td>...</td>\n",
       "      <td>...</td>\n",
       "      <td>...</td>\n",
       "      <td>...</td>\n",
       "      <td>...</td>\n",
       "      <td>...</td>\n",
       "      <td>...</td>\n",
       "      <td>...</td>\n",
       "    </tr>\n",
       "    <tr>\n",
       "      <th>117</th>\n",
       "      <td>West Ham United</td>\n",
       "      <td>Albian Ajeti</td>\n",
       "      <td>€11.30m</td>\n",
       "      <td>Forward</td>\n",
       "      <td>Premier League</td>\n",
       "      <td>Centre-Forward</td>\n",
       "      <td>37</td>\n",
       "      <td>27</td>\n",
       "      <td>23</td>\n",
       "      <td>€359.00m</td>\n",
       "      <td>Premier League</td>\n",
       "      <td>10</td>\n",
       "      <td>38</td>\n",
       "      <td>15</td>\n",
       "      <td>7</td>\n",
       "      <td>16</td>\n",
       "      <td>52:55</td>\n",
       "      <td>-3</td>\n",
       "      <td>52</td>\n",
       "    </tr>\n",
       "    <tr>\n",
       "      <th>118</th>\n",
       "      <td>Wolverhampton Wanderers</td>\n",
       "      <td>Ra'ul Jim'enez</td>\n",
       "      <td>€38.00m</td>\n",
       "      <td>Forward</td>\n",
       "      <td>Premier League</td>\n",
       "      <td>Centre-Forward</td>\n",
       "      <td>40</td>\n",
       "      <td>24</td>\n",
       "      <td>26</td>\n",
       "      <td>€302.90m</td>\n",
       "      <td>Premier League</td>\n",
       "      <td>7</td>\n",
       "      <td>38</td>\n",
       "      <td>16</td>\n",
       "      <td>9</td>\n",
       "      <td>13</td>\n",
       "      <td>47:46</td>\n",
       "      <td>1</td>\n",
       "      <td>57</td>\n",
       "    </tr>\n",
       "    <tr>\n",
       "      <th>119</th>\n",
       "      <td>Wolverhampton Wanderers</td>\n",
       "      <td>Daniel Podence</td>\n",
       "      <td>€19.60m</td>\n",
       "      <td>Forward</td>\n",
       "      <td>Premier League</td>\n",
       "      <td>Left Winger</td>\n",
       "      <td>40</td>\n",
       "      <td>24</td>\n",
       "      <td>26</td>\n",
       "      <td>€302.90m</td>\n",
       "      <td>Premier League</td>\n",
       "      <td>7</td>\n",
       "      <td>38</td>\n",
       "      <td>16</td>\n",
       "      <td>9</td>\n",
       "      <td>13</td>\n",
       "      <td>47:46</td>\n",
       "      <td>1</td>\n",
       "      <td>57</td>\n",
       "    </tr>\n",
       "    <tr>\n",
       "      <th>120</th>\n",
       "      <td>Wolverhampton Wanderers</td>\n",
       "      <td>Patrick Cutrone</td>\n",
       "      <td>€18.00m</td>\n",
       "      <td>Forward</td>\n",
       "      <td>Premier League</td>\n",
       "      <td>Centre-Forward</td>\n",
       "      <td>40</td>\n",
       "      <td>24</td>\n",
       "      <td>26</td>\n",
       "      <td>€302.90m</td>\n",
       "      <td>Premier League</td>\n",
       "      <td>7</td>\n",
       "      <td>38</td>\n",
       "      <td>16</td>\n",
       "      <td>9</td>\n",
       "      <td>13</td>\n",
       "      <td>47:46</td>\n",
       "      <td>1</td>\n",
       "      <td>57</td>\n",
       "    </tr>\n",
       "    <tr>\n",
       "      <th>121</th>\n",
       "      <td>Wolverhampton Wanderers</td>\n",
       "      <td>Pedro Neto</td>\n",
       "      <td>€17.90m</td>\n",
       "      <td>Forward</td>\n",
       "      <td>Premier League</td>\n",
       "      <td>Right Winger</td>\n",
       "      <td>40</td>\n",
       "      <td>24</td>\n",
       "      <td>26</td>\n",
       "      <td>€302.90m</td>\n",
       "      <td>Premier League</td>\n",
       "      <td>7</td>\n",
       "      <td>38</td>\n",
       "      <td>16</td>\n",
       "      <td>9</td>\n",
       "      <td>13</td>\n",
       "      <td>47:46</td>\n",
       "      <td>1</td>\n",
       "      <td>57</td>\n",
       "    </tr>\n",
       "  </tbody>\n",
       "</table>\n",
       "<p>122 rows × 19 columns</p>\n",
       "</div>"
      ],
      "text/plain": [
       "                        club                 name transfer_fee Position  \\\n",
       "0                   AC Milan  Alexis Saelemaekers    Loan fee:  Forward   \n",
       "1                   AC Milan         Rafael Le~ao      €29.50m  Forward   \n",
       "2             ACF Fiorentina                Pedro      €11.00m  Forward   \n",
       "3             ACF Fiorentina      Patrick Cutrone    Loan fee:  Forward   \n",
       "4            AFC Bournemouth       Arnaut Danjuma      €16.46m  Forward   \n",
       "..                       ...                  ...          ...      ...   \n",
       "117          West Ham United         Albian Ajeti      €11.30m  Forward   \n",
       "118  Wolverhampton Wanderers       Ra'ul Jim'enez      €38.00m  Forward   \n",
       "119  Wolverhampton Wanderers       Daniel Podence      €19.60m  Forward   \n",
       "120  Wolverhampton Wanderers      Patrick Cutrone      €18.00m  Forward   \n",
       "121  Wolverhampton Wanderers           Pedro Neto      €17.90m  Forward   \n",
       "\n",
       "             league detailed_position  Squad  AVGage  Foreigners  \\\n",
       "0           Serie A      Right Winger     45      24          22   \n",
       "1           Serie A       Left Winger     45      24          22   \n",
       "2           Serie A    Centre-Forward     56      23          36   \n",
       "3           Serie A    Centre-Forward     56      23          36   \n",
       "4    Premier League       Left Winger     37      26          17   \n",
       "..              ...               ...    ...     ...         ...   \n",
       "117  Premier League    Centre-Forward     37      27          23   \n",
       "118  Premier League    Centre-Forward     40      24          26   \n",
       "119  Premier League       Left Winger     40      24          26   \n",
       "120  Premier League    Centre-Forward     40      24          26   \n",
       "121  Premier League      Right Winger     40      24          26   \n",
       "\n",
       "    TotalPlayerValue        League.x  Pos  GP   W   D   L     GR  GD  Points  \n",
       "0           €578.48m         Serie A    5  38  19  11   8  55:36  19      68  \n",
       "1           €578.48m         Serie A    5  38  19  11   8  55:36  19      68  \n",
       "2           €315.33m         Serie A   16  38   8  17  13  47:45   2      41  \n",
       "3           €315.33m         Serie A   16  38   8  17  13  47:45   2      41  \n",
       "4           €310.00m  Premier League   14  38  13   6  19  56:70 -14      45  \n",
       "..               ...             ...  ...  ..  ..  ..  ..    ...  ..     ...  \n",
       "117         €359.00m  Premier League   10  38  15   7  16  52:55  -3      52  \n",
       "118         €302.90m  Premier League    7  38  16   9  13  47:46   1      57  \n",
       "119         €302.90m  Premier League    7  38  16   9  13  47:46   1      57  \n",
       "120         €302.90m  Premier League    7  38  16   9  13  47:46   1      57  \n",
       "121         €302.90m  Premier League    7  38  16   9  13  47:46   1      57  \n",
       "\n",
       "[122 rows x 19 columns]"
      ]
     },
     "execution_count": 1381,
     "metadata": {},
     "output_type": "execute_result"
    }
   ],
   "source": [
    "att_fees"
   ]
  },
  {
   "cell_type": "code",
   "execution_count": 1382,
   "id": "17106712-b7d4-4def-a33d-e8296dc53f70",
   "metadata": {},
   "outputs": [
    {
     "name": "stderr",
     "output_type": "stream",
     "text": [
      "/var/folders/x_/pzlfspq52sd41dygb97kcztm0000gn/T/ipykernel_8271/3882438406.py:7: SettingWithCopyWarning: \n",
      "A value is trying to be set on a copy of a slice from a DataFrame.\n",
      "Try using .loc[row_indexer,col_indexer] = value instead\n",
      "\n",
      "See the caveats in the documentation: https://pandas.pydata.org/pandas-docs/stable/user_guide/indexing.html#returning-a-view-versus-a-copy\n",
      "  att_fees['transfer_fee'] = att_fees['transfer_fee'].str.replace('m', '').astype(float) * 1000000\n"
     ]
    }
   ],
   "source": [
    "att_fees[\"transfer_fee\"] = att_fees[\"transfer_fee\"].str.replace('€', '') #regex to remove € and m\n",
    "\n",
    "# Drop rows that contain loan fee: https://stackoverflow.com/questions/28679930/how-to-drop-rows-from-pandas-data-frame-that-contains-a-particular-string-in-a-p\n",
    "att_fees = att_fees[~att_fees.transfer_fee.str.contains(\"Loan fee:\")]\n",
    "\n",
    "# Multiply all occurrences of \"m\" by 1 million\n",
    "att_fees['transfer_fee'] = att_fees['transfer_fee'].str.replace('m', '').astype(float) * 1000000\n",
    "\n",
    "#messes up with the billion"
   ]
  },
  {
   "cell_type": "code",
   "execution_count": 1383,
   "id": "9c465c65-c00b-4ee5-9642-c8ff5eb18b29",
   "metadata": {},
   "outputs": [
    {
     "name": "stderr",
     "output_type": "stream",
     "text": [
      "/var/folders/x_/pzlfspq52sd41dygb97kcztm0000gn/T/ipykernel_8271/1928627013.py:1: SettingWithCopyWarning: \n",
      "A value is trying to be set on a copy of a slice from a DataFrame.\n",
      "Try using .loc[row_indexer,col_indexer] = value instead\n",
      "\n",
      "See the caveats in the documentation: https://pandas.pydata.org/pandas-docs/stable/user_guide/indexing.html#returning-a-view-versus-a-copy\n",
      "  att_fees[\"TotalPlayerValue\"] = att_fees[\"TotalPlayerValue\"].str.replace('€', '') #regex to remove € and m\n"
     ]
    }
   ],
   "source": [
    "att_fees[\"TotalPlayerValue\"] = att_fees[\"TotalPlayerValue\"].str.replace('€', '') #regex to remove € and m\n",
    "\n",
    "\n",
    "# Multiply all occurrences of \"m\" by 1 million\n",
    "# att_fees['TotalPlayerValue'] = att_fees['TotalPlayerValue'].str.replace('m', '').astype(float) * 1000000\n",
    "\n",
    "# # Multiply all occurrences of \"m\" by 1 million\n",
    "# att_fees['TotalPlayerValue'] = att_fees['TotalPlayerValue'].str.replace(\"bn\", '').astype(float) * 1000000000\n",
    "\n"
   ]
  },
  {
   "cell_type": "code",
   "execution_count": 1384,
   "id": "2cc1543a-9b9e-448a-93ba-68a68858cefa",
   "metadata": {},
   "outputs": [
    {
     "data": {
      "text/html": [
       "<div>\n",
       "<style scoped>\n",
       "    .dataframe tbody tr th:only-of-type {\n",
       "        vertical-align: middle;\n",
       "    }\n",
       "\n",
       "    .dataframe tbody tr th {\n",
       "        vertical-align: top;\n",
       "    }\n",
       "\n",
       "    .dataframe thead th {\n",
       "        text-align: right;\n",
       "    }\n",
       "</style>\n",
       "<table border=\"1\" class=\"dataframe\">\n",
       "  <thead>\n",
       "    <tr style=\"text-align: right;\">\n",
       "      <th></th>\n",
       "      <th>club</th>\n",
       "      <th>name</th>\n",
       "      <th>transfer_fee</th>\n",
       "      <th>Position</th>\n",
       "      <th>league</th>\n",
       "      <th>detailed_position</th>\n",
       "      <th>Squad</th>\n",
       "      <th>AVGage</th>\n",
       "      <th>Foreigners</th>\n",
       "      <th>TotalPlayerValue</th>\n",
       "      <th>League.x</th>\n",
       "      <th>Pos</th>\n",
       "      <th>GP</th>\n",
       "      <th>W</th>\n",
       "      <th>D</th>\n",
       "      <th>L</th>\n",
       "      <th>GR</th>\n",
       "      <th>GD</th>\n",
       "      <th>Points</th>\n",
       "    </tr>\n",
       "  </thead>\n",
       "  <tbody>\n",
       "    <tr>\n",
       "      <th>1</th>\n",
       "      <td>AC Milan</td>\n",
       "      <td>Rafael Le~ao</td>\n",
       "      <td>29500000</td>\n",
       "      <td>Forward</td>\n",
       "      <td>Serie A</td>\n",
       "      <td>Left Winger</td>\n",
       "      <td>45</td>\n",
       "      <td>24</td>\n",
       "      <td>22</td>\n",
       "      <td>578.48m</td>\n",
       "      <td>Serie A</td>\n",
       "      <td>5</td>\n",
       "      <td>38</td>\n",
       "      <td>19</td>\n",
       "      <td>11</td>\n",
       "      <td>8</td>\n",
       "      <td>55:36</td>\n",
       "      <td>19</td>\n",
       "      <td>68</td>\n",
       "    </tr>\n",
       "    <tr>\n",
       "      <th>2</th>\n",
       "      <td>ACF Fiorentina</td>\n",
       "      <td>Pedro</td>\n",
       "      <td>11000000</td>\n",
       "      <td>Forward</td>\n",
       "      <td>Serie A</td>\n",
       "      <td>Centre-Forward</td>\n",
       "      <td>56</td>\n",
       "      <td>23</td>\n",
       "      <td>36</td>\n",
       "      <td>315.33m</td>\n",
       "      <td>Serie A</td>\n",
       "      <td>16</td>\n",
       "      <td>38</td>\n",
       "      <td>8</td>\n",
       "      <td>17</td>\n",
       "      <td>13</td>\n",
       "      <td>47:45</td>\n",
       "      <td>2</td>\n",
       "      <td>41</td>\n",
       "    </tr>\n",
       "    <tr>\n",
       "      <th>4</th>\n",
       "      <td>AFC Bournemouth</td>\n",
       "      <td>Arnaut Danjuma</td>\n",
       "      <td>16460000</td>\n",
       "      <td>Forward</td>\n",
       "      <td>Premier League</td>\n",
       "      <td>Left Winger</td>\n",
       "      <td>37</td>\n",
       "      <td>26</td>\n",
       "      <td>17</td>\n",
       "      <td>310.00m</td>\n",
       "      <td>Premier League</td>\n",
       "      <td>14</td>\n",
       "      <td>38</td>\n",
       "      <td>13</td>\n",
       "      <td>6</td>\n",
       "      <td>19</td>\n",
       "      <td>56:70</td>\n",
       "      <td>-14</td>\n",
       "      <td>45</td>\n",
       "    </tr>\n",
       "    <tr>\n",
       "      <th>5</th>\n",
       "      <td>Arsenal</td>\n",
       "      <td>Nicolas P'ep'e</td>\n",
       "      <td>80000000</td>\n",
       "      <td>Forward</td>\n",
       "      <td>Premier League</td>\n",
       "      <td>Right Winger</td>\n",
       "      <td>42</td>\n",
       "      <td>25</td>\n",
       "      <td>28</td>\n",
       "      <td>659.05m</td>\n",
       "      <td>Premier League</td>\n",
       "      <td>5</td>\n",
       "      <td>38</td>\n",
       "      <td>21</td>\n",
       "      <td>7</td>\n",
       "      <td>10</td>\n",
       "      <td>73:51</td>\n",
       "      <td>22</td>\n",
       "      <td>70</td>\n",
       "    </tr>\n",
       "    <tr>\n",
       "      <th>6</th>\n",
       "      <td>Arsenal</td>\n",
       "      <td>Gabriel Martinelli</td>\n",
       "      <td>7100000</td>\n",
       "      <td>Forward</td>\n",
       "      <td>Premier League</td>\n",
       "      <td>Left Winger</td>\n",
       "      <td>42</td>\n",
       "      <td>25</td>\n",
       "      <td>28</td>\n",
       "      <td>659.05m</td>\n",
       "      <td>Premier League</td>\n",
       "      <td>5</td>\n",
       "      <td>38</td>\n",
       "      <td>21</td>\n",
       "      <td>7</td>\n",
       "      <td>10</td>\n",
       "      <td>73:51</td>\n",
       "      <td>22</td>\n",
       "      <td>70</td>\n",
       "    </tr>\n",
       "    <tr>\n",
       "      <th>...</th>\n",
       "      <td>...</td>\n",
       "      <td>...</td>\n",
       "      <td>...</td>\n",
       "      <td>...</td>\n",
       "      <td>...</td>\n",
       "      <td>...</td>\n",
       "      <td>...</td>\n",
       "      <td>...</td>\n",
       "      <td>...</td>\n",
       "      <td>...</td>\n",
       "      <td>...</td>\n",
       "      <td>...</td>\n",
       "      <td>...</td>\n",
       "      <td>...</td>\n",
       "      <td>...</td>\n",
       "      <td>...</td>\n",
       "      <td>...</td>\n",
       "      <td>...</td>\n",
       "      <td>...</td>\n",
       "    </tr>\n",
       "    <tr>\n",
       "      <th>117</th>\n",
       "      <td>West Ham United</td>\n",
       "      <td>Albian Ajeti</td>\n",
       "      <td>11300000</td>\n",
       "      <td>Forward</td>\n",
       "      <td>Premier League</td>\n",
       "      <td>Centre-Forward</td>\n",
       "      <td>37</td>\n",
       "      <td>27</td>\n",
       "      <td>23</td>\n",
       "      <td>359.00m</td>\n",
       "      <td>Premier League</td>\n",
       "      <td>10</td>\n",
       "      <td>38</td>\n",
       "      <td>15</td>\n",
       "      <td>7</td>\n",
       "      <td>16</td>\n",
       "      <td>52:55</td>\n",
       "      <td>-3</td>\n",
       "      <td>52</td>\n",
       "    </tr>\n",
       "    <tr>\n",
       "      <th>118</th>\n",
       "      <td>Wolverhampton Wanderers</td>\n",
       "      <td>Ra'ul Jim'enez</td>\n",
       "      <td>38000000</td>\n",
       "      <td>Forward</td>\n",
       "      <td>Premier League</td>\n",
       "      <td>Centre-Forward</td>\n",
       "      <td>40</td>\n",
       "      <td>24</td>\n",
       "      <td>26</td>\n",
       "      <td>302.90m</td>\n",
       "      <td>Premier League</td>\n",
       "      <td>7</td>\n",
       "      <td>38</td>\n",
       "      <td>16</td>\n",
       "      <td>9</td>\n",
       "      <td>13</td>\n",
       "      <td>47:46</td>\n",
       "      <td>1</td>\n",
       "      <td>57</td>\n",
       "    </tr>\n",
       "    <tr>\n",
       "      <th>119</th>\n",
       "      <td>Wolverhampton Wanderers</td>\n",
       "      <td>Daniel Podence</td>\n",
       "      <td>19600000</td>\n",
       "      <td>Forward</td>\n",
       "      <td>Premier League</td>\n",
       "      <td>Left Winger</td>\n",
       "      <td>40</td>\n",
       "      <td>24</td>\n",
       "      <td>26</td>\n",
       "      <td>302.90m</td>\n",
       "      <td>Premier League</td>\n",
       "      <td>7</td>\n",
       "      <td>38</td>\n",
       "      <td>16</td>\n",
       "      <td>9</td>\n",
       "      <td>13</td>\n",
       "      <td>47:46</td>\n",
       "      <td>1</td>\n",
       "      <td>57</td>\n",
       "    </tr>\n",
       "    <tr>\n",
       "      <th>120</th>\n",
       "      <td>Wolverhampton Wanderers</td>\n",
       "      <td>Patrick Cutrone</td>\n",
       "      <td>18000000</td>\n",
       "      <td>Forward</td>\n",
       "      <td>Premier League</td>\n",
       "      <td>Centre-Forward</td>\n",
       "      <td>40</td>\n",
       "      <td>24</td>\n",
       "      <td>26</td>\n",
       "      <td>302.90m</td>\n",
       "      <td>Premier League</td>\n",
       "      <td>7</td>\n",
       "      <td>38</td>\n",
       "      <td>16</td>\n",
       "      <td>9</td>\n",
       "      <td>13</td>\n",
       "      <td>47:46</td>\n",
       "      <td>1</td>\n",
       "      <td>57</td>\n",
       "    </tr>\n",
       "    <tr>\n",
       "      <th>121</th>\n",
       "      <td>Wolverhampton Wanderers</td>\n",
       "      <td>Pedro Neto</td>\n",
       "      <td>17900000</td>\n",
       "      <td>Forward</td>\n",
       "      <td>Premier League</td>\n",
       "      <td>Right Winger</td>\n",
       "      <td>40</td>\n",
       "      <td>24</td>\n",
       "      <td>26</td>\n",
       "      <td>302.90m</td>\n",
       "      <td>Premier League</td>\n",
       "      <td>7</td>\n",
       "      <td>38</td>\n",
       "      <td>16</td>\n",
       "      <td>9</td>\n",
       "      <td>13</td>\n",
       "      <td>47:46</td>\n",
       "      <td>1</td>\n",
       "      <td>57</td>\n",
       "    </tr>\n",
       "  </tbody>\n",
       "</table>\n",
       "<p>114 rows × 19 columns</p>\n",
       "</div>"
      ],
      "text/plain": [
       "                        club                name  transfer_fee Position  \\\n",
       "1                   AC Milan        Rafael Le~ao      29500000  Forward   \n",
       "2             ACF Fiorentina               Pedro      11000000  Forward   \n",
       "4            AFC Bournemouth      Arnaut Danjuma      16460000  Forward   \n",
       "5                    Arsenal      Nicolas P'ep'e      80000000  Forward   \n",
       "6                    Arsenal  Gabriel Martinelli       7100000  Forward   \n",
       "..                       ...                 ...           ...      ...   \n",
       "117          West Ham United        Albian Ajeti      11300000  Forward   \n",
       "118  Wolverhampton Wanderers      Ra'ul Jim'enez      38000000  Forward   \n",
       "119  Wolverhampton Wanderers      Daniel Podence      19600000  Forward   \n",
       "120  Wolverhampton Wanderers     Patrick Cutrone      18000000  Forward   \n",
       "121  Wolverhampton Wanderers          Pedro Neto      17900000  Forward   \n",
       "\n",
       "             league detailed_position  Squad  AVGage  Foreigners  \\\n",
       "1           Serie A       Left Winger     45      24          22   \n",
       "2           Serie A    Centre-Forward     56      23          36   \n",
       "4    Premier League       Left Winger     37      26          17   \n",
       "5    Premier League      Right Winger     42      25          28   \n",
       "6    Premier League       Left Winger     42      25          28   \n",
       "..              ...               ...    ...     ...         ...   \n",
       "117  Premier League    Centre-Forward     37      27          23   \n",
       "118  Premier League    Centre-Forward     40      24          26   \n",
       "119  Premier League       Left Winger     40      24          26   \n",
       "120  Premier League    Centre-Forward     40      24          26   \n",
       "121  Premier League      Right Winger     40      24          26   \n",
       "\n",
       "    TotalPlayerValue        League.x  Pos  GP   W   D   L     GR  GD  Points  \n",
       "1            578.48m         Serie A    5  38  19  11   8  55:36  19      68  \n",
       "2            315.33m         Serie A   16  38   8  17  13  47:45   2      41  \n",
       "4            310.00m  Premier League   14  38  13   6  19  56:70 -14      45  \n",
       "5            659.05m  Premier League    5  38  21   7  10  73:51  22      70  \n",
       "6            659.05m  Premier League    5  38  21   7  10  73:51  22      70  \n",
       "..               ...             ...  ...  ..  ..  ..  ..    ...  ..     ...  \n",
       "117          359.00m  Premier League   10  38  15   7  16  52:55  -3      52  \n",
       "118          302.90m  Premier League    7  38  16   9  13  47:46   1      57  \n",
       "119          302.90m  Premier League    7  38  16   9  13  47:46   1      57  \n",
       "120          302.90m  Premier League    7  38  16   9  13  47:46   1      57  \n",
       "121          302.90m  Premier League    7  38  16   9  13  47:46   1      57  \n",
       "\n",
       "[114 rows x 19 columns]"
      ]
     },
     "execution_count": 1384,
     "metadata": {},
     "output_type": "execute_result"
    }
   ],
   "source": [
    "att_fees"
   ]
  },
  {
   "cell_type": "code",
   "execution_count": 1385,
   "id": "37a794d7-e5a0-412d-8d94-021245ea8c46",
   "metadata": {},
   "outputs": [
    {
     "name": "stderr",
     "output_type": "stream",
     "text": [
      "/var/folders/x_/pzlfspq52sd41dygb97kcztm0000gn/T/ipykernel_8271/3100792943.py:7: SettingWithCopyWarning: \n",
      "A value is trying to be set on a copy of a slice from a DataFrame.\n",
      "Try using .loc[row_indexer,col_indexer] = value instead\n",
      "\n",
      "See the caveats in the documentation: https://pandas.pydata.org/pandas-docs/stable/user_guide/indexing.html#returning-a-view-versus-a-copy\n",
      "  att_fees['GR'] = att_fees['GR'].apply(ratio_to_prop).astype(float) #returning ints not floats\n"
     ]
    }
   ],
   "source": [
    "# Define a function to convert ratios to proportions\n",
    "def ratio_to_prop(ratio):\n",
    "    num, denom = ratio.split(':')\n",
    "    return float(num) / float(denom)\n",
    "\n",
    "# Apply the function to the 'ratio' column\n",
    "att_fees['GR'] = att_fees['GR'].apply(ratio_to_prop).astype(float) #returning ints not floats"
   ]
  },
  {
   "cell_type": "code",
   "execution_count": 1386,
   "id": "e870581d-53e9-41fd-a7f9-f631f0b279f6",
   "metadata": {},
   "outputs": [],
   "source": [
    "att_fees = att_fees.drop([\"TotalPlayerValue\"], axis = 1)\n",
    "att_fees = att_fees.drop([\"GR\"], axis = 1)\n",
    "att_fees = att_fees.drop([\"League.x\"], axis = 1)\n",
    "att_fees= att_fees.drop([\"club\"], axis = 1)\n",
    "att_fees = att_fees.drop([\"name\"], axis = 1)\n",
    "att_fees = att_fees.drop([\"Position\"], axis = 1)\n",
    "att_fees = att_fees.drop([\"league\"], axis = 1)\n",
    "att_fees = att_fees.drop([\"detailed_position\"], axis = 1)"
   ]
  },
  {
   "cell_type": "code",
   "execution_count": 1387,
   "id": "c65fb297-8ccf-47dd-9051-1fb761b81584",
   "metadata": {},
   "outputs": [
    {
     "data": {
      "text/html": [
       "<div>\n",
       "<style scoped>\n",
       "    .dataframe tbody tr th:only-of-type {\n",
       "        vertical-align: middle;\n",
       "    }\n",
       "\n",
       "    .dataframe tbody tr th {\n",
       "        vertical-align: top;\n",
       "    }\n",
       "\n",
       "    .dataframe thead th {\n",
       "        text-align: right;\n",
       "    }\n",
       "</style>\n",
       "<table border=\"1\" class=\"dataframe\">\n",
       "  <thead>\n",
       "    <tr style=\"text-align: right;\">\n",
       "      <th></th>\n",
       "      <th>transfer_fee</th>\n",
       "      <th>Squad</th>\n",
       "      <th>AVGage</th>\n",
       "      <th>Foreigners</th>\n",
       "      <th>Pos</th>\n",
       "      <th>GP</th>\n",
       "      <th>W</th>\n",
       "      <th>D</th>\n",
       "      <th>L</th>\n",
       "      <th>GD</th>\n",
       "      <th>Points</th>\n",
       "    </tr>\n",
       "  </thead>\n",
       "  <tbody>\n",
       "    <tr>\n",
       "      <th>1</th>\n",
       "      <td>29500000</td>\n",
       "      <td>45</td>\n",
       "      <td>24</td>\n",
       "      <td>22</td>\n",
       "      <td>5</td>\n",
       "      <td>38</td>\n",
       "      <td>19</td>\n",
       "      <td>11</td>\n",
       "      <td>8</td>\n",
       "      <td>19</td>\n",
       "      <td>68</td>\n",
       "    </tr>\n",
       "    <tr>\n",
       "      <th>2</th>\n",
       "      <td>11000000</td>\n",
       "      <td>56</td>\n",
       "      <td>23</td>\n",
       "      <td>36</td>\n",
       "      <td>16</td>\n",
       "      <td>38</td>\n",
       "      <td>8</td>\n",
       "      <td>17</td>\n",
       "      <td>13</td>\n",
       "      <td>2</td>\n",
       "      <td>41</td>\n",
       "    </tr>\n",
       "    <tr>\n",
       "      <th>4</th>\n",
       "      <td>16460000</td>\n",
       "      <td>37</td>\n",
       "      <td>26</td>\n",
       "      <td>17</td>\n",
       "      <td>14</td>\n",
       "      <td>38</td>\n",
       "      <td>13</td>\n",
       "      <td>6</td>\n",
       "      <td>19</td>\n",
       "      <td>-14</td>\n",
       "      <td>45</td>\n",
       "    </tr>\n",
       "    <tr>\n",
       "      <th>5</th>\n",
       "      <td>80000000</td>\n",
       "      <td>42</td>\n",
       "      <td>25</td>\n",
       "      <td>28</td>\n",
       "      <td>5</td>\n",
       "      <td>38</td>\n",
       "      <td>21</td>\n",
       "      <td>7</td>\n",
       "      <td>10</td>\n",
       "      <td>22</td>\n",
       "      <td>70</td>\n",
       "    </tr>\n",
       "    <tr>\n",
       "      <th>6</th>\n",
       "      <td>7100000</td>\n",
       "      <td>42</td>\n",
       "      <td>25</td>\n",
       "      <td>28</td>\n",
       "      <td>5</td>\n",
       "      <td>38</td>\n",
       "      <td>21</td>\n",
       "      <td>7</td>\n",
       "      <td>10</td>\n",
       "      <td>22</td>\n",
       "      <td>70</td>\n",
       "    </tr>\n",
       "    <tr>\n",
       "      <th>...</th>\n",
       "      <td>...</td>\n",
       "      <td>...</td>\n",
       "      <td>...</td>\n",
       "      <td>...</td>\n",
       "      <td>...</td>\n",
       "      <td>...</td>\n",
       "      <td>...</td>\n",
       "      <td>...</td>\n",
       "      <td>...</td>\n",
       "      <td>...</td>\n",
       "      <td>...</td>\n",
       "    </tr>\n",
       "    <tr>\n",
       "      <th>117</th>\n",
       "      <td>11300000</td>\n",
       "      <td>37</td>\n",
       "      <td>27</td>\n",
       "      <td>23</td>\n",
       "      <td>10</td>\n",
       "      <td>38</td>\n",
       "      <td>15</td>\n",
       "      <td>7</td>\n",
       "      <td>16</td>\n",
       "      <td>-3</td>\n",
       "      <td>52</td>\n",
       "    </tr>\n",
       "    <tr>\n",
       "      <th>118</th>\n",
       "      <td>38000000</td>\n",
       "      <td>40</td>\n",
       "      <td>24</td>\n",
       "      <td>26</td>\n",
       "      <td>7</td>\n",
       "      <td>38</td>\n",
       "      <td>16</td>\n",
       "      <td>9</td>\n",
       "      <td>13</td>\n",
       "      <td>1</td>\n",
       "      <td>57</td>\n",
       "    </tr>\n",
       "    <tr>\n",
       "      <th>119</th>\n",
       "      <td>19600000</td>\n",
       "      <td>40</td>\n",
       "      <td>24</td>\n",
       "      <td>26</td>\n",
       "      <td>7</td>\n",
       "      <td>38</td>\n",
       "      <td>16</td>\n",
       "      <td>9</td>\n",
       "      <td>13</td>\n",
       "      <td>1</td>\n",
       "      <td>57</td>\n",
       "    </tr>\n",
       "    <tr>\n",
       "      <th>120</th>\n",
       "      <td>18000000</td>\n",
       "      <td>40</td>\n",
       "      <td>24</td>\n",
       "      <td>26</td>\n",
       "      <td>7</td>\n",
       "      <td>38</td>\n",
       "      <td>16</td>\n",
       "      <td>9</td>\n",
       "      <td>13</td>\n",
       "      <td>1</td>\n",
       "      <td>57</td>\n",
       "    </tr>\n",
       "    <tr>\n",
       "      <th>121</th>\n",
       "      <td>17900000</td>\n",
       "      <td>40</td>\n",
       "      <td>24</td>\n",
       "      <td>26</td>\n",
       "      <td>7</td>\n",
       "      <td>38</td>\n",
       "      <td>16</td>\n",
       "      <td>9</td>\n",
       "      <td>13</td>\n",
       "      <td>1</td>\n",
       "      <td>57</td>\n",
       "    </tr>\n",
       "  </tbody>\n",
       "</table>\n",
       "<p>114 rows × 11 columns</p>\n",
       "</div>"
      ],
      "text/plain": [
       "     transfer_fee  Squad  AVGage  Foreigners  Pos  GP   W   D   L  GD  Points\n",
       "1        29500000     45      24          22    5  38  19  11   8  19      68\n",
       "2        11000000     56      23          36   16  38   8  17  13   2      41\n",
       "4        16460000     37      26          17   14  38  13   6  19 -14      45\n",
       "5        80000000     42      25          28    5  38  21   7  10  22      70\n",
       "6         7100000     42      25          28    5  38  21   7  10  22      70\n",
       "..            ...    ...     ...         ...  ...  ..  ..  ..  ..  ..     ...\n",
       "117      11300000     37      27          23   10  38  15   7  16  -3      52\n",
       "118      38000000     40      24          26    7  38  16   9  13   1      57\n",
       "119      19600000     40      24          26    7  38  16   9  13   1      57\n",
       "120      18000000     40      24          26    7  38  16   9  13   1      57\n",
       "121      17900000     40      24          26    7  38  16   9  13   1      57\n",
       "\n",
       "[114 rows x 11 columns]"
      ]
     },
     "execution_count": 1387,
     "metadata": {},
     "output_type": "execute_result"
    }
   ],
   "source": [
    "att_fees"
   ]
  },
  {
   "cell_type": "code",
   "execution_count": 1659,
   "id": "5e40cf49-8d60-4747-b061-3cf16c22651f",
   "metadata": {},
   "outputs": [],
   "source": [
    "from sklearn.model_selection import train_test_split\n",
    "fee_train, fee_test = train_test_split(att_fees, test_size = .2, shuffle = True)\n",
    "\n",
    "fee_train = fee_train.reset_index(drop=True)\n",
    "fee_test = fee_test.reset_index(drop=True)\n",
    "\n",
    "#getting the target vector\n",
    "X_train_fee = fee_train.drop([\"transfer_fee\"], axis = 1)\n",
    "y_train_fee = fee_train[\"transfer_fee\"]\n",
    "\n",
    "X_test_fee = fee_test.drop([\"transfer_fee\"], axis = 1)\n",
    "y_test_fee = fee_test[\"transfer_fee\"]"
   ]
  },
  {
   "cell_type": "code",
   "execution_count": 647,
   "id": "e7d2cd06-ce05-48b3-b12a-cedf5dbc0c3f",
   "metadata": {},
   "outputs": [
    {
     "name": "stderr",
     "output_type": "stream",
     "text": [
      "/Users/hedavamsolano/opt/anaconda3/envs/ml-0451/lib/python3.9/site-packages/sklearn/linear_model/_coordinate_descent.py:647: ConvergenceWarning: Objective did not converge. You might want to increase the number of iterations, check the scale of the features or consider increasing regularisation. Duality gap: 2.174e+16, tolerance: 1.264e+13\n",
      "  model = cd_fast.enet_coordinate_descent(\n"
     ]
    },
    {
     "data": {
      "text/plain": [
       "0.2905522224701754"
      ]
     },
     "execution_count": 647,
     "metadata": {},
     "output_type": "execute_result"
    }
   ],
   "source": [
    "from sklearn.linear_model import Lasso\n",
    "L = Lasso(alpha = 0.002)\n",
    "L.fit(X_train_fee, y_train_fee)\n",
    "L.score(X_test_fee, y_test_fee)"
   ]
  },
  {
   "cell_type": "markdown",
   "id": "bc0ac4fd-1d17-4822-ab79-b05ae251f6d5",
   "metadata": {},
   "source": [
    "# Bias Auditing"
   ]
  },
  {
   "cell_type": "code",
   "execution_count": 24,
   "id": "0305190b-cb11-4aed-b4b4-f5e514e148a6",
   "metadata": {},
   "outputs": [],
   "source": [
    "## How do we choose the threshold for market value?; we could do an even tier system??"
   ]
  },
  {
   "cell_type": "code",
   "execution_count": 25,
   "id": "cf6b9a4b-d9e4-4f06-9f79-3779be99af0a",
   "metadata": {},
   "outputs": [
    {
     "data": {
      "text/plain": [
       "6735124.561403509"
      ]
     },
     "execution_count": 25,
     "metadata": {},
     "output_type": "execute_result"
    }
   ],
   "source": [
    "all_players[\"Value\"].mean() #use the mean i guess"
   ]
  },
  {
   "cell_type": "code",
   "execution_count": 26,
   "id": "643c5c89-a4a3-4917-b197-52aefb3ab344",
   "metadata": {},
   "outputs": [
    {
     "data": {
      "text/plain": [
       "4100000.0"
      ]
     },
     "execution_count": 26,
     "metadata": {},
     "output_type": "execute_result"
    }
   ],
   "source": [
    "all_players[\"Value\"].median() #use the median, maybe; there's some crazy outliers pushing the mean up i guess"
   ]
  },
  {
   "cell_type": "code",
   "execution_count": 27,
   "id": "ce4e701a-8fe4-4ecb-b5c7-eacd7d3b0429",
   "metadata": {},
   "outputs": [],
   "source": [
    "#add value threshold and drop value, drop nationality (need a dataset with nationality), predict value threshold"
   ]
  },
  {
   "cell_type": "code",
   "execution_count": 28,
   "id": "f5f49661-3bc1-416b-a699-1b21671dbc7a",
   "metadata": {},
   "outputs": [],
   "source": [
    "all_players[\"ValueThreshold\"] = all_players['Value'] < 4100000.0"
   ]
  },
  {
   "cell_type": "code",
   "execution_count": 29,
   "id": "706702a9-8d8c-463e-a231-f02949e1f986",
   "metadata": {},
   "outputs": [],
   "source": [
    "from sklearn.model_selection import train_test_split\n",
    "all_train, all_test = train_test_split(all_players, test_size = .2, shuffle = True)\n",
    "\n",
    "#final_all_players = pd.DataFrame(at_test, columns = [\"Name\"])\n",
    "#final_all_players[\"actual\"] = at_test['Value'].copy()\n",
    "\n",
    "\n",
    "#getting the feature matrix and  target vector and deleting it from feature matrix\n",
    "\n",
    "X_train_all = all_train.dropna(how='any', inplace=True)\n",
    "X_train_all = all_train.drop([\"Value\"], axis = 1)\n",
    "X_train_all = all_train.drop([\"ValueThreshold\"], axis = 1)\n",
    "y_train_all = all_train[\"ValueThreshold\"]\n",
    "\n",
    "\n",
    "\n",
    "X_test_all = all_test.dropna(how='any', inplace=True)\n",
    "X_test_all = all_test.drop([\"Value\"], axis = 1)\n",
    "X_test_all = all_test.drop([\"ValueThreshold\"], axis = 1)\n",
    "y_test_all = all_test[\"ValueThreshold\"]\n",
    "\n",
    "X_train_all = X_train_all.drop([\"field_position\"], axis = 1)\n",
    "X_train_all = X_train_all.drop([\"Name\"], axis = 1)\n",
    "\n",
    "\n",
    "\n",
    "\n",
    "X_test_all = X_test_all.drop([\"field_position\"], axis = 1)\n",
    "X_test_all = X_test_all.drop([\"Name\"], axis = 1)"
   ]
  },
  {
   "cell_type": "code",
   "execution_count": 30,
   "id": "0d353999-5dd3-4d90-a3f8-d7be2f72acfe",
   "metadata": {},
   "outputs": [],
   "source": [
    "#use classification model, try different ones"
   ]
  },
  {
   "cell_type": "code",
   "execution_count": 31,
   "id": "0311f0ca-07bb-437d-aaa3-6a8f18b3b091",
   "metadata": {},
   "outputs": [
    {
     "data": {
      "text/plain": [
       "Pipeline(steps=[('standardscaler', StandardScaler()),\n",
       "                ('svc', SVC(gamma='auto'))])"
      ]
     },
     "execution_count": 31,
     "metadata": {},
     "output_type": "execute_result"
    }
   ],
   "source": [
    "from sklearn.pipeline import make_pipeline\n",
    "from sklearn.preprocessing import StandardScaler\n",
    "from sklearn.svm import SVC\n",
    "clf_class = make_pipeline(StandardScaler(), SVC(gamma='auto'))\n",
    "clf_class.fit(X_train_all, y_train_all)"
   ]
  },
  {
   "cell_type": "code",
   "execution_count": 32,
   "id": "4f367510-798c-4c88-8e0a-96e45d1cdbae",
   "metadata": {},
   "outputs": [
    {
     "data": {
      "text/plain": [
       "0.9586693548387096"
      ]
     },
     "execution_count": 32,
     "metadata": {},
     "output_type": "execute_result"
    }
   ],
   "source": [
    "clf_class.score(X_test_all, y_test_all)"
   ]
  },
  {
   "cell_type": "code",
   "execution_count": 33,
   "id": "0a2b0291-0fc4-4642-898e-1ede5ef3bc12",
   "metadata": {},
   "outputs": [],
   "source": [
    "#gather predictions\n",
    "predictions = clf_class.predict(X_test_all)\n",
    "actual = y_test_all"
   ]
  },
  {
   "cell_type": "code",
   "execution_count": 34,
   "id": "ec76889d-715c-4a4b-b78c-b38b3054f404",
   "metadata": {},
   "outputs": [
    {
     "data": {
      "text/plain": [
       "0.9586693548387096"
      ]
     },
     "execution_count": 34,
     "metadata": {},
     "output_type": "execute_result"
    }
   ],
   "source": [
    "(predictions == actual).mean()"
   ]
  },
  {
   "cell_type": "code",
   "execution_count": 35,
   "id": "d7bb8c37-6c9e-4803-b78d-ab6d6b505250",
   "metadata": {},
   "outputs": [],
   "source": [
    "bias_ds = all_test.copy()\n",
    "bias_ds.rename(columns={'ValueThreshold':'Actual'}, inplace=True) #rename ValueThreshold to Actual\n",
    "bias_ds[\"Predicted\"] = predictions"
   ]
  },
  {
   "cell_type": "code",
   "execution_count": 36,
   "id": "d45f5b75-cd92-4adc-9316-eb3d1e64a326",
   "metadata": {},
   "outputs": [
    {
     "data": {
      "text/html": [
       "<div>\n",
       "<style scoped>\n",
       "    .dataframe tbody tr th:only-of-type {\n",
       "        vertical-align: middle;\n",
       "    }\n",
       "\n",
       "    .dataframe tbody tr th {\n",
       "        vertical-align: top;\n",
       "    }\n",
       "\n",
       "    .dataframe thead th {\n",
       "        text-align: right;\n",
       "    }\n",
       "</style>\n",
       "<table border=\"1\" class=\"dataframe\">\n",
       "  <thead>\n",
       "    <tr style=\"text-align: right;\">\n",
       "      <th></th>\n",
       "      <th>Name</th>\n",
       "      <th>Age</th>\n",
       "      <th>Overall_rating</th>\n",
       "      <th>Potential</th>\n",
       "      <th>Years_Left</th>\n",
       "      <th>field_position</th>\n",
       "      <th>Total_stats</th>\n",
       "      <th>Value</th>\n",
       "      <th>Wage</th>\n",
       "      <th>Release_clause</th>\n",
       "      <th>...</th>\n",
       "      <th>Weak_foot</th>\n",
       "      <th>Skill_moves</th>\n",
       "      <th>Pace_Diving</th>\n",
       "      <th>Shooting_Handling</th>\n",
       "      <th>Passing_Kicking</th>\n",
       "      <th>Dribbling_Reflexes</th>\n",
       "      <th>Defending_Pace</th>\n",
       "      <th>Physical_Positioning</th>\n",
       "      <th>Actual</th>\n",
       "      <th>Predicted</th>\n",
       "    </tr>\n",
       "  </thead>\n",
       "  <tbody>\n",
       "    <tr>\n",
       "      <th>1262</th>\n",
       "      <td>G. Castro</td>\n",
       "      <td>31</td>\n",
       "      <td>76</td>\n",
       "      <td>76</td>\n",
       "      <td>2.0</td>\n",
       "      <td>Midfielder</td>\n",
       "      <td>2055</td>\n",
       "      <td>6500000.0</td>\n",
       "      <td>30000.0</td>\n",
       "      <td>11100000.0</td>\n",
       "      <td>...</td>\n",
       "      <td>4</td>\n",
       "      <td>3</td>\n",
       "      <td>67</td>\n",
       "      <td>69</td>\n",
       "      <td>77</td>\n",
       "      <td>77</td>\n",
       "      <td>68</td>\n",
       "      <td>66</td>\n",
       "      <td>False</td>\n",
       "      <td>False</td>\n",
       "    </tr>\n",
       "    <tr>\n",
       "      <th>1730</th>\n",
       "      <td>A. Maier</td>\n",
       "      <td>19</td>\n",
       "      <td>75</td>\n",
       "      <td>87</td>\n",
       "      <td>3.0</td>\n",
       "      <td>Midfielder</td>\n",
       "      <td>1836</td>\n",
       "      <td>11500000.0</td>\n",
       "      <td>10000.0</td>\n",
       "      <td>21900000.0</td>\n",
       "      <td>...</td>\n",
       "      <td>3</td>\n",
       "      <td>3</td>\n",
       "      <td>69</td>\n",
       "      <td>56</td>\n",
       "      <td>72</td>\n",
       "      <td>74</td>\n",
       "      <td>68</td>\n",
       "      <td>69</td>\n",
       "      <td>False</td>\n",
       "      <td>False</td>\n",
       "    </tr>\n",
       "    <tr>\n",
       "      <th>227</th>\n",
       "      <td>Casillas</td>\n",
       "      <td>37</td>\n",
       "      <td>83</td>\n",
       "      <td>83</td>\n",
       "      <td>1.0</td>\n",
       "      <td>Goalkeeper</td>\n",
       "      <td>1306</td>\n",
       "      <td>1700000.0</td>\n",
       "      <td>10000.0</td>\n",
       "      <td>3500000.0</td>\n",
       "      <td>...</td>\n",
       "      <td>2</td>\n",
       "      <td>1</td>\n",
       "      <td>87</td>\n",
       "      <td>76</td>\n",
       "      <td>61</td>\n",
       "      <td>84</td>\n",
       "      <td>55</td>\n",
       "      <td>85</td>\n",
       "      <td>True</td>\n",
       "      <td>False</td>\n",
       "    </tr>\n",
       "  </tbody>\n",
       "</table>\n",
       "<p>3 rows × 61 columns</p>\n",
       "</div>"
      ],
      "text/plain": [
       "           Name  Age  Overall_rating  Potential  Years_Left field_position  \\\n",
       "1262  G. Castro   31              76         76         2.0     Midfielder   \n",
       "1730   A. Maier   19              75         87         3.0     Midfielder   \n",
       "227    Casillas   37              83         83         1.0     Goalkeeper   \n",
       "\n",
       "      Total_stats       Value     Wage  Release_clause  ...  Weak_foot  \\\n",
       "1262         2055   6500000.0  30000.0      11100000.0  ...          4   \n",
       "1730         1836  11500000.0  10000.0      21900000.0  ...          3   \n",
       "227          1306   1700000.0  10000.0       3500000.0  ...          2   \n",
       "\n",
       "      Skill_moves  Pace_Diving  Shooting_Handling  Passing_Kicking  \\\n",
       "1262            3           67                 69               77   \n",
       "1730            3           69                 56               72   \n",
       "227             1           87                 76               61   \n",
       "\n",
       "      Dribbling_Reflexes  Defending_Pace  Physical_Positioning  Actual  \\\n",
       "1262                  77              68                    66   False   \n",
       "1730                  74              68                    69   False   \n",
       "227                   84              55                    85    True   \n",
       "\n",
       "      Predicted  \n",
       "1262      False  \n",
       "1730      False  \n",
       "227       False  \n",
       "\n",
       "[3 rows x 61 columns]"
      ]
     },
     "execution_count": 36,
     "metadata": {},
     "output_type": "execute_result"
    }
   ],
   "source": [
    "bias_ds.head(3)"
   ]
  },
  {
   "cell_type": "code",
   "execution_count": 37,
   "id": "ffcd9609-ab03-4570-81f1-ad7947d77b52",
   "metadata": {},
   "outputs": [],
   "source": [
    "group_test = bias_ds[\"field_position\"]"
   ]
  },
  {
   "cell_type": "code",
   "execution_count": 38,
   "id": "42c8c1ba-5d26-427b-92a1-ea57b45e997e",
   "metadata": {},
   "outputs": [
    {
     "data": {
      "text/plain": [
       "1262    False\n",
       "1730    False\n",
       "227     False\n",
       "3121    False\n",
       "4965    False\n",
       "        ...  \n",
       "4699    False\n",
       "3944    False\n",
       "3858     True\n",
       "1696    False\n",
       "3533    False\n",
       "Name: field_position, Length: 992, dtype: bool"
      ]
     },
     "execution_count": 38,
     "metadata": {},
     "output_type": "execute_result"
    }
   ],
   "source": [
    "group_test == \"Attacker\""
   ]
  },
  {
   "cell_type": "markdown",
   "id": "915c8d30-6186-49b0-8d5b-d8521de5c922",
   "metadata": {},
   "source": [
    "### Calibration"
   ]
  },
  {
   "cell_type": "markdown",
   "id": "cb0f8120-920b-43c2-8271-586b2a6248a3",
   "metadata": {},
   "source": [
    "As defined by Chouldechova in [this paper](https://via.hypothes.is/https://arxiv.org/pdf/1703.00056.pdf), \"a score S = S(x) is said to be well-calibrated if it reflects the same\n",
    "likelihood of recidivism irrespective of the individuals’ group membership.\"\n",
    "\n",
    "In our context, when we are doing binary classification for sex-based income, the calibration takes on the form of the PPV.\n",
    "Namely, our model would be well-calibrated if the fraction of predicted individuals making >\\\\$50k who actually make >\\\\$50k is the same across groups."
   ]
  },
  {
   "cell_type": "code",
   "execution_count": 39,
   "id": "5c7c82ea-1590-46b1-b820-22b4dc2a0b07",
   "metadata": {},
   "outputs": [],
   "source": [
    "bias_ds_calibration = bias_ds.query(\"Predicted == True\")"
   ]
  },
  {
   "cell_type": "code",
   "execution_count": 40,
   "id": "5e642c3a-b3ac-41fd-92f5-e180778a43fb",
   "metadata": {},
   "outputs": [],
   "source": [
    "bias_ds_calibration = bias_ds_calibration.groupby([\"field_position\", \"Predicted\"])[\"Actual\"].mean().reset_index(name = \"mean\")"
   ]
  },
  {
   "cell_type": "code",
   "execution_count": 43,
   "id": "ff0bf200-2363-408a-b098-d847d8ccc3d5",
   "metadata": {},
   "outputs": [
    {
     "data": {
      "image/png": "[encoded data removed]",
      "text/plain": [
       "<Figure size 500x500 with 1 Axes>"
      ]
     },
     "metadata": {},
     "output_type": "display_data"
    }
   ],
   "source": [
    "sns.set_theme(style=\"whitegrid\")\n",
    "\n",
    "p = sns.catplot(data = bias_ds_calibration, kind = \"bar\", x = \"Predicted\", y = \"mean\", hue = \"field_position\", legend_out = False)\n",
    "new_labels = ['Male', 'Female']\n",
    "for t, l in zip(p._legend.texts, new_labels):\n",
    "    t.set_text(l)\n",
    "\n",
    "sns.move_legend(p, \"lower right\")"
   ]
  },
  {
   "cell_type": "markdown",
   "id": "693b3965-99e7-4cab-8006-afaeb35a59cd",
   "metadata": {
    "tags": []
   },
   "source": [
    "### Error Rate Balance"
   ]
  },
  {
   "cell_type": "code",
   "execution_count": 1789,
   "id": "96c61284-b38c-4aa4-b272-d3c8ef6b32b4",
   "metadata": {},
   "outputs": [
    {
     "data": {
      "image/png": "[encoded data removed]",
      "text/plain": [
       "<Figure size 1500x320 with 10 Axes>"
      ]
     },
     "metadata": {},
     "output_type": "display_data"
    }
   ],
   "source": [
    "from sklearn.metrics import confusion_matrix\n",
    "from sklearn.metrics import ConfusionMatrixDisplay\n",
    "fig, axarr = plt.subplots(1, 5, figsize=(15,3.2), sharex = False, sharey = False)\n",
    "\n",
    "cm1 = confusion_matrix(actual, predictions, labels=clf_class.classes_, normalize = \"true\")\n",
    "disp1 = ConfusionMatrixDisplay(confusion_matrix=cm1,\n",
    "                              display_labels=clf_class.classes_)\n",
    "\n",
    "cm2 = confusion_matrix(actual[group_test == \"Attacker\"], predictions[group_test == \"Attacker\"], labels=clf_class.classes_, normalize = \"true\")\n",
    "disp2 = ConfusionMatrixDisplay(confusion_matrix=cm2,\n",
    "                              display_labels=clf_class.classes_)\n",
    "\n",
    "\n",
    "cm3 = confusion_matrix(actual[group_test == \"Midfielder\"], predictions[group_test == \"Midfielder\"], labels=clf_class.classes_, normalize = \"true\")\n",
    "disp3 = ConfusionMatrixDisplay(confusion_matrix=cm3,\n",
    "                              display_labels=clf_class.classes_)\n",
    "\n",
    "cm4 = confusion_matrix(actual[group_test == \"Defender\"], predictions[group_test == \"Defender\"], labels=clf_class.classes_, normalize = \"true\")\n",
    "disp4 = ConfusionMatrixDisplay(confusion_matrix=cm4,\n",
    "                              display_labels=clf_class.classes_)\n",
    "\n",
    "cm5 = confusion_matrix(actual[group_test == \"Goalkeeper\"], predictions[group_test == \"Goalkeeper\"], labels=clf_class.classes_, normalize = \"true\")\n",
    "disp5 = ConfusionMatrixDisplay(confusion_matrix=cm5,\n",
    "                              display_labels=clf_class.classes_)\n",
    "\n",
    "disp1.plot(ax=axarr[0], cmap = plt.cm.Blues)\n",
    "axarr[0].grid(visible=None)\n",
    "\n",
    "disp2.plot(ax=axarr[1], cmap = plt.cm.Blues)\n",
    "axarr[1].grid(visible=None)\n",
    "\n",
    "disp3.plot(ax=axarr[2], cmap = plt.cm.Blues)\n",
    "axarr[2].grid(visible=None)\n",
    "\n",
    "disp4.plot(ax=axarr[3], cmap = plt.cm.Blues)\n",
    "axarr[3].grid(visible=None)\n",
    "\n",
    "disp5.plot(ax=axarr[4], cmap = plt.cm.Blues)\n",
    "axarr[4].grid(visible=None)"
   ]
  },
  {
   "cell_type": "markdown",
   "id": "8cb436e6-1ec5-4bbb-bf74-1e29dd636458",
   "metadata": {},
   "source": [
    "## Statistical Parity"
   ]
  },
  {
   "cell_type": "code",
   "execution_count": 44,
   "id": "0dc9a2f3-0667-4b23-a813-bee0270bcbe4",
   "metadata": {},
   "outputs": [],
   "source": [
    "bias_ds_statParity = bias_ds.groupby([\"field_position\"], as_index=False)[\"Predicted\"].value_counts(normalize = True) #normalize = True not working sadly"
   ]
  },
  {
   "cell_type": "code",
   "execution_count": 45,
   "id": "8c6a9843-0e90-4610-98f1-1349cad26c65",
   "metadata": {},
   "outputs": [
    {
     "data": {
      "text/html": [
       "<div>\n",
       "<style scoped>\n",
       "    .dataframe tbody tr th:only-of-type {\n",
       "        vertical-align: middle;\n",
       "    }\n",
       "\n",
       "    .dataframe tbody tr th {\n",
       "        vertical-align: top;\n",
       "    }\n",
       "\n",
       "    .dataframe thead th {\n",
       "        text-align: right;\n",
       "    }\n",
       "</style>\n",
       "<table border=\"1\" class=\"dataframe\">\n",
       "  <thead>\n",
       "    <tr style=\"text-align: right;\">\n",
       "      <th></th>\n",
       "      <th>field_position</th>\n",
       "      <th>Predicted</th>\n",
       "      <th>proportion</th>\n",
       "    </tr>\n",
       "  </thead>\n",
       "  <tbody>\n",
       "    <tr>\n",
       "      <th>0</th>\n",
       "      <td>Attacker</td>\n",
       "      <td>False</td>\n",
       "      <td>0.572464</td>\n",
       "    </tr>\n",
       "    <tr>\n",
       "      <th>1</th>\n",
       "      <td>Attacker</td>\n",
       "      <td>True</td>\n",
       "      <td>0.427536</td>\n",
       "    </tr>\n",
       "    <tr>\n",
       "      <th>2</th>\n",
       "      <td>Defender</td>\n",
       "      <td>True</td>\n",
       "      <td>0.548495</td>\n",
       "    </tr>\n",
       "    <tr>\n",
       "      <th>3</th>\n",
       "      <td>Defender</td>\n",
       "      <td>False</td>\n",
       "      <td>0.451505</td>\n",
       "    </tr>\n",
       "    <tr>\n",
       "      <th>4</th>\n",
       "      <td>Goalkeeper</td>\n",
       "      <td>True</td>\n",
       "      <td>0.626263</td>\n",
       "    </tr>\n",
       "    <tr>\n",
       "      <th>5</th>\n",
       "      <td>Goalkeeper</td>\n",
       "      <td>False</td>\n",
       "      <td>0.373737</td>\n",
       "    </tr>\n",
       "    <tr>\n",
       "      <th>6</th>\n",
       "      <td>Midfielder</td>\n",
       "      <td>False</td>\n",
       "      <td>0.534591</td>\n",
       "    </tr>\n",
       "    <tr>\n",
       "      <th>7</th>\n",
       "      <td>Midfielder</td>\n",
       "      <td>True</td>\n",
       "      <td>0.465409</td>\n",
       "    </tr>\n",
       "  </tbody>\n",
       "</table>\n",
       "</div>"
      ],
      "text/plain": [
       "  field_position  Predicted  proportion\n",
       "0       Attacker      False    0.572464\n",
       "1       Attacker       True    0.427536\n",
       "2       Defender       True    0.548495\n",
       "3       Defender      False    0.451505\n",
       "4     Goalkeeper       True    0.626263\n",
       "5     Goalkeeper      False    0.373737\n",
       "6     Midfielder      False    0.534591\n",
       "7     Midfielder       True    0.465409"
      ]
     },
     "execution_count": 45,
     "metadata": {},
     "output_type": "execute_result"
    }
   ],
   "source": [
    "bias_ds_statParity #query it just for true"
   ]
  },
  {
   "cell_type": "code",
   "execution_count": 49,
   "id": "6e8deea3-a6cc-43cf-adf4-0675b79e36c3",
   "metadata": {},
   "outputs": [
    {
     "data": {
      "image/png": "[encoded data removed]",
      "text/plain": [
       "<Figure size 500x500 with 1 Axes>"
      ]
     },
     "metadata": {},
     "output_type": "display_data"
    }
   ],
   "source": [
    "sns.set_theme(style=\"whitegrid\")\n",
    "\n",
    "p = sns.catplot(data = bias_ds_statParity, kind = \"bar\", x = \"Predicted\", y = \"proportion\", hue = \"field_position\", legend_out = False)\n",
    "new_labels = ['Male', 'Female']\n",
    "for t, l in zip(p._legend.texts, new_labels):\n",
    "    t.set_text(l)\n",
    "\n",
    "sns.move_legend(p, \"center right\")"
   ]
  },
  {
   "cell_type": "markdown",
   "id": "305f46de-163a-4581-83b0-39b02eb858ca",
   "metadata": {},
   "source": [
    "# Tranfer Fee Model"
   ]
  },
  {
   "cell_type": "code",
   "execution_count": 412,
   "id": "ed22ffd3-46d2-4659-8853-d20325d2691a",
   "metadata": {},
   "outputs": [],
   "source": [
    "tf_data = pd.read_csv(\"TM_MV_Club.csv\")"
   ]
  },
  {
   "cell_type": "code",
   "execution_count": 413,
   "id": "2c6b0d2d-6fe6-4d17-a188-da9512abb62f",
   "metadata": {},
   "outputs": [
    {
     "name": "stderr",
     "output_type": "stream",
     "text": [
      "/var/folders/x_/pzlfspq52sd41dygb97kcztm0000gn/T/ipykernel_17272/61169314.py:3: FutureWarning: The default value of regex will change from True to False in a future version. In addition, single character regular expressions will *not* be treated as literal strings when regex=True.\n",
      "  tf_data.columns = tf_data.columns.str.replace('.', '_')\n"
     ]
    }
   ],
   "source": [
    "#clean column names\n",
    "\n",
    "tf_data.columns = tf_data.columns.str.replace('.', '_')\n",
    "tf_data.columns = tf_data.columns.str.replace('___', '_')\n",
    "tf_data.columns = tf_data.columns.str.replace(' ', '_')"
   ]
  },
  {
   "cell_type": "code",
   "execution_count": 414,
   "id": "54edb446-a2b9-4758-95ae-432b74292ab7",
   "metadata": {},
   "outputs": [
    {
     "data": {
      "text/html": [
       "<div>\n",
       "<style scoped>\n",
       "    .dataframe tbody tr th:only-of-type {\n",
       "        vertical-align: middle;\n",
       "    }\n",
       "\n",
       "    .dataframe tbody tr th {\n",
       "        vertical-align: top;\n",
       "    }\n",
       "\n",
       "    .dataframe thead th {\n",
       "        text-align: right;\n",
       "    }\n",
       "</style>\n",
       "<table border=\"1\" class=\"dataframe\">\n",
       "  <thead>\n",
       "    <tr style=\"text-align: right;\">\n",
       "      <th></th>\n",
       "      <th>Name</th>\n",
       "      <th>club</th>\n",
       "      <th>name</th>\n",
       "      <th>transfer_fee</th>\n",
       "      <th>Position</th>\n",
       "      <th>league</th>\n",
       "      <th>detailed_position</th>\n",
       "      <th>Squad</th>\n",
       "      <th>AVGage</th>\n",
       "      <th>Foreigners</th>\n",
       "      <th>...</th>\n",
       "      <th>International_reputation</th>\n",
       "      <th>Body_type</th>\n",
       "      <th>Pace_Diving</th>\n",
       "      <th>Shooting_Handling</th>\n",
       "      <th>Passing_Kicking</th>\n",
       "      <th>Dribbling_Reflexes</th>\n",
       "      <th>Defending_Pace</th>\n",
       "      <th>Physical_Positioning</th>\n",
       "      <th>Years_Left</th>\n",
       "      <th>Club</th>\n",
       "    </tr>\n",
       "  </thead>\n",
       "  <tbody>\n",
       "    <tr>\n",
       "      <th>0</th>\n",
       "      <td>A. Ajeti</td>\n",
       "      <td>West Ham United</td>\n",
       "      <td>A. Ajeti</td>\n",
       "      <td>€11.30m</td>\n",
       "      <td>Forward</td>\n",
       "      <td>Premier League</td>\n",
       "      <td>Centre-Forward</td>\n",
       "      <td>37</td>\n",
       "      <td>26.6</td>\n",
       "      <td>23</td>\n",
       "      <td>...</td>\n",
       "      <td>1</td>\n",
       "      <td>Normal (170-185)</td>\n",
       "      <td>79</td>\n",
       "      <td>71</td>\n",
       "      <td>59</td>\n",
       "      <td>69</td>\n",
       "      <td>29</td>\n",
       "      <td>76</td>\n",
       "      <td>3.0</td>\n",
       "      <td>Basel\\n</td>\n",
       "    </tr>\n",
       "    <tr>\n",
       "      <th>1</th>\n",
       "      <td>A. Cerri</td>\n",
       "      <td>Cagliari Calcio</td>\n",
       "      <td>A. Cerri</td>\n",
       "      <td>€9.00m</td>\n",
       "      <td>Forward</td>\n",
       "      <td>Serie A</td>\n",
       "      <td>Centre-Forward</td>\n",
       "      <td>49</td>\n",
       "      <td>25.9</td>\n",
       "      <td>18</td>\n",
       "      <td>...</td>\n",
       "      <td>1</td>\n",
       "      <td>Normal (185+)</td>\n",
       "      <td>62</td>\n",
       "      <td>72</td>\n",
       "      <td>54</td>\n",
       "      <td>68</td>\n",
       "      <td>39</td>\n",
       "      <td>76</td>\n",
       "      <td>4.0</td>\n",
       "      <td>Cagliari\\n</td>\n",
       "    </tr>\n",
       "    <tr>\n",
       "      <th>2</th>\n",
       "      <td>A. Diawara</td>\n",
       "      <td>AS Roma</td>\n",
       "      <td>A. Diawara</td>\n",
       "      <td>€21.00m</td>\n",
       "      <td>Midfield</td>\n",
       "      <td>Serie A</td>\n",
       "      <td>Defensive Midfield</td>\n",
       "      <td>57</td>\n",
       "      <td>23.7</td>\n",
       "      <td>27</td>\n",
       "      <td>...</td>\n",
       "      <td>2</td>\n",
       "      <td>Lean (170-185)</td>\n",
       "      <td>68</td>\n",
       "      <td>54</td>\n",
       "      <td>73</td>\n",
       "      <td>77</td>\n",
       "      <td>72</td>\n",
       "      <td>73</td>\n",
       "      <td>2.0</td>\n",
       "      <td>Napoli\\n</td>\n",
       "    </tr>\n",
       "  </tbody>\n",
       "</table>\n",
       "<p>3 rows × 92 columns</p>\n",
       "</div>"
      ],
      "text/plain": [
       "         Name             club        name transfer_fee  Position  \\\n",
       "0    A. Ajeti  West Ham United    A. Ajeti      €11.30m   Forward   \n",
       "1    A. Cerri  Cagliari Calcio    A. Cerri       €9.00m   Forward   \n",
       "2  A. Diawara          AS Roma  A. Diawara      €21.00m  Midfield   \n",
       "\n",
       "           league   detailed_position  Squad  AVGage  Foreigners  ...  \\\n",
       "0  Premier League      Centre-Forward     37    26.6          23  ...   \n",
       "1         Serie A      Centre-Forward     49    25.9          18  ...   \n",
       "2         Serie A  Defensive Midfield     57    23.7          27  ...   \n",
       "\n",
       "  International_reputation         Body_type  Pace_Diving  Shooting_Handling  \\\n",
       "0                        1  Normal (170-185)           79                 71   \n",
       "1                        1     Normal (185+)           62                 72   \n",
       "2                        2    Lean (170-185)           68                 54   \n",
       "\n",
       "   Passing_Kicking  Dribbling_Reflexes  Defending_Pace Physical_Positioning  \\\n",
       "0               59                  69              29                   76   \n",
       "1               54                  68              39                   76   \n",
       "2               73                  77              72                   73   \n",
       "\n",
       "   Years_Left        Club  \n",
       "0         3.0     Basel\\n  \n",
       "1         4.0  Cagliari\\n  \n",
       "2         2.0    Napoli\\n  \n",
       "\n",
       "[3 rows x 92 columns]"
      ]
     },
     "execution_count": 414,
     "metadata": {},
     "output_type": "execute_result"
    }
   ],
   "source": [
    "tf_data.head(3)"
   ]
  },
  {
   "cell_type": "code",
   "execution_count": 415,
   "id": "f49d984f-0d90-4dff-ba94-34c1eb817415",
   "metadata": {},
   "outputs": [
    {
     "data": {
      "text/plain": [
       "Index(['Name', 'club', 'name', 'transfer_fee', 'Position', 'league',\n",
       "       'detailed_position', 'Squad', 'AVGage', 'Foreigners',\n",
       "       'TotalPlayerValue', 'League_x', 'Pos', 'GP', 'W', 'D', 'L', 'GR', 'GD',\n",
       "       'Points', 'Age', 'Overall_rating', 'Potential', 'ID', 'Height',\n",
       "       'Weight', 'foot', 'Best_overall', 'Best_position', 'Growth', 'Joined',\n",
       "       'Loan_date_end', 'Value', 'Wage', 'Release_clause', 'Total_attacking',\n",
       "       'Crossing', 'Finishing', 'Heading_accuracy', 'Short_passing', 'Volleys',\n",
       "       'Total_skill', 'Dribbling', 'Curve', 'FK_Accuracy', 'Long_passing',\n",
       "       'Ball_control', 'Total_movement', 'Acceleration', 'Sprint_speed',\n",
       "       'Agility', 'Reactions', 'Balance', 'Total_power', 'Shot_power',\n",
       "       'Jumping', 'Stamina', 'Strength', 'Long_shots', 'Total_mentality',\n",
       "       'Aggression', 'Interceptions', 'Positioning', 'Vision', 'Penalties',\n",
       "       'Composure', 'Total_defending', 'Marking', 'Standing_tackle',\n",
       "       'Sliding_tackle', 'Total_goalkeeping', 'GK_Diving', 'GK_Handling',\n",
       "       'GK_Kicking', 'GK_Positioning', 'GK_Reflexes', 'Total_stats',\n",
       "       'Base_stats', 'Weak_foot', 'Skill_moves', 'Attacking_work_rate',\n",
       "       'Defensive_work_rate', 'International_reputation', 'Body_type',\n",
       "       'Pace_Diving', 'Shooting_Handling', 'Passing_Kicking',\n",
       "       'Dribbling_Reflexes', 'Defending_Pace', 'Physical_Positioning',\n",
       "       'Years_Left', 'Club'],\n",
       "      dtype='object')"
      ]
     },
     "execution_count": 415,
     "metadata": {},
     "output_type": "execute_result"
    }
   ],
   "source": [
    "tf_data.columns"
   ]
  },
  {
   "cell_type": "code",
   "execution_count": 416,
   "id": "7fa85ab2-5fca-4128-9373-294a5fcdfd6e",
   "metadata": {},
   "outputs": [
    {
     "data": {
      "text/html": [
       "<div>\n",
       "<style scoped>\n",
       "    .dataframe tbody tr th:only-of-type {\n",
       "        vertical-align: middle;\n",
       "    }\n",
       "\n",
       "    .dataframe tbody tr th {\n",
       "        vertical-align: top;\n",
       "    }\n",
       "\n",
       "    .dataframe thead th {\n",
       "        text-align: right;\n",
       "    }\n",
       "</style>\n",
       "<table border=\"1\" class=\"dataframe\">\n",
       "  <thead>\n",
       "    <tr style=\"text-align: right;\">\n",
       "      <th></th>\n",
       "      <th>Name</th>\n",
       "      <th>club</th>\n",
       "      <th>name</th>\n",
       "      <th>transfer_fee</th>\n",
       "      <th>Position</th>\n",
       "      <th>league</th>\n",
       "      <th>detailed_position</th>\n",
       "      <th>Squad</th>\n",
       "      <th>AVGage</th>\n",
       "      <th>Foreigners</th>\n",
       "      <th>...</th>\n",
       "      <th>International_reputation</th>\n",
       "      <th>Body_type</th>\n",
       "      <th>Pace_Diving</th>\n",
       "      <th>Shooting_Handling</th>\n",
       "      <th>Passing_Kicking</th>\n",
       "      <th>Dribbling_Reflexes</th>\n",
       "      <th>Defending_Pace</th>\n",
       "      <th>Physical_Positioning</th>\n",
       "      <th>Years_Left</th>\n",
       "      <th>Club</th>\n",
       "    </tr>\n",
       "  </thead>\n",
       "  <tbody>\n",
       "    <tr>\n",
       "      <th>0</th>\n",
       "      <td>A. Ajeti</td>\n",
       "      <td>West Ham United</td>\n",
       "      <td>A. Ajeti</td>\n",
       "      <td>€11.30m</td>\n",
       "      <td>Forward</td>\n",
       "      <td>Premier League</td>\n",
       "      <td>Centre-Forward</td>\n",
       "      <td>37</td>\n",
       "      <td>26.6</td>\n",
       "      <td>23</td>\n",
       "      <td>...</td>\n",
       "      <td>1</td>\n",
       "      <td>Normal (170-185)</td>\n",
       "      <td>79</td>\n",
       "      <td>71</td>\n",
       "      <td>59</td>\n",
       "      <td>69</td>\n",
       "      <td>29</td>\n",
       "      <td>76</td>\n",
       "      <td>3.0</td>\n",
       "      <td>Basel\\n</td>\n",
       "    </tr>\n",
       "    <tr>\n",
       "      <th>1</th>\n",
       "      <td>A. Cerri</td>\n",
       "      <td>Cagliari Calcio</td>\n",
       "      <td>A. Cerri</td>\n",
       "      <td>€9.00m</td>\n",
       "      <td>Forward</td>\n",
       "      <td>Serie A</td>\n",
       "      <td>Centre-Forward</td>\n",
       "      <td>49</td>\n",
       "      <td>25.9</td>\n",
       "      <td>18</td>\n",
       "      <td>...</td>\n",
       "      <td>1</td>\n",
       "      <td>Normal (185+)</td>\n",
       "      <td>62</td>\n",
       "      <td>72</td>\n",
       "      <td>54</td>\n",
       "      <td>68</td>\n",
       "      <td>39</td>\n",
       "      <td>76</td>\n",
       "      <td>4.0</td>\n",
       "      <td>Cagliari\\n</td>\n",
       "    </tr>\n",
       "    <tr>\n",
       "      <th>2</th>\n",
       "      <td>A. Diawara</td>\n",
       "      <td>AS Roma</td>\n",
       "      <td>A. Diawara</td>\n",
       "      <td>€21.00m</td>\n",
       "      <td>Midfield</td>\n",
       "      <td>Serie A</td>\n",
       "      <td>Defensive Midfield</td>\n",
       "      <td>57</td>\n",
       "      <td>23.7</td>\n",
       "      <td>27</td>\n",
       "      <td>...</td>\n",
       "      <td>2</td>\n",
       "      <td>Lean (170-185)</td>\n",
       "      <td>68</td>\n",
       "      <td>54</td>\n",
       "      <td>73</td>\n",
       "      <td>77</td>\n",
       "      <td>72</td>\n",
       "      <td>73</td>\n",
       "      <td>2.0</td>\n",
       "      <td>Napoli\\n</td>\n",
       "    </tr>\n",
       "  </tbody>\n",
       "</table>\n",
       "<p>3 rows × 92 columns</p>\n",
       "</div>"
      ],
      "text/plain": [
       "         Name             club        name transfer_fee  Position  \\\n",
       "0    A. Ajeti  West Ham United    A. Ajeti      €11.30m   Forward   \n",
       "1    A. Cerri  Cagliari Calcio    A. Cerri       €9.00m   Forward   \n",
       "2  A. Diawara          AS Roma  A. Diawara      €21.00m  Midfield   \n",
       "\n",
       "           league   detailed_position  Squad  AVGage  Foreigners  ...  \\\n",
       "0  Premier League      Centre-Forward     37    26.6          23  ...   \n",
       "1         Serie A      Centre-Forward     49    25.9          18  ...   \n",
       "2         Serie A  Defensive Midfield     57    23.7          27  ...   \n",
       "\n",
       "  International_reputation         Body_type  Pace_Diving  Shooting_Handling  \\\n",
       "0                        1  Normal (170-185)           79                 71   \n",
       "1                        1     Normal (185+)           62                 72   \n",
       "2                        2    Lean (170-185)           68                 54   \n",
       "\n",
       "   Passing_Kicking  Dribbling_Reflexes  Defending_Pace Physical_Positioning  \\\n",
       "0               59                  69              29                   76   \n",
       "1               54                  68              39                   76   \n",
       "2               73                  77              72                   73   \n",
       "\n",
       "   Years_Left        Club  \n",
       "0         3.0     Basel\\n  \n",
       "1         4.0  Cagliari\\n  \n",
       "2         2.0    Napoli\\n  \n",
       "\n",
       "[3 rows x 92 columns]"
      ]
     },
     "execution_count": 416,
     "metadata": {},
     "output_type": "execute_result"
    }
   ],
   "source": [
    "tf_data.head(3)"
   ]
  },
  {
   "cell_type": "code",
   "execution_count": 417,
   "id": "7d0f3597-d0cb-4a0d-ad57-35d896044824",
   "metadata": {},
   "outputs": [],
   "source": [
    "#drop not useful, non-numerical columns\n",
    "#tf_data = tf_data.dropna(how='any', inplace=True)\n",
    "tf_data = tf_data.drop([\"Name\"], axis = 1)\n",
    "tf_data = tf_data.drop([\"club\"], axis = 1)\n",
    "tf_data = tf_data.drop([\"Position\"], axis = 1)\n",
    "tf_data = tf_data.drop([\"Best_position\"], axis = 1)\n",
    "tf_data = tf_data.drop([\"league\"], axis = 1)\n",
    "tf_data = tf_data.drop([\"detailed_position\"], axis = 1)\n",
    "tf_data = tf_data.drop([\"Squad\"], axis = 1)\n",
    "tf_data = tf_data.drop([\"TotalPlayerValue\"], axis = 1)\n",
    "tf_data = tf_data.drop([\"GR\"], axis = 1)\n",
    "tf_data = tf_data.drop([\"League_x\"], axis = 1)\n",
    "tf_data = tf_data.drop([\"Joined\"], axis = 1)\n",
    "tf_data = tf_data.drop([\"Loan_date_end\"], axis = 1)\n",
    "tf_data = tf_data.drop([\"Release_clause\"], axis = 1)\n",
    "tf_data = tf_data.drop([\"Attacking_work_rate\"], axis = 1)\n",
    "tf_data = tf_data.drop([\"Defensive_work_rate\"], axis = 1)\n",
    "tf_data = tf_data.drop([\"International_reputation\"], axis = 1)\n",
    "tf_data = tf_data.drop([\"Body_type\"], axis = 1)\n",
    "tf_data = tf_data.drop([\"Club\"], axis = 1)\n",
    "tf_data = tf_data.drop([\"name\"], axis = 1)\n",
    "tf_data = tf_data.drop([\"foot\"], axis = 1)"
   ]
  },
  {
   "cell_type": "code",
   "execution_count": 418,
   "id": "6bdd1956-d03c-4a1e-9fda-1553a7771567",
   "metadata": {},
   "outputs": [],
   "source": [
    "#clean target vector\n",
    "tf_data [\"transfer_fee\"] = tf_data [\"transfer_fee\"].str.replace('€', '') #regex to remove € and m\n",
    "\n",
    "# Drop rows that contain loan fee: https://stackoverflow.com/questions/28679930/how-to-drop-rows-from-pandas-data-frame-that-contains-a-particular-string-in-a-p\n",
    "tf_data = tf_data[~tf_data .transfer_fee.str.contains(\"Loan fee:\")]\n",
    "\n",
    "# Multiply all occurrences of \"m\" by 1 million\n",
    "tf_data ['transfer_fee'] = tf_data ['transfer_fee'].str.replace('m', '').astype(float) * 1000000"
   ]
  },
  {
   "cell_type": "markdown",
   "id": "f101c9d2-bbb4-4859-a3a4-b71461bde842",
   "metadata": {},
   "source": [
    "## Feature Analysis (visualizations, relationships w/ each other and with tranfer fee)"
   ]
  },
  {
   "cell_type": "code",
   "execution_count": 423,
   "id": "467f7f39-8e31-4c4b-ad08-ef16844ec684",
   "metadata": {},
   "outputs": [
    {
     "ename": "ValueError",
     "evalue": "Could not interpret input 'position'",
     "output_type": "error",
     "traceback": [
      "\u001b[0;31m---------------------------------------------------------------------------\u001b[0m",
      "\u001b[0;31mValueError\u001b[0m                                Traceback (most recent call last)",
      "Cell \u001b[0;32mIn[423], line 1\u001b[0m\n\u001b[0;32m----> 1\u001b[0m \u001b[43msns\u001b[49m\u001b[38;5;241;43m.\u001b[39;49m\u001b[43mbarplot\u001b[49m\u001b[43m(\u001b[49m\u001b[43mdata\u001b[49m\u001b[43m \u001b[49m\u001b[38;5;241;43m=\u001b[39;49m\u001b[43m \u001b[49m\u001b[43mtf_data\u001b[49m\u001b[43m,\u001b[49m\u001b[43m \u001b[49m\u001b[43mx\u001b[49m\u001b[43m \u001b[49m\u001b[38;5;241;43m=\u001b[39;49m\u001b[43m \u001b[49m\u001b[38;5;124;43m\"\u001b[39;49m\u001b[38;5;124;43mposition\u001b[39;49m\u001b[38;5;124;43m\"\u001b[39;49m\u001b[43m,\u001b[49m\u001b[43m \u001b[49m\u001b[43my\u001b[49m\u001b[43m \u001b[49m\u001b[38;5;241;43m=\u001b[39;49m\u001b[43m \u001b[49m\u001b[38;5;124;43m\"\u001b[39;49m\u001b[38;5;124;43mtransfer_fee\u001b[39;49m\u001b[38;5;124;43m\"\u001b[39;49m\u001b[43m)\u001b[49m\n",
      "File \u001b[0;32m~/opt/anaconda3/envs/ml-0451/lib/python3.9/site-packages/seaborn/categorical.py:2755\u001b[0m, in \u001b[0;36mbarplot\u001b[0;34m(data, x, y, hue, order, hue_order, estimator, errorbar, n_boot, units, seed, orient, color, palette, saturation, width, errcolor, errwidth, capsize, dodge, ci, ax, **kwargs)\u001b[0m\n\u001b[1;32m   2752\u001b[0m \u001b[38;5;28;01mif\u001b[39;00m estimator \u001b[38;5;129;01mis\u001b[39;00m \u001b[38;5;28mlen\u001b[39m:\n\u001b[1;32m   2753\u001b[0m     estimator \u001b[38;5;241m=\u001b[39m \u001b[38;5;124m\"\u001b[39m\u001b[38;5;124msize\u001b[39m\u001b[38;5;124m\"\u001b[39m\n\u001b[0;32m-> 2755\u001b[0m plotter \u001b[38;5;241m=\u001b[39m \u001b[43m_BarPlotter\u001b[49m\u001b[43m(\u001b[49m\u001b[43mx\u001b[49m\u001b[43m,\u001b[49m\u001b[43m \u001b[49m\u001b[43my\u001b[49m\u001b[43m,\u001b[49m\u001b[43m \u001b[49m\u001b[43mhue\u001b[49m\u001b[43m,\u001b[49m\u001b[43m \u001b[49m\u001b[43mdata\u001b[49m\u001b[43m,\u001b[49m\u001b[43m \u001b[49m\u001b[43morder\u001b[49m\u001b[43m,\u001b[49m\u001b[43m \u001b[49m\u001b[43mhue_order\u001b[49m\u001b[43m,\u001b[49m\n\u001b[1;32m   2756\u001b[0m \u001b[43m                      \u001b[49m\u001b[43mestimator\u001b[49m\u001b[43m,\u001b[49m\u001b[43m \u001b[49m\u001b[43merrorbar\u001b[49m\u001b[43m,\u001b[49m\u001b[43m \u001b[49m\u001b[43mn_boot\u001b[49m\u001b[43m,\u001b[49m\u001b[43m \u001b[49m\u001b[43munits\u001b[49m\u001b[43m,\u001b[49m\u001b[43m \u001b[49m\u001b[43mseed\u001b[49m\u001b[43m,\u001b[49m\n\u001b[1;32m   2757\u001b[0m \u001b[43m                      \u001b[49m\u001b[43morient\u001b[49m\u001b[43m,\u001b[49m\u001b[43m \u001b[49m\u001b[43mcolor\u001b[49m\u001b[43m,\u001b[49m\u001b[43m \u001b[49m\u001b[43mpalette\u001b[49m\u001b[43m,\u001b[49m\u001b[43m \u001b[49m\u001b[43msaturation\u001b[49m\u001b[43m,\u001b[49m\n\u001b[1;32m   2758\u001b[0m \u001b[43m                      \u001b[49m\u001b[43mwidth\u001b[49m\u001b[43m,\u001b[49m\u001b[43m \u001b[49m\u001b[43merrcolor\u001b[49m\u001b[43m,\u001b[49m\u001b[43m \u001b[49m\u001b[43merrwidth\u001b[49m\u001b[43m,\u001b[49m\u001b[43m \u001b[49m\u001b[43mcapsize\u001b[49m\u001b[43m,\u001b[49m\u001b[43m \u001b[49m\u001b[43mdodge\u001b[49m\u001b[43m)\u001b[49m\n\u001b[1;32m   2760\u001b[0m \u001b[38;5;28;01mif\u001b[39;00m ax \u001b[38;5;129;01mis\u001b[39;00m \u001b[38;5;28;01mNone\u001b[39;00m:\n\u001b[1;32m   2761\u001b[0m     ax \u001b[38;5;241m=\u001b[39m plt\u001b[38;5;241m.\u001b[39mgca()\n",
      "File \u001b[0;32m~/opt/anaconda3/envs/ml-0451/lib/python3.9/site-packages/seaborn/categorical.py:1530\u001b[0m, in \u001b[0;36m_BarPlotter.__init__\u001b[0;34m(self, x, y, hue, data, order, hue_order, estimator, errorbar, n_boot, units, seed, orient, color, palette, saturation, width, errcolor, errwidth, capsize, dodge)\u001b[0m\n\u001b[1;32m   1525\u001b[0m \u001b[38;5;28;01mdef\u001b[39;00m \u001b[38;5;21m__init__\u001b[39m(\u001b[38;5;28mself\u001b[39m, x, y, hue, data, order, hue_order,\n\u001b[1;32m   1526\u001b[0m              estimator, errorbar, n_boot, units, seed,\n\u001b[1;32m   1527\u001b[0m              orient, color, palette, saturation, width,\n\u001b[1;32m   1528\u001b[0m              errcolor, errwidth, capsize, dodge):\n\u001b[1;32m   1529\u001b[0m     \u001b[38;5;124;03m\"\"\"Initialize the plotter.\"\"\"\u001b[39;00m\n\u001b[0;32m-> 1530\u001b[0m     \u001b[38;5;28;43mself\u001b[39;49m\u001b[38;5;241;43m.\u001b[39;49m\u001b[43mestablish_variables\u001b[49m\u001b[43m(\u001b[49m\u001b[43mx\u001b[49m\u001b[43m,\u001b[49m\u001b[43m \u001b[49m\u001b[43my\u001b[49m\u001b[43m,\u001b[49m\u001b[43m \u001b[49m\u001b[43mhue\u001b[49m\u001b[43m,\u001b[49m\u001b[43m \u001b[49m\u001b[43mdata\u001b[49m\u001b[43m,\u001b[49m\u001b[43m \u001b[49m\u001b[43morient\u001b[49m\u001b[43m,\u001b[49m\n\u001b[1;32m   1531\u001b[0m \u001b[43m                             \u001b[49m\u001b[43morder\u001b[49m\u001b[43m,\u001b[49m\u001b[43m \u001b[49m\u001b[43mhue_order\u001b[49m\u001b[43m,\u001b[49m\u001b[43m \u001b[49m\u001b[43munits\u001b[49m\u001b[43m)\u001b[49m\n\u001b[1;32m   1532\u001b[0m     \u001b[38;5;28mself\u001b[39m\u001b[38;5;241m.\u001b[39mestablish_colors(color, palette, saturation)\n\u001b[1;32m   1533\u001b[0m     \u001b[38;5;28mself\u001b[39m\u001b[38;5;241m.\u001b[39mestimate_statistic(estimator, errorbar, n_boot, seed)\n",
      "File \u001b[0;32m~/opt/anaconda3/envs/ml-0451/lib/python3.9/site-packages/seaborn/categorical.py:541\u001b[0m, in \u001b[0;36m_CategoricalPlotter.establish_variables\u001b[0;34m(self, x, y, hue, data, orient, order, hue_order, units)\u001b[0m\n\u001b[1;32m    539\u001b[0m     \u001b[38;5;28;01mif\u001b[39;00m \u001b[38;5;28misinstance\u001b[39m(var, \u001b[38;5;28mstr\u001b[39m):\n\u001b[1;32m    540\u001b[0m         err \u001b[38;5;241m=\u001b[39m \u001b[38;5;124mf\u001b[39m\u001b[38;5;124m\"\u001b[39m\u001b[38;5;124mCould not interpret input \u001b[39m\u001b[38;5;124m'\u001b[39m\u001b[38;5;132;01m{\u001b[39;00mvar\u001b[38;5;132;01m}\u001b[39;00m\u001b[38;5;124m'\u001b[39m\u001b[38;5;124m\"\u001b[39m\n\u001b[0;32m--> 541\u001b[0m         \u001b[38;5;28;01mraise\u001b[39;00m \u001b[38;5;167;01mValueError\u001b[39;00m(err)\n\u001b[1;32m    543\u001b[0m \u001b[38;5;66;03m# Figure out the plotting orientation\u001b[39;00m\n\u001b[1;32m    544\u001b[0m orient \u001b[38;5;241m=\u001b[39m infer_orient(\n\u001b[1;32m    545\u001b[0m     x, y, orient, require_numeric\u001b[38;5;241m=\u001b[39m\u001b[38;5;28mself\u001b[39m\u001b[38;5;241m.\u001b[39mrequire_numeric\n\u001b[1;32m    546\u001b[0m )\n",
      "\u001b[0;31mValueError\u001b[0m: Could not interpret input 'position'"
     ]
    }
   ],
   "source": [
    "sns.barplot(data = tf_data, x = \"position\", y = \"transfer_fee\")"
   ]
  },
  {
   "cell_type": "code",
   "execution_count": 420,
   "id": "8a1a26cd-bece-41d9-9336-804ae61acff9",
   "metadata": {},
   "outputs": [
    {
     "data": {
      "text/plain": [
       "<AxesSubplot: xlabel='Skill_moves', ylabel='transfer_fee'>"
      ]
     },
     "execution_count": 420,
     "metadata": {},
     "output_type": "execute_result"
    },
    {
     "data": {
      "image/png": "[encoded data removed]",
      "text/plain": [
       "<Figure size 640x480 with 1 Axes>"
      ]
     },
     "metadata": {},
     "output_type": "display_data"
    }
   ],
   "source": [
    "sns.barplot(data = tf_data, x = \"Skill_moves\", y = \"transfer_fee\")"
   ]
  },
  {
   "cell_type": "code",
   "execution_count": 348,
   "id": "accd8489-6dc2-4818-b934-26d358f4d87f",
   "metadata": {},
   "outputs": [
    {
     "data": {
      "text/plain": [
       "<AxesSubplot: xlabel='Overall_rating', ylabel='transfer_fee'>"
      ]
     },
     "execution_count": 348,
     "metadata": {},
     "output_type": "execute_result"
    },
    {
     "data": {
      "image/png": "[encoded data removed]",
      "text/plain": [
       "<Figure size 640x480 with 1 Axes>"
      ]
     },
     "metadata": {},
     "output_type": "display_data"
    }
   ],
   "source": [
    "sns.lineplot(data = tf_data, x = \"Overall_rating\", y = \"transfer_fee\")"
   ]
  },
  {
   "cell_type": "code",
   "execution_count": null,
   "id": "9a785196-0cdf-4022-a873-10a266ec5db3",
   "metadata": {},
   "outputs": [],
   "source": [
    "pairplot"
   ]
  },
  {
   "cell_type": "code",
   "execution_count": 342,
   "id": "05cc0a20-2189-43be-886f-db98b5269f5e",
   "metadata": {},
   "outputs": [],
   "source": [
    "#try pairplot"
   ]
  },
  {
   "cell_type": "code",
   "execution_count": 329,
   "id": "9d466458-6ad6-4256-83e0-321975d8e9ab",
   "metadata": {},
   "outputs": [
    {
     "data": {
      "text/plain": [
       "Index(['transfer_fee', 'AVGage', 'Foreigners', 'Pos', 'GP', 'W', 'D', 'L',\n",
       "       'GD', 'Points', 'Age', 'Overall_rating', 'Potential', 'ID', 'Height',\n",
       "       'Weight', 'Best_overall', 'Growth', 'Value', 'Wage', 'Total_attacking',\n",
       "       'Crossing', 'Finishing', 'Heading_accuracy', 'Short_passing', 'Volleys',\n",
       "       'Total_skill', 'Dribbling', 'Curve', 'FK_Accuracy', 'Long_passing',\n",
       "       'Ball_control', 'Total_movement', 'Acceleration', 'Sprint_speed',\n",
       "       'Agility', 'Reactions', 'Balance', 'Total_power', 'Shot_power',\n",
       "       'Jumping', 'Stamina', 'Strength', 'Long_shots', 'Total_mentality',\n",
       "       'Aggression', 'Interceptions', 'Positioning', 'Vision', 'Penalties',\n",
       "       'Composure', 'Total_defending', 'Marking', 'Standing_tackle',\n",
       "       'Sliding_tackle', 'Total_goalkeeping', 'GK_Diving', 'GK_Handling',\n",
       "       'GK_Kicking', 'GK_Positioning', 'GK_Reflexes', 'Total_stats',\n",
       "       'Base_stats', 'Weak_foot', 'Skill_moves', 'Pace_Diving',\n",
       "       'Shooting_Handling', 'Passing_Kicking', 'Dribbling_Reflexes',\n",
       "       'Defending_Pace', 'Physical_Positioning', 'Years_Left'],\n",
       "      dtype='object')"
      ]
     },
     "execution_count": 329,
     "metadata": {},
     "output_type": "execute_result"
    }
   ],
   "source": [
    "tf_data.columns"
   ]
  },
  {
   "cell_type": "code",
   "execution_count": 279,
   "id": "14c3f6f8-b185-46dc-9125-773de9abcba0",
   "metadata": {},
   "outputs": [],
   "source": [
    "from sklearn.model_selection import train_test_split\n",
    "all_tf_train, all_tf_test = train_test_split(tf_data, test_size = .2, shuffle = True)"
   ]
  },
  {
   "cell_type": "code",
   "execution_count": 280,
   "id": "e86011b2-ec23-4a31-9ee1-5667ed5d7382",
   "metadata": {},
   "outputs": [],
   "source": [
    "# #This makes the accuracy skyrocket and modeling work as expected, but why???\n",
    "#This is weird!!!\n",
    "# all_tf_train = all_tf_train.reset_index(drop=True)\n",
    "# all_tf_test = all_tf_test.reset_index(drop=True)"
   ]
  },
  {
   "cell_type": "code",
   "execution_count": 281,
   "id": "14a90c8a-81a1-4ddf-9114-ebb6ee40c0fa",
   "metadata": {},
   "outputs": [],
   "source": [
    "# all_tf_train=all_tf_train.drop([\"level_0\"], axis = 1)\n",
    "# all_tf_train=all_tf_train.drop([\"index\"], axis = 1)\n",
    "\n",
    "# all_tf_test=all_tf_test.drop([\"level_0\"], axis = 1)\n",
    "# all_tf_test=all_tf_test.drop([\"index\"], axis = 1)"
   ]
  },
  {
   "cell_type": "code",
   "execution_count": 282,
   "id": "6b6ec935-599f-4b81-b597-80c61a8f22e3",
   "metadata": {},
   "outputs": [],
   "source": [
    "#getting the feature matrix and target vector\n",
    "all_tf_train.dropna(how='any', inplace=True)\n",
    "X_train_fee = all_tf_train.drop([\"transfer_fee\"], axis = 1)\n",
    "y_train_fee = all_tf_train[\"transfer_fee\"]\n",
    "\n",
    "all_tf_test.dropna(how='any', inplace=True)\n",
    "X_test_fee = all_tf_test.drop([\"transfer_fee\"], axis = 1)\n",
    "y_test_fee = all_tf_test[\"transfer_fee\"] # do this to get it by index; want to reset the index"
   ]
  },
  {
   "cell_type": "markdown",
   "id": "570db7d8-99bf-4363-8cea-3e367b9e73ab",
   "metadata": {},
   "source": [
    "## Model Comparisons + Cross-Validation + Hyperparameter Tuning https://towardsdatascience.com/hyperparameter-tuning-the-random-forest-in-python-using-scikit-learn-28d2aa77dd74"
   ]
  },
  {
   "cell_type": "code",
   "execution_count": 120,
   "id": "e45d6ea9-3e8a-4804-8cd6-981d9b1a4d41",
   "metadata": {},
   "outputs": [
    {
     "name": "stderr",
     "output_type": "stream",
     "text": [
      "/Users/hedavamsolano/opt/anaconda3/envs/ml-0451/lib/python3.9/site-packages/sklearn/linear_model/_coordinate_descent.py:647: ConvergenceWarning: Objective did not converge. You might want to increase the number of iterations, check the scale of the features or consider increasing regularisation. Duality gap: 3.831e+16, tolerance: 1.450e+13\n",
      "  model = cd_fast.enet_coordinate_descent(\n"
     ]
    },
    {
     "data": {
      "text/plain": [
       "0.3451164863267083"
      ]
     },
     "execution_count": 120,
     "metadata": {},
     "output_type": "execute_result"
    }
   ],
   "source": [
    "from sklearn.linear_model import Lasso\n",
    "L5 = Lasso(alpha = 1010)\n",
    "L5.fit(X_train_fee, y_train_fee)\n",
    "L5.score(X_test_fee, y_test_fee)"
   ]
  },
  {
   "cell_type": "code",
   "execution_count": 121,
   "id": "02d905e8-fb78-486f-934c-5a7b1940b2ab",
   "metadata": {},
   "outputs": [
    {
     "data": {
      "text/plain": [
       "0.36014667938904654"
      ]
     },
     "execution_count": 121,
     "metadata": {},
     "output_type": "execute_result"
    }
   ],
   "source": [
    "from sklearn.ensemble import RandomForestRegressor\n",
    "regr = RandomForestRegressor(max_depth = 5, random_state=0)\n",
    "regr.fit(X_train_fee, y_train_fee)\n",
    "regr.score(X_test_fee, y_test_fee)"
   ]
  },
  {
   "cell_type": "code",
   "execution_count": 122,
   "id": "6b7eaf02-7697-43c4-8579-835b55364031",
   "metadata": {},
   "outputs": [
    {
     "data": {
      "text/plain": [
       "-0.45651028924742687"
      ]
     },
     "execution_count": 122,
     "metadata": {},
     "output_type": "execute_result"
    }
   ],
   "source": [
    "from sklearn.neighbors import KNeighborsRegressor\n",
    "neigh = KNeighborsRegressor(n_neighbors=1)\n",
    "neigh.fit(X_train_fee, y_train_fee)\n",
    "neigh.score(X_test_fee, y_test_fee)"
   ]
  },
  {
   "cell_type": "code",
   "execution_count": 286,
   "id": "bd4ae2f8-0b20-421f-bb06-f8d20d93e337",
   "metadata": {},
   "outputs": [
    {
     "name": "stdout",
     "output_type": "stream",
     "text": [
      "0.3387909338482892\n"
     ]
    }
   ],
   "source": [
    "#cross-validation\n",
    "from sklearn.model_selection import cross_val_score\n",
    "model_scores = cross_val_score(regr, X_train_fee, y_train_fee, cv=5)\n",
    "print(model_scores.mean())"
   ]
  },
  {
   "cell_type": "markdown",
   "id": "9d40ca19-7f35-4d53-b4af-451cba2335ae",
   "metadata": {
    "tags": []
   },
   "source": [
    "#### Take-Away: Huge discrepancy between holdout method and cross validation method, due to sample size??? double check with larger dataset, and do an experiment"
   ]
  },
  {
   "cell_type": "markdown",
   "id": "a5353a5f-c809-401a-9756-06e932a902ce",
   "metadata": {},
   "source": [
    "## Experiment: Holdout Set Vs. Cross-Validation Method comparison by Sample Size, # of features"
   ]
  },
  {
   "cell_type": "code",
   "execution_count": 246,
   "id": "4488ffbb-b9ca-4ac2-b021-13ff021220a6",
   "metadata": {},
   "outputs": [
    {
     "name": "stdout",
     "output_type": "stream",
     "text": [
      "109\n",
      "30\n",
      "71\n"
     ]
    }
   ],
   "source": [
    "print(len(X_test_fee.columns))"
   ]
  },
  {
   "cell_type": "code",
   "execution_count": null,
   "id": "1fe68917-43a6-4013-b652-20e07eae21df",
   "metadata": {},
   "outputs": [],
   "source": [
    "#This function helps modify our given feature array by adding column of 1's \n",
    "def pad(X):\n",
    "    return np.append(X, np.ones((X.shape[0], 1)), 1)\n",
    "\n",
    "#This function will create both testing and validation data \n",
    "def LR_data(n_train = 100, n_val = 100, p_features = 1, noise = 1, w = None):\n",
    "    if w is None: \n",
    "        w = np.random.rand(p_features + 1) + .2\n",
    "    \n",
    "    X_train = np.random.rand(n_train, p_features)\n",
    "    y_train = pad(X_train)@w + noise*np.random.randn(n_train)\n",
    "\n",
    "    X_val = np.random.rand(n_val, p_features)\n",
    "    y_val = pad(X_val)@w + noise*np.random.randn(n_val)\n",
    "    \n",
    "    return X_train, y_train, X_val, y_val"
   ]
  },
  {
   "cell_type": "code",
   "execution_count": null,
   "id": "6737bd48-469b-41d7-bc32-b169a8e1a6cd",
   "metadata": {},
   "outputs": [],
   "source": [
    "#choose # of samples and features\n",
    "n_train = 112\n",
    "n_val = 27\n",
    "p_features = 1\n",
    "\n",
    "#adjusts variability of the data\n",
    "noise = 0.5\n",
    "\n",
    "#initialize arrays to store scores\n",
    "train_score_hist = []\n",
    "val_score_hist = []\n",
    "\n",
    "\n",
    "# create some data\n",
    "X_train, y_train, X_val, y_val = LR_data(n_train, n_val, p_features, noise)\n",
    "\n",
    "\n",
    "#Record the score on training and validation as the #features increases\n",
    "for i in range(n_train-1):\n",
    "    X_train, y_train, X_val, y_val = LR_data(n_train, n_val, i, noise) #create data; #i is the p_features\n",
    "    lr.fit_analytic(X_train, y_train) #fit\n",
    "    train_score_hist.append(lr.score(X_train, y_train)) #update model's training score\n",
    "    val_score_hist.append((lr.score(X_val, y_val))) #update model's validation score\n",
    "    \n",
    "#Graph it\n",
    "num_steps = len(val_score_hist)\n",
    "plt.plot(np.arange(num_steps) + 1, val_score_hist, label = \"val\")\n",
    "\n",
    "num_steps = len(train_score_hist)\n",
    "plt.plot(np.arange(num_steps) + 1, train_score_hist, label = \"train\")\n",
    "\n",
    "plt.ylim([0, 1])\n",
    "labels = plt.gca().set(title = \"Scores vs. Features\", xlabel = \"# of Features\", ylabel = \"Score\")"
   ]
  },
  {
   "cell_type": "code",
   "execution_count": 199,
   "id": "6bc5c19c-c0e7-4aa0-8fa1-a6fba8df3eb3",
   "metadata": {},
   "outputs": [
    {
     "name": "stdout",
     "output_type": "stream",
     "text": [
      "Parameters currently in use:\n",
      "\n"
     ]
    },
    {
     "ename": "NameError",
     "evalue": "name 'rf' is not defined",
     "output_type": "error",
     "traceback": [
      "\u001b[0;31m---------------------------------------------------------------------------\u001b[0m",
      "\u001b[0;31mNameError\u001b[0m                                 Traceback (most recent call last)",
      "Cell \u001b[0;32mIn[199], line 4\u001b[0m\n\u001b[1;32m      2\u001b[0m \u001b[38;5;66;03m# Look at parameters used by our current forest\u001b[39;00m\n\u001b[1;32m      3\u001b[0m \u001b[38;5;28mprint\u001b[39m(\u001b[38;5;124m'\u001b[39m\u001b[38;5;124mParameters currently in use:\u001b[39m\u001b[38;5;130;01m\\n\u001b[39;00m\u001b[38;5;124m'\u001b[39m)\n\u001b[0;32m----> 4\u001b[0m pprint(\u001b[43mrf\u001b[49m\u001b[38;5;241m.\u001b[39mget_params())\n",
      "\u001b[0;31mNameError\u001b[0m: name 'rf' is not defined"
     ]
    }
   ],
   "source": [
    "from pprint import pprint\n",
    "# Look at parameters used by our current forest\n",
    "print('Parameters currently in use:\\n')\n",
    "pprint(rf.get_params())"
   ]
  },
  {
   "cell_type": "code",
   "execution_count": null,
   "id": "afa9754c-7aec-4590-9523-0d1873b983de",
   "metadata": {},
   "outputs": [],
   "source": [
    "leaf_size = []"
   ]
  },
  {
   "cell_type": "code",
   "execution_count": 102,
   "id": "242e333f-f925-41ed-a952-1586557aee9b",
   "metadata": {},
   "outputs": [
    {
     "name": "stdout",
     "output_type": "stream",
     "text": [
      "Parameters currently in use:\n",
      "\n",
      "{'algorithm': 'auto',\n",
      " 'leaf_size': 30,\n",
      " 'metric': 'minkowski',\n",
      " 'metric_params': None,\n",
      " 'n_jobs': None,\n",
      " 'n_neighbors': 2,\n",
      " 'p': 2,\n",
      " 'weights': 'uniform'}\n"
     ]
    }
   ],
   "source": [
    "# Create the random grid\n",
    "random_grid = {'leaf_size': leaf_size,\n",
    "               'n_neighbors': min_samples_split,\n",
    "               'p': min_samples_leaf,\n",
    "               'weights': bootstrap}"
   ]
  },
  {
   "cell_type": "code",
   "execution_count": 101,
   "id": "35869d94-7255-4df6-91fd-14d2e2bb9b70",
   "metadata": {},
   "outputs": [
    {
     "data": {
      "text/plain": [
       "-0.08488753917777081"
      ]
     },
     "execution_count": 101,
     "metadata": {},
     "output_type": "execute_result"
    }
   ],
   "source": [
    "from sklearn.svm import SVR\n",
    "from sklearn.pipeline import make_pipeline\n",
    "from sklearn.preprocessing import StandardScaler\n",
    "SVR = make_pipeline(StandardScaler(), SVR(C=.05, epsilon=0.2))\n",
    "SVR.fit(X_train_fee, y_train_fee)\n",
    "SVR.score(X_train_fee, y_train_fee)\n"
   ]
  },
  {
   "cell_type": "code",
   "execution_count": 98,
   "id": "dabf6612-a3fe-41e9-8bde-06126c003258",
   "metadata": {},
   "outputs": [
    {
     "data": {
      "text/plain": [
       "0.009259259259259259"
      ]
     },
     "execution_count": 98,
     "metadata": {},
     "output_type": "execute_result"
    }
   ],
   "source": [
    "from sklearn.linear_model import Perceptron\n",
    "per = Perceptron()\n",
    "per.fit(X_train_fee, y_train_fee)\n",
    "per.score(X_test_fee, y_test_fee)\n"
   ]
  },
  {
   "cell_type": "markdown",
   "id": "b32746cf-54db-48d8-ae6d-18a996f0e547",
   "metadata": {},
   "source": [
    "## Feature Importance  https://scikit-learn.org/stable/modules/permutation_importance.html#permutation-importance"
   ]
  },
  {
   "cell_type": "markdown",
   "id": "41e6c943-1324-42e0-a214-cd05a0dd523f",
   "metadata": {},
   "source": [
    "## Learning Curves (by models)"
   ]
  },
  {
   "cell_type": "code",
   "execution_count": 395,
   "id": "d2629857-c060-480b-a393-3ca75bded8f0",
   "metadata": {},
   "outputs": [
    {
     "data": {
      "text/html": [
       "<div>\n",
       "<style scoped>\n",
       "    .dataframe tbody tr th:only-of-type {\n",
       "        vertical-align: middle;\n",
       "    }\n",
       "\n",
       "    .dataframe tbody tr th {\n",
       "        vertical-align: top;\n",
       "    }\n",
       "\n",
       "    .dataframe thead th {\n",
       "        text-align: right;\n",
       "    }\n",
       "</style>\n",
       "<table border=\"1\" class=\"dataframe\">\n",
       "  <thead>\n",
       "    <tr style=\"text-align: right;\">\n",
       "      <th></th>\n",
       "      <th>AVGage</th>\n",
       "      <th>Foreigners</th>\n",
       "      <th>Pos</th>\n",
       "      <th>GP</th>\n",
       "      <th>W</th>\n",
       "      <th>D</th>\n",
       "      <th>L</th>\n",
       "      <th>GD</th>\n",
       "      <th>Points</th>\n",
       "      <th>Age</th>\n",
       "      <th>...</th>\n",
       "      <th>Base_stats</th>\n",
       "      <th>Weak_foot</th>\n",
       "      <th>Skill_moves</th>\n",
       "      <th>Pace_Diving</th>\n",
       "      <th>Shooting_Handling</th>\n",
       "      <th>Passing_Kicking</th>\n",
       "      <th>Dribbling_Reflexes</th>\n",
       "      <th>Defending_Pace</th>\n",
       "      <th>Physical_Positioning</th>\n",
       "      <th>Years_Left</th>\n",
       "    </tr>\n",
       "  </thead>\n",
       "  <tbody>\n",
       "    <tr>\n",
       "      <th>48</th>\n",
       "      <td>26.4</td>\n",
       "      <td>26</td>\n",
       "      <td>9</td>\n",
       "      <td>38</td>\n",
       "      <td>15</td>\n",
       "      <td>7</td>\n",
       "      <td>16</td>\n",
       "      <td>3</td>\n",
       "      <td>52</td>\n",
       "      <td>24</td>\n",
       "      <td>...</td>\n",
       "      <td>423</td>\n",
       "      <td>4</td>\n",
       "      <td>4</td>\n",
       "      <td>71</td>\n",
       "      <td>70</td>\n",
       "      <td>77</td>\n",
       "      <td>78</td>\n",
       "      <td>61</td>\n",
       "      <td>66</td>\n",
       "      <td>2.0</td>\n",
       "    </tr>\n",
       "    <tr>\n",
       "      <th>87</th>\n",
       "      <td>24.4</td>\n",
       "      <td>22</td>\n",
       "      <td>5</td>\n",
       "      <td>38</td>\n",
       "      <td>19</td>\n",
       "      <td>11</td>\n",
       "      <td>8</td>\n",
       "      <td>19</td>\n",
       "      <td>68</td>\n",
       "      <td>20</td>\n",
       "      <td>...</td>\n",
       "      <td>415</td>\n",
       "      <td>3</td>\n",
       "      <td>3</td>\n",
       "      <td>71</td>\n",
       "      <td>70</td>\n",
       "      <td>72</td>\n",
       "      <td>74</td>\n",
       "      <td>64</td>\n",
       "      <td>64</td>\n",
       "      <td>2.0</td>\n",
       "    </tr>\n",
       "    <tr>\n",
       "      <th>175</th>\n",
       "      <td>25.4</td>\n",
       "      <td>20</td>\n",
       "      <td>4</td>\n",
       "      <td>38</td>\n",
       "      <td>23</td>\n",
       "      <td>2</td>\n",
       "      <td>13</td>\n",
       "      <td>28</td>\n",
       "      <td>71</td>\n",
       "      <td>20</td>\n",
       "      <td>...</td>\n",
       "      <td>436</td>\n",
       "      <td>2</td>\n",
       "      <td>4</td>\n",
       "      <td>89</td>\n",
       "      <td>75</td>\n",
       "      <td>74</td>\n",
       "      <td>85</td>\n",
       "      <td>40</td>\n",
       "      <td>73</td>\n",
       "      <td>4.0</td>\n",
       "    </tr>\n",
       "  </tbody>\n",
       "</table>\n",
       "<p>3 rows × 71 columns</p>\n",
       "</div>"
      ],
      "text/plain": [
       "     AVGage  Foreigners  Pos  GP   W   D   L  GD  Points  Age  ...  \\\n",
       "48     26.4          26    9  38  15   7  16   3      52   24  ...   \n",
       "87     24.4          22    5  38  19  11   8  19      68   20  ...   \n",
       "175    25.4          20    4  38  23   2  13  28      71   20  ...   \n",
       "\n",
       "     Base_stats  Weak_foot  Skill_moves  Pace_Diving  Shooting_Handling  \\\n",
       "48          423          4            4           71                 70   \n",
       "87          415          3            3           71                 70   \n",
       "175         436          2            4           89                 75   \n",
       "\n",
       "     Passing_Kicking  Dribbling_Reflexes  Defending_Pace  \\\n",
       "48                77                  78              61   \n",
       "87                72                  74              64   \n",
       "175               74                  85              40   \n",
       "\n",
       "     Physical_Positioning  Years_Left  \n",
       "48                     66         2.0  \n",
       "87                     64         2.0  \n",
       "175                    73         4.0  \n",
       "\n",
       "[3 rows x 71 columns]"
      ]
     },
     "execution_count": 395,
     "metadata": {},
     "output_type": "execute_result"
    }
   ],
   "source": [
    "X_train_fee.iloc[0:3]"
   ]
  },
  {
   "cell_type": "code",
   "execution_count": 375,
   "id": "bfebedb7-d73f-4df8-b414-c853e93c8b9d",
   "metadata": {},
   "outputs": [],
   "source": [
    "import warnings\n",
    "warnings.filterwarnings('ignore')"
   ]
  },
  {
   "cell_type": "code",
   "execution_count": 399,
   "id": "18fb5d44-b277-4279-9c00-5cbeb6e426da",
   "metadata": {},
   "outputs": [
    {
     "data": {
      "image/png": "[encoded data removed]",
      "text/plain": [
       "<Figure size 640x480 with 1 Axes>"
      ]
     },
     "metadata": {},
     "output_type": "display_data"
    }
   ],
   "source": [
    "#effect of overfitting, keeping # features constant and increasing samples (good for when we get new dataset);\n",
    "\n",
    "#effect of overfitting, keeping # samples constant and increasing features (good for when we get new dataset);\n",
    "\n",
    "\n",
    "#initialize arrays to store scores\n",
    "train_score_hist = []\n",
    "cv_score_hist = []\n",
    "\n",
    "\n",
    "#loop through samples:\n",
    "for i in range(5, len(X_train_fee)):\n",
    "    #fit on training; I don't think I should refit everytime!!!!!\n",
    "    L6 = Lasso(alpha = 1) \n",
    "    L6.fit(X_train_fee.iloc[0:i], y_train_fee.iloc[0:i])\n",
    "    \n",
    "    #score on training\n",
    "    #print(L6.score(X_train_fee.iloc[0:i],y_train_fee.iloc[0:i]))\n",
    "    train_score_hist.append(L6.score(X_train_fee.iloc[0:i],y_train_fee.iloc[0:i]))  #update model's training score\n",
    "    \n",
    "    #cross-validation\n",
    "    cv_score_hist.append(cross_val_score(L6, X_train_fee.iloc[0:i], y_train_fee.iloc[0:i], cv=5).mean())\n",
    " \n",
    "\n",
    "    #Graph it\n",
    "    num_steps = len(train_score_hist)\n",
    "    plt.plot(np.arange(num_steps) + 1, cv_score_hist, label = \"cross_val\")\n",
    "\n",
    "    num_steps = len(train_score_hist)\n",
    "    plt.plot(np.arange(num_steps) + 1, train_score_hist, label = \"train\")\n",
    "\n",
    "    plt.ylim([0, 1])\n",
    "    #change x to be in batches of 5\n",
    "    labels = plt.gca().set(title = \"Scores vs. Samples\", xlabel = \"# of Samples (in batches of 5)\", ylabel = \"Score\")\n",
    "\n",
    "\n",
    "    \n",
    "#loop through features:\n",
    "\n",
    "#for i in rang\n",
    "\n",
    "#effect of overfitting, w/ our # of samples, changing the number of features "
   ]
  },
  {
   "cell_type": "code",
   "execution_count": null,
   "id": "f13509c8-8e69-42b8-b956-5f55e32324b5",
   "metadata": {},
   "outputs": [],
   "source": [
    "#loop through number of samples, checking training and validation score for each...\n",
    "\n",
    "#if training score is still increasing by the time we reach last sample then we probably need more training data"
   ]
  },
  {
   "cell_type": "code",
   "execution_count": null,
   "id": "2ac97867-457e-4b4c-b9e3-90c9eda64b09",
   "metadata": {},
   "outputs": [],
   "source": []
  },
  {
   "cell_type": "code",
   "execution_count": 326,
   "id": "f18ff78f-e0d0-4543-8c9e-518f0e7c07f7",
   "metadata": {},
   "outputs": [
    {
     "ename": "NameError",
     "evalue": "name 'LR_data' is not defined",
     "output_type": "error",
     "traceback": [
      "\u001b[0;31m---------------------------------------------------------------------------\u001b[0m",
      "\u001b[0;31mNameError\u001b[0m                                 Traceback (most recent call last)",
      "Cell \u001b[0;32mIn[326], line 15\u001b[0m\n\u001b[1;32m     11\u001b[0m val_score_hist \u001b[38;5;241m=\u001b[39m []\n\u001b[1;32m     14\u001b[0m \u001b[38;5;66;03m# create some data\u001b[39;00m\n\u001b[0;32m---> 15\u001b[0m X_train, y_train, X_val, y_val \u001b[38;5;241m=\u001b[39m \u001b[43mLR_data\u001b[49m(n_train, n_val, p_features, noise)\n\u001b[1;32m     17\u001b[0m \u001b[38;5;28mprint\u001b[39m(X_train)\n\u001b[1;32m     19\u001b[0m \u001b[38;5;66;03m#Record the score on training and validation as the #features increases\u001b[39;00m\n",
      "\u001b[0;31mNameError\u001b[0m: name 'LR_data' is not defined"
     ]
    }
   ],
   "source": [
    "#choose # of samples and features\n",
    "n_train = 100\n",
    "n_val = 100\n",
    "p_features = 1\n",
    "\n",
    "#adjusts variability of the data\n",
    "noise = 0.5\n",
    "\n",
    "#initialize arrays to store scores\n",
    "train_score_hist = []\n",
    "val_score_hist = []\n",
    "\n",
    "\n",
    "# create some data\n",
    "X_train, y_train, X_val, y_val = LR_data(n_train, n_val, p_features, noise)\n",
    "\n",
    "print(X_train)\n",
    "\n",
    "#Record the score on training and validation as the #features increases\n",
    "for i in range(n_train-1):\n",
    "    #X_train, y_train, X_val, y_val = LR_data(n_train, n_val, i, noise) #create data; #i is the p_features\n",
    "    lr.fit_analytic(X_train, y_train) #fit\n",
    "    #train_score_hist.append(lr.score(X_train, y_train)) #update model's training score\n",
    "    val_score_hist.append((lr.score(X_val, y_val))) #update model's validation score\n",
    "    \n",
    "#Graph it\n",
    "num_steps = len(val_score_hist)\n",
    "plt.plot(np.arange(num_steps) + 1, val_score_hist, label = \"val\")\n",
    "\n",
    "num_steps = len(train_score_hist)\n",
    "plt.plot(np.arange(num_steps) + 1, train_score_hist, label = \"train\")\n",
    "\n",
    "plt.ylim([0, 1])\n",
    "labels = plt.gca().set(title = \"Scores vs. Features\", xlabel = \"# of Features\", ylabel = \"Score\")\n",
    "\n"
   ]
  },
  {
   "cell_type": "code",
   "execution_count": 1010,
   "id": "6556c443-9cfa-4067-ba9f-380277fd7d1a",
   "metadata": {},
   "outputs": [],
   "source": [
    "#should we focus on optimizing this model for rn?\n",
    "#or\n",
    "#add real player stats (not collected yet) and try to switch out target vector to tranfermrkt.com values (still subjective, not collected)\n",
    "###just testing how good fifa's predictions are compared to tranfsermrkt.com; ehh\n",
    "\n",
    "#I THINK THIS IS THE MOVE; #COSIGNED BY PHIL + DO MACHINE LEARNY STUFF\n",
    "#add (merge) club data (collected) and try to predict transfer fees (not collected) for that year; not every player has tranfer fees (target vector will be smaller than #samples)\n",
    "#do we have to tailor make the test set to only include players that have tranfer fees?? eh\n",
    "#use all players for training, but only players with tranfer fees for testing\n",
    "#gonna be hard to get tranfer fees on here\n",
    "\n",
    "\n",
    "\n",
    "#250 available, but we have over 1400 players in our \n",
    "\n",
    "\n",
    "#misc: is it cheating to train multiple times and choose the training set that produces best parameter vector (based on score on validation test)\n",
    "\n",
    "\n",
    "#completely different problem but it's ok\n",
    "\n",
    "#Do some experimentation stuff w/ different models, etc.s\n",
    "\n"
   ]
  },
  {
   "cell_type": "markdown",
   "id": "b7b8c26b-1633-4e48-9572-d909e8f28e11",
   "metadata": {},
   "source": [
    "# Tranfer Fee Model with updated dataset"
   ]
  },
  {
   "cell_type": "markdown",
   "id": "979ecf91-2265-4790-a312-43e8078ab566",
   "metadata": {},
   "source": [
    "# - TRY IT ON SEPARATE POSITIONS\n",
    "\n",
    "# - TRY IT WITH ONLY PLAYER DATA\n",
    "\n",
    "# - TRY IT WITH ONLY CLUB DATA\n",
    "\n",
    "# - LOOK INTO NEURAL NETWORK"
   ]
  },
  {
   "cell_type": "code",
   "execution_count": 104,
   "id": "21d9812d-eca0-44e7-a497-888cf6346f0b",
   "metadata": {},
   "outputs": [],
   "source": [
    "tf2_data = pd.read_csv(\"transfer fee_final.csv\")"
   ]
  },
  {
   "cell_type": "code",
   "execution_count": 105,
   "id": "aea19599-23f1-4590-a5d6-2882dfc2dcc8",
   "metadata": {},
   "outputs": [
    {
     "name": "stderr",
     "output_type": "stream",
     "text": [
      "/var/folders/x_/pzlfspq52sd41dygb97kcztm0000gn/T/ipykernel_25712/987462435.py:3: FutureWarning: The default value of regex will change from True to False in a future version. In addition, single character regular expressions will *not* be treated as literal strings when regex=True.\n",
      "  tf2_data.columns = tf2_data.columns.str.replace('.', '_')\n"
     ]
    }
   ],
   "source": [
    "#clean column names\n",
    "\n",
    "tf2_data.columns = tf2_data.columns.str.replace('.', '_')\n",
    "tf2_data.columns = tf2_data.columns.str.replace('___', '_')\n",
    "tf2_data.columns = tf2_data.columns.str.replace(' ', '_')"
   ]
  },
  {
   "cell_type": "code",
   "execution_count": 106,
   "id": "6d89eb21-c22f-4ecd-a604-8127fb3a61c6",
   "metadata": {},
   "outputs": [
    {
     "data": {
      "text/html": [
       "<div>\n",
       "<style scoped>\n",
       "    .dataframe tbody tr th:only-of-type {\n",
       "        vertical-align: middle;\n",
       "    }\n",
       "\n",
       "    .dataframe tbody tr th {\n",
       "        vertical-align: top;\n",
       "    }\n",
       "\n",
       "    .dataframe thead th {\n",
       "        text-align: right;\n",
       "    }\n",
       "</style>\n",
       "<table border=\"1\" class=\"dataframe\">\n",
       "  <thead>\n",
       "    <tr style=\"text-align: right;\">\n",
       "      <th></th>\n",
       "      <th>age</th>\n",
       "      <th>fee_cleaned</th>\n",
       "      <th>value_eur</th>\n",
       "      <th>years_left</th>\n",
       "      <th>team</th>\n",
       "      <th>player_name</th>\n",
       "      <th>overall</th>\n",
       "      <th>potential</th>\n",
       "      <th>wage_eur</th>\n",
       "      <th>nationality_name</th>\n",
       "      <th>...</th>\n",
       "      <th>npxGA</th>\n",
       "      <th>npxGD</th>\n",
       "      <th>ppda_coef</th>\n",
       "      <th>oppda_coef</th>\n",
       "      <th>deep</th>\n",
       "      <th>deep_allowed</th>\n",
       "      <th>xpts</th>\n",
       "      <th>xpts_diff</th>\n",
       "      <th>SPI</th>\n",
       "      <th>tranfer_activity</th>\n",
       "    </tr>\n",
       "  </thead>\n",
       "  <tbody>\n",
       "    <tr>\n",
       "      <th>0</th>\n",
       "      <td>27</td>\n",
       "      <td>13.0</td>\n",
       "      <td>20500000.0</td>\n",
       "      <td>2.0</td>\n",
       "      <td>Barcelona</td>\n",
       "      <td>Jasper Cillessen</td>\n",
       "      <td>82</td>\n",
       "      <td>85</td>\n",
       "      <td>150000.0</td>\n",
       "      <td>Netherlands</td>\n",
       "      <td>...</td>\n",
       "      <td>33.285940</td>\n",
       "      <td>66.191080</td>\n",
       "      <td>6.012152</td>\n",
       "      <td>15.064390</td>\n",
       "      <td>570</td>\n",
       "      <td>163</td>\n",
       "      <td>94.3800</td>\n",
       "      <td>3.3800</td>\n",
       "      <td>67.72</td>\n",
       "      <td>-487</td>\n",
       "    </tr>\n",
       "    <tr>\n",
       "      <th>1</th>\n",
       "      <td>22</td>\n",
       "      <td>16.5</td>\n",
       "      <td>6000000.0</td>\n",
       "      <td>1.0</td>\n",
       "      <td>Barcelona</td>\n",
       "      <td>Lucas Digne</td>\n",
       "      <td>76</td>\n",
       "      <td>81</td>\n",
       "      <td>70000.0</td>\n",
       "      <td>France</td>\n",
       "      <td>...</td>\n",
       "      <td>33.285940</td>\n",
       "      <td>66.191080</td>\n",
       "      <td>6.012152</td>\n",
       "      <td>15.064390</td>\n",
       "      <td>570</td>\n",
       "      <td>163</td>\n",
       "      <td>94.3800</td>\n",
       "      <td>3.3800</td>\n",
       "      <td>67.72</td>\n",
       "      <td>-487</td>\n",
       "    </tr>\n",
       "    <tr>\n",
       "      <th>2</th>\n",
       "      <td>25</td>\n",
       "      <td>1.5</td>\n",
       "      <td>3300000.0</td>\n",
       "      <td>1.0</td>\n",
       "      <td>Eibar</td>\n",
       "      <td>Florian Lejeune</td>\n",
       "      <td>73</td>\n",
       "      <td>78</td>\n",
       "      <td>35000.0</td>\n",
       "      <td>France</td>\n",
       "      <td>...</td>\n",
       "      <td>47.452420</td>\n",
       "      <td>-0.608427</td>\n",
       "      <td>7.804410</td>\n",
       "      <td>7.974349</td>\n",
       "      <td>191</td>\n",
       "      <td>218</td>\n",
       "      <td>54.0253</td>\n",
       "      <td>11.0253</td>\n",
       "      <td>67.72</td>\n",
       "      <td>-487</td>\n",
       "    </tr>\n",
       "    <tr>\n",
       "      <th>3</th>\n",
       "      <td>27</td>\n",
       "      <td>4.0</td>\n",
       "      <td>3900000.0</td>\n",
       "      <td>3.0</td>\n",
       "      <td>Granada</td>\n",
       "      <td>Mehdi Carcela-González</td>\n",
       "      <td>74</td>\n",
       "      <td>76</td>\n",
       "      <td>60000.0</td>\n",
       "      <td>Morocco</td>\n",
       "      <td>...</td>\n",
       "      <td>58.658524</td>\n",
       "      <td>-22.508105</td>\n",
       "      <td>8.999245</td>\n",
       "      <td>7.241976</td>\n",
       "      <td>117</td>\n",
       "      <td>268</td>\n",
       "      <td>38.4994</td>\n",
       "      <td>-0.5006</td>\n",
       "      <td>67.72</td>\n",
       "      <td>-487</td>\n",
       "    </tr>\n",
       "    <tr>\n",
       "      <th>4</th>\n",
       "      <td>29</td>\n",
       "      <td>0.0</td>\n",
       "      <td>8000000.0</td>\n",
       "      <td>0.0</td>\n",
       "      <td>Las Palmas</td>\n",
       "      <td>Kevin-Prince Boateng</td>\n",
       "      <td>78</td>\n",
       "      <td>78</td>\n",
       "      <td>100000.0</td>\n",
       "      <td>Ghana</td>\n",
       "      <td>...</td>\n",
       "      <td>56.263722</td>\n",
       "      <td>-21.314619</td>\n",
       "      <td>10.079552</td>\n",
       "      <td>8.927858</td>\n",
       "      <td>228</td>\n",
       "      <td>250</td>\n",
       "      <td>41.1793</td>\n",
       "      <td>-2.8207</td>\n",
       "      <td>67.72</td>\n",
       "      <td>-487</td>\n",
       "    </tr>\n",
       "  </tbody>\n",
       "</table>\n",
       "<p>5 rows × 78 columns</p>\n",
       "</div>"
      ],
      "text/plain": [
       "   age  fee_cleaned   value_eur  years_left        team  \\\n",
       "0   27         13.0  20500000.0         2.0   Barcelona   \n",
       "1   22         16.5   6000000.0         1.0   Barcelona   \n",
       "2   25          1.5   3300000.0         1.0       Eibar   \n",
       "3   27          4.0   3900000.0         3.0     Granada   \n",
       "4   29          0.0   8000000.0         0.0  Las Palmas   \n",
       "\n",
       "              player_name  overall  potential  wage_eur nationality_name  ...  \\\n",
       "0        Jasper Cillessen       82         85  150000.0      Netherlands  ...   \n",
       "1             Lucas Digne       76         81   70000.0           France  ...   \n",
       "2         Florian Lejeune       73         78   35000.0           France  ...   \n",
       "3  Mehdi Carcela-González       74         76   60000.0          Morocco  ...   \n",
       "4    Kevin-Prince Boateng       78         78  100000.0            Ghana  ...   \n",
       "\n",
       "       npxGA      npxGD  ppda_coef  oppda_coef  deep  deep_allowed     xpts  \\\n",
       "0  33.285940  66.191080   6.012152   15.064390   570           163  94.3800   \n",
       "1  33.285940  66.191080   6.012152   15.064390   570           163  94.3800   \n",
       "2  47.452420  -0.608427   7.804410    7.974349   191           218  54.0253   \n",
       "3  58.658524 -22.508105   8.999245    7.241976   117           268  38.4994   \n",
       "4  56.263722 -21.314619  10.079552    8.927858   228           250  41.1793   \n",
       "\n",
       "   xpts_diff    SPI  tranfer_activity  \n",
       "0     3.3800  67.72              -487  \n",
       "1     3.3800  67.72              -487  \n",
       "2    11.0253  67.72              -487  \n",
       "3    -0.5006  67.72              -487  \n",
       "4    -2.8207  67.72              -487  \n",
       "\n",
       "[5 rows x 78 columns]"
      ]
     },
     "execution_count": 106,
     "metadata": {},
     "output_type": "execute_result"
    }
   ],
   "source": [
    "tf2_data.head(5)"
   ]
  },
  {
   "cell_type": "code",
   "execution_count": 107,
   "id": "04928d57-9170-4287-8c39-0b58ca995eab",
   "metadata": {},
   "outputs": [],
   "source": [
    "#turn fee_cleaned to millions\n",
    "tf2_data[\"fee_cleaned\"] = tf2_data[\"fee_cleaned\"]* 1000000"
   ]
  },
  {
   "cell_type": "code",
   "execution_count": 108,
   "id": "e00cd5a7-31a9-402d-895f-b225cf14fd7f",
   "metadata": {},
   "outputs": [
    {
     "data": {
      "text/plain": [
       "Index(['age', 'fee_cleaned', 'value_eur', 'years_left', 'team', 'player_name',\n",
       "       'overall', 'potential', 'wage_eur', 'nationality_name', 'weak_foot',\n",
       "       'skill_moves', 'international_reputation', 'pace', 'shooting',\n",
       "       'passing', 'dribbling', 'defending', 'physic', 'attacking_crossing',\n",
       "       'attacking_finishing', 'attacking_heading_accuracy',\n",
       "       'attacking_short_passing', 'attacking_volleys', 'skill_dribbling',\n",
       "       'skill_curve', 'skill_fk_accuracy', 'skill_long_passing',\n",
       "       'skill_ball_control', 'movement_acceleration', 'movement_sprint_speed',\n",
       "       'movement_agility', 'movement_reactions', 'movement_balance',\n",
       "       'power_shot_power', 'power_jumping', 'power_stamina', 'power_strength',\n",
       "       'power_long_shots', 'mentality_aggression', 'mentality_interceptions',\n",
       "       'mentality_positioning', 'mentality_vision', 'mentality_penalties',\n",
       "       'defending_marking_awareness', 'defending_standing_tackle',\n",
       "       'defending_sliding_tackle', 'goalkeeping_diving',\n",
       "       'goalkeeping_handling', 'goalkeeping_kicking',\n",
       "       'goalkeeping_positioning', 'goalkeeping_reflexes', 'position_x',\n",
       "       'club_involved_name', 'league_name_x_y', 'position_y', 'matches',\n",
       "       'wins', 'draws', 'loses', 'scored', 'missed', 'pts', 'xG', 'xG_diff',\n",
       "       'npxG', 'xGA', 'xGA_diff', 'npxGA', 'npxGD', 'ppda_coef', 'oppda_coef',\n",
       "       'deep', 'deep_allowed', 'xpts', 'xpts_diff', 'SPI', 'tranfer_activity'],\n",
       "      dtype='object')"
      ]
     },
     "execution_count": 108,
     "metadata": {},
     "output_type": "execute_result"
    }
   ],
   "source": [
    "tf2_data.columns"
   ]
  },
  {
   "cell_type": "code",
   "execution_count": 109,
   "id": "bc92e4cf-fcda-41d3-aa44-7f670020b187",
   "metadata": {},
   "outputs": [],
   "source": [
    "#getting gk datasets\n",
    "tf2_data_gk_index = tf2_data[\"position_x\"] == \"Goalkeeper\"\n",
    "tf2_data_gk = tf2_data[tf2_data_gk_index]"
   ]
  },
  {
   "cell_type": "code",
   "execution_count": 110,
   "id": "805cc61a-da20-4dfc-b784-1157705998ff",
   "metadata": {},
   "outputs": [],
   "source": [
    "tf2_data_gk = tf2_data_gk.dropna(axis = 1)"
   ]
  },
  {
   "cell_type": "code",
   "execution_count": 111,
   "id": "980f2181-81dd-4379-9cc6-ffb5b0c59000",
   "metadata": {},
   "outputs": [],
   "source": [
    "tf2_data_gk.to_csv('tf_gk.csv', index=False)"
   ]
  },
  {
   "cell_type": "code",
   "execution_count": 112,
   "id": "957567bf-c96c-400a-af8e-aff7ce75f132",
   "metadata": {},
   "outputs": [
    {
     "data": {
      "text/html": [
       "<div>\n",
       "<style scoped>\n",
       "    .dataframe tbody tr th:only-of-type {\n",
       "        vertical-align: middle;\n",
       "    }\n",
       "\n",
       "    .dataframe tbody tr th {\n",
       "        vertical-align: top;\n",
       "    }\n",
       "\n",
       "    .dataframe thead th {\n",
       "        text-align: right;\n",
       "    }\n",
       "</style>\n",
       "<table border=\"1\" class=\"dataframe\">\n",
       "  <thead>\n",
       "    <tr style=\"text-align: right;\">\n",
       "      <th></th>\n",
       "      <th>age</th>\n",
       "      <th>fee_cleaned</th>\n",
       "      <th>value_eur</th>\n",
       "      <th>years_left</th>\n",
       "      <th>team</th>\n",
       "      <th>player_name</th>\n",
       "      <th>overall</th>\n",
       "      <th>potential</th>\n",
       "      <th>wage_eur</th>\n",
       "      <th>nationality_name</th>\n",
       "      <th>...</th>\n",
       "      <th>npxGA</th>\n",
       "      <th>npxGD</th>\n",
       "      <th>ppda_coef</th>\n",
       "      <th>oppda_coef</th>\n",
       "      <th>deep</th>\n",
       "      <th>deep_allowed</th>\n",
       "      <th>xpts</th>\n",
       "      <th>xpts_diff</th>\n",
       "      <th>SPI</th>\n",
       "      <th>tranfer_activity</th>\n",
       "    </tr>\n",
       "  </thead>\n",
       "  <tbody>\n",
       "    <tr>\n",
       "      <th>0</th>\n",
       "      <td>27</td>\n",
       "      <td>13000000.0</td>\n",
       "      <td>20500000.0</td>\n",
       "      <td>2.0</td>\n",
       "      <td>Barcelona</td>\n",
       "      <td>Jasper Cillessen</td>\n",
       "      <td>82</td>\n",
       "      <td>85</td>\n",
       "      <td>150000.0</td>\n",
       "      <td>Netherlands</td>\n",
       "      <td>...</td>\n",
       "      <td>33.285940</td>\n",
       "      <td>66.191080</td>\n",
       "      <td>6.012152</td>\n",
       "      <td>15.064390</td>\n",
       "      <td>570</td>\n",
       "      <td>163</td>\n",
       "      <td>94.3800</td>\n",
       "      <td>3.3800</td>\n",
       "      <td>67.72</td>\n",
       "      <td>-487</td>\n",
       "    </tr>\n",
       "    <tr>\n",
       "      <th>10</th>\n",
       "      <td>25</td>\n",
       "      <td>1000000.0</td>\n",
       "      <td>2500000.0</td>\n",
       "      <td>2.0</td>\n",
       "      <td>Eibar</td>\n",
       "      <td>Marko Dmitrović</td>\n",
       "      <td>72</td>\n",
       "      <td>78</td>\n",
       "      <td>6000.0</td>\n",
       "      <td>Serbia</td>\n",
       "      <td>...</td>\n",
       "      <td>40.710463</td>\n",
       "      <td>-3.817782</td>\n",
       "      <td>7.821400</td>\n",
       "      <td>9.458058</td>\n",
       "      <td>157</td>\n",
       "      <td>218</td>\n",
       "      <td>50.0492</td>\n",
       "      <td>-3.9508</td>\n",
       "      <td>67.72</td>\n",
       "      <td>-487</td>\n",
       "    </tr>\n",
       "    <tr>\n",
       "      <th>12</th>\n",
       "      <td>27</td>\n",
       "      <td>0.0</td>\n",
       "      <td>1300000.0</td>\n",
       "      <td>0.0</td>\n",
       "      <td>Las Palmas</td>\n",
       "      <td>Leandro Chichizola</td>\n",
       "      <td>70</td>\n",
       "      <td>72</td>\n",
       "      <td>3000.0</td>\n",
       "      <td>Argentina</td>\n",
       "      <td>...</td>\n",
       "      <td>50.218214</td>\n",
       "      <td>-13.880975</td>\n",
       "      <td>10.230977</td>\n",
       "      <td>10.034512</td>\n",
       "      <td>270</td>\n",
       "      <td>211</td>\n",
       "      <td>42.1085</td>\n",
       "      <td>3.1085</td>\n",
       "      <td>67.72</td>\n",
       "      <td>-487</td>\n",
       "    </tr>\n",
       "  </tbody>\n",
       "</table>\n",
       "<p>3 rows × 72 columns</p>\n",
       "</div>"
      ],
      "text/plain": [
       "    age  fee_cleaned   value_eur  years_left        team         player_name  \\\n",
       "0    27   13000000.0  20500000.0         2.0   Barcelona    Jasper Cillessen   \n",
       "10   25    1000000.0   2500000.0         2.0       Eibar     Marko Dmitrović   \n",
       "12   27          0.0   1300000.0         0.0  Las Palmas  Leandro Chichizola   \n",
       "\n",
       "    overall  potential  wage_eur nationality_name  ...      npxGA      npxGD  \\\n",
       "0        82         85  150000.0      Netherlands  ...  33.285940  66.191080   \n",
       "10       72         78    6000.0           Serbia  ...  40.710463  -3.817782   \n",
       "12       70         72    3000.0        Argentina  ...  50.218214 -13.880975   \n",
       "\n",
       "    ppda_coef  oppda_coef  deep  deep_allowed     xpts  xpts_diff    SPI  \\\n",
       "0    6.012152   15.064390   570           163  94.3800     3.3800  67.72   \n",
       "10   7.821400    9.458058   157           218  50.0492    -3.9508  67.72   \n",
       "12  10.230977   10.034512   270           211  42.1085     3.1085  67.72   \n",
       "\n",
       "    tranfer_activity  \n",
       "0               -487  \n",
       "10              -487  \n",
       "12              -487  \n",
       "\n",
       "[3 rows x 72 columns]"
      ]
     },
     "execution_count": 112,
     "metadata": {},
     "output_type": "execute_result"
    }
   ],
   "source": [
    "tf2_data_gk.head(3)"
   ]
  },
  {
   "cell_type": "code",
   "execution_count": 113,
   "id": "2a6ce511-18d7-4718-bacf-6a38860330e8",
   "metadata": {},
   "outputs": [],
   "source": [
    "#getting data for other players\n",
    "tf2_data_field_index = tf2_data[\"position_x\"] != \"Goalkeeper\"\n",
    "tf2_data_field = tf2_data[tf2_data_field_index]\n",
    "\n",
    "tf2_data_field_index_2 = tf2_data_field[\"fee_cleaned\"] > 0\n",
    "tf2_data_field = tf2_data_field[tf2_data_field_index_2]\n",
    "\n",
    "tf2_data_field = tf2_data_field.dropna()"
   ]
  },
  {
   "cell_type": "code",
   "execution_count": 114,
   "id": "82e1525f-6741-4c9e-8520-d90f068a93cf",
   "metadata": {},
   "outputs": [
    {
     "data": {
      "text/plain": [
       "Index(['age', 'fee_cleaned', 'value_eur', 'years_left', 'team', 'player_name',\n",
       "       'overall', 'potential', 'wage_eur', 'nationality_name', 'weak_foot',\n",
       "       'skill_moves', 'international_reputation', 'pace', 'shooting',\n",
       "       'passing', 'dribbling', 'defending', 'physic', 'attacking_crossing',\n",
       "       'attacking_finishing', 'attacking_heading_accuracy',\n",
       "       'attacking_short_passing', 'attacking_volleys', 'skill_dribbling',\n",
       "       'skill_curve', 'skill_fk_accuracy', 'skill_long_passing',\n",
       "       'skill_ball_control', 'movement_acceleration', 'movement_sprint_speed',\n",
       "       'movement_agility', 'movement_reactions', 'movement_balance',\n",
       "       'power_shot_power', 'power_jumping', 'power_stamina', 'power_strength',\n",
       "       'power_long_shots', 'mentality_aggression', 'mentality_interceptions',\n",
       "       'mentality_positioning', 'mentality_vision', 'mentality_penalties',\n",
       "       'defending_marking_awareness', 'defending_standing_tackle',\n",
       "       'defending_sliding_tackle', 'goalkeeping_diving',\n",
       "       'goalkeeping_handling', 'goalkeeping_kicking',\n",
       "       'goalkeeping_positioning', 'goalkeeping_reflexes', 'position_x',\n",
       "       'club_involved_name', 'league_name_x_y', 'position_y', 'matches',\n",
       "       'wins', 'draws', 'loses', 'scored', 'missed', 'pts', 'xG', 'xG_diff',\n",
       "       'npxG', 'xGA', 'xGA_diff', 'npxGA', 'npxGD', 'ppda_coef', 'oppda_coef',\n",
       "       'deep', 'deep_allowed', 'xpts', 'xpts_diff', 'SPI', 'tranfer_activity'],\n",
       "      dtype='object')"
      ]
     },
     "execution_count": 114,
     "metadata": {},
     "output_type": "execute_result"
    }
   ],
   "source": [
    "tf2_data_field.columns"
   ]
  },
  {
   "cell_type": "code",
   "execution_count": 115,
   "id": "83b050ab-1aba-4fe3-8f39-88b63df677bb",
   "metadata": {},
   "outputs": [],
   "source": [
    "buyer_avg_tf = tf2_data_field.groupby(\"team\")[\"fee_cleaned\"].mean()\n",
    "seller_avg_tf = tf2_data_field.groupby(\"club_involved_name\")[\"fee_cleaned\"].mean()"
   ]
  },
  {
   "cell_type": "code",
   "execution_count": 116,
   "id": "d6c71f98-c877-4bb9-b101-08c1edd2089e",
   "metadata": {},
   "outputs": [],
   "source": [
    "#left-merge based on \"team names\"; preserves all rows of tf2_data_field and merges with buyer_avg_tf on matches on \"team\"\n",
    "tf2_data_field = pd.merge(tf2_data_field, buyer_avg_tf, on='team', how='left', suffixes=('', '_buyer_avg'))\n",
    "tf2_data_field = pd.merge(tf2_data_field, seller_avg_tf, on='club_involved_name', how='left', suffixes=('', '_seller_avg'))"
   ]
  },
  {
   "cell_type": "code",
   "execution_count": 117,
   "id": "1213a7cf-16ff-489e-98cf-69104877e18f",
   "metadata": {},
   "outputs": [
    {
     "data": {
      "text/plain": [
       "Index(['age', 'fee_cleaned', 'value_eur', 'years_left', 'team', 'player_name',\n",
       "       'overall', 'potential', 'wage_eur', 'nationality_name', 'weak_foot',\n",
       "       'skill_moves', 'international_reputation', 'pace', 'shooting',\n",
       "       'passing', 'dribbling', 'defending', 'physic', 'attacking_crossing',\n",
       "       'attacking_finishing', 'attacking_heading_accuracy',\n",
       "       'attacking_short_passing', 'attacking_volleys', 'skill_dribbling',\n",
       "       'skill_curve', 'skill_fk_accuracy', 'skill_long_passing',\n",
       "       'skill_ball_control', 'movement_acceleration', 'movement_sprint_speed',\n",
       "       'movement_agility', 'movement_reactions', 'movement_balance',\n",
       "       'power_shot_power', 'power_jumping', 'power_stamina', 'power_strength',\n",
       "       'power_long_shots', 'mentality_aggression', 'mentality_interceptions',\n",
       "       'mentality_positioning', 'mentality_vision', 'mentality_penalties',\n",
       "       'defending_marking_awareness', 'defending_standing_tackle',\n",
       "       'defending_sliding_tackle', 'goalkeeping_diving',\n",
       "       'goalkeeping_handling', 'goalkeeping_kicking',\n",
       "       'goalkeeping_positioning', 'goalkeeping_reflexes', 'position_x',\n",
       "       'club_involved_name', 'league_name_x_y', 'position_y', 'matches',\n",
       "       'wins', 'draws', 'loses', 'scored', 'missed', 'pts', 'xG', 'xG_diff',\n",
       "       'npxG', 'xGA', 'xGA_diff', 'npxGA', 'npxGD', 'ppda_coef', 'oppda_coef',\n",
       "       'deep', 'deep_allowed', 'xpts', 'xpts_diff', 'SPI', 'tranfer_activity',\n",
       "       'fee_cleaned_buyer_avg', 'fee_cleaned_seller_avg'],\n",
       "      dtype='object')"
      ]
     },
     "execution_count": 117,
     "metadata": {},
     "output_type": "execute_result"
    }
   ],
   "source": [
    "tf2_data_field.columns"
   ]
  },
  {
   "cell_type": "code",
   "execution_count": 118,
   "id": "8bb06d46-9732-4279-ad83-4b4a43600a80",
   "metadata": {},
   "outputs": [],
   "source": [
    "#tf2_data_field.to_csv('tf_field.csv', index=False)"
   ]
  },
  {
   "cell_type": "markdown",
   "id": "256ef846-4e9a-4204-b425-3ee7667b15be",
   "metadata": {},
   "source": [
    "# FEATURE SELECTION!!!!!!"
   ]
  },
  {
   "cell_type": "markdown",
   "id": "c9a07269-e85b-4ece-81f5-142f0fa49be2",
   "metadata": {},
   "source": [
    "## Modeling"
   ]
  },
  {
   "cell_type": "code",
   "execution_count": 119,
   "id": "4e36a782-907f-4ebd-966a-cd2dcec8e964",
   "metadata": {},
   "outputs": [],
   "source": [
    "from sklearn.model_selection import train_test_split\n",
    "field_tf_upd_train, field_tf_upd_test = train_test_split(tf2_data_field, test_size = .2, shuffle = True)"
   ]
  },
  {
   "cell_type": "code",
   "execution_count": 120,
   "id": "eef07a88-ce27-4edf-845c-1eb2bcba28b4",
   "metadata": {},
   "outputs": [],
   "source": [
    "# #This makes the accuracy skyrocket and modeling work as expected, but why???\n",
    "#This is weird!!!\n",
    "# all_tf_train = all_tf_train.reset_index(drop=True)\n",
    "# all_tf_test = all_tf_test.reset_index(drop=True)"
   ]
  },
  {
   "cell_type": "code",
   "execution_count": 121,
   "id": "457ddaa4-01c2-47a2-bd66-e793b18747d7",
   "metadata": {},
   "outputs": [],
   "source": [
    "# all_tf_train=all_tf_train.drop([\"level_0\"], axis = 1)\n",
    "# all_tf_train=all_tf_train.drop([\"index\"], axis = 1)\n",
    "\n",
    "# all_tf_test=all_tf_test.drop([\"level_0\"], axis = 1)\n",
    "# all_tf_test=all_tf_test.drop([\"index\"], axis = 1)"
   ]
  },
  {
   "cell_type": "code",
   "execution_count": 122,
   "id": "7720f1c7-5c19-4d58-9526-36e199a4b19a",
   "metadata": {},
   "outputs": [
    {
     "data": {
      "text/plain": [
       "Index(['age', 'fee_cleaned', 'value_eur', 'years_left', 'team', 'player_name',\n",
       "       'overall', 'potential', 'wage_eur', 'nationality_name', 'weak_foot',\n",
       "       'skill_moves', 'international_reputation', 'pace', 'shooting',\n",
       "       'passing', 'dribbling', 'defending', 'physic', 'attacking_crossing',\n",
       "       'attacking_finishing', 'attacking_heading_accuracy',\n",
       "       'attacking_short_passing', 'attacking_volleys', 'skill_dribbling',\n",
       "       'skill_curve', 'skill_fk_accuracy', 'skill_long_passing',\n",
       "       'skill_ball_control', 'movement_acceleration', 'movement_sprint_speed',\n",
       "       'movement_agility', 'movement_reactions', 'movement_balance',\n",
       "       'power_shot_power', 'power_jumping', 'power_stamina', 'power_strength',\n",
       "       'power_long_shots', 'mentality_aggression', 'mentality_interceptions',\n",
       "       'mentality_positioning', 'mentality_vision', 'mentality_penalties',\n",
       "       'defending_marking_awareness', 'defending_standing_tackle',\n",
       "       'defending_sliding_tackle', 'goalkeeping_diving',\n",
       "       'goalkeeping_handling', 'goalkeeping_kicking',\n",
       "       'goalkeeping_positioning', 'goalkeeping_reflexes', 'position_x',\n",
       "       'club_involved_name', 'league_name_x_y', 'position_y', 'matches',\n",
       "       'wins', 'draws', 'loses', 'scored', 'missed', 'pts', 'xG', 'xG_diff',\n",
       "       'npxG', 'xGA', 'xGA_diff', 'npxGA', 'npxGD', 'ppda_coef', 'oppda_coef',\n",
       "       'deep', 'deep_allowed', 'xpts', 'xpts_diff', 'SPI', 'tranfer_activity',\n",
       "       'fee_cleaned_buyer_avg', 'fee_cleaned_seller_avg'],\n",
       "      dtype='object')"
      ]
     },
     "execution_count": 122,
     "metadata": {},
     "output_type": "execute_result"
    }
   ],
   "source": [
    "(field_tf_upd_train.columns)"
   ]
  },
  {
   "cell_type": "code",
   "execution_count": 123,
   "id": "6f70a9ea-7ddb-4e86-8439-6d18e74a96ec",
   "metadata": {},
   "outputs": [
    {
     "data": {
      "text/plain": [
       "Index(['age', 'fee_cleaned', 'value_eur', 'years_left', 'team', 'player_name',\n",
       "       'overall', 'potential', 'wage_eur', 'nationality_name', 'weak_foot',\n",
       "       'skill_moves', 'international_reputation', 'pace', 'shooting',\n",
       "       'passing', 'dribbling', 'defending', 'physic', 'attacking_crossing',\n",
       "       'attacking_finishing', 'attacking_heading_accuracy',\n",
       "       'attacking_short_passing', 'attacking_volleys', 'skill_dribbling',\n",
       "       'skill_curve', 'skill_fk_accuracy', 'skill_long_passing',\n",
       "       'skill_ball_control', 'movement_acceleration', 'movement_sprint_speed',\n",
       "       'movement_agility', 'movement_reactions', 'movement_balance',\n",
       "       'power_shot_power', 'power_jumping', 'power_stamina', 'power_strength',\n",
       "       'power_long_shots', 'mentality_aggression', 'mentality_interceptions',\n",
       "       'mentality_positioning', 'mentality_vision', 'mentality_penalties',\n",
       "       'defending_marking_awareness', 'defending_standing_tackle',\n",
       "       'defending_sliding_tackle', 'goalkeeping_diving',\n",
       "       'goalkeeping_handling', 'goalkeeping_kicking',\n",
       "       'goalkeeping_positioning', 'goalkeeping_reflexes', 'position_x',\n",
       "       'club_involved_name', 'league_name_x_y', 'position_y', 'matches',\n",
       "       'wins', 'draws', 'loses', 'scored', 'missed', 'pts', 'xG', 'xG_diff',\n",
       "       'npxG', 'xGA', 'xGA_diff', 'npxGA', 'npxGD', 'ppda_coef', 'oppda_coef',\n",
       "       'deep', 'deep_allowed', 'xpts', 'xpts_diff', 'SPI', 'tranfer_activity',\n",
       "       'fee_cleaned_buyer_avg', 'fee_cleaned_seller_avg'],\n",
       "      dtype='object')"
      ]
     },
     "execution_count": 123,
     "metadata": {},
     "output_type": "execute_result"
    }
   ],
   "source": [
    "(field_tf_upd_train.columns)"
   ]
  },
  {
   "cell_type": "code",
   "execution_count": 124,
   "id": "fdb20e70-c594-4da9-91bc-8e88f71fec3c",
   "metadata": {},
   "outputs": [],
   "source": [
    "#getting the feature matrix and target vector\n",
    "# field_tf_upd_train = field_tf_upd_train[field_tf_upd_train.columns[0:8]] #use this!!!\n",
    "# field_tf_upd_test = field_tf_upd_test[field_tf_upd_test.columns[0:8]] #use this!!!\n",
    "\n",
    "#re-clean; non-numerical stuff\n",
    "field_tf_upd_train = field_tf_upd_train.drop([\"team\"], axis = 1)\n",
    "field_tf_upd_train = field_tf_upd_train.drop([\"player_name\"], axis = 1)\n",
    "field_tf_upd_train = field_tf_upd_train.drop([\"nationality_name\"], axis = 1)\n",
    "field_tf_upd_train = field_tf_upd_train.drop([\"position_x\"], axis = 1)\n",
    "field_tf_upd_train = field_tf_upd_train.drop([\"league_name_x_y\"], axis = 1)\n",
    "field_tf_upd_train = field_tf_upd_train.drop([\"club_involved_name\"], axis = 1)\n",
    "\n",
    "#re-clean; non-numerical stuff\n",
    "field_tf_upd_test = field_tf_upd_test.drop([\"team\"], axis = 1)\n",
    "field_tf_upd_test = field_tf_upd_test.drop([\"player_name\"], axis = 1)\n",
    "field_tf_upd_test = field_tf_upd_test.drop([\"nationality_name\"], axis = 1)\n",
    "field_tf_upd_test = field_tf_upd_test.drop([\"position_x\"], axis = 1)\n",
    "field_tf_upd_test = field_tf_upd_test.drop([\"league_name_x_y\"], axis = 1)\n",
    "field_tf_upd_test = field_tf_upd_test.drop([\"club_involved_name\"], axis = 1)\n",
    "\n",
    "X_train_fee = field_tf_upd_train.drop([\"fee_cleaned\"], axis = 1)\n",
    "y_train_fee = field_tf_upd_train[\"fee_cleaned\"]\n",
    "\n",
    "X_test_fee = field_tf_upd_test.drop([\"fee_cleaned\"], axis = 1)\n",
    "y_test_fee = field_tf_upd_test[\"fee_cleaned\"] # do this to get it by index; want to reset the index\n",
    "\n",
    "\n",
    "# # print(X_train_all)\n",
    "# from sklearn.preprocessing import StandardScaler\n",
    "# sc = StandardScaler()\n",
    "# X_train_fee = sc.fit_transform(X_train_fee)\n",
    "# #y_train_all = sc.fit_transform(y_train_all)\n",
    "\n",
    "# X_test_fee = sc.fit_transform(X_test_fee)\n",
    "# #y_test_all = sc.fit_transform(y_test_all)"
   ]
  },
  {
   "cell_type": "code",
   "execution_count": 125,
   "id": "46307edc-1533-42fe-95e7-938a2efce85d",
   "metadata": {},
   "outputs": [
    {
     "data": {
      "text/plain": [
       "Index(['age', 'value_eur', 'years_left', 'overall', 'potential', 'wage_eur',\n",
       "       'weak_foot', 'skill_moves', 'international_reputation', 'pace',\n",
       "       'shooting', 'passing', 'dribbling', 'defending', 'physic',\n",
       "       'attacking_crossing', 'attacking_finishing',\n",
       "       'attacking_heading_accuracy', 'attacking_short_passing',\n",
       "       'attacking_volleys', 'skill_dribbling', 'skill_curve',\n",
       "       'skill_fk_accuracy', 'skill_long_passing', 'skill_ball_control',\n",
       "       'movement_acceleration', 'movement_sprint_speed', 'movement_agility',\n",
       "       'movement_reactions', 'movement_balance', 'power_shot_power',\n",
       "       'power_jumping', 'power_stamina', 'power_strength', 'power_long_shots',\n",
       "       'mentality_aggression', 'mentality_interceptions',\n",
       "       'mentality_positioning', 'mentality_vision', 'mentality_penalties',\n",
       "       'defending_marking_awareness', 'defending_standing_tackle',\n",
       "       'defending_sliding_tackle', 'goalkeeping_diving',\n",
       "       'goalkeeping_handling', 'goalkeeping_kicking',\n",
       "       'goalkeeping_positioning', 'goalkeeping_reflexes', 'position_y',\n",
       "       'matches', 'wins', 'draws', 'loses', 'scored', 'missed', 'pts', 'xG',\n",
       "       'xG_diff', 'npxG', 'xGA', 'xGA_diff', 'npxGA', 'npxGD', 'ppda_coef',\n",
       "       'oppda_coef', 'deep', 'deep_allowed', 'xpts', 'xpts_diff', 'SPI',\n",
       "       'tranfer_activity', 'fee_cleaned_buyer_avg', 'fee_cleaned_seller_avg'],\n",
       "      dtype='object')"
      ]
     },
     "execution_count": 125,
     "metadata": {},
     "output_type": "execute_result"
    }
   ],
   "source": [
    "#re-clean; non-numerical stuff\n",
    "X_train_fee.columns"
   ]
  },
  {
   "cell_type": "code",
   "execution_count": 126,
   "id": "a99c284f-e5b3-41d3-b0d3-5dc7c0a669ad",
   "metadata": {},
   "outputs": [],
   "source": [
    "###Feature selection!!!"
   ]
  },
  {
   "cell_type": "markdown",
   "id": "d59e8dc3-6811-431e-a999-fe8e1f02e2c3",
   "metadata": {},
   "source": [
    "- Univariate; mutual_info_regression + select_k_best; https://guhanesvar.medium.com/feature-selection-based-on-mutual-information-gain-for-classification-and-regression-d0f86ea5262a\n",
    "\n",
    "- NEXT: Deal w/ multi-collinearity, use overall - potential"
   ]
  },
  {
   "cell_type": "code",
   "execution_count": 127,
   "id": "aca4b41a-87fe-423a-bd11-6300f6ea4371",
   "metadata": {},
   "outputs": [
    {
     "data": {
      "text/plain": [
       "array([6.07020387e-02, 1.81698319e-01, 9.18552772e-03, 1.91204151e-01,\n",
       "       3.51770922e-01, 9.10696286e-02, 0.00000000e+00, 9.39602620e-02,\n",
       "       3.64432071e-02, 2.65329237e-02, 1.85318894e-02, 5.78988121e-02,\n",
       "       8.90128065e-02, 2.63760441e-03, 0.00000000e+00, 7.60194723e-04,\n",
       "       6.48059149e-02, 6.69157889e-02, 9.44757260e-02, 5.45102659e-02,\n",
       "       1.01681339e-01, 0.00000000e+00, 5.08448156e-02, 2.71167492e-02,\n",
       "       5.35386449e-02, 1.15366045e-01, 1.48023317e-02, 1.99633226e-02,\n",
       "       1.14531787e-01, 0.00000000e+00, 1.86542654e-02, 0.00000000e+00,\n",
       "       7.95441736e-02, 1.16097175e-02, 3.11740743e-02, 0.00000000e+00,\n",
       "       0.00000000e+00, 0.00000000e+00, 9.87805238e-02, 3.81235819e-02,\n",
       "       6.56538160e-02, 7.92240109e-02, 0.00000000e+00, 1.81039429e-02,\n",
       "       6.34171960e-02, 7.11977661e-02, 7.68993208e-02, 3.63159662e-02,\n",
       "       9.54326796e-02, 2.60133587e-04, 1.78599949e-01, 4.49951753e-04,\n",
       "       4.60970400e-02, 1.06258329e-01, 8.87374843e-02, 1.06000540e-01,\n",
       "       5.42023846e-02, 0.00000000e+00, 1.08521720e-01, 4.76970320e-02,\n",
       "       0.00000000e+00, 2.33134509e-02, 1.36710323e-01, 7.80050064e-02,\n",
       "       1.35857309e-01, 1.25217640e-01, 4.30466737e-02, 1.48131170e-01,\n",
       "       6.12179111e-02, 1.32664018e-01, 1.27750650e-01, 4.03002752e-01,\n",
       "       6.69626557e-01])"
      ]
     },
     "execution_count": 127,
     "metadata": {},
     "output_type": "execute_result"
    }
   ],
   "source": [
    "from sklearn.feature_selection import mutual_info_regression\n",
    "mutual_info = mutual_info_regression(X_train_fee, y_train_fee)\n",
    "mutual_info"
   ]
  },
  {
   "cell_type": "code",
   "execution_count": 128,
   "id": "6a7d3421-7747-47cd-9585-7ccb8d2bbeb1",
   "metadata": {},
   "outputs": [
    {
     "data": {
      "text/plain": [
       "fee_cleaned_seller_avg      0.669627\n",
       "fee_cleaned_buyer_avg       0.403003\n",
       "potential                   0.351771\n",
       "overall                     0.191204\n",
       "value_eur                   0.181698\n",
       "                              ...   \n",
       "mentality_positioning       0.000000\n",
       "movement_balance            0.000000\n",
       "defending_sliding_tackle    0.000000\n",
       "power_jumping               0.000000\n",
       "mentality_interceptions     0.000000\n",
       "Length: 73, dtype: float64"
      ]
     },
     "execution_count": 128,
     "metadata": {},
     "output_type": "execute_result"
    }
   ],
   "source": [
    "mutual_info = pd.Series(mutual_info)\n",
    "mutual_info.index = X_train_fee.columns\n",
    "mutual_info.sort_values(ascending=False)"
   ]
  },
  {
   "cell_type": "code",
   "execution_count": 129,
   "id": "a3b1f8d2-dccd-4a24-9e1e-c5db70daf310",
   "metadata": {},
   "outputs": [
    {
     "data": {
      "text/plain": [
       "<AxesSubplot: >"
      ]
     },
     "execution_count": 129,
     "metadata": {},
     "output_type": "execute_result"
    },
    {
     "data": {
      "image/png": "[encoded data removed]",
      "text/plain": [
       "<Figure size 1500x500 with 1 Axes>"
      ]
     },
     "metadata": {},
     "output_type": "display_data"
    }
   ],
   "source": [
    "mutual_info.sort_values(ascending=False).plot.bar(figsize=(15,5))"
   ]
  },
  {
   "cell_type": "code",
   "execution_count": 130,
   "id": "944199dd-8955-469e-8c68-f467d755071f",
   "metadata": {},
   "outputs": [
    {
     "data": {
      "text/plain": [
       "array([False,  True, False,  True,  True,  True, False, False, False,\n",
       "       False, False, False,  True, False, False, False, False, False,\n",
       "       False, False,  True, False, False, False, False,  True, False,\n",
       "       False,  True, False, False, False, False, False, False, False,\n",
       "       False, False, False, False, False, False, False, False, False,\n",
       "       False, False, False,  True, False,  True, False, False,  True,\n",
       "        True,  True, False, False,  True, False, False, False,  True,\n",
       "       False,  True,  True, False,  True, False,  True,  True,  True,\n",
       "        True])"
      ]
     },
     "execution_count": 130,
     "metadata": {},
     "output_type": "execute_result"
    }
   ],
   "source": [
    "from sklearn.feature_selection import SelectPercentile\n",
    "selected_top_columns = SelectPercentile(mutual_info_regression, percentile=30)\n",
    "selected_top_columns.fit(X_train_fee, y_train_fee)\n",
    "selected_top_columns.get_support()"
   ]
  },
  {
   "cell_type": "code",
   "execution_count": 131,
   "id": "1afd8359-41f3-41a5-bb8f-acce30143bf5",
   "metadata": {},
   "outputs": [
    {
     "data": {
      "text/plain": [
       "Index(['value_eur', 'overall', 'potential', 'wage_eur', 'dribbling',\n",
       "       'skill_dribbling', 'movement_acceleration', 'movement_reactions',\n",
       "       'position_y', 'wins', 'scored', 'missed', 'pts', 'npxG', 'npxGD',\n",
       "       'oppda_coef', 'deep', 'xpts', 'SPI', 'tranfer_activity',\n",
       "       'fee_cleaned_buyer_avg', 'fee_cleaned_seller_avg'],\n",
       "      dtype='object')"
      ]
     },
     "execution_count": 131,
     "metadata": {},
     "output_type": "execute_result"
    }
   ],
   "source": [
    "X_train_fee.columns[selected_top_columns.get_support()]"
   ]
  },
  {
   "cell_type": "code",
   "execution_count": 98,
   "id": "4f0a92e7-8742-4898-9313-9122e9e6f198",
   "metadata": {},
   "outputs": [
    {
     "ename": "NameError",
     "evalue": "name 'Lasso' is not defined",
     "output_type": "error",
     "traceback": [
      "\u001b[0;31m---------------------------------------------------------------------------\u001b[0m",
      "\u001b[0;31mNameError\u001b[0m                                 Traceback (most recent call last)",
      "Cell \u001b[0;32mIn[98], line 2\u001b[0m\n\u001b[1;32m      1\u001b[0m \u001b[38;5;28;01mfrom\u001b[39;00m \u001b[38;5;21;01msklearn\u001b[39;00m\u001b[38;5;21;01m.\u001b[39;00m\u001b[38;5;21;01mfeature_selection\u001b[39;00m \u001b[38;5;28;01mimport\u001b[39;00m SelectFromModel\n\u001b[0;32m----> 2\u001b[0m selector \u001b[38;5;241m=\u001b[39m SelectFromModel(\u001b[43mLasso\u001b[49m())\n\u001b[1;32m      3\u001b[0m selector \u001b[38;5;241m=\u001b[39m selector\u001b[38;5;241m.\u001b[39mfit(X_train_fee, y_train_fee)\n\u001b[1;32m      5\u001b[0m status \u001b[38;5;241m=\u001b[39m selector\u001b[38;5;241m.\u001b[39mget_support()\n",
      "\u001b[0;31mNameError\u001b[0m: name 'Lasso' is not defined"
     ]
    }
   ],
   "source": [
    "from sklearn.feature_selection import SelectFromModel\n",
    "selector = SelectFromModel(Lasso())\n",
    "selector = selector.fit(X_train_fee, y_train_fee)\n",
    "\n",
    "status = selector.get_support()\n",
    "print(\"Selection status: \", status)\n",
    "\n",
    "features = array(boston.feature_names)\n",
    "print(\"All features:\")\n",
    "print(features)\n",
    "\n",
    "print(\"Selected features:\")\n",
    "print(features[status])\n",
    "X_train_fee = selector.transform(X_train_fee)"
   ]
  },
  {
   "cell_type": "code",
   "execution_count": 132,
   "id": "65aeaa6a-2252-4783-9f88-3089a5973956",
   "metadata": {},
   "outputs": [],
   "source": [
    "X_train_fee = X_train_fee[['value_eur', 'overall', 'potential', 'attacking_short_passing',\n",
    "       'power_shot_power', 'mentality_vision', 'goalkeeping_kicking', 'wins',\n",
    "       'missed', 'pts', 'xG', 'xGA', 'npxGA', 'npxGD', 'oppda_coef', 'deep',\n",
    "       'xpts', 'xpts_diff', 'SPI', 'tranfer_activity', 'fee_cleaned_buyer_avg',\n",
    "       'fee_cleaned_seller_avg']]\n",
    "\n",
    "X_test_fee = X_test_fee[['value_eur', 'overall', 'potential', 'attacking_short_passing',\n",
    "       'power_shot_power', 'mentality_vision', 'goalkeeping_kicking', 'wins',\n",
    "       'missed', 'pts', 'xG', 'xGA', 'npxGA', 'npxGD', 'oppda_coef', 'deep',\n",
    "       'xpts', 'xpts_diff', 'SPI', 'tranfer_activity', 'fee_cleaned_buyer_avg',\n",
    "       'fee_cleaned_seller_avg']]"
   ]
  },
  {
   "cell_type": "code",
   "execution_count": 133,
   "id": "4b4fd82c-6f98-4228-b3f9-741e52d8a308",
   "metadata": {},
   "outputs": [
    {
     "data": {
      "text/plain": [
       "0.7062044350536316"
      ]
     },
     "execution_count": 133,
     "metadata": {},
     "output_type": "execute_result"
    }
   ],
   "source": [
    "from sklearn.ensemble import RandomForestRegressor\n",
    "regr = RandomForestRegressor(max_depth = 15, random_state=0)\n",
    "regr.fit(X_train_fee, y_train_fee)\n",
    "regr.score(X_test_fee, y_test_fee)\n"
   ]
  },
  {
   "cell_type": "code",
   "execution_count": 134,
   "id": "6dc5d983-ad38-4b5d-8c43-6bd80b84c046",
   "metadata": {},
   "outputs": [
    {
     "name": "stdout",
     "output_type": "stream",
     "text": [
      "0.6926621282552785\n"
     ]
    }
   ],
   "source": [
    "from sklearn.model_selection import cross_val_score\n",
    "model_scores = cross_val_score(regr, X_train_fee, y_train_fee, cv=5)\n",
    "print(model_scores.mean())"
   ]
  },
  {
   "cell_type": "markdown",
   "id": "b07e9902-351a-49c2-ad1d-af448b4df4a6",
   "metadata": {},
   "source": [
    "## Model Comparisons + Cross-Validation + Hyperparameter Tuning https://towardsdatascience.com/hyperparameter-tuning-the-random-forest-in-python-using-scikit-learn-28d2aa77dd74"
   ]
  },
  {
   "cell_type": "code",
   "execution_count": 135,
   "id": "6d61db71-1147-4809-a505-abbb1af75da5",
   "metadata": {},
   "outputs": [
    {
     "name": "stderr",
     "output_type": "stream",
     "text": [
      "/Users/hedavamsolano/opt/anaconda3/envs/ml-0451/lib/python3.9/site-packages/sklearn/linear_model/_coordinate_descent.py:647: ConvergenceWarning: Objective did not converge. You might want to increase the number of iterations, check the scale of the features or consider increasing regularisation. Duality gap: 1.857e+16, tolerance: 1.388e+13\n",
      "  model = cd_fast.enet_coordinate_descent(\n"
     ]
    },
    {
     "data": {
      "text/plain": [
       "0.6308475287386616"
      ]
     },
     "execution_count": 135,
     "metadata": {},
     "output_type": "execute_result"
    }
   ],
   "source": [
    "from sklearn.linear_model import ElasticNet\n",
    "from sklearn.datasets import make_regression\n",
    "\n",
    "reg_lin = ElasticNet(random_state=0)\n",
    "reg_lin.fit(X_train_fee, y_train_fee)\n",
    "reg_lin.score(X_test_fee, y_test_fee)"
   ]
  },
  {
   "cell_type": "code",
   "execution_count": 136,
   "id": "92135986-39b0-4fb2-87f9-fac5cc8ea086",
   "metadata": {},
   "outputs": [
    {
     "name": "stdout",
     "output_type": "stream",
     "text": [
      "0.6299312616762753\n"
     ]
    },
    {
     "name": "stderr",
     "output_type": "stream",
     "text": [
      "/Users/hedavamsolano/opt/anaconda3/envs/ml-0451/lib/python3.9/site-packages/sklearn/linear_model/_coordinate_descent.py:647: ConvergenceWarning: Objective did not converge. You might want to increase the number of iterations, check the scale of the features or consider increasing regularisation. Duality gap: 1.329e+16, tolerance: 1.103e+13\n",
      "  model = cd_fast.enet_coordinate_descent(\n",
      "/Users/hedavamsolano/opt/anaconda3/envs/ml-0451/lib/python3.9/site-packages/sklearn/linear_model/_coordinate_descent.py:647: ConvergenceWarning: Objective did not converge. You might want to increase the number of iterations, check the scale of the features or consider increasing regularisation. Duality gap: 1.258e+16, tolerance: 9.798e+12\n",
      "  model = cd_fast.enet_coordinate_descent(\n",
      "/Users/hedavamsolano/opt/anaconda3/envs/ml-0451/lib/python3.9/site-packages/sklearn/linear_model/_coordinate_descent.py:647: ConvergenceWarning: Objective did not converge. You might want to increase the number of iterations, check the scale of the features or consider increasing regularisation. Duality gap: 1.521e+16, tolerance: 1.224e+13\n",
      "  model = cd_fast.enet_coordinate_descent(\n",
      "/Users/hedavamsolano/opt/anaconda3/envs/ml-0451/lib/python3.9/site-packages/sklearn/linear_model/_coordinate_descent.py:647: ConvergenceWarning: Objective did not converge. You might want to increase the number of iterations, check the scale of the features or consider increasing regularisation. Duality gap: 1.522e+16, tolerance: 1.000e+13\n",
      "  model = cd_fast.enet_coordinate_descent(\n",
      "/Users/hedavamsolano/opt/anaconda3/envs/ml-0451/lib/python3.9/site-packages/sklearn/linear_model/_coordinate_descent.py:647: ConvergenceWarning: Objective did not converge. You might want to increase the number of iterations, check the scale of the features or consider increasing regularisation. Duality gap: 1.588e+16, tolerance: 1.239e+13\n",
      "  model = cd_fast.enet_coordinate_descent(\n"
     ]
    }
   ],
   "source": [
    "from sklearn.model_selection import cross_val_score\n",
    "model_scores = cross_val_score(reg_lin, X_train_fee, y_train_fee, cv=5)\n",
    "print(model_scores.mean())"
   ]
  },
  {
   "cell_type": "code",
   "execution_count": 137,
   "id": "d968d7cd-b101-4635-ab62-0a2407f0caf3",
   "metadata": {},
   "outputs": [
    {
     "data": {
      "text/plain": [
       "0.5975594513593397"
      ]
     },
     "execution_count": 137,
     "metadata": {},
     "output_type": "execute_result"
    }
   ],
   "source": [
    "from sklearn.ensemble import GradientBoostingRegressor\n",
    "xgb = GradientBoostingRegressor(n_estimators=10, learning_rate=1.0,\n",
    "    max_depth=8, random_state=4)\n",
    "xgb.fit(X_train_fee, y_train_fee)\n",
    "xgb.score(X_test_fee, y_test_fee)"
   ]
  },
  {
   "cell_type": "code",
   "execution_count": 138,
   "id": "fd47d589-2c7e-46ae-9beb-96296a6cb44f",
   "metadata": {},
   "outputs": [
    {
     "name": "stdout",
     "output_type": "stream",
     "text": [
      "0.5010588370630302\n"
     ]
    }
   ],
   "source": [
    "from sklearn.model_selection import cross_val_score\n",
    "model_scores = cross_val_score(xgb, X_train_fee, y_train_fee, cv=5)\n",
    "print(model_scores.mean())"
   ]
  },
  {
   "cell_type": "code",
   "execution_count": 198,
   "id": "58b61b12-84df-4da6-a99b-1499d400cf87",
   "metadata": {},
   "outputs": [
    {
     "data": {
      "text/plain": [
       "<AxesSubplot: xlabel='age', ylabel='fee_cleaned'>"
      ]
     },
     "execution_count": 198,
     "metadata": {},
     "output_type": "execute_result"
    },
    {
     "data": {
      "image/png": "[encoded data removed]",
      "text/plain": [
       "<Figure size 640x480 with 1 Axes>"
      ]
     },
     "metadata": {},
     "output_type": "display_data"
    }
   ],
   "source": [
    "sns.barplot(data = field_tf_upd_train, x = \"age\", y = \"fee_cleaned\")"
   ]
  },
  {
   "cell_type": "code",
   "execution_count": 198,
   "id": "bcb8dd3b-bb35-4530-9a71-481d40d35d6c",
   "metadata": {},
   "outputs": [
    {
     "data": {
      "text/plain": [
       "<AxesSubplot: xlabel='Skill_moves', ylabel='Value'>"
      ]
     },
     "execution_count": 198,
     "metadata": {},
     "output_type": "execute_result"
    },
    {
     "data": {
      "image/png": "[encoded data removed]",
      "text/plain": [
       "<Figure size 640x480 with 1 Axes>"
      ]
     },
     "metadata": {},
     "output_type": "display_data"
    }
   ],
   "source": [
    "sns.barplot(data = train, x = \"Skill_moves\", y = \"Value\")"
   ]
  },
  {
   "cell_type": "code",
   "execution_count": 410,
   "id": "4d096257-366b-4527-8f67-d58e5022d8b6",
   "metadata": {},
   "outputs": [
    {
     "data": {
      "text/plain": [
       "<AxesSubplot: xlabel='pace', ylabel='fee_cleaned'>"
      ]
     },
     "execution_count": 410,
     "metadata": {},
     "output_type": "execute_result"
    },
    {
     "data": {
      "image/png": "[encoded data removed]",
      "text/plain": [
       "<Figure size 640x480 with 1 Axes>"
      ]
     },
     "metadata": {},
     "output_type": "display_data"
    }
   ],
   "source": [
    "sns.barplot(data = field_tf_upd_train, x = \"pace\", y = \"fee_cleaned\")"
   ]
  },
  {
   "cell_type": "code",
   "execution_count": null,
   "id": "37b42e93-321b-4c5c-ad73-dbe04308da6b",
   "metadata": {},
   "outputs": [],
   "source": []
  }
 ],
 "metadata": {
  "kernelspec": {
   "display_name": "Python [conda env:ml-0451] *",
   "language": "python",
   "name": "conda-env-ml-0451-py"
  },
  "language_info": {
   "codemirror_mode": {
    "name": "ipython",
    "version": 3
   },
   "file_extension": ".py",
   "mimetype": "text/x-python",
   "name": "python",
   "nbconvert_exporter": "python",
   "pygments_lexer": "ipython3",
   "version": "3.9.16"
  }
 },
 "nbformat": 4,
 "nbformat_minor": 5
}
