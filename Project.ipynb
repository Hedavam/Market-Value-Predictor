{
 "cells": [
  {
   "cell_type": "code",
   "execution_count": 229,
   "id": "8f1bbb29-38bd-4b0c-baf3-5cef7310c81b",
   "metadata": {},
   "outputs": [],
   "source": [
    "import pandas as pd\n",
    "import numpy as np\n",
    "import seaborn as sns\n",
    "import matplotlib.pyplot as plt"
   ]
  },
  {
   "cell_type": "code",
   "execution_count": 360,
   "id": "d51fbaad-5d04-45c5-85ed-bae3ea66041b",
   "metadata": {},
   "outputs": [],
   "source": [
    "mf_data = pd.read_csv(\"midfielder_data.csv\")\n",
    "gk_data = pd.read_csv(\"goalkeeper_data.csv\")\n",
    "df_data = pd.read_csv(\"defender_data.csv\")\n",
    "at_data = pd.read_csv(\"attacker_data.csv\")"
   ]
  },
  {
   "cell_type": "code",
   "execution_count": 255,
   "id": "388f6abd-b48a-42d1-a2f6-8e81990c188b",
   "metadata": {},
   "outputs": [
    {
     "name": "stderr",
     "output_type": "stream",
     "text": [
      "/var/folders/x_/pzlfspq52sd41dygb97kcztm0000gn/T/ipykernel_8271/663454476.py:2: FutureWarning: The default value of regex will change from True to False in a future version. In addition, single character regular expressions will *not* be treated as literal strings when regex=True.\n",
      "  mf_data.columns = mf_data.columns.str.replace('.', '_')\n",
      "/var/folders/x_/pzlfspq52sd41dygb97kcztm0000gn/T/ipykernel_8271/663454476.py:6: FutureWarning: The default value of regex will change from True to False in a future version. In addition, single character regular expressions will *not* be treated as literal strings when regex=True.\n",
      "  gk_data.columns = gk_data.columns.str.replace('.', '_')\n"
     ]
    }
   ],
   "source": [
    "#do some renaming\n",
    "mf_data.columns = mf_data.columns.str.replace('.', '_')\n",
    "mf_data.columns = mf_data.columns.str.replace('___', '_')\n",
    "mf_data.columns = mf_data.columns.str.replace(' ', '_')\n",
    "\n",
    "gk_data.columns = gk_data.columns.str.replace('.', '_')\n",
    "gk_data.columns = gk_data.columns.str.replace('___', '_')\n",
    "gk_data.columns = gk_data.columns.str.replace(' ', '_')"
   ]
  },
  {
   "cell_type": "code",
   "execution_count": 298,
   "id": "982ca738-f429-4ceb-80b1-2c40742f2c28",
   "metadata": {},
   "outputs": [
    {
     "data": {
      "text/html": [
       "<div>\n",
       "<style scoped>\n",
       "    .dataframe tbody tr th:only-of-type {\n",
       "        vertical-align: middle;\n",
       "    }\n",
       "\n",
       "    .dataframe tbody tr th {\n",
       "        vertical-align: top;\n",
       "    }\n",
       "\n",
       "    .dataframe thead th {\n",
       "        text-align: right;\n",
       "    }\n",
       "</style>\n",
       "<table border=\"1\" class=\"dataframe\">\n",
       "  <thead>\n",
       "    <tr style=\"text-align: right;\">\n",
       "      <th></th>\n",
       "      <th>Name</th>\n",
       "      <th>Age</th>\n",
       "      <th>Overall.rating</th>\n",
       "      <th>Potential</th>\n",
       "      <th>Years Left</th>\n",
       "      <th>field_position</th>\n",
       "      <th>Value</th>\n",
       "      <th>Wage</th>\n",
       "      <th>Skill.moves</th>\n",
       "      <th>Total.attacking</th>\n",
       "      <th>Total.skill</th>\n",
       "      <th>Total.movement</th>\n",
       "      <th>Total.power</th>\n",
       "      <th>Total.mentality</th>\n",
       "      <th>Weak.foot</th>\n",
       "    </tr>\n",
       "  </thead>\n",
       "  <tbody>\n",
       "    <tr>\n",
       "      <th>5</th>\n",
       "      <td>A. Griezmann</td>\n",
       "      <td>27</td>\n",
       "      <td>89</td>\n",
       "      <td>89</td>\n",
       "      <td>4.0</td>\n",
       "      <td>Attacker</td>\n",
       "      <td>71000000.0</td>\n",
       "      <td>140000.0</td>\n",
       "      <td>4</td>\n",
       "      <td>426</td>\n",
       "      <td>425</td>\n",
       "      <td>435</td>\n",
       "      <td>402</td>\n",
       "      <td>381</td>\n",
       "      <td>3</td>\n",
       "    </tr>\n",
       "  </tbody>\n",
       "</table>\n",
       "</div>"
      ],
      "text/plain": [
       "           Name  Age  Overall.rating  Potential  Years Left field_position  \\\n",
       "5  A. Griezmann   27              89         89         4.0       Attacker   \n",
       "\n",
       "        Value      Wage  Skill.moves  Total.attacking  Total.skill  \\\n",
       "5  71000000.0  140000.0            4              426          425   \n",
       "\n",
       "   Total.movement  Total.power  Total.mentality  Weak.foot  \n",
       "5             435          402              381          3  "
      ]
     },
     "execution_count": 298,
     "metadata": {},
     "output_type": "execute_result"
    }
   ],
   "source": [
    "#sns.lineplot(data = train, x = \"h\", y = \"Value\")\n",
    "at_data.query(\"`Name` == 'A. Griezmann'\")"
   ]
  },
  {
   "cell_type": "code",
   "execution_count": 291,
   "id": "ddf1f663-6551-41d8-9542-dad259f5ad4a",
   "metadata": {},
   "outputs": [
    {
     "data": {
      "text/plain": [
       "'A. Griezmann'"
      ]
     },
     "execution_count": 291,
     "metadata": {},
     "output_type": "execute_result"
    }
   ],
   "source": [
    "at_data.Name"
   ]
  },
  {
   "cell_type": "code",
   "execution_count": 257,
   "id": "32465deb-cb38-45b9-866f-a920e73e07a9",
   "metadata": {},
   "outputs": [],
   "source": [
    "mf_data = mf_data.drop([\"field_position\"], axis = 1)\n",
    "mf_data = mf_data.drop([\"Name\"], axis = 1)\n",
    "mf_data = mf_data.dropna() #drops NA Values"
   ]
  },
  {
   "cell_type": "code",
   "execution_count": 258,
   "id": "37464a01-2d5f-4d9a-a18e-cc2361503567",
   "metadata": {},
   "outputs": [],
   "source": [
    "from sklearn.model_selection import train_test_split\n",
    "mf_train, mf_test = train_test_split(mf_data, test_size = .2, shuffle = True)\n",
    "\n",
    "\n",
    "#getting the target vector\n",
    "X_train_mf = mf_train.drop([\"Value\"], axis = 1)\n",
    "y_train_mf = mf_train[\"Value\"]\n",
    "\n",
    "X_test_mf = mf_test.drop([\"Value\"], axis = 1)\n",
    "y_test_mf = mf_test[\"Value\"]"
   ]
  },
  {
   "cell_type": "code",
   "execution_count": 259,
   "id": "7fe6e3eb-ad81-4b5c-891d-7c46a2586a86",
   "metadata": {},
   "outputs": [],
   "source": [
    "#from sklearn.preprocessing import StandardScaler\n",
    "#sc = StandardScaler()\n",
    "#normalized_X_train = sc.fit_transform(X_train)"
   ]
  },
  {
   "cell_type": "code",
   "execution_count": 260,
   "id": "aed29a01-8b1f-4d66-9939-683dd03fd7c0",
   "metadata": {},
   "outputs": [
    {
     "data": {
      "text/plain": [
       "0.8574553828329162"
      ]
     },
     "execution_count": 260,
     "metadata": {},
     "output_type": "execute_result"
    }
   ],
   "source": [
    "from sklearn.linear_model import Lasso\n",
    "\n",
    "\n",
    "from sklearn.linear_model import LinearRegression\n",
    "\n",
    "reg = LinearRegression().fit(X_train_mf, y_train_mf)\n",
    "reg.score(X_test_mf,y_test_mf)"
   ]
  },
  {
   "cell_type": "code",
   "execution_count": 261,
   "id": "c303abf7-8464-4b8c-8de2-3018e8396f50",
   "metadata": {},
   "outputs": [],
   "source": [
    "#reg.predict(X_test)"
   ]
  },
  {
   "cell_type": "code",
   "execution_count": 262,
   "id": "9c7db5ad-b601-4cbe-9f1a-f9d8f846871a",
   "metadata": {},
   "outputs": [],
   "source": [
    "#make a new dataframe with player and predicted market value"
   ]
  },
  {
   "cell_type": "code",
   "execution_count": 263,
   "id": "f707bfb0-f175-4bf1-8a02-d71764917757",
   "metadata": {},
   "outputs": [],
   "source": [
    "#X_test"
   ]
  },
  {
   "cell_type": "code",
   "execution_count": 264,
   "id": "af668373-d08e-4282-8da5-fa384a99ca48",
   "metadata": {},
   "outputs": [],
   "source": [
    "gk_data = gk_data.drop([\"field_position\"], axis = 1)\n",
    "gk_data = gk_data.drop([\"Name\"], axis = 1)\n",
    "gk_data = gk_data.dropna() #drops NA Values"
   ]
  },
  {
   "cell_type": "code",
   "execution_count": 265,
   "id": "b623ebce-511b-4b78-854a-2990f46fd460",
   "metadata": {},
   "outputs": [],
   "source": [
    "from sklearn.model_selection import train_test_split\n",
    "gk_train, gk_test = train_test_split(gk_data, test_size = .2, shuffle = True)\n",
    "\n",
    "\n",
    "#getting the target vector\n",
    "X_train_gk = gk_train.drop([\"Value\"], axis = 1)\n",
    "y_train_gk = gk_train[\"Value\"]\n",
    "\n",
    "X_test_gk = gk_test.drop([\"Value\"], axis = 1)\n",
    "y_test_gk = gk_test[\"Value\"]"
   ]
  },
  {
   "cell_type": "code",
   "execution_count": 266,
   "id": "a7200996-4096-4769-93e3-c530dc24b38d",
   "metadata": {},
   "outputs": [
    {
     "data": {
      "text/plain": [
       "0.9049225407525437"
      ]
     },
     "execution_count": 266,
     "metadata": {},
     "output_type": "execute_result"
    }
   ],
   "source": [
    "from sklearn.linear_model import LinearRegression\n",
    "\n",
    "reg2 = LinearRegression().fit(X_train_gk, y_train_gk)\n",
    "reg2.score(X_test_gk,y_test_gk)"
   ]
  },
  {
   "cell_type": "code",
   "execution_count": 267,
   "id": "d0197eb9-a2ef-4f6a-8edd-ecc70b9a13b5",
   "metadata": {},
   "outputs": [],
   "source": [
    "#mf_data #could use more specifics"
   ]
  },
  {
   "cell_type": "code",
   "execution_count": 268,
   "id": "a203b3bb-023d-42d4-8ff0-5fe2ce69b481",
   "metadata": {},
   "outputs": [],
   "source": [
    "df_data = df_data.drop([\"field_position\"], axis = 1)\n",
    "df_data = df_data.drop([\"Name\"], axis = 1)\n",
    "df_data = df_data.dropna() #drops NA Values"
   ]
  },
  {
   "cell_type": "code",
   "execution_count": 269,
   "id": "a7f825dc-3e88-4b53-b71e-4691a3f04605",
   "metadata": {},
   "outputs": [],
   "source": [
    "from sklearn.model_selection import train_test_split\n",
    "df_train, df_test = train_test_split(df_data, test_size = .2, shuffle = True)\n",
    "\n",
    "\n",
    "#getting the target vector\n",
    "X_train_df = df_train.drop([\"Value\"], axis = 1)\n",
    "y_train_df = df_train[\"Value\"]\n",
    "\n",
    "X_test_df = df_test.drop([\"Value\"], axis = 1)\n",
    "y_test_df = df_test[\"Value\"]"
   ]
  },
  {
   "cell_type": "code",
   "execution_count": 270,
   "id": "47a55af4-96f5-4807-b22a-3c9bc654bf52",
   "metadata": {},
   "outputs": [
    {
     "data": {
      "text/plain": [
       "0.8300071045277817"
      ]
     },
     "execution_count": 270,
     "metadata": {},
     "output_type": "execute_result"
    }
   ],
   "source": [
    "\n",
    "from sklearn.linear_model import LinearRegression\n",
    "\n",
    "reg3 = LinearRegression().fit(X_train_df, y_train_df)\n",
    "reg3.score(X_test_df,y_test_df)"
   ]
  },
  {
   "cell_type": "code",
   "execution_count": 369,
   "id": "8cb61fc7-1eb9-404c-bbf0-5deaece134cd",
   "metadata": {},
   "outputs": [],
   "source": [
    "#Testing\n",
    "at_data = pd.read_csv(\"attacker_data.csv\")\n",
    "at_data = at_data.dropna()"
   ]
  },
  {
   "cell_type": "code",
   "execution_count": 402,
   "id": "eb77d18f-d42e-4469-b5e6-b32dd2bf9f20",
   "metadata": {},
   "outputs": [],
   "source": [
    "from sklearn.model_selection import train_test_split\n",
    "at_train, at_test = train_test_split(at_data, test_size = .2, shuffle = True)\n",
    "\n",
    "final_at = pd.DataFrame(at_test, columns = [\"Name\"])\n",
    "final_at[\"actual\"] = at_test['Value'].copy()\n",
    "\n",
    "#final_at = final_at[\"actual\"] = at_test[\"Value\"] \n",
    "\n",
    "#getting the target vector\n",
    "X_train_at = at_train.drop([\"Value\"], axis = 1)\n",
    "y_train_at = at_train[\"Value\"]\n",
    "\n",
    "X_test_at = at_test.drop([\"Value\"], axis = 1)\n",
    "y_test_at = at_test[\"Value\"]"
   ]
  },
  {
   "cell_type": "code",
   "execution_count": 403,
   "id": "442ac613-c03c-4a28-a74d-22e30ec24aec",
   "metadata": {},
   "outputs": [
    {
     "data": {
      "text/html": [
       "<div>\n",
       "<style scoped>\n",
       "    .dataframe tbody tr th:only-of-type {\n",
       "        vertical-align: middle;\n",
       "    }\n",
       "\n",
       "    .dataframe tbody tr th {\n",
       "        vertical-align: top;\n",
       "    }\n",
       "\n",
       "    .dataframe thead th {\n",
       "        text-align: right;\n",
       "    }\n",
       "</style>\n",
       "<table border=\"1\" class=\"dataframe\">\n",
       "  <thead>\n",
       "    <tr style=\"text-align: right;\">\n",
       "      <th></th>\n",
       "      <th>Name</th>\n",
       "      <th>actual</th>\n",
       "    </tr>\n",
       "  </thead>\n",
       "  <tbody>\n",
       "    <tr>\n",
       "      <th>947</th>\n",
       "      <td>J. Pohjanpalo</td>\n",
       "      <td>4200000</td>\n",
       "    </tr>\n",
       "    <tr>\n",
       "      <th>1624</th>\n",
       "      <td>L. Mousset</td>\n",
       "      <td>2400000</td>\n",
       "    </tr>\n",
       "    <tr>\n",
       "      <th>522</th>\n",
       "      <td>D. Quintero</td>\n",
       "      <td>6500000</td>\n",
       "    </tr>\n",
       "    <tr>\n",
       "      <th>1434</th>\n",
       "      <td>D. Solanke</td>\n",
       "      <td>3500000</td>\n",
       "    </tr>\n",
       "    <tr>\n",
       "      <th>793</th>\n",
       "      <td>M. Vlap</td>\n",
       "      <td>6000000</td>\n",
       "    </tr>\n",
       "    <tr>\n",
       "      <th>...</th>\n",
       "      <td>...</td>\n",
       "      <td>...</td>\n",
       "    </tr>\n",
       "    <tr>\n",
       "      <th>545</th>\n",
       "      <td>Rubén Castro</td>\n",
       "      <td>1900000</td>\n",
       "    </tr>\n",
       "    <tr>\n",
       "      <th>82</th>\n",
       "      <td>M. Balotelli</td>\n",
       "      <td>23500000</td>\n",
       "    </tr>\n",
       "    <tr>\n",
       "      <th>153</th>\n",
       "      <td>Mariano</td>\n",
       "      <td>16000000</td>\n",
       "    </tr>\n",
       "    <tr>\n",
       "      <th>1104</th>\n",
       "      <td>Josué da Feira</td>\n",
       "      <td>3400000</td>\n",
       "    </tr>\n",
       "    <tr>\n",
       "      <th>1292</th>\n",
       "      <td>R. van La Parra</td>\n",
       "      <td>2500000</td>\n",
       "    </tr>\n",
       "  </tbody>\n",
       "</table>\n",
       "<p>287 rows × 2 columns</p>\n",
       "</div>"
      ],
      "text/plain": [
       "                 Name   actual\n",
       "947     J. Pohjanpalo  4200000\n",
       "1624       L. Mousset  2400000\n",
       "522       D. Quintero  6500000\n",
       "1434       D. Solanke  3500000\n",
       "793           M. Vlap  6000000\n",
       "...               ...      ...\n",
       "545      Rubén Castro  1900000\n",
       "82       M. Balotelli 23500000\n",
       "153           Mariano 16000000\n",
       "1104   Josué da Feira  3400000\n",
       "1292  R. van La Parra  2500000\n",
       "\n",
       "[287 rows x 2 columns]"
      ]
     },
     "execution_count": 403,
     "metadata": {},
     "output_type": "execute_result"
    }
   ],
   "source": [
    "final_at"
   ]
  },
  {
   "cell_type": "code",
   "execution_count": 398,
   "id": "5439fa8f-2bca-4dd1-8e11-cd14ca634319",
   "metadata": {},
   "outputs": [
    {
     "data": {
      "text/html": [
       "<div>\n",
       "<style scoped>\n",
       "    .dataframe tbody tr th:only-of-type {\n",
       "        vertical-align: middle;\n",
       "    }\n",
       "\n",
       "    .dataframe tbody tr th {\n",
       "        vertical-align: top;\n",
       "    }\n",
       "\n",
       "    .dataframe thead th {\n",
       "        text-align: right;\n",
       "    }\n",
       "</style>\n",
       "<table border=\"1\" class=\"dataframe\">\n",
       "  <thead>\n",
       "    <tr style=\"text-align: right;\">\n",
       "      <th></th>\n",
       "      <th>Name</th>\n",
       "      <th>Age</th>\n",
       "      <th>Overall.rating</th>\n",
       "      <th>Potential</th>\n",
       "      <th>Years Left</th>\n",
       "      <th>field_position</th>\n",
       "      <th>Wage</th>\n",
       "      <th>Skill.moves</th>\n",
       "      <th>Total.attacking</th>\n",
       "      <th>Total.skill</th>\n",
       "      <th>Total.movement</th>\n",
       "      <th>Total.power</th>\n",
       "      <th>Total.mentality</th>\n",
       "      <th>Weak.foot</th>\n",
       "    </tr>\n",
       "  </thead>\n",
       "  <tbody>\n",
       "    <tr>\n",
       "      <th>984</th>\n",
       "      <td>G. Sunu</td>\n",
       "      <td>27</td>\n",
       "      <td>72</td>\n",
       "      <td>72</td>\n",
       "      <td>1</td>\n",
       "      <td>Attacker</td>\n",
       "      <td>10000</td>\n",
       "      <td>3</td>\n",
       "      <td>338</td>\n",
       "      <td>326</td>\n",
       "      <td>350</td>\n",
       "      <td>335</td>\n",
       "      <td>309</td>\n",
       "      <td>3</td>\n",
       "    </tr>\n",
       "    <tr>\n",
       "      <th>763</th>\n",
       "      <td>Salvi Sánchez</td>\n",
       "      <td>27</td>\n",
       "      <td>73</td>\n",
       "      <td>73</td>\n",
       "      <td>1</td>\n",
       "      <td>Attacker</td>\n",
       "      <td>10000</td>\n",
       "      <td>3</td>\n",
       "      <td>305</td>\n",
       "      <td>343</td>\n",
       "      <td>407</td>\n",
       "      <td>301</td>\n",
       "      <td>294</td>\n",
       "      <td>3</td>\n",
       "    </tr>\n",
       "    <tr>\n",
       "      <th>39</th>\n",
       "      <td>Iago Aspas</td>\n",
       "      <td>30</td>\n",
       "      <td>84</td>\n",
       "      <td>84</td>\n",
       "      <td>4</td>\n",
       "      <td>Attacker</td>\n",
       "      <td>50000</td>\n",
       "      <td>3</td>\n",
       "      <td>408</td>\n",
       "      <td>391</td>\n",
       "      <td>409</td>\n",
       "      <td>364</td>\n",
       "      <td>345</td>\n",
       "      <td>3</td>\n",
       "    </tr>\n",
       "    <tr>\n",
       "      <th>1700</th>\n",
       "      <td>Isma López  B</td>\n",
       "      <td>28</td>\n",
       "      <td>69</td>\n",
       "      <td>69</td>\n",
       "      <td>2</td>\n",
       "      <td>Attacker</td>\n",
       "      <td>6000</td>\n",
       "      <td>3</td>\n",
       "      <td>283</td>\n",
       "      <td>323</td>\n",
       "      <td>383</td>\n",
       "      <td>343</td>\n",
       "      <td>309</td>\n",
       "      <td>3</td>\n",
       "    </tr>\n",
       "    <tr>\n",
       "      <th>1117</th>\n",
       "      <td>D. Lainez</td>\n",
       "      <td>18</td>\n",
       "      <td>72</td>\n",
       "      <td>85</td>\n",
       "      <td>5</td>\n",
       "      <td>Attacker</td>\n",
       "      <td>8000</td>\n",
       "      <td>3</td>\n",
       "      <td>299</td>\n",
       "      <td>326</td>\n",
       "      <td>421</td>\n",
       "      <td>291</td>\n",
       "      <td>286</td>\n",
       "      <td>3</td>\n",
       "    </tr>\n",
       "    <tr>\n",
       "      <th>...</th>\n",
       "      <td>...</td>\n",
       "      <td>...</td>\n",
       "      <td>...</td>\n",
       "      <td>...</td>\n",
       "      <td>...</td>\n",
       "      <td>...</td>\n",
       "      <td>...</td>\n",
       "      <td>...</td>\n",
       "      <td>...</td>\n",
       "      <td>...</td>\n",
       "      <td>...</td>\n",
       "      <td>...</td>\n",
       "      <td>...</td>\n",
       "      <td>...</td>\n",
       "    </tr>\n",
       "    <tr>\n",
       "      <th>916</th>\n",
       "      <td>M. Pisano</td>\n",
       "      <td>26</td>\n",
       "      <td>73</td>\n",
       "      <td>73</td>\n",
       "      <td>4</td>\n",
       "      <td>Attacker</td>\n",
       "      <td>3000</td>\n",
       "      <td>4</td>\n",
       "      <td>301</td>\n",
       "      <td>358</td>\n",
       "      <td>401</td>\n",
       "      <td>301</td>\n",
       "      <td>273</td>\n",
       "      <td>3</td>\n",
       "    </tr>\n",
       "    <tr>\n",
       "      <th>1525</th>\n",
       "      <td>M. Robak</td>\n",
       "      <td>35</td>\n",
       "      <td>70</td>\n",
       "      <td>70</td>\n",
       "      <td>0</td>\n",
       "      <td>Attacker</td>\n",
       "      <td>5000</td>\n",
       "      <td>3</td>\n",
       "      <td>297</td>\n",
       "      <td>285</td>\n",
       "      <td>316</td>\n",
       "      <td>346</td>\n",
       "      <td>319</td>\n",
       "      <td>3</td>\n",
       "    </tr>\n",
       "    <tr>\n",
       "      <th>805</th>\n",
       "      <td>E. Mor</td>\n",
       "      <td>20</td>\n",
       "      <td>73</td>\n",
       "      <td>82</td>\n",
       "      <td>3</td>\n",
       "      <td>Attacker</td>\n",
       "      <td>15000</td>\n",
       "      <td>4</td>\n",
       "      <td>309</td>\n",
       "      <td>300</td>\n",
       "      <td>413</td>\n",
       "      <td>302</td>\n",
       "      <td>264</td>\n",
       "      <td>3</td>\n",
       "    </tr>\n",
       "    <tr>\n",
       "      <th>173</th>\n",
       "      <td>Elkeson</td>\n",
       "      <td>28</td>\n",
       "      <td>79</td>\n",
       "      <td>79</td>\n",
       "      <td>3</td>\n",
       "      <td>Attacker</td>\n",
       "      <td>30000</td>\n",
       "      <td>4</td>\n",
       "      <td>372</td>\n",
       "      <td>375</td>\n",
       "      <td>393</td>\n",
       "      <td>391</td>\n",
       "      <td>364</td>\n",
       "      <td>4</td>\n",
       "    </tr>\n",
       "    <tr>\n",
       "      <th>290</th>\n",
       "      <td>Garry Rodrigues</td>\n",
       "      <td>27</td>\n",
       "      <td>77</td>\n",
       "      <td>77</td>\n",
       "      <td>4</td>\n",
       "      <td>Attacker</td>\n",
       "      <td>40000</td>\n",
       "      <td>4</td>\n",
       "      <td>345</td>\n",
       "      <td>355</td>\n",
       "      <td>434</td>\n",
       "      <td>357</td>\n",
       "      <td>319</td>\n",
       "      <td>3</td>\n",
       "    </tr>\n",
       "  </tbody>\n",
       "</table>\n",
       "<p>287 rows × 14 columns</p>\n",
       "</div>"
      ],
      "text/plain": [
       "                 Name  Age  Overall.rating  Potential  Years Left  \\\n",
       "984           G. Sunu   27              72         72           1   \n",
       "763     Salvi Sánchez   27              73         73           1   \n",
       "39         Iago Aspas   30              84         84           4   \n",
       "1700    Isma López  B   28              69         69           2   \n",
       "1117        D. Lainez   18              72         85           5   \n",
       "...               ...  ...             ...        ...         ...   \n",
       "916         M. Pisano   26              73         73           4   \n",
       "1525         M. Robak   35              70         70           0   \n",
       "805            E. Mor   20              73         82           3   \n",
       "173           Elkeson   28              79         79           3   \n",
       "290   Garry Rodrigues   27              77         77           4   \n",
       "\n",
       "     field_position  Wage  Skill.moves  Total.attacking  Total.skill  \\\n",
       "984        Attacker 10000            3              338          326   \n",
       "763        Attacker 10000            3              305          343   \n",
       "39         Attacker 50000            3              408          391   \n",
       "1700       Attacker  6000            3              283          323   \n",
       "1117       Attacker  8000            3              299          326   \n",
       "...             ...   ...          ...              ...          ...   \n",
       "916        Attacker  3000            4              301          358   \n",
       "1525       Attacker  5000            3              297          285   \n",
       "805        Attacker 15000            4              309          300   \n",
       "173        Attacker 30000            4              372          375   \n",
       "290        Attacker 40000            4              345          355   \n",
       "\n",
       "      Total.movement  Total.power  Total.mentality  Weak.foot  \n",
       "984              350          335              309          3  \n",
       "763              407          301              294          3  \n",
       "39               409          364              345          3  \n",
       "1700             383          343              309          3  \n",
       "1117             421          291              286          3  \n",
       "...              ...          ...              ...        ...  \n",
       "916              401          301              273          3  \n",
       "1525             316          346              319          3  \n",
       "805              413          302              264          3  \n",
       "173              393          391              364          4  \n",
       "290              434          357              319          3  \n",
       "\n",
       "[287 rows x 14 columns]"
      ]
     },
     "execution_count": 398,
     "metadata": {},
     "output_type": "execute_result"
    }
   ],
   "source": [
    "X_test_at"
   ]
  },
  {
   "cell_type": "code",
   "execution_count": 404,
   "id": "524e01d0-b8e9-4323-9253-60b683e77092",
   "metadata": {},
   "outputs": [],
   "source": [
    "X_train_at = X_train_at.drop([\"field_position\"], axis = 1)\n",
    "X_train_at = X_train_at.drop([\"Name\"], axis = 1)\n",
    "\n",
    "\n",
    "\n",
    "X_test_at = X_test_at.drop([\"field_position\"], axis = 1)\n",
    "X_test_at = X_test_at.drop([\"Name\"], axis = 1)"
   ]
  },
  {
   "cell_type": "code",
   "execution_count": 405,
   "id": "9c557d81-2fe8-42cb-ba38-7c87ecf6d0ac",
   "metadata": {},
   "outputs": [],
   "source": [
    "\n",
    "from sklearn.linear_model import LinearRegression\n",
    "\n",
    "reg4 = LinearRegression().fit(X_train_at, y_train_at)\n",
    "reg4.score(X_test_at,y_test_at)\n",
    "predictions = reg4.predict(X_test_at)"
   ]
  },
  {
   "cell_type": "code",
   "execution_count": 407,
   "id": "76b272c2-a252-4031-a00e-cfa9c6b5acba",
   "metadata": {},
   "outputs": [],
   "source": [
    "final_at[\"predictions\"] = predictions"
   ]
  },
  {
   "cell_type": "code",
   "execution_count": 408,
   "id": "2b74a984-14f0-4f74-b8da-bfd9ee7332d9",
   "metadata": {},
   "outputs": [],
   "source": [
    "pd.options.display.float_format = '{:.0f}'.format"
   ]
  },
  {
   "cell_type": "code",
   "execution_count": 409,
   "id": "fb9b4686-1020-4038-b6ed-d2e7b7072b78",
   "metadata": {},
   "outputs": [
    {
     "data": {
      "text/html": [
       "<div>\n",
       "<style scoped>\n",
       "    .dataframe tbody tr th:only-of-type {\n",
       "        vertical-align: middle;\n",
       "    }\n",
       "\n",
       "    .dataframe tbody tr th {\n",
       "        vertical-align: top;\n",
       "    }\n",
       "\n",
       "    .dataframe thead th {\n",
       "        text-align: right;\n",
       "    }\n",
       "</style>\n",
       "<table border=\"1\" class=\"dataframe\">\n",
       "  <thead>\n",
       "    <tr style=\"text-align: right;\">\n",
       "      <th></th>\n",
       "      <th>Name</th>\n",
       "      <th>actual</th>\n",
       "      <th>predictions</th>\n",
       "    </tr>\n",
       "  </thead>\n",
       "  <tbody>\n",
       "    <tr>\n",
       "      <th>947</th>\n",
       "      <td>J. Pohjanpalo</td>\n",
       "      <td>4200000</td>\n",
       "      <td>6838106</td>\n",
       "    </tr>\n",
       "    <tr>\n",
       "      <th>1624</th>\n",
       "      <td>L. Mousset</td>\n",
       "      <td>2400000</td>\n",
       "      <td>4336576</td>\n",
       "    </tr>\n",
       "    <tr>\n",
       "      <th>522</th>\n",
       "      <td>D. Quintero</td>\n",
       "      <td>6500000</td>\n",
       "      <td>5710074</td>\n",
       "    </tr>\n",
       "    <tr>\n",
       "      <th>1434</th>\n",
       "      <td>D. Solanke</td>\n",
       "      <td>3500000</td>\n",
       "      <td>4658849</td>\n",
       "    </tr>\n",
       "    <tr>\n",
       "      <th>793</th>\n",
       "      <td>M. Vlap</td>\n",
       "      <td>6000000</td>\n",
       "      <td>6466678</td>\n",
       "    </tr>\n",
       "    <tr>\n",
       "      <th>...</th>\n",
       "      <td>...</td>\n",
       "      <td>...</td>\n",
       "      <td>...</td>\n",
       "    </tr>\n",
       "    <tr>\n",
       "      <th>545</th>\n",
       "      <td>Rubén Castro</td>\n",
       "      <td>1900000</td>\n",
       "      <td>2963545</td>\n",
       "    </tr>\n",
       "    <tr>\n",
       "      <th>82</th>\n",
       "      <td>M. Balotelli</td>\n",
       "      <td>23500000</td>\n",
       "      <td>23974132</td>\n",
       "    </tr>\n",
       "    <tr>\n",
       "      <th>153</th>\n",
       "      <td>Mariano</td>\n",
       "      <td>16000000</td>\n",
       "      <td>29194111</td>\n",
       "    </tr>\n",
       "    <tr>\n",
       "      <th>1104</th>\n",
       "      <td>Josué da Feira</td>\n",
       "      <td>3400000</td>\n",
       "      <td>3064473</td>\n",
       "    </tr>\n",
       "    <tr>\n",
       "      <th>1292</th>\n",
       "      <td>R. van La Parra</td>\n",
       "      <td>2500000</td>\n",
       "      <td>3185440</td>\n",
       "    </tr>\n",
       "  </tbody>\n",
       "</table>\n",
       "<p>287 rows × 3 columns</p>\n",
       "</div>"
      ],
      "text/plain": [
       "                 Name   actual  predictions\n",
       "947     J. Pohjanpalo  4200000      6838106\n",
       "1624       L. Mousset  2400000      4336576\n",
       "522       D. Quintero  6500000      5710074\n",
       "1434       D. Solanke  3500000      4658849\n",
       "793           M. Vlap  6000000      6466678\n",
       "...               ...      ...          ...\n",
       "545      Rubén Castro  1900000      2963545\n",
       "82       M. Balotelli 23500000     23974132\n",
       "153           Mariano 16000000     29194111\n",
       "1104   Josué da Feira  3400000      3064473\n",
       "1292  R. van La Parra  2500000      3185440\n",
       "\n",
       "[287 rows x 3 columns]"
      ]
     },
     "execution_count": 409,
     "metadata": {},
     "output_type": "execute_result"
    }
   ],
   "source": [
    "final_at"
   ]
  },
  {
   "cell_type": "code",
   "execution_count": null,
   "id": "6556c443-9cfa-4067-ba9f-380277fd7d1a",
   "metadata": {},
   "outputs": [],
   "source": [
    "#should we focus on optimizing this model for rn?\n",
    "#or\n",
    "#add real player stats (not collected yet) and try to switch out target vector to tranfermrkt.com values (still subjective, not collected)\n",
    "###just testing how good fifa's predictions are compared to tranfsermrkt.com; ehh\n",
    "\n",
    "#I THINK THIS IS THE MOVE; #COSIGNED BY PHIL + DO MACHINE LEARNY STUFF\n",
    "#add (merge) club data (collected) and try to predict transfer fees (not collected) for that year; not every player has tranfer fees (target vector will be smaller than #samples)\n",
    "#do we have to tailor make the test set to only include players that have tranfer fees?? eh\n",
    "#use all players for training, but only players with tranfer fees for testing\n",
    "#gonna be hard to get tranfer fees on here\n",
    "\n",
    "\n",
    "\n",
    "#250 available, but we have over 1400 players in our \n",
    "\n",
    "\n",
    "#misc: is it cheating to train multiple times and choose the training set that produces best parameter vector (based on score on validation test)\n",
    "\n",
    "\n",
    "#completely different problem but it's ok\n",
    "\n",
    "#Do some experimentation stuff w/ different models, etc.s\n",
    "\n"
   ]
  },
  {
   "cell_type": "code",
   "execution_count": 197,
   "id": "58b61b12-84df-4da6-a99b-1499d400cf87",
   "metadata": {},
   "outputs": [
    {
     "data": {
      "text/plain": [
       "<AxesSubplot: xlabel='Years_Left', ylabel='Value'>"
      ]
     },
     "execution_count": 197,
     "metadata": {},
     "output_type": "execute_result"
    },
    {
     "data": {
      "image/png": "[encoded data removed]",
      "text/plain": [
       "<Figure size 640x480 with 1 Axes>"
      ]
     },
     "metadata": {},
     "output_type": "display_data"
    }
   ],
   "source": [
    "sns.barplot(data = train, x = \"Years_Left\", y = \"Value\")"
   ]
  },
  {
   "cell_type": "code",
   "execution_count": 198,
   "id": "bcb8dd3b-bb35-4530-9a71-481d40d35d6c",
   "metadata": {},
   "outputs": [
    {
     "data": {
      "text/plain": [
       "<AxesSubplot: xlabel='Skill_moves', ylabel='Value'>"
      ]
     },
     "execution_count": 198,
     "metadata": {},
     "output_type": "execute_result"
    },
    {
     "data": {
      "image/png": "[encoded data removed]",
      "text/plain": [
       "<Figure size 640x480 with 1 Axes>"
      ]
     },
     "metadata": {},
     "output_type": "display_data"
    }
   ],
   "source": [
    "sns.barplot(data = train, x = \"Skill_moves\", y = \"Value\")"
   ]
  },
  {
   "cell_type": "code",
   "execution_count": 196,
   "id": "4d096257-366b-4527-8f67-d58e5022d8b6",
   "metadata": {},
   "outputs": [
    {
     "data": {
      "text/plain": [
       "<AxesSubplot: xlabel='Overall_rating', ylabel='Value'>"
      ]
     },
     "execution_count": 196,
     "metadata": {},
     "output_type": "execute_result"
    },
    {
     "data": {
      "image/png": "[encoded data removed]",
      "text/plain": [
       "<Figure size 640x480 with 1 Axes>"
      ]
     },
     "metadata": {},
     "output_type": "display_data"
    }
   ],
   "source": [
    "sns.lineplot(data = train, x = \"Overall_rating\", y = \"Value\")"
   ]
  }
 ],
 "metadata": {
  "kernelspec": {
   "display_name": "Python [conda env:ml-0451] *",
   "language": "python",
   "name": "conda-env-ml-0451-py"
  },
  "language_info": {
   "codemirror_mode": {
    "name": "ipython",
    "version": 3
   },
   "file_extension": ".py",
   "mimetype": "text/x-python",
   "name": "python",
   "nbconvert_exporter": "python",
   "pygments_lexer": "ipython3",
   "version": "3.9.16"
  }
 },
 "nbformat": 4,
 "nbformat_minor": 5
}
