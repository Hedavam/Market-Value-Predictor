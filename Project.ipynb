{
 "cells": [
  {
   "cell_type": "code",
   "execution_count": 3,
   "id": "8f1bbb29-38bd-4b0c-baf3-5cef7310c81b",
   "metadata": {},
   "outputs": [],
   "source": [
    "import pandas as pd\n",
    "import numpy as np\n",
    "import seaborn as sns\n",
    "import matplotlib.pyplot as plt"
   ]
  },
  {
   "cell_type": "markdown",
   "id": "81dc50c0-5731-44a9-9f65-1f4ec63b5e58",
   "metadata": {
    "jp-MarkdownHeadingCollapsed": true,
    "tags": []
   },
   "source": [
    "# Market Value Model "
   ]
  },
  {
   "cell_type": "code",
   "execution_count": 333,
   "id": "f6e2028e-f8b3-4e59-9d15-dc7082f2f36f",
   "metadata": {},
   "outputs": [],
   "source": [
    "value_all_players = pd.read_csv(\"upd_pldata.csv\")\n",
    "value_all_data = value_all_players.dropna()"
   ]
  },
  {
   "cell_type": "code",
   "execution_count": 334,
   "id": "3be5ec36-5775-4134-ab1f-bf2f24374e3d",
   "metadata": {},
   "outputs": [
    {
     "name": "stderr",
     "output_type": "stream",
     "text": [
      "/var/folders/x_/pzlfspq52sd41dygb97kcztm0000gn/T/ipykernel_25712/1519655258.py:1: FutureWarning: The default value of regex will change from True to False in a future version. In addition, single character regular expressions will *not* be treated as literal strings when regex=True.\n",
      "  value_all_players.columns = value_all_players.columns.str.replace('.', '_')\n"
     ]
    }
   ],
   "source": [
    "value_all_players.columns = value_all_players.columns.str.replace('.', '_')\n",
    "value_all_players.columns = value_all_players.columns.str.replace('___', '_')\n",
    "value_all_players.columns = value_all_players.columns.str.replace(' ', '_')"
   ]
  },
  {
   "cell_type": "code",
   "execution_count": 335,
   "id": "acd2c65a-582b-4a11-9b50-b24b448589ce",
   "metadata": {},
   "outputs": [],
   "source": [
    "final_value_all_players = pd.DataFrame(value_all_players, columns = [\"Name\"])\n",
    "final_value_all_players[\"actual\"] = value_all_players['Value'].copy()"
   ]
  },
  {
   "cell_type": "code",
   "execution_count": 336,
   "id": "e6b5f13d-863e-45fb-a700-0023c8957fae",
   "metadata": {},
   "outputs": [],
   "source": [
    "from sklearn.model_selection import train_test_split\n",
    "value_all_train, value_all_test = train_test_split(value_all_players, test_size = .2, shuffle = True)\n",
    "\n",
    "#final_value_all_players = pd.DataFrame(at_test, columns = [\"Name\"])\n",
    "#final_value_all_players[\"actual\"] = at_test['Value'].copy()\n",
    "\n",
    "\n",
    "#getting the target vector and deleting it from feature matrix\n",
    "\n",
    "X_train_value = value_all_train.dropna(how='any', inplace=True)\n",
    "X_train_value = value_all_train.drop([\"Value\"], axis = 1)\n",
    "y_train_value = value_all_train[\"Value\"]\n",
    "\n",
    "\n",
    "\n",
    "X_test_value = value_all_test.dropna(how='any', inplace=True)\n",
    "X_test_value = value_all_test.drop([\"Value\"], axis = 1)\n",
    "y_test_value = value_all_test[\"Value\"]\n",
    "\n",
    "X_train_value = X_train_value.drop([\"field_position\"], axis = 1)\n",
    "X_train_value = X_train_value.drop([\"Name\"], axis = 1)\n",
    "\n",
    "\n",
    "\n",
    "\n",
    "X_test_value = X_test_value.drop([\"field_position\"], axis = 1)\n",
    "X_test_value = X_test_value.drop([\"Name\"], axis = 1)\n",
    "\n",
    "# print(X_train_value_all)\n",
    "#from sklearn.preprocessing import StandardScaler\n",
    "#sc = StandardScaler()\n",
    "#X_train_value_all = sc.fit_transform(X_train_value_all)\n",
    "#y_train_value_all = sc.fit_transform(y_train_value_all)\n",
    "\n",
    "#X_test_value_all = sc.fit_transform(X_test_value_all)\n",
    "#y_test_value_all = sc.fit_transform(y_test_value_all)"
   ]
  },
  {
   "cell_type": "code",
   "execution_count": 337,
   "id": "abb3a42d-cd1f-4794-935e-c2710016eee8",
   "metadata": {},
   "outputs": [],
   "source": [
    "#X_train_value_all.dropna(how='any', inplace=True)"
   ]
  },
  {
   "cell_type": "code",
   "execution_count": 338,
   "id": "746e9c60-3cfd-4e63-9130-4bbfb5765fd6",
   "metadata": {},
   "outputs": [
    {
     "data": {
      "text/html": [
       "<div>\n",
       "<style scoped>\n",
       "    .dataframe tbody tr th:only-of-type {\n",
       "        vertical-align: middle;\n",
       "    }\n",
       "\n",
       "    .dataframe tbody tr th {\n",
       "        vertical-align: top;\n",
       "    }\n",
       "\n",
       "    .dataframe thead th {\n",
       "        text-align: right;\n",
       "    }\n",
       "</style>\n",
       "<table border=\"1\" class=\"dataframe\">\n",
       "  <thead>\n",
       "    <tr style=\"text-align: right;\">\n",
       "      <th></th>\n",
       "      <th>Age</th>\n",
       "      <th>Overall_rating</th>\n",
       "      <th>Potential</th>\n",
       "      <th>Years_Left</th>\n",
       "      <th>Total_stats</th>\n",
       "      <th>Wage</th>\n",
       "      <th>Release_clause</th>\n",
       "      <th>Total_attacking</th>\n",
       "      <th>Crossing</th>\n",
       "      <th>Finishing</th>\n",
       "      <th>...</th>\n",
       "      <th>GK_Positioning</th>\n",
       "      <th>GK_Reflexes</th>\n",
       "      <th>Weak_foot</th>\n",
       "      <th>Skill_moves</th>\n",
       "      <th>Pace_Diving</th>\n",
       "      <th>Shooting_Handling</th>\n",
       "      <th>Passing_Kicking</th>\n",
       "      <th>Dribbling_Reflexes</th>\n",
       "      <th>Defending_Pace</th>\n",
       "      <th>Physical_Positioning</th>\n",
       "    </tr>\n",
       "  </thead>\n",
       "  <tbody>\n",
       "    <tr>\n",
       "      <th>2503</th>\n",
       "      <td>22</td>\n",
       "      <td>74</td>\n",
       "      <td>79</td>\n",
       "      <td>4.0</td>\n",
       "      <td>1819</td>\n",
       "      <td>30000.0</td>\n",
       "      <td>12800000.0</td>\n",
       "      <td>310</td>\n",
       "      <td>76</td>\n",
       "      <td>53</td>\n",
       "      <td>...</td>\n",
       "      <td>6</td>\n",
       "      <td>8</td>\n",
       "      <td>2</td>\n",
       "      <td>2</td>\n",
       "      <td>69</td>\n",
       "      <td>56</td>\n",
       "      <td>69</td>\n",
       "      <td>65</td>\n",
       "      <td>74</td>\n",
       "      <td>66</td>\n",
       "    </tr>\n",
       "    <tr>\n",
       "      <th>1447</th>\n",
       "      <td>32</td>\n",
       "      <td>76</td>\n",
       "      <td>76</td>\n",
       "      <td>0.0</td>\n",
       "      <td>1966</td>\n",
       "      <td>30000.0</td>\n",
       "      <td>10200000.0</td>\n",
       "      <td>368</td>\n",
       "      <td>67</td>\n",
       "      <td>73</td>\n",
       "      <td>...</td>\n",
       "      <td>7</td>\n",
       "      <td>8</td>\n",
       "      <td>4</td>\n",
       "      <td>2</td>\n",
       "      <td>38</td>\n",
       "      <td>74</td>\n",
       "      <td>72</td>\n",
       "      <td>68</td>\n",
       "      <td>74</td>\n",
       "      <td>77</td>\n",
       "    </tr>\n",
       "    <tr>\n",
       "      <th>5450</th>\n",
       "      <td>28</td>\n",
       "      <td>70</td>\n",
       "      <td>70</td>\n",
       "      <td>2.0</td>\n",
       "      <td>1692</td>\n",
       "      <td>7000.0</td>\n",
       "      <td>2400000.0</td>\n",
       "      <td>319</td>\n",
       "      <td>46</td>\n",
       "      <td>71</td>\n",
       "      <td>...</td>\n",
       "      <td>14</td>\n",
       "      <td>12</td>\n",
       "      <td>3</td>\n",
       "      <td>2</td>\n",
       "      <td>57</td>\n",
       "      <td>70</td>\n",
       "      <td>57</td>\n",
       "      <td>61</td>\n",
       "      <td>39</td>\n",
       "      <td>67</td>\n",
       "    </tr>\n",
       "    <tr>\n",
       "      <th>4604</th>\n",
       "      <td>22</td>\n",
       "      <td>71</td>\n",
       "      <td>78</td>\n",
       "      <td>3.0</td>\n",
       "      <td>1727</td>\n",
       "      <td>15000.0</td>\n",
       "      <td>5900000.0</td>\n",
       "      <td>251</td>\n",
       "      <td>68</td>\n",
       "      <td>30</td>\n",
       "      <td>...</td>\n",
       "      <td>14</td>\n",
       "      <td>9</td>\n",
       "      <td>3</td>\n",
       "      <td>3</td>\n",
       "      <td>81</td>\n",
       "      <td>34</td>\n",
       "      <td>59</td>\n",
       "      <td>70</td>\n",
       "      <td>68</td>\n",
       "      <td>66</td>\n",
       "    </tr>\n",
       "    <tr>\n",
       "      <th>3198</th>\n",
       "      <td>28</td>\n",
       "      <td>73</td>\n",
       "      <td>73</td>\n",
       "      <td>1.0</td>\n",
       "      <td>2013</td>\n",
       "      <td>9000.0</td>\n",
       "      <td>5200000.0</td>\n",
       "      <td>315</td>\n",
       "      <td>73</td>\n",
       "      <td>66</td>\n",
       "      <td>...</td>\n",
       "      <td>6</td>\n",
       "      <td>10</td>\n",
       "      <td>3</td>\n",
       "      <td>3</td>\n",
       "      <td>64</td>\n",
       "      <td>71</td>\n",
       "      <td>75</td>\n",
       "      <td>70</td>\n",
       "      <td>65</td>\n",
       "      <td>75</td>\n",
       "    </tr>\n",
       "    <tr>\n",
       "      <th>...</th>\n",
       "      <td>...</td>\n",
       "      <td>...</td>\n",
       "      <td>...</td>\n",
       "      <td>...</td>\n",
       "      <td>...</td>\n",
       "      <td>...</td>\n",
       "      <td>...</td>\n",
       "      <td>...</td>\n",
       "      <td>...</td>\n",
       "      <td>...</td>\n",
       "      <td>...</td>\n",
       "      <td>...</td>\n",
       "      <td>...</td>\n",
       "      <td>...</td>\n",
       "      <td>...</td>\n",
       "      <td>...</td>\n",
       "      <td>...</td>\n",
       "      <td>...</td>\n",
       "      <td>...</td>\n",
       "      <td>...</td>\n",
       "      <td>...</td>\n",
       "    </tr>\n",
       "    <tr>\n",
       "      <th>3914</th>\n",
       "      <td>24</td>\n",
       "      <td>72</td>\n",
       "      <td>77</td>\n",
       "      <td>3.0</td>\n",
       "      <td>1890</td>\n",
       "      <td>10000.0</td>\n",
       "      <td>8500000.0</td>\n",
       "      <td>306</td>\n",
       "      <td>56</td>\n",
       "      <td>55</td>\n",
       "      <td>...</td>\n",
       "      <td>13</td>\n",
       "      <td>14</td>\n",
       "      <td>4</td>\n",
       "      <td>3</td>\n",
       "      <td>66</td>\n",
       "      <td>64</td>\n",
       "      <td>68</td>\n",
       "      <td>69</td>\n",
       "      <td>66</td>\n",
       "      <td>67</td>\n",
       "    </tr>\n",
       "    <tr>\n",
       "      <th>1349</th>\n",
       "      <td>33</td>\n",
       "      <td>76</td>\n",
       "      <td>76</td>\n",
       "      <td>0.0</td>\n",
       "      <td>1911</td>\n",
       "      <td>60000.0</td>\n",
       "      <td>9200000.0</td>\n",
       "      <td>378</td>\n",
       "      <td>66</td>\n",
       "      <td>77</td>\n",
       "      <td>...</td>\n",
       "      <td>9</td>\n",
       "      <td>6</td>\n",
       "      <td>4</td>\n",
       "      <td>3</td>\n",
       "      <td>58</td>\n",
       "      <td>77</td>\n",
       "      <td>71</td>\n",
       "      <td>73</td>\n",
       "      <td>43</td>\n",
       "      <td>67</td>\n",
       "    </tr>\n",
       "    <tr>\n",
       "      <th>3560</th>\n",
       "      <td>21</td>\n",
       "      <td>72</td>\n",
       "      <td>75</td>\n",
       "      <td>1.0</td>\n",
       "      <td>1907</td>\n",
       "      <td>5000.0</td>\n",
       "      <td>6300000.0</td>\n",
       "      <td>302</td>\n",
       "      <td>55</td>\n",
       "      <td>62</td>\n",
       "      <td>...</td>\n",
       "      <td>10</td>\n",
       "      <td>12</td>\n",
       "      <td>4</td>\n",
       "      <td>3</td>\n",
       "      <td>86</td>\n",
       "      <td>63</td>\n",
       "      <td>64</td>\n",
       "      <td>75</td>\n",
       "      <td>62</td>\n",
       "      <td>57</td>\n",
       "    </tr>\n",
       "    <tr>\n",
       "      <th>2085</th>\n",
       "      <td>37</td>\n",
       "      <td>75</td>\n",
       "      <td>75</td>\n",
       "      <td>1.0</td>\n",
       "      <td>1164</td>\n",
       "      <td>10000.0</td>\n",
       "      <td>765000.0</td>\n",
       "      <td>87</td>\n",
       "      <td>17</td>\n",
       "      <td>12</td>\n",
       "      <td>...</td>\n",
       "      <td>78</td>\n",
       "      <td>74</td>\n",
       "      <td>3</td>\n",
       "      <td>1</td>\n",
       "      <td>72</td>\n",
       "      <td>77</td>\n",
       "      <td>68</td>\n",
       "      <td>74</td>\n",
       "      <td>39</td>\n",
       "      <td>78</td>\n",
       "    </tr>\n",
       "    <tr>\n",
       "      <th>2070</th>\n",
       "      <td>23</td>\n",
       "      <td>75</td>\n",
       "      <td>80</td>\n",
       "      <td>1.0</td>\n",
       "      <td>1728</td>\n",
       "      <td>9000.0</td>\n",
       "      <td>12600000.0</td>\n",
       "      <td>280</td>\n",
       "      <td>73</td>\n",
       "      <td>45</td>\n",
       "      <td>...</td>\n",
       "      <td>6</td>\n",
       "      <td>8</td>\n",
       "      <td>3</td>\n",
       "      <td>2</td>\n",
       "      <td>71</td>\n",
       "      <td>42</td>\n",
       "      <td>60</td>\n",
       "      <td>63</td>\n",
       "      <td>74</td>\n",
       "      <td>71</td>\n",
       "    </tr>\n",
       "  </tbody>\n",
       "</table>\n",
       "<p>4005 rows × 56 columns</p>\n",
       "</div>"
      ],
      "text/plain": [
       "      Age  Overall_rating  Potential  Years_Left  Total_stats     Wage  \\\n",
       "2503   22              74         79         4.0         1819  30000.0   \n",
       "1447   32              76         76         0.0         1966  30000.0   \n",
       "5450   28              70         70         2.0         1692   7000.0   \n",
       "4604   22              71         78         3.0         1727  15000.0   \n",
       "3198   28              73         73         1.0         2013   9000.0   \n",
       "...   ...             ...        ...         ...          ...      ...   \n",
       "3914   24              72         77         3.0         1890  10000.0   \n",
       "1349   33              76         76         0.0         1911  60000.0   \n",
       "3560   21              72         75         1.0         1907   5000.0   \n",
       "2085   37              75         75         1.0         1164  10000.0   \n",
       "2070   23              75         80         1.0         1728   9000.0   \n",
       "\n",
       "      Release_clause  Total_attacking  Crossing  Finishing  ...  \\\n",
       "2503      12800000.0              310        76         53  ...   \n",
       "1447      10200000.0              368        67         73  ...   \n",
       "5450       2400000.0              319        46         71  ...   \n",
       "4604       5900000.0              251        68         30  ...   \n",
       "3198       5200000.0              315        73         66  ...   \n",
       "...              ...              ...       ...        ...  ...   \n",
       "3914       8500000.0              306        56         55  ...   \n",
       "1349       9200000.0              378        66         77  ...   \n",
       "3560       6300000.0              302        55         62  ...   \n",
       "2085        765000.0               87        17         12  ...   \n",
       "2070      12600000.0              280        73         45  ...   \n",
       "\n",
       "      GK_Positioning  GK_Reflexes  Weak_foot  Skill_moves  Pace_Diving  \\\n",
       "2503               6            8          2            2           69   \n",
       "1447               7            8          4            2           38   \n",
       "5450              14           12          3            2           57   \n",
       "4604              14            9          3            3           81   \n",
       "3198               6           10          3            3           64   \n",
       "...              ...          ...        ...          ...          ...   \n",
       "3914              13           14          4            3           66   \n",
       "1349               9            6          4            3           58   \n",
       "3560              10           12          4            3           86   \n",
       "2085              78           74          3            1           72   \n",
       "2070               6            8          3            2           71   \n",
       "\n",
       "      Shooting_Handling  Passing_Kicking  Dribbling_Reflexes  Defending_Pace  \\\n",
       "2503                 56               69                  65              74   \n",
       "1447                 74               72                  68              74   \n",
       "5450                 70               57                  61              39   \n",
       "4604                 34               59                  70              68   \n",
       "3198                 71               75                  70              65   \n",
       "...                 ...              ...                 ...             ...   \n",
       "3914                 64               68                  69              66   \n",
       "1349                 77               71                  73              43   \n",
       "3560                 63               64                  75              62   \n",
       "2085                 77               68                  74              39   \n",
       "2070                 42               60                  63              74   \n",
       "\n",
       "      Physical_Positioning  \n",
       "2503                    66  \n",
       "1447                    77  \n",
       "5450                    67  \n",
       "4604                    66  \n",
       "3198                    75  \n",
       "...                    ...  \n",
       "3914                    67  \n",
       "1349                    67  \n",
       "3560                    57  \n",
       "2085                    78  \n",
       "2070                    71  \n",
       "\n",
       "[4005 rows x 56 columns]"
      ]
     },
     "execution_count": 338,
     "metadata": {},
     "output_type": "execute_result"
    }
   ],
   "source": [
    "X_train_value"
   ]
  },
  {
   "cell_type": "code",
   "execution_count": 339,
   "id": "679ba545-d369-40ed-871a-ac2a2d8dea0f",
   "metadata": {},
   "outputs": [
    {
     "data": {
      "text/plain": [
       "Index(['Age', 'Overall_rating', 'Potential', 'Years_Left', 'Total_stats',\n",
       "       'Wage', 'Release_clause', 'Total_attacking', 'Crossing', 'Finishing',\n",
       "       'Heading_accuracy', 'Short_passing', 'Volleys', 'Total_skill',\n",
       "       'Dribbling', 'Curve', 'FK_Accuracy', 'Long_passing', 'Ball_control',\n",
       "       'Total_movement', 'Acceleration', 'Sprint_speed', 'Agility',\n",
       "       'Reactions', 'Balance', 'Total_power', 'Shot_power', 'Jumping',\n",
       "       'Stamina', 'Strength', 'Long_shots', 'Total_mentality', 'Aggression',\n",
       "       'Interceptions', 'Positioning', 'Vision', 'Penalties', 'Composure',\n",
       "       'Total_defending', 'Marking', 'Standing_tackle', 'Sliding_tackle',\n",
       "       'Total_goalkeeping', 'GK_Diving', 'GK_Handling', 'GK_Kicking',\n",
       "       'GK_Positioning', 'GK_Reflexes', 'Weak_foot', 'Skill_moves',\n",
       "       'Pace_Diving', 'Shooting_Handling', 'Passing_Kicking',\n",
       "       'Dribbling_Reflexes', 'Defending_Pace', 'Physical_Positioning'],\n",
       "      dtype='object')"
      ]
     },
     "execution_count": 339,
     "metadata": {},
     "output_type": "execute_result"
    }
   ],
   "source": [
    "X_train_value.columns"
   ]
  },
  {
   "cell_type": "markdown",
   "id": "51dea814-9cae-463c-b768-2da58fa2fb57",
   "metadata": {},
   "source": [
    "## Feature Selection"
   ]
  },
  {
   "cell_type": "code",
   "execution_count": 340,
   "id": "b4b71b76-31e5-4d14-a4e8-914bd8625cfa",
   "metadata": {},
   "outputs": [
    {
     "data": {
      "text/plain": [
       "array([0.4905856 , 1.03841895, 1.05968144, 0.07246043, 0.20571659,\n",
       "       0.35662188, 2.27805299, 0.17748061, 0.07192862, 0.09929788,\n",
       "       0.0547768 , 0.21217571, 0.06703996, 0.14562138, 0.24314665,\n",
       "       0.07669758, 0.02859152, 0.10846393, 0.30271662, 0.07794648,\n",
       "       0.0932485 , 0.08023595, 0.04050479, 0.37264494, 0.05031291,\n",
       "       0.09875495, 0.0744433 , 0.01151016, 0.07537393, 0.01365796,\n",
       "       0.10309282, 0.12301613, 0.02014485, 0.16093953, 0.16626519,\n",
       "       0.14282174, 0.04919805, 0.19878933, 0.21252084, 0.13281367,\n",
       "       0.18756584, 0.16174314, 0.06511414, 0.03866179, 0.05858453,\n",
       "       0.01639181, 0.040265  , 0.06966433, 0.01257774, 0.12304478,\n",
       "       0.06456738, 0.16737898, 0.17501522, 0.25705098, 0.19539382,\n",
       "       0.06036168])"
      ]
     },
     "execution_count": 340,
     "metadata": {},
     "output_type": "execute_result"
    }
   ],
   "source": [
    "from sklearn.feature_selection import mutual_info_regression\n",
    "mutual_info = mutual_info_regression(X_train_value, y_train_value)\n",
    "mutual_info"
   ]
  },
  {
   "cell_type": "code",
   "execution_count": 341,
   "id": "de735694-501d-49e0-822c-3a0a6b38223e",
   "metadata": {},
   "outputs": [],
   "source": [
    "mutual_info = pd.Series(mutual_info)\n",
    "mutual_info.index = X_train_value.columns\n",
    "ordered_mutual_info = mutual_info.sort_values(ascending=False)"
   ]
  },
  {
   "cell_type": "code",
   "execution_count": 342,
   "id": "6c5a04c7-1e67-4015-b168-7cd47c3da7c5",
   "metadata": {},
   "outputs": [
    {
     "data": {
      "text/plain": [
       "<AxesSubplot: >"
      ]
     },
     "execution_count": 342,
     "metadata": {},
     "output_type": "execute_result"
    },
    {
     "data": {
      "image/png": "[encoded data removed]",
      "text/plain": [
       "<Figure size 1500x500 with 1 Axes>"
      ]
     },
     "metadata": {},
     "output_type": "display_data"
    }
   ],
   "source": [
    "mutual_info.sort_values(ascending=False).plot.bar(figsize=(15,5))"
   ]
  },
  {
   "cell_type": "code",
   "execution_count": 343,
   "id": "fa10e9a3-1bdb-471a-a5a7-308e823e13ef",
   "metadata": {},
   "outputs": [
    {
     "data": {
      "text/plain": [
       "array([ True,  True,  True, False,  True,  True,  True,  True, False,\n",
       "       False, False,  True, False, False,  True, False, False, False,\n",
       "        True, False, False, False, False,  True, False, False, False,\n",
       "       False, False, False, False, False, False, False, False, False,\n",
       "       False,  True,  True, False,  True, False, False, False, False,\n",
       "       False, False, False, False, False, False, False,  True,  True,\n",
       "        True, False])"
      ]
     },
     "execution_count": 343,
     "metadata": {},
     "output_type": "execute_result"
    }
   ],
   "source": [
    "from sklearn.feature_selection import SelectPercentile\n",
    "selected_top_columns = SelectPercentile(mutual_info_regression, percentile=30)\n",
    "selected_top_columns.fit(X_train_value, y_train_value)\n",
    "selected_top_columns.get_support()"
   ]
  },
  {
   "cell_type": "code",
   "execution_count": 344,
   "id": "8a5a5d08-b864-4c12-bde2-c00bd43fac92",
   "metadata": {},
   "outputs": [
    {
     "data": {
      "text/plain": [
       "Index(['Age', 'Overall_rating', 'Potential', 'Total_stats', 'Wage',\n",
       "       'Release_clause', 'Total_attacking', 'Short_passing', 'Dribbling',\n",
       "       'Ball_control', 'Reactions', 'Composure', 'Total_defending',\n",
       "       'Standing_tackle', 'Passing_Kicking', 'Dribbling_Reflexes',\n",
       "       'Defending_Pace'],\n",
       "      dtype='object')"
      ]
     },
     "execution_count": 344,
     "metadata": {},
     "output_type": "execute_result"
    }
   ],
   "source": [
    "X_train_value.columns[selected_top_columns.get_support()]"
   ]
  },
  {
   "cell_type": "code",
   "execution_count": 345,
   "id": "483f77f5-b5c7-4c69-892d-1d62800ee6dd",
   "metadata": {},
   "outputs": [],
   "source": [
    "X_train_value_sel = X_train_value[['Age', 'Overall_rating', 'Potential', 'Total_stats', 'Wage',\n",
    "       'Release_clause', 'Total_attacking', 'Short_passing', 'Dribbling',\n",
    "       'Ball_control', 'Reactions', 'Positioning', 'Composure',\n",
    "       'Total_defending', 'Passing_Kicking', 'Dribbling_Reflexes',\n",
    "       'Defending_Pace']]\n",
    "\n",
    "\n",
    "X_test_value_sel = X_test_value[['Age', 'Overall_rating', 'Potential', 'Total_stats', 'Wage',\n",
    "       'Release_clause', 'Total_attacking', 'Short_passing', 'Dribbling',\n",
    "       'Ball_control', 'Reactions', 'Positioning', 'Composure',\n",
    "       'Total_defending', 'Passing_Kicking', 'Dribbling_Reflexes',\n",
    "       'Defending_Pace']]"
   ]
  },
  {
   "cell_type": "code",
   "execution_count": 346,
   "id": "74d4d9b4-f9ab-4920-a21a-01384cc6829f",
   "metadata": {},
   "outputs": [
    {
     "name": "stderr",
     "output_type": "stream",
     "text": [
      "/Users/hedavamsolano/opt/anaconda3/envs/ml-0451/lib/python3.9/site-packages/sklearn/linear_model/_coordinate_descent.py:647: ConvergenceWarning: Objective did not converge. You might want to increase the number of iterations, check the scale of the features or consider increasing regularisation. Duality gap: 2.250e+15, tolerance: 3.141e+13\n",
      "  model = cd_fast.enet_coordinate_descent(\n"
     ]
    },
    {
     "data": {
      "text/plain": [
       "Lasso(alpha=1, max_iter=4000)"
      ]
     },
     "execution_count": 346,
     "metadata": {},
     "output_type": "execute_result"
    }
   ],
   "source": [
    "from sklearn.linear_model import Lasso\n",
    "Lol8 = Lasso(alpha = 1, max_iter = 4000)\n",
    "\n",
    "Lol8.fit(X_train_value, y_train_value)"
   ]
  },
  {
   "cell_type": "code",
   "execution_count": 347,
   "id": "12fb39b5-fff7-4f5b-81c8-426eb6071249",
   "metadata": {},
   "outputs": [
    {
     "data": {
      "text/plain": [
       "0.9889101634883111"
      ]
     },
     "execution_count": 347,
     "metadata": {},
     "output_type": "execute_result"
    }
   ],
   "source": [
    "Lol8.score(X_test_value, y_test_value)"
   ]
  },
  {
   "cell_type": "code",
   "execution_count": 348,
   "id": "5e72c748-b0a7-4ebd-8fc9-d63a3f2e6658",
   "metadata": {},
   "outputs": [
    {
     "data": {
      "text/plain": [
       "array([-4.89896798e+04,  1.99150424e+05, -8.22212454e+04, -5.77791666e+04,\n",
       "        1.01001478e+04,  6.93711277e+00,  4.78280413e-01, -1.42469872e+04,\n",
       "       -9.73989659e+02,  1.91759081e+02, -2.13329070e+03, -6.71862731e+03,\n",
       "        1.31601786e+04, -1.11203286e+04, -4.04781910e+03, -1.33782802e+03,\n",
       "        3.80500853e+03,  8.08916249e+03,  4.42096394e+03, -1.51117763e+04,\n",
       "       -5.66958459e+03, -1.62049374e+03,  8.00588928e+03,  7.14058959e+03,\n",
       "        7.42360748e+03, -8.86135425e+03, -2.40304417e+03, -1.06838072e+03,\n",
       "        6.26928005e+03, -2.01859946e+03, -7.62299964e+02, -1.29521772e+04,\n",
       "       -5.22172711e+03,  4.31526456e+02,  2.35974917e+03,  1.87252251e+03,\n",
       "        4.40857685e+03, -1.08335467e+03, -1.69755669e+04,  3.99748753e+03,\n",
       "       -6.17286288e+03,  1.89737667e+03, -1.72270551e+04,  8.77930846e+02,\n",
       "       -4.89865686e+03,  3.21354591e+03, -2.25750416e+02,  5.29732821e+03,\n",
       "        1.33949381e+04,  5.11842697e+03,  1.22568680e+04, -9.46980129e+03,\n",
       "        4.27575703e+03,  7.59859602e+03,  1.67086609e+04,  1.80570843e+04])"
      ]
     },
     "execution_count": 348,
     "metadata": {},
     "output_type": "execute_result"
    }
   ],
   "source": [
    "Lol8.coef_"
   ]
  },
  {
   "cell_type": "code",
   "execution_count": 349,
   "id": "ce657edb-6414-46d2-95c2-27f2a5fccc40",
   "metadata": {},
   "outputs": [],
   "source": [
    "from sklearn.ensemble import RandomForestRegressor"
   ]
  },
  {
   "cell_type": "code",
   "execution_count": 350,
   "id": "1645cdd8-d8b1-416f-9bb1-c5d7d7fc50bf",
   "metadata": {},
   "outputs": [
    {
     "data": {
      "text/plain": [
       "RandomForestRegressor(max_depth=5, random_state=0)"
      ]
     },
     "execution_count": 350,
     "metadata": {},
     "output_type": "execute_result"
    }
   ],
   "source": [
    "regr = RandomForestRegressor(max_depth=5, random_state=0)\n",
    "regr.fit(X_train_value, y_train_value)"
   ]
  },
  {
   "cell_type": "code",
   "execution_count": 351,
   "id": "73b58528-49a4-423e-a135-c079f91d966b",
   "metadata": {},
   "outputs": [
    {
     "data": {
      "text/plain": [
       "0.987896994481562"
      ]
     },
     "execution_count": 351,
     "metadata": {},
     "output_type": "execute_result"
    }
   ],
   "source": [
    "regr.score(X_test_value, y_test_value)"
   ]
  },
  {
   "cell_type": "code",
   "execution_count": 358,
   "id": "5852deb2-207b-4481-8087-1424f6271c88",
   "metadata": {},
   "outputs": [
    {
     "name": "stdout",
     "output_type": "stream",
     "text": [
      "0.9794776578342885\n"
     ]
    }
   ],
   "source": [
    "#cross-validation\n",
    "import time as tm\n",
    "start = tm.time()\n",
    "\n",
    "from sklearn.model_selection import cross_val_score\n",
    "model_scores = cross_val_score(regr, X_train_value, y_train_value, cv=5)\n",
    "print(model_scores.mean())\n",
    "\n",
    "\n",
    "running_secs = (tm.time() - start)\n",
    "\n"
   ]
  },
  {
   "cell_type": "code",
   "execution_count": 359,
   "id": "d1b97b63-8084-4ac9-8877-376b6d03aec8",
   "metadata": {},
   "outputs": [
    {
     "name": "stdout",
     "output_type": "stream",
     "text": [
      "14.303798198699951\n"
     ]
    }
   ],
   "source": [
    "print(running_secs)"
   ]
  },
  {
   "cell_type": "code",
   "execution_count": 360,
   "id": "b168e1a2-f340-4cb4-8a92-b8fe5e08c9b9",
   "metadata": {},
   "outputs": [
    {
     "name": "stdout",
     "output_type": "stream",
     "text": [
      "0.981009669685089\n"
     ]
    }
   ],
   "source": [
    "#cross-validation\n",
    "import time as tm\n",
    "start = tm.time()\n",
    "\n",
    "from sklearn.model_selection import cross_val_score\n",
    "model_scores = cross_val_score(regr, X_train_value_sel, y_train_value, cv=5)\n",
    "print(model_scores.mean())\n",
    "\n",
    "running_secs = (tm.time() - start)"
   ]
  },
  {
   "cell_type": "code",
   "execution_count": 361,
   "id": "b8e71dc5-3328-4ed5-a4a4-166f5e9988fa",
   "metadata": {},
   "outputs": [
    {
     "name": "stdout",
     "output_type": "stream",
     "text": [
      "4.912126064300537\n"
     ]
    }
   ],
   "source": [
    "print(running_secs)"
   ]
  },
  {
   "cell_type": "markdown",
   "id": "f9d36672-567c-4bde-82e3-2048f11d72d3",
   "metadata": {},
   "source": [
    "Take-Away: Big Computational Efficiency Difference with decreased # of features "
   ]
  },
  {
   "cell_type": "markdown",
   "id": "77c2fb73-24ff-40a7-b719-14a083ea2c41",
   "metadata": {},
   "source": [
    "## Experiments\n",
    "\n",
    "Notes: time to run might take longer with more features even though accuracy doesn't change; vary the # of samples and see how that affects the learning curves"
   ]
  },
  {
   "cell_type": "code",
   "execution_count": 354,
   "id": "85c4fdda-2caa-4571-92d9-ebc43dfbc7f5",
   "metadata": {},
   "outputs": [],
   "source": [
    "#all features time to run vs. feature selection time to run"
   ]
  },
  {
   "cell_type": "code",
   "execution_count": 255,
   "id": "f620aef2-a3e1-430e-8624-69fae1566efd",
   "metadata": {},
   "outputs": [
    {
     "data": {
      "text/html": [
       "<div>\n",
       "<style scoped>\n",
       "    .dataframe tbody tr th:only-of-type {\n",
       "        vertical-align: middle;\n",
       "    }\n",
       "\n",
       "    .dataframe tbody tr th {\n",
       "        vertical-align: top;\n",
       "    }\n",
       "\n",
       "    .dataframe thead th {\n",
       "        text-align: right;\n",
       "    }\n",
       "</style>\n",
       "<table border=\"1\" class=\"dataframe\">\n",
       "  <thead>\n",
       "    <tr style=\"text-align: right;\">\n",
       "      <th></th>\n",
       "      <th>Age</th>\n",
       "      <th>Overall_rating</th>\n",
       "      <th>Potential</th>\n",
       "    </tr>\n",
       "  </thead>\n",
       "  <tbody>\n",
       "    <tr>\n",
       "      <th>2076</th>\n",
       "      <td>26</td>\n",
       "      <td>75</td>\n",
       "      <td>77</td>\n",
       "    </tr>\n",
       "    <tr>\n",
       "      <th>3664</th>\n",
       "      <td>24</td>\n",
       "      <td>72</td>\n",
       "      <td>74</td>\n",
       "    </tr>\n",
       "    <tr>\n",
       "      <th>4226</th>\n",
       "      <td>28</td>\n",
       "      <td>71</td>\n",
       "      <td>72</td>\n",
       "    </tr>\n",
       "    <tr>\n",
       "      <th>1751</th>\n",
       "      <td>24</td>\n",
       "      <td>75</td>\n",
       "      <td>79</td>\n",
       "    </tr>\n",
       "    <tr>\n",
       "      <th>1882</th>\n",
       "      <td>29</td>\n",
       "      <td>75</td>\n",
       "      <td>75</td>\n",
       "    </tr>\n",
       "    <tr>\n",
       "      <th>...</th>\n",
       "      <td>...</td>\n",
       "      <td>...</td>\n",
       "      <td>...</td>\n",
       "    </tr>\n",
       "    <tr>\n",
       "      <th>40</th>\n",
       "      <td>24</td>\n",
       "      <td>87</td>\n",
       "      <td>92</td>\n",
       "    </tr>\n",
       "    <tr>\n",
       "      <th>657</th>\n",
       "      <td>27</td>\n",
       "      <td>79</td>\n",
       "      <td>79</td>\n",
       "    </tr>\n",
       "    <tr>\n",
       "      <th>2779</th>\n",
       "      <td>20</td>\n",
       "      <td>73</td>\n",
       "      <td>84</td>\n",
       "    </tr>\n",
       "    <tr>\n",
       "      <th>4172</th>\n",
       "      <td>29</td>\n",
       "      <td>71</td>\n",
       "      <td>71</td>\n",
       "    </tr>\n",
       "    <tr>\n",
       "      <th>365</th>\n",
       "      <td>22</td>\n",
       "      <td>81</td>\n",
       "      <td>85</td>\n",
       "    </tr>\n",
       "  </tbody>\n",
       "</table>\n",
       "<p>3986 rows × 3 columns</p>\n",
       "</div>"
      ],
      "text/plain": [
       "      Age  Overall_rating  Potential\n",
       "2076   26              75         77\n",
       "3664   24              72         74\n",
       "4226   28              71         72\n",
       "1751   24              75         79\n",
       "1882   29              75         75\n",
       "...   ...             ...        ...\n",
       "40     24              87         92\n",
       "657    27              79         79\n",
       "2779   20              73         84\n",
       "4172   29              71         71\n",
       "365    22              81         85\n",
       "\n",
       "[3986 rows x 3 columns]"
      ]
     },
     "execution_count": 255,
     "metadata": {},
     "output_type": "execute_result"
    }
   ],
   "source": [
    "X_train_value.iloc[:, 0:3] #get all rows for certain columns; use this in the loop, but no b/cuz we need to go from most important to least important"
   ]
  },
  {
   "cell_type": "code",
   "execution_count": 320,
   "id": "5ed0a041-cbd0-46ca-9af0-f7489776c44a",
   "metadata": {},
   "outputs": [
    {
     "data": {
      "text/plain": [
       "'Release_clause'"
      ]
     },
     "execution_count": 320,
     "metadata": {},
     "output_type": "execute_result"
    }
   ],
   "source": [
    "((ordered_mutual_info).index[0]) #use this to loop\n",
    "\n",
    "#X_train_value.iloc[:, 0:ordered_mutual_info.index[0]]"
   ]
  },
  {
   "cell_type": "code",
   "execution_count": 375,
   "id": "5b19af9e-d2e9-4968-a9c8-00edb248c010",
   "metadata": {},
   "outputs": [],
   "source": [
    "import warnings\n",
    "warnings.filterwarnings('ignore')"
   ]
  },
  {
   "cell_type": "code",
   "execution_count": 399,
   "id": "be8095f0-2a8d-4613-a784-77da5d54bb02",
   "metadata": {},
   "outputs": [
    {
     "data": {
      "image/png": "[encoded data removed]",
      "text/plain": [
       "<Figure size 640x480 with 1 Axes>"
      ]
     },
     "metadata": {},
     "output_type": "display_data"
    }
   ],
   "source": [
    "#effect of overfitting, keeping # features constant and increasing samples (good for when we get new dataset);\n",
    "\n",
    "#effect of overfitting, keeping # samples constant and increasing features (good for when we get new dataset);\n",
    "\n",
    "\n",
    "#initialize arrays to store scores\n",
    "train_score_hist = []\n",
    "cv_score_hist = []\n",
    "\n",
    "\n",
    "#loop through features:\n",
    "for i in range(1, len(ordered_mutual_info)):\n",
    "    #fit on training; I don't think I should refit everytime!!!!!\n",
    "    L6 = Lasso(alpha = 1) \n",
    "    L6.fit(X_train_value.iloc[:, 0:ordered_mutual_info.index[i]], y_train_value.iloc[0:i])\n",
    "    \n",
    "    #score on training\n",
    "    #print(L6.score(X_train_fee.iloc[0:i],y_train_fee.iloc[0:i]))\n",
    "    train_score_hist.append(L6.score(X_train_fee.iloc[:, 0:i],y_train_value.iloc[:, 0:i]))  #update model's training score\n",
    "    \n",
    "    #cross-validation\n",
    "    cv_score_hist.append(cross_val_score(L6, X_train_fee.iloc[0:i], y_train_fee.iloc[0:i], cv=5).mean())\n",
    " \n",
    "\n",
    "    #Graph it\n",
    "    num_steps = len(train_score_hist)\n",
    "    plt.plot(np.arange(num_steps) + 1, cv_score_hist, label = \"cross_val\")\n",
    "\n",
    "    num_steps = len(train_score_hist)\n",
    "    plt.plot(np.arange(num_steps) + 1, train_score_hist, label = \"train\")\n",
    "\n",
    "    plt.ylim([0, 1])\n",
    "    #change x to be in batches of 5\n",
    "    labels = plt.gca().set(title = \"Scores vs. Samples\", xlabel = \"# of Samples (in batches of 5)\", ylabel = \"Score\")\n",
    "\n",
    "\n",
    "    \n",
    "#loop through features:\n",
    "\n",
    "#for i in rang\n",
    "\n",
    "#effect of overfitting, w/ our # of samples, changing the number of features "
   ]
  },
  {
   "cell_type": "markdown",
   "id": "bc0ac4fd-1d17-4822-ab79-b05ae251f6d5",
   "metadata": {},
   "source": [
    "# Bias Auditing"
   ]
  },
  {
   "cell_type": "code",
   "execution_count": 24,
   "id": "0305190b-cb11-4aed-b4b4-f5e514e148a6",
   "metadata": {},
   "outputs": [],
   "source": [
    "## How do we choose the threshold for market value?; we could do an even tier system??"
   ]
  },
  {
   "cell_type": "code",
   "execution_count": 25,
   "id": "cf6b9a4b-d9e4-4f06-9f79-3779be99af0a",
   "metadata": {},
   "outputs": [
    {
     "data": {
      "text/plain": [
       "6735124.561403509"
      ]
     },
     "execution_count": 25,
     "metadata": {},
     "output_type": "execute_result"
    }
   ],
   "source": [
    "all_players[\"Value\"].mean() #use the mean i guess"
   ]
  },
  {
   "cell_type": "code",
   "execution_count": 26,
   "id": "643c5c89-a4a3-4917-b197-52aefb3ab344",
   "metadata": {},
   "outputs": [
    {
     "data": {
      "text/plain": [
       "4100000.0"
      ]
     },
     "execution_count": 26,
     "metadata": {},
     "output_type": "execute_result"
    }
   ],
   "source": [
    "all_players[\"Value\"].median() #use the median, maybe; there's some crazy outliers pushing the mean up i guess"
   ]
  },
  {
   "cell_type": "code",
   "execution_count": 27,
   "id": "ce4e701a-8fe4-4ecb-b5c7-eacd7d3b0429",
   "metadata": {},
   "outputs": [],
   "source": [
    "#add value threshold and drop value, drop nationality (need a dataset with nationality), predict value threshold"
   ]
  },
  {
   "cell_type": "code",
   "execution_count": 28,
   "id": "f5f49661-3bc1-416b-a699-1b21671dbc7a",
   "metadata": {},
   "outputs": [],
   "source": [
    "all_players[\"ValueThreshold\"] = all_players['Value'] < 4100000.0"
   ]
  },
  {
   "cell_type": "code",
   "execution_count": 29,
   "id": "706702a9-8d8c-463e-a231-f02949e1f986",
   "metadata": {},
   "outputs": [],
   "source": [
    "from sklearn.model_selection import train_test_split\n",
    "all_train, all_test = train_test_split(all_players, test_size = .2, shuffle = True)\n",
    "\n",
    "#final_all_players = pd.DataFrame(at_test, columns = [\"Name\"])\n",
    "#final_all_players[\"actual\"] = at_test['Value'].copy()\n",
    "\n",
    "\n",
    "#getting the feature matrix and  target vector and deleting it from feature matrix\n",
    "\n",
    "X_train_all = all_train.dropna(how='any', inplace=True)\n",
    "X_train_all = all_train.drop([\"Value\"], axis = 1)\n",
    "X_train_all = all_train.drop([\"ValueThreshold\"], axis = 1)\n",
    "y_train_all = all_train[\"ValueThreshold\"]\n",
    "\n",
    "\n",
    "\n",
    "X_test_all = all_test.dropna(how='any', inplace=True)\n",
    "X_test_all = all_test.drop([\"Value\"], axis = 1)\n",
    "X_test_all = all_test.drop([\"ValueThreshold\"], axis = 1)\n",
    "y_test_all = all_test[\"ValueThreshold\"]\n",
    "\n",
    "X_train_all = X_train_all.drop([\"field_position\"], axis = 1)\n",
    "X_train_all = X_train_all.drop([\"Name\"], axis = 1)\n",
    "\n",
    "\n",
    "\n",
    "\n",
    "X_test_all = X_test_all.drop([\"field_position\"], axis = 1)\n",
    "X_test_all = X_test_all.drop([\"Name\"], axis = 1)"
   ]
  },
  {
   "cell_type": "code",
   "execution_count": 30,
   "id": "0d353999-5dd3-4d90-a3f8-d7be2f72acfe",
   "metadata": {},
   "outputs": [],
   "source": [
    "#use classification model, try different ones"
   ]
  },
  {
   "cell_type": "code",
   "execution_count": 31,
   "id": "0311f0ca-07bb-437d-aaa3-6a8f18b3b091",
   "metadata": {},
   "outputs": [
    {
     "data": {
      "text/plain": [
       "Pipeline(steps=[('standardscaler', StandardScaler()),\n",
       "                ('svc', SVC(gamma='auto'))])"
      ]
     },
     "execution_count": 31,
     "metadata": {},
     "output_type": "execute_result"
    }
   ],
   "source": [
    "from sklearn.pipeline import make_pipeline\n",
    "from sklearn.preprocessing import StandardScaler\n",
    "from sklearn.svm import SVC\n",
    "clf_class = make_pipeline(StandardScaler(), SVC(gamma='auto'))\n",
    "clf_class.fit(X_train_all, y_train_all)"
   ]
  },
  {
   "cell_type": "code",
   "execution_count": 32,
   "id": "4f367510-798c-4c88-8e0a-96e45d1cdbae",
   "metadata": {},
   "outputs": [
    {
     "data": {
      "text/plain": [
       "0.9586693548387096"
      ]
     },
     "execution_count": 32,
     "metadata": {},
     "output_type": "execute_result"
    }
   ],
   "source": [
    "clf_class.score(X_test_all, y_test_all)"
   ]
  },
  {
   "cell_type": "code",
   "execution_count": 33,
   "id": "0a2b0291-0fc4-4642-898e-1ede5ef3bc12",
   "metadata": {},
   "outputs": [],
   "source": [
    "#gather predictions\n",
    "predictions = clf_class.predict(X_test_all)\n",
    "actual = y_test_all"
   ]
  },
  {
   "cell_type": "code",
   "execution_count": 34,
   "id": "ec76889d-715c-4a4b-b78c-b38b3054f404",
   "metadata": {},
   "outputs": [
    {
     "data": {
      "text/plain": [
       "0.9586693548387096"
      ]
     },
     "execution_count": 34,
     "metadata": {},
     "output_type": "execute_result"
    }
   ],
   "source": [
    "(predictions == actual).mean()"
   ]
  },
  {
   "cell_type": "code",
   "execution_count": 35,
   "id": "d7bb8c37-6c9e-4803-b78d-ab6d6b505250",
   "metadata": {},
   "outputs": [],
   "source": [
    "bias_ds = all_test.copy()\n",
    "bias_ds.rename(columns={'ValueThreshold':'Actual'}, inplace=True) #rename ValueThreshold to Actual\n",
    "bias_ds[\"Predicted\"] = predictions"
   ]
  },
  {
   "cell_type": "code",
   "execution_count": 36,
   "id": "d45f5b75-cd92-4adc-9316-eb3d1e64a326",
   "metadata": {},
   "outputs": [
    {
     "data": {
      "text/html": [
       "<div>\n",
       "<style scoped>\n",
       "    .dataframe tbody tr th:only-of-type {\n",
       "        vertical-align: middle;\n",
       "    }\n",
       "\n",
       "    .dataframe tbody tr th {\n",
       "        vertical-align: top;\n",
       "    }\n",
       "\n",
       "    .dataframe thead th {\n",
       "        text-align: right;\n",
       "    }\n",
       "</style>\n",
       "<table border=\"1\" class=\"dataframe\">\n",
       "  <thead>\n",
       "    <tr style=\"text-align: right;\">\n",
       "      <th></th>\n",
       "      <th>Name</th>\n",
       "      <th>Age</th>\n",
       "      <th>Overall_rating</th>\n",
       "      <th>Potential</th>\n",
       "      <th>Years_Left</th>\n",
       "      <th>field_position</th>\n",
       "      <th>Total_stats</th>\n",
       "      <th>Value</th>\n",
       "      <th>Wage</th>\n",
       "      <th>Release_clause</th>\n",
       "      <th>...</th>\n",
       "      <th>Weak_foot</th>\n",
       "      <th>Skill_moves</th>\n",
       "      <th>Pace_Diving</th>\n",
       "      <th>Shooting_Handling</th>\n",
       "      <th>Passing_Kicking</th>\n",
       "      <th>Dribbling_Reflexes</th>\n",
       "      <th>Defending_Pace</th>\n",
       "      <th>Physical_Positioning</th>\n",
       "      <th>Actual</th>\n",
       "      <th>Predicted</th>\n",
       "    </tr>\n",
       "  </thead>\n",
       "  <tbody>\n",
       "    <tr>\n",
       "      <th>1262</th>\n",
       "      <td>G. Castro</td>\n",
       "      <td>31</td>\n",
       "      <td>76</td>\n",
       "      <td>76</td>\n",
       "      <td>2.0</td>\n",
       "      <td>Midfielder</td>\n",
       "      <td>2055</td>\n",
       "      <td>6500000.0</td>\n",
       "      <td>30000.0</td>\n",
       "      <td>11100000.0</td>\n",
       "      <td>...</td>\n",
       "      <td>4</td>\n",
       "      <td>3</td>\n",
       "      <td>67</td>\n",
       "      <td>69</td>\n",
       "      <td>77</td>\n",
       "      <td>77</td>\n",
       "      <td>68</td>\n",
       "      <td>66</td>\n",
       "      <td>False</td>\n",
       "      <td>False</td>\n",
       "    </tr>\n",
       "    <tr>\n",
       "      <th>1730</th>\n",
       "      <td>A. Maier</td>\n",
       "      <td>19</td>\n",
       "      <td>75</td>\n",
       "      <td>87</td>\n",
       "      <td>3.0</td>\n",
       "      <td>Midfielder</td>\n",
       "      <td>1836</td>\n",
       "      <td>11500000.0</td>\n",
       "      <td>10000.0</td>\n",
       "      <td>21900000.0</td>\n",
       "      <td>...</td>\n",
       "      <td>3</td>\n",
       "      <td>3</td>\n",
       "      <td>69</td>\n",
       "      <td>56</td>\n",
       "      <td>72</td>\n",
       "      <td>74</td>\n",
       "      <td>68</td>\n",
       "      <td>69</td>\n",
       "      <td>False</td>\n",
       "      <td>False</td>\n",
       "    </tr>\n",
       "    <tr>\n",
       "      <th>227</th>\n",
       "      <td>Casillas</td>\n",
       "      <td>37</td>\n",
       "      <td>83</td>\n",
       "      <td>83</td>\n",
       "      <td>1.0</td>\n",
       "      <td>Goalkeeper</td>\n",
       "      <td>1306</td>\n",
       "      <td>1700000.0</td>\n",
       "      <td>10000.0</td>\n",
       "      <td>3500000.0</td>\n",
       "      <td>...</td>\n",
       "      <td>2</td>\n",
       "      <td>1</td>\n",
       "      <td>87</td>\n",
       "      <td>76</td>\n",
       "      <td>61</td>\n",
       "      <td>84</td>\n",
       "      <td>55</td>\n",
       "      <td>85</td>\n",
       "      <td>True</td>\n",
       "      <td>False</td>\n",
       "    </tr>\n",
       "  </tbody>\n",
       "</table>\n",
       "<p>3 rows × 61 columns</p>\n",
       "</div>"
      ],
      "text/plain": [
       "           Name  Age  Overall_rating  Potential  Years_Left field_position  \\\n",
       "1262  G. Castro   31              76         76         2.0     Midfielder   \n",
       "1730   A. Maier   19              75         87         3.0     Midfielder   \n",
       "227    Casillas   37              83         83         1.0     Goalkeeper   \n",
       "\n",
       "      Total_stats       Value     Wage  Release_clause  ...  Weak_foot  \\\n",
       "1262         2055   6500000.0  30000.0      11100000.0  ...          4   \n",
       "1730         1836  11500000.0  10000.0      21900000.0  ...          3   \n",
       "227          1306   1700000.0  10000.0       3500000.0  ...          2   \n",
       "\n",
       "      Skill_moves  Pace_Diving  Shooting_Handling  Passing_Kicking  \\\n",
       "1262            3           67                 69               77   \n",
       "1730            3           69                 56               72   \n",
       "227             1           87                 76               61   \n",
       "\n",
       "      Dribbling_Reflexes  Defending_Pace  Physical_Positioning  Actual  \\\n",
       "1262                  77              68                    66   False   \n",
       "1730                  74              68                    69   False   \n",
       "227                   84              55                    85    True   \n",
       "\n",
       "      Predicted  \n",
       "1262      False  \n",
       "1730      False  \n",
       "227       False  \n",
       "\n",
       "[3 rows x 61 columns]"
      ]
     },
     "execution_count": 36,
     "metadata": {},
     "output_type": "execute_result"
    }
   ],
   "source": [
    "bias_ds.head(3)"
   ]
  },
  {
   "cell_type": "code",
   "execution_count": 37,
   "id": "ffcd9609-ab03-4570-81f1-ad7947d77b52",
   "metadata": {},
   "outputs": [],
   "source": [
    "group_test = bias_ds[\"field_position\"]"
   ]
  },
  {
   "cell_type": "code",
   "execution_count": 38,
   "id": "42c8c1ba-5d26-427b-92a1-ea57b45e997e",
   "metadata": {},
   "outputs": [
    {
     "data": {
      "text/plain": [
       "1262    False\n",
       "1730    False\n",
       "227     False\n",
       "3121    False\n",
       "4965    False\n",
       "        ...  \n",
       "4699    False\n",
       "3944    False\n",
       "3858     True\n",
       "1696    False\n",
       "3533    False\n",
       "Name: field_position, Length: 992, dtype: bool"
      ]
     },
     "execution_count": 38,
     "metadata": {},
     "output_type": "execute_result"
    }
   ],
   "source": [
    "group_test == \"Attacker\""
   ]
  },
  {
   "cell_type": "markdown",
   "id": "915c8d30-6186-49b0-8d5b-d8521de5c922",
   "metadata": {},
   "source": [
    "### Calibration"
   ]
  },
  {
   "cell_type": "markdown",
   "id": "cb0f8120-920b-43c2-8271-586b2a6248a3",
   "metadata": {},
   "source": [
    "As defined by Chouldechova in [this paper](https://via.hypothes.is/https://arxiv.org/pdf/1703.00056.pdf), \"a score S = S(x) is said to be well-calibrated if it reflects the same\n",
    "likelihood of recidivism irrespective of the individuals’ group membership.\"\n",
    "\n",
    "In our context, when we are doing binary classification for sex-based income, the calibration takes on the form of the PPV.\n",
    "Namely, our model would be well-calibrated if the fraction of predicted individuals making >\\\\$50k who actually make >\\\\$50k is the same across groups."
   ]
  },
  {
   "cell_type": "code",
   "execution_count": 39,
   "id": "5c7c82ea-1590-46b1-b820-22b4dc2a0b07",
   "metadata": {},
   "outputs": [],
   "source": [
    "bias_ds_calibration = bias_ds.query(\"Predicted == True\")"
   ]
  },
  {
   "cell_type": "code",
   "execution_count": 40,
   "id": "5e642c3a-b3ac-41fd-92f5-e180778a43fb",
   "metadata": {},
   "outputs": [],
   "source": [
    "bias_ds_calibration = bias_ds_calibration.groupby([\"field_position\", \"Predicted\"])[\"Actual\"].mean().reset_index(name = \"mean\")"
   ]
  },
  {
   "cell_type": "code",
   "execution_count": 43,
   "id": "ff0bf200-2363-408a-b098-d847d8ccc3d5",
   "metadata": {},
   "outputs": [
    {
     "data": {
      "image/png": "[encoded data removed]",
      "text/plain": [
       "<Figure size 500x500 with 1 Axes>"
      ]
     },
     "metadata": {},
     "output_type": "display_data"
    }
   ],
   "source": [
    "sns.set_theme(style=\"whitegrid\")\n",
    "\n",
    "p = sns.catplot(data = bias_ds_calibration, kind = \"bar\", x = \"Predicted\", y = \"mean\", hue = \"field_position\", legend_out = False)\n",
    "new_labels = ['Male', 'Female']\n",
    "for t, l in zip(p._legend.texts, new_labels):\n",
    "    t.set_text(l)\n",
    "\n",
    "sns.move_legend(p, \"lower right\")"
   ]
  },
  {
   "cell_type": "markdown",
   "id": "693b3965-99e7-4cab-8006-afaeb35a59cd",
   "metadata": {
    "tags": []
   },
   "source": [
    "### Error Rate Balance"
   ]
  },
  {
   "cell_type": "code",
   "execution_count": 1789,
   "id": "96c61284-b38c-4aa4-b272-d3c8ef6b32b4",
   "metadata": {},
   "outputs": [
    {
     "data": {
      "image/png": "[encoded data removed]",
      "text/plain": [
       "<Figure size 1500x320 with 10 Axes>"
      ]
     },
     "metadata": {},
     "output_type": "display_data"
    }
   ],
   "source": [
    "from sklearn.metrics import confusion_matrix\n",
    "from sklearn.metrics import ConfusionMatrixDisplay\n",
    "fig, axarr = plt.subplots(1, 5, figsize=(15,3.2), sharex = False, sharey = False)\n",
    "\n",
    "cm1 = confusion_matrix(actual, predictions, labels=clf_class.classes_, normalize = \"true\")\n",
    "disp1 = ConfusionMatrixDisplay(confusion_matrix=cm1,\n",
    "                              display_labels=clf_class.classes_)\n",
    "\n",
    "cm2 = confusion_matrix(actual[group_test == \"Attacker\"], predictions[group_test == \"Attacker\"], labels=clf_class.classes_, normalize = \"true\")\n",
    "disp2 = ConfusionMatrixDisplay(confusion_matrix=cm2,\n",
    "                              display_labels=clf_class.classes_)\n",
    "\n",
    "\n",
    "cm3 = confusion_matrix(actual[group_test == \"Midfielder\"], predictions[group_test == \"Midfielder\"], labels=clf_class.classes_, normalize = \"true\")\n",
    "disp3 = ConfusionMatrixDisplay(confusion_matrix=cm3,\n",
    "                              display_labels=clf_class.classes_)\n",
    "\n",
    "cm4 = confusion_matrix(actual[group_test == \"Defender\"], predictions[group_test == \"Defender\"], labels=clf_class.classes_, normalize = \"true\")\n",
    "disp4 = ConfusionMatrixDisplay(confusion_matrix=cm4,\n",
    "                              display_labels=clf_class.classes_)\n",
    "\n",
    "cm5 = confusion_matrix(actual[group_test == \"Goalkeeper\"], predictions[group_test == \"Goalkeeper\"], labels=clf_class.classes_, normalize = \"true\")\n",
    "disp5 = ConfusionMatrixDisplay(confusion_matrix=cm5,\n",
    "                              display_labels=clf_class.classes_)\n",
    "\n",
    "disp1.plot(ax=axarr[0], cmap = plt.cm.Blues)\n",
    "axarr[0].grid(visible=None)\n",
    "\n",
    "disp2.plot(ax=axarr[1], cmap = plt.cm.Blues)\n",
    "axarr[1].grid(visible=None)\n",
    "\n",
    "disp3.plot(ax=axarr[2], cmap = plt.cm.Blues)\n",
    "axarr[2].grid(visible=None)\n",
    "\n",
    "disp4.plot(ax=axarr[3], cmap = plt.cm.Blues)\n",
    "axarr[3].grid(visible=None)\n",
    "\n",
    "disp5.plot(ax=axarr[4], cmap = plt.cm.Blues)\n",
    "axarr[4].grid(visible=None)"
   ]
  },
  {
   "cell_type": "markdown",
   "id": "8cb436e6-1ec5-4bbb-bf74-1e29dd636458",
   "metadata": {},
   "source": [
    "## Statistical Parity"
   ]
  },
  {
   "cell_type": "code",
   "execution_count": 44,
   "id": "0dc9a2f3-0667-4b23-a813-bee0270bcbe4",
   "metadata": {},
   "outputs": [],
   "source": [
    "bias_ds_statParity = bias_ds.groupby([\"field_position\"], as_index=False)[\"Predicted\"].value_counts(normalize = True) #normalize = True not working sadly"
   ]
  },
  {
   "cell_type": "code",
   "execution_count": 45,
   "id": "8c6a9843-0e90-4610-98f1-1349cad26c65",
   "metadata": {},
   "outputs": [
    {
     "data": {
      "text/html": [
       "<div>\n",
       "<style scoped>\n",
       "    .dataframe tbody tr th:only-of-type {\n",
       "        vertical-align: middle;\n",
       "    }\n",
       "\n",
       "    .dataframe tbody tr th {\n",
       "        vertical-align: top;\n",
       "    }\n",
       "\n",
       "    .dataframe thead th {\n",
       "        text-align: right;\n",
       "    }\n",
       "</style>\n",
       "<table border=\"1\" class=\"dataframe\">\n",
       "  <thead>\n",
       "    <tr style=\"text-align: right;\">\n",
       "      <th></th>\n",
       "      <th>field_position</th>\n",
       "      <th>Predicted</th>\n",
       "      <th>proportion</th>\n",
       "    </tr>\n",
       "  </thead>\n",
       "  <tbody>\n",
       "    <tr>\n",
       "      <th>0</th>\n",
       "      <td>Attacker</td>\n",
       "      <td>False</td>\n",
       "      <td>0.572464</td>\n",
       "    </tr>\n",
       "    <tr>\n",
       "      <th>1</th>\n",
       "      <td>Attacker</td>\n",
       "      <td>True</td>\n",
       "      <td>0.427536</td>\n",
       "    </tr>\n",
       "    <tr>\n",
       "      <th>2</th>\n",
       "      <td>Defender</td>\n",
       "      <td>True</td>\n",
       "      <td>0.548495</td>\n",
       "    </tr>\n",
       "    <tr>\n",
       "      <th>3</th>\n",
       "      <td>Defender</td>\n",
       "      <td>False</td>\n",
       "      <td>0.451505</td>\n",
       "    </tr>\n",
       "    <tr>\n",
       "      <th>4</th>\n",
       "      <td>Goalkeeper</td>\n",
       "      <td>True</td>\n",
       "      <td>0.626263</td>\n",
       "    </tr>\n",
       "    <tr>\n",
       "      <th>5</th>\n",
       "      <td>Goalkeeper</td>\n",
       "      <td>False</td>\n",
       "      <td>0.373737</td>\n",
       "    </tr>\n",
       "    <tr>\n",
       "      <th>6</th>\n",
       "      <td>Midfielder</td>\n",
       "      <td>False</td>\n",
       "      <td>0.534591</td>\n",
       "    </tr>\n",
       "    <tr>\n",
       "      <th>7</th>\n",
       "      <td>Midfielder</td>\n",
       "      <td>True</td>\n",
       "      <td>0.465409</td>\n",
       "    </tr>\n",
       "  </tbody>\n",
       "</table>\n",
       "</div>"
      ],
      "text/plain": [
       "  field_position  Predicted  proportion\n",
       "0       Attacker      False    0.572464\n",
       "1       Attacker       True    0.427536\n",
       "2       Defender       True    0.548495\n",
       "3       Defender      False    0.451505\n",
       "4     Goalkeeper       True    0.626263\n",
       "5     Goalkeeper      False    0.373737\n",
       "6     Midfielder      False    0.534591\n",
       "7     Midfielder       True    0.465409"
      ]
     },
     "execution_count": 45,
     "metadata": {},
     "output_type": "execute_result"
    }
   ],
   "source": [
    "bias_ds_statParity #query it just for true"
   ]
  },
  {
   "cell_type": "code",
   "execution_count": 49,
   "id": "6e8deea3-a6cc-43cf-adf4-0675b79e36c3",
   "metadata": {},
   "outputs": [
    {
     "data": {
      "image/png": "[encoded data removed]",
      "text/plain": [
       "<Figure size 500x500 with 1 Axes>"
      ]
     },
     "metadata": {},
     "output_type": "display_data"
    }
   ],
   "source": [
    "sns.set_theme(style=\"whitegrid\")\n",
    "\n",
    "p = sns.catplot(data = bias_ds_statParity, kind = \"bar\", x = \"Predicted\", y = \"proportion\", hue = \"field_position\", legend_out = False)\n",
    "new_labels = ['Male', 'Female']\n",
    "for t, l in zip(p._legend.texts, new_labels):\n",
    "    t.set_text(l)\n",
    "\n",
    "sns.move_legend(p, \"center right\")"
   ]
  },
  {
   "cell_type": "markdown",
   "id": "305f46de-163a-4581-83b0-39b02eb858ca",
   "metadata": {},
   "source": [
    "# Tranfer Fee Model"
   ]
  },
  {
   "cell_type": "code",
   "execution_count": 412,
   "id": "ed22ffd3-46d2-4659-8853-d20325d2691a",
   "metadata": {},
   "outputs": [],
   "source": [
    "tf_data = pd.read_csv(\"TM_MV_Club.csv\")"
   ]
  },
  {
   "cell_type": "code",
   "execution_count": 413,
   "id": "2c6b0d2d-6fe6-4d17-a188-da9512abb62f",
   "metadata": {},
   "outputs": [
    {
     "name": "stderr",
     "output_type": "stream",
     "text": [
      "/var/folders/x_/pzlfspq52sd41dygb97kcztm0000gn/T/ipykernel_17272/61169314.py:3: FutureWarning: The default value of regex will change from True to False in a future version. In addition, single character regular expressions will *not* be treated as literal strings when regex=True.\n",
      "  tf_data.columns = tf_data.columns.str.replace('.', '_')\n"
     ]
    }
   ],
   "source": [
    "#clean column names\n",
    "\n",
    "tf_data.columns = tf_data.columns.str.replace('.', '_')\n",
    "tf_data.columns = tf_data.columns.str.replace('___', '_')\n",
    "tf_data.columns = tf_data.columns.str.replace(' ', '_')"
   ]
  },
  {
   "cell_type": "code",
   "execution_count": 414,
   "id": "54edb446-a2b9-4758-95ae-432b74292ab7",
   "metadata": {},
   "outputs": [
    {
     "data": {
      "text/html": [
       "<div>\n",
       "<style scoped>\n",
       "    .dataframe tbody tr th:only-of-type {\n",
       "        vertical-align: middle;\n",
       "    }\n",
       "\n",
       "    .dataframe tbody tr th {\n",
       "        vertical-align: top;\n",
       "    }\n",
       "\n",
       "    .dataframe thead th {\n",
       "        text-align: right;\n",
       "    }\n",
       "</style>\n",
       "<table border=\"1\" class=\"dataframe\">\n",
       "  <thead>\n",
       "    <tr style=\"text-align: right;\">\n",
       "      <th></th>\n",
       "      <th>Name</th>\n",
       "      <th>club</th>\n",
       "      <th>name</th>\n",
       "      <th>transfer_fee</th>\n",
       "      <th>Position</th>\n",
       "      <th>league</th>\n",
       "      <th>detailed_position</th>\n",
       "      <th>Squad</th>\n",
       "      <th>AVGage</th>\n",
       "      <th>Foreigners</th>\n",
       "      <th>...</th>\n",
       "      <th>International_reputation</th>\n",
       "      <th>Body_type</th>\n",
       "      <th>Pace_Diving</th>\n",
       "      <th>Shooting_Handling</th>\n",
       "      <th>Passing_Kicking</th>\n",
       "      <th>Dribbling_Reflexes</th>\n",
       "      <th>Defending_Pace</th>\n",
       "      <th>Physical_Positioning</th>\n",
       "      <th>Years_Left</th>\n",
       "      <th>Club</th>\n",
       "    </tr>\n",
       "  </thead>\n",
       "  <tbody>\n",
       "    <tr>\n",
       "      <th>0</th>\n",
       "      <td>A. Ajeti</td>\n",
       "      <td>West Ham United</td>\n",
       "      <td>A. Ajeti</td>\n",
       "      <td>€11.30m</td>\n",
       "      <td>Forward</td>\n",
       "      <td>Premier League</td>\n",
       "      <td>Centre-Forward</td>\n",
       "      <td>37</td>\n",
       "      <td>26.6</td>\n",
       "      <td>23</td>\n",
       "      <td>...</td>\n",
       "      <td>1</td>\n",
       "      <td>Normal (170-185)</td>\n",
       "      <td>79</td>\n",
       "      <td>71</td>\n",
       "      <td>59</td>\n",
       "      <td>69</td>\n",
       "      <td>29</td>\n",
       "      <td>76</td>\n",
       "      <td>3.0</td>\n",
       "      <td>Basel\\n</td>\n",
       "    </tr>\n",
       "    <tr>\n",
       "      <th>1</th>\n",
       "      <td>A. Cerri</td>\n",
       "      <td>Cagliari Calcio</td>\n",
       "      <td>A. Cerri</td>\n",
       "      <td>€9.00m</td>\n",
       "      <td>Forward</td>\n",
       "      <td>Serie A</td>\n",
       "      <td>Centre-Forward</td>\n",
       "      <td>49</td>\n",
       "      <td>25.9</td>\n",
       "      <td>18</td>\n",
       "      <td>...</td>\n",
       "      <td>1</td>\n",
       "      <td>Normal (185+)</td>\n",
       "      <td>62</td>\n",
       "      <td>72</td>\n",
       "      <td>54</td>\n",
       "      <td>68</td>\n",
       "      <td>39</td>\n",
       "      <td>76</td>\n",
       "      <td>4.0</td>\n",
       "      <td>Cagliari\\n</td>\n",
       "    </tr>\n",
       "    <tr>\n",
       "      <th>2</th>\n",
       "      <td>A. Diawara</td>\n",
       "      <td>AS Roma</td>\n",
       "      <td>A. Diawara</td>\n",
       "      <td>€21.00m</td>\n",
       "      <td>Midfield</td>\n",
       "      <td>Serie A</td>\n",
       "      <td>Defensive Midfield</td>\n",
       "      <td>57</td>\n",
       "      <td>23.7</td>\n",
       "      <td>27</td>\n",
       "      <td>...</td>\n",
       "      <td>2</td>\n",
       "      <td>Lean (170-185)</td>\n",
       "      <td>68</td>\n",
       "      <td>54</td>\n",
       "      <td>73</td>\n",
       "      <td>77</td>\n",
       "      <td>72</td>\n",
       "      <td>73</td>\n",
       "      <td>2.0</td>\n",
       "      <td>Napoli\\n</td>\n",
       "    </tr>\n",
       "  </tbody>\n",
       "</table>\n",
       "<p>3 rows × 92 columns</p>\n",
       "</div>"
      ],
      "text/plain": [
       "         Name             club        name transfer_fee  Position  \\\n",
       "0    A. Ajeti  West Ham United    A. Ajeti      €11.30m   Forward   \n",
       "1    A. Cerri  Cagliari Calcio    A. Cerri       €9.00m   Forward   \n",
       "2  A. Diawara          AS Roma  A. Diawara      €21.00m  Midfield   \n",
       "\n",
       "           league   detailed_position  Squad  AVGage  Foreigners  ...  \\\n",
       "0  Premier League      Centre-Forward     37    26.6          23  ...   \n",
       "1         Serie A      Centre-Forward     49    25.9          18  ...   \n",
       "2         Serie A  Defensive Midfield     57    23.7          27  ...   \n",
       "\n",
       "  International_reputation         Body_type  Pace_Diving  Shooting_Handling  \\\n",
       "0                        1  Normal (170-185)           79                 71   \n",
       "1                        1     Normal (185+)           62                 72   \n",
       "2                        2    Lean (170-185)           68                 54   \n",
       "\n",
       "   Passing_Kicking  Dribbling_Reflexes  Defending_Pace Physical_Positioning  \\\n",
       "0               59                  69              29                   76   \n",
       "1               54                  68              39                   76   \n",
       "2               73                  77              72                   73   \n",
       "\n",
       "   Years_Left        Club  \n",
       "0         3.0     Basel\\n  \n",
       "1         4.0  Cagliari\\n  \n",
       "2         2.0    Napoli\\n  \n",
       "\n",
       "[3 rows x 92 columns]"
      ]
     },
     "execution_count": 414,
     "metadata": {},
     "output_type": "execute_result"
    }
   ],
   "source": [
    "tf_data.head(3)"
   ]
  },
  {
   "cell_type": "code",
   "execution_count": 415,
   "id": "f49d984f-0d90-4dff-ba94-34c1eb817415",
   "metadata": {},
   "outputs": [
    {
     "data": {
      "text/plain": [
       "Index(['Name', 'club', 'name', 'transfer_fee', 'Position', 'league',\n",
       "       'detailed_position', 'Squad', 'AVGage', 'Foreigners',\n",
       "       'TotalPlayerValue', 'League_x', 'Pos', 'GP', 'W', 'D', 'L', 'GR', 'GD',\n",
       "       'Points', 'Age', 'Overall_rating', 'Potential', 'ID', 'Height',\n",
       "       'Weight', 'foot', 'Best_overall', 'Best_position', 'Growth', 'Joined',\n",
       "       'Loan_date_end', 'Value', 'Wage', 'Release_clause', 'Total_attacking',\n",
       "       'Crossing', 'Finishing', 'Heading_accuracy', 'Short_passing', 'Volleys',\n",
       "       'Total_skill', 'Dribbling', 'Curve', 'FK_Accuracy', 'Long_passing',\n",
       "       'Ball_control', 'Total_movement', 'Acceleration', 'Sprint_speed',\n",
       "       'Agility', 'Reactions', 'Balance', 'Total_power', 'Shot_power',\n",
       "       'Jumping', 'Stamina', 'Strength', 'Long_shots', 'Total_mentality',\n",
       "       'Aggression', 'Interceptions', 'Positioning', 'Vision', 'Penalties',\n",
       "       'Composure', 'Total_defending', 'Marking', 'Standing_tackle',\n",
       "       'Sliding_tackle', 'Total_goalkeeping', 'GK_Diving', 'GK_Handling',\n",
       "       'GK_Kicking', 'GK_Positioning', 'GK_Reflexes', 'Total_stats',\n",
       "       'Base_stats', 'Weak_foot', 'Skill_moves', 'Attacking_work_rate',\n",
       "       'Defensive_work_rate', 'International_reputation', 'Body_type',\n",
       "       'Pace_Diving', 'Shooting_Handling', 'Passing_Kicking',\n",
       "       'Dribbling_Reflexes', 'Defending_Pace', 'Physical_Positioning',\n",
       "       'Years_Left', 'Club'],\n",
       "      dtype='object')"
      ]
     },
     "execution_count": 415,
     "metadata": {},
     "output_type": "execute_result"
    }
   ],
   "source": [
    "tf_data.columns"
   ]
  },
  {
   "cell_type": "code",
   "execution_count": 416,
   "id": "7fa85ab2-5fca-4128-9373-294a5fcdfd6e",
   "metadata": {},
   "outputs": [
    {
     "data": {
      "text/html": [
       "<div>\n",
       "<style scoped>\n",
       "    .dataframe tbody tr th:only-of-type {\n",
       "        vertical-align: middle;\n",
       "    }\n",
       "\n",
       "    .dataframe tbody tr th {\n",
       "        vertical-align: top;\n",
       "    }\n",
       "\n",
       "    .dataframe thead th {\n",
       "        text-align: right;\n",
       "    }\n",
       "</style>\n",
       "<table border=\"1\" class=\"dataframe\">\n",
       "  <thead>\n",
       "    <tr style=\"text-align: right;\">\n",
       "      <th></th>\n",
       "      <th>Name</th>\n",
       "      <th>club</th>\n",
       "      <th>name</th>\n",
       "      <th>transfer_fee</th>\n",
       "      <th>Position</th>\n",
       "      <th>league</th>\n",
       "      <th>detailed_position</th>\n",
       "      <th>Squad</th>\n",
       "      <th>AVGage</th>\n",
       "      <th>Foreigners</th>\n",
       "      <th>...</th>\n",
       "      <th>International_reputation</th>\n",
       "      <th>Body_type</th>\n",
       "      <th>Pace_Diving</th>\n",
       "      <th>Shooting_Handling</th>\n",
       "      <th>Passing_Kicking</th>\n",
       "      <th>Dribbling_Reflexes</th>\n",
       "      <th>Defending_Pace</th>\n",
       "      <th>Physical_Positioning</th>\n",
       "      <th>Years_Left</th>\n",
       "      <th>Club</th>\n",
       "    </tr>\n",
       "  </thead>\n",
       "  <tbody>\n",
       "    <tr>\n",
       "      <th>0</th>\n",
       "      <td>A. Ajeti</td>\n",
       "      <td>West Ham United</td>\n",
       "      <td>A. Ajeti</td>\n",
       "      <td>€11.30m</td>\n",
       "      <td>Forward</td>\n",
       "      <td>Premier League</td>\n",
       "      <td>Centre-Forward</td>\n",
       "      <td>37</td>\n",
       "      <td>26.6</td>\n",
       "      <td>23</td>\n",
       "      <td>...</td>\n",
       "      <td>1</td>\n",
       "      <td>Normal (170-185)</td>\n",
       "      <td>79</td>\n",
       "      <td>71</td>\n",
       "      <td>59</td>\n",
       "      <td>69</td>\n",
       "      <td>29</td>\n",
       "      <td>76</td>\n",
       "      <td>3.0</td>\n",
       "      <td>Basel\\n</td>\n",
       "    </tr>\n",
       "    <tr>\n",
       "      <th>1</th>\n",
       "      <td>A. Cerri</td>\n",
       "      <td>Cagliari Calcio</td>\n",
       "      <td>A. Cerri</td>\n",
       "      <td>€9.00m</td>\n",
       "      <td>Forward</td>\n",
       "      <td>Serie A</td>\n",
       "      <td>Centre-Forward</td>\n",
       "      <td>49</td>\n",
       "      <td>25.9</td>\n",
       "      <td>18</td>\n",
       "      <td>...</td>\n",
       "      <td>1</td>\n",
       "      <td>Normal (185+)</td>\n",
       "      <td>62</td>\n",
       "      <td>72</td>\n",
       "      <td>54</td>\n",
       "      <td>68</td>\n",
       "      <td>39</td>\n",
       "      <td>76</td>\n",
       "      <td>4.0</td>\n",
       "      <td>Cagliari\\n</td>\n",
       "    </tr>\n",
       "    <tr>\n",
       "      <th>2</th>\n",
       "      <td>A. Diawara</td>\n",
       "      <td>AS Roma</td>\n",
       "      <td>A. Diawara</td>\n",
       "      <td>€21.00m</td>\n",
       "      <td>Midfield</td>\n",
       "      <td>Serie A</td>\n",
       "      <td>Defensive Midfield</td>\n",
       "      <td>57</td>\n",
       "      <td>23.7</td>\n",
       "      <td>27</td>\n",
       "      <td>...</td>\n",
       "      <td>2</td>\n",
       "      <td>Lean (170-185)</td>\n",
       "      <td>68</td>\n",
       "      <td>54</td>\n",
       "      <td>73</td>\n",
       "      <td>77</td>\n",
       "      <td>72</td>\n",
       "      <td>73</td>\n",
       "      <td>2.0</td>\n",
       "      <td>Napoli\\n</td>\n",
       "    </tr>\n",
       "  </tbody>\n",
       "</table>\n",
       "<p>3 rows × 92 columns</p>\n",
       "</div>"
      ],
      "text/plain": [
       "         Name             club        name transfer_fee  Position  \\\n",
       "0    A. Ajeti  West Ham United    A. Ajeti      €11.30m   Forward   \n",
       "1    A. Cerri  Cagliari Calcio    A. Cerri       €9.00m   Forward   \n",
       "2  A. Diawara          AS Roma  A. Diawara      €21.00m  Midfield   \n",
       "\n",
       "           league   detailed_position  Squad  AVGage  Foreigners  ...  \\\n",
       "0  Premier League      Centre-Forward     37    26.6          23  ...   \n",
       "1         Serie A      Centre-Forward     49    25.9          18  ...   \n",
       "2         Serie A  Defensive Midfield     57    23.7          27  ...   \n",
       "\n",
       "  International_reputation         Body_type  Pace_Diving  Shooting_Handling  \\\n",
       "0                        1  Normal (170-185)           79                 71   \n",
       "1                        1     Normal (185+)           62                 72   \n",
       "2                        2    Lean (170-185)           68                 54   \n",
       "\n",
       "   Passing_Kicking  Dribbling_Reflexes  Defending_Pace Physical_Positioning  \\\n",
       "0               59                  69              29                   76   \n",
       "1               54                  68              39                   76   \n",
       "2               73                  77              72                   73   \n",
       "\n",
       "   Years_Left        Club  \n",
       "0         3.0     Basel\\n  \n",
       "1         4.0  Cagliari\\n  \n",
       "2         2.0    Napoli\\n  \n",
       "\n",
       "[3 rows x 92 columns]"
      ]
     },
     "execution_count": 416,
     "metadata": {},
     "output_type": "execute_result"
    }
   ],
   "source": [
    "tf_data.head(3)"
   ]
  },
  {
   "cell_type": "code",
   "execution_count": 417,
   "id": "7d0f3597-d0cb-4a0d-ad57-35d896044824",
   "metadata": {},
   "outputs": [],
   "source": [
    "#drop not useful, non-numerical columns\n",
    "#tf_data = tf_data.dropna(how='any', inplace=True)\n",
    "tf_data = tf_data.drop([\"Name\"], axis = 1)\n",
    "tf_data = tf_data.drop([\"club\"], axis = 1)\n",
    "tf_data = tf_data.drop([\"Position\"], axis = 1)\n",
    "tf_data = tf_data.drop([\"Best_position\"], axis = 1)\n",
    "tf_data = tf_data.drop([\"league\"], axis = 1)\n",
    "tf_data = tf_data.drop([\"detailed_position\"], axis = 1)\n",
    "tf_data = tf_data.drop([\"Squad\"], axis = 1)\n",
    "tf_data = tf_data.drop([\"TotalPlayerValue\"], axis = 1)\n",
    "tf_data = tf_data.drop([\"GR\"], axis = 1)\n",
    "tf_data = tf_data.drop([\"League_x\"], axis = 1)\n",
    "tf_data = tf_data.drop([\"Joined\"], axis = 1)\n",
    "tf_data = tf_data.drop([\"Loan_date_end\"], axis = 1)\n",
    "tf_data = tf_data.drop([\"Release_clause\"], axis = 1)\n",
    "tf_data = tf_data.drop([\"Attacking_work_rate\"], axis = 1)\n",
    "tf_data = tf_data.drop([\"Defensive_work_rate\"], axis = 1)\n",
    "tf_data = tf_data.drop([\"International_reputation\"], axis = 1)\n",
    "tf_data = tf_data.drop([\"Body_type\"], axis = 1)\n",
    "tf_data = tf_data.drop([\"Club\"], axis = 1)\n",
    "tf_data = tf_data.drop([\"name\"], axis = 1)\n",
    "tf_data = tf_data.drop([\"foot\"], axis = 1)"
   ]
  },
  {
   "cell_type": "code",
   "execution_count": 418,
   "id": "6bdd1956-d03c-4a1e-9fda-1553a7771567",
   "metadata": {},
   "outputs": [],
   "source": [
    "#clean target vector\n",
    "tf_data [\"transfer_fee\"] = tf_data [\"transfer_fee\"].str.replace('€', '') #regex to remove € and m\n",
    "\n",
    "# Drop rows that contain loan fee: https://stackoverflow.com/questions/28679930/how-to-drop-rows-from-pandas-data-frame-that-contains-a-particular-string-in-a-p\n",
    "tf_data = tf_data[~tf_data .transfer_fee.str.contains(\"Loan fee:\")]\n",
    "\n",
    "# Multiply all occurrences of \"m\" by 1 million\n",
    "tf_data ['transfer_fee'] = tf_data ['transfer_fee'].str.replace('m', '').astype(float) * 1000000"
   ]
  },
  {
   "cell_type": "markdown",
   "id": "f101c9d2-bbb4-4859-a3a4-b71461bde842",
   "metadata": {},
   "source": [
    "## Feature Analysis (visualizations, relationships w/ each other and with tranfer fee)"
   ]
  },
  {
   "cell_type": "code",
   "execution_count": 423,
   "id": "467f7f39-8e31-4c4b-ad08-ef16844ec684",
   "metadata": {},
   "outputs": [
    {
     "ename": "ValueError",
     "evalue": "Could not interpret input 'position'",
     "output_type": "error",
     "traceback": [
      "\u001b[0;31m---------------------------------------------------------------------------\u001b[0m",
      "\u001b[0;31mValueError\u001b[0m                                Traceback (most recent call last)",
      "Cell \u001b[0;32mIn[423], line 1\u001b[0m\n\u001b[0;32m----> 1\u001b[0m \u001b[43msns\u001b[49m\u001b[38;5;241;43m.\u001b[39;49m\u001b[43mbarplot\u001b[49m\u001b[43m(\u001b[49m\u001b[43mdata\u001b[49m\u001b[43m \u001b[49m\u001b[38;5;241;43m=\u001b[39;49m\u001b[43m \u001b[49m\u001b[43mtf_data\u001b[49m\u001b[43m,\u001b[49m\u001b[43m \u001b[49m\u001b[43mx\u001b[49m\u001b[43m \u001b[49m\u001b[38;5;241;43m=\u001b[39;49m\u001b[43m \u001b[49m\u001b[38;5;124;43m\"\u001b[39;49m\u001b[38;5;124;43mposition\u001b[39;49m\u001b[38;5;124;43m\"\u001b[39;49m\u001b[43m,\u001b[49m\u001b[43m \u001b[49m\u001b[43my\u001b[49m\u001b[43m \u001b[49m\u001b[38;5;241;43m=\u001b[39;49m\u001b[43m \u001b[49m\u001b[38;5;124;43m\"\u001b[39;49m\u001b[38;5;124;43mtransfer_fee\u001b[39;49m\u001b[38;5;124;43m\"\u001b[39;49m\u001b[43m)\u001b[49m\n",
      "File \u001b[0;32m~/opt/anaconda3/envs/ml-0451/lib/python3.9/site-packages/seaborn/categorical.py:2755\u001b[0m, in \u001b[0;36mbarplot\u001b[0;34m(data, x, y, hue, order, hue_order, estimator, errorbar, n_boot, units, seed, orient, color, palette, saturation, width, errcolor, errwidth, capsize, dodge, ci, ax, **kwargs)\u001b[0m\n\u001b[1;32m   2752\u001b[0m \u001b[38;5;28;01mif\u001b[39;00m estimator \u001b[38;5;129;01mis\u001b[39;00m \u001b[38;5;28mlen\u001b[39m:\n\u001b[1;32m   2753\u001b[0m     estimator \u001b[38;5;241m=\u001b[39m \u001b[38;5;124m\"\u001b[39m\u001b[38;5;124msize\u001b[39m\u001b[38;5;124m\"\u001b[39m\n\u001b[0;32m-> 2755\u001b[0m plotter \u001b[38;5;241m=\u001b[39m \u001b[43m_BarPlotter\u001b[49m\u001b[43m(\u001b[49m\u001b[43mx\u001b[49m\u001b[43m,\u001b[49m\u001b[43m \u001b[49m\u001b[43my\u001b[49m\u001b[43m,\u001b[49m\u001b[43m \u001b[49m\u001b[43mhue\u001b[49m\u001b[43m,\u001b[49m\u001b[43m \u001b[49m\u001b[43mdata\u001b[49m\u001b[43m,\u001b[49m\u001b[43m \u001b[49m\u001b[43morder\u001b[49m\u001b[43m,\u001b[49m\u001b[43m \u001b[49m\u001b[43mhue_order\u001b[49m\u001b[43m,\u001b[49m\n\u001b[1;32m   2756\u001b[0m \u001b[43m                      \u001b[49m\u001b[43mestimator\u001b[49m\u001b[43m,\u001b[49m\u001b[43m \u001b[49m\u001b[43merrorbar\u001b[49m\u001b[43m,\u001b[49m\u001b[43m \u001b[49m\u001b[43mn_boot\u001b[49m\u001b[43m,\u001b[49m\u001b[43m \u001b[49m\u001b[43munits\u001b[49m\u001b[43m,\u001b[49m\u001b[43m \u001b[49m\u001b[43mseed\u001b[49m\u001b[43m,\u001b[49m\n\u001b[1;32m   2757\u001b[0m \u001b[43m                      \u001b[49m\u001b[43morient\u001b[49m\u001b[43m,\u001b[49m\u001b[43m \u001b[49m\u001b[43mcolor\u001b[49m\u001b[43m,\u001b[49m\u001b[43m \u001b[49m\u001b[43mpalette\u001b[49m\u001b[43m,\u001b[49m\u001b[43m \u001b[49m\u001b[43msaturation\u001b[49m\u001b[43m,\u001b[49m\n\u001b[1;32m   2758\u001b[0m \u001b[43m                      \u001b[49m\u001b[43mwidth\u001b[49m\u001b[43m,\u001b[49m\u001b[43m \u001b[49m\u001b[43merrcolor\u001b[49m\u001b[43m,\u001b[49m\u001b[43m \u001b[49m\u001b[43merrwidth\u001b[49m\u001b[43m,\u001b[49m\u001b[43m \u001b[49m\u001b[43mcapsize\u001b[49m\u001b[43m,\u001b[49m\u001b[43m \u001b[49m\u001b[43mdodge\u001b[49m\u001b[43m)\u001b[49m\n\u001b[1;32m   2760\u001b[0m \u001b[38;5;28;01mif\u001b[39;00m ax \u001b[38;5;129;01mis\u001b[39;00m \u001b[38;5;28;01mNone\u001b[39;00m:\n\u001b[1;32m   2761\u001b[0m     ax \u001b[38;5;241m=\u001b[39m plt\u001b[38;5;241m.\u001b[39mgca()\n",
      "File \u001b[0;32m~/opt/anaconda3/envs/ml-0451/lib/python3.9/site-packages/seaborn/categorical.py:1530\u001b[0m, in \u001b[0;36m_BarPlotter.__init__\u001b[0;34m(self, x, y, hue, data, order, hue_order, estimator, errorbar, n_boot, units, seed, orient, color, palette, saturation, width, errcolor, errwidth, capsize, dodge)\u001b[0m\n\u001b[1;32m   1525\u001b[0m \u001b[38;5;28;01mdef\u001b[39;00m \u001b[38;5;21m__init__\u001b[39m(\u001b[38;5;28mself\u001b[39m, x, y, hue, data, order, hue_order,\n\u001b[1;32m   1526\u001b[0m              estimator, errorbar, n_boot, units, seed,\n\u001b[1;32m   1527\u001b[0m              orient, color, palette, saturation, width,\n\u001b[1;32m   1528\u001b[0m              errcolor, errwidth, capsize, dodge):\n\u001b[1;32m   1529\u001b[0m     \u001b[38;5;124;03m\"\"\"Initialize the plotter.\"\"\"\u001b[39;00m\n\u001b[0;32m-> 1530\u001b[0m     \u001b[38;5;28;43mself\u001b[39;49m\u001b[38;5;241;43m.\u001b[39;49m\u001b[43mestablish_variables\u001b[49m\u001b[43m(\u001b[49m\u001b[43mx\u001b[49m\u001b[43m,\u001b[49m\u001b[43m \u001b[49m\u001b[43my\u001b[49m\u001b[43m,\u001b[49m\u001b[43m \u001b[49m\u001b[43mhue\u001b[49m\u001b[43m,\u001b[49m\u001b[43m \u001b[49m\u001b[43mdata\u001b[49m\u001b[43m,\u001b[49m\u001b[43m \u001b[49m\u001b[43morient\u001b[49m\u001b[43m,\u001b[49m\n\u001b[1;32m   1531\u001b[0m \u001b[43m                             \u001b[49m\u001b[43morder\u001b[49m\u001b[43m,\u001b[49m\u001b[43m \u001b[49m\u001b[43mhue_order\u001b[49m\u001b[43m,\u001b[49m\u001b[43m \u001b[49m\u001b[43munits\u001b[49m\u001b[43m)\u001b[49m\n\u001b[1;32m   1532\u001b[0m     \u001b[38;5;28mself\u001b[39m\u001b[38;5;241m.\u001b[39mestablish_colors(color, palette, saturation)\n\u001b[1;32m   1533\u001b[0m     \u001b[38;5;28mself\u001b[39m\u001b[38;5;241m.\u001b[39mestimate_statistic(estimator, errorbar, n_boot, seed)\n",
      "File \u001b[0;32m~/opt/anaconda3/envs/ml-0451/lib/python3.9/site-packages/seaborn/categorical.py:541\u001b[0m, in \u001b[0;36m_CategoricalPlotter.establish_variables\u001b[0;34m(self, x, y, hue, data, orient, order, hue_order, units)\u001b[0m\n\u001b[1;32m    539\u001b[0m     \u001b[38;5;28;01mif\u001b[39;00m \u001b[38;5;28misinstance\u001b[39m(var, \u001b[38;5;28mstr\u001b[39m):\n\u001b[1;32m    540\u001b[0m         err \u001b[38;5;241m=\u001b[39m \u001b[38;5;124mf\u001b[39m\u001b[38;5;124m\"\u001b[39m\u001b[38;5;124mCould not interpret input \u001b[39m\u001b[38;5;124m'\u001b[39m\u001b[38;5;132;01m{\u001b[39;00mvar\u001b[38;5;132;01m}\u001b[39;00m\u001b[38;5;124m'\u001b[39m\u001b[38;5;124m\"\u001b[39m\n\u001b[0;32m--> 541\u001b[0m         \u001b[38;5;28;01mraise\u001b[39;00m \u001b[38;5;167;01mValueError\u001b[39;00m(err)\n\u001b[1;32m    543\u001b[0m \u001b[38;5;66;03m# Figure out the plotting orientation\u001b[39;00m\n\u001b[1;32m    544\u001b[0m orient \u001b[38;5;241m=\u001b[39m infer_orient(\n\u001b[1;32m    545\u001b[0m     x, y, orient, require_numeric\u001b[38;5;241m=\u001b[39m\u001b[38;5;28mself\u001b[39m\u001b[38;5;241m.\u001b[39mrequire_numeric\n\u001b[1;32m    546\u001b[0m )\n",
      "\u001b[0;31mValueError\u001b[0m: Could not interpret input 'position'"
     ]
    }
   ],
   "source": [
    "#sns.barplot(data = tf_data, x = \"position\", y = \"transfer_fee\")"
   ]
  },
  {
   "cell_type": "code",
   "execution_count": 420,
   "id": "8a1a26cd-bece-41d9-9336-804ae61acff9",
   "metadata": {},
   "outputs": [
    {
     "data": {
      "text/plain": [
       "<AxesSubplot: xlabel='Skill_moves', ylabel='transfer_fee'>"
      ]
     },
     "execution_count": 420,
     "metadata": {},
     "output_type": "execute_result"
    },
    {
     "data": {
      "image/png": "[encoded data removed]",
      "text/plain": [
       "<Figure size 640x480 with 1 Axes>"
      ]
     },
     "metadata": {},
     "output_type": "display_data"
    }
   ],
   "source": [
    "sns.barplot(data = tf_data, x = \"Skill_moves\", y = \"transfer_fee\")"
   ]
  },
  {
   "cell_type": "code",
   "execution_count": 348,
   "id": "accd8489-6dc2-4818-b934-26d358f4d87f",
   "metadata": {},
   "outputs": [
    {
     "data": {
      "text/plain": [
       "<AxesSubplot: xlabel='Overall_rating', ylabel='transfer_fee'>"
      ]
     },
     "execution_count": 348,
     "metadata": {},
     "output_type": "execute_result"
    },
    {
     "data": {
      "image/png": "[encoded data removed]",
      "text/plain": [
       "<Figure size 640x480 with 1 Axes>"
      ]
     },
     "metadata": {},
     "output_type": "display_data"
    }
   ],
   "source": [
    "sns.lineplot(data = tf_data, x = \"Overall_rating\", y = \"transfer_fee\")"
   ]
  },
  {
   "cell_type": "code",
   "execution_count": null,
   "id": "9a785196-0cdf-4022-a873-10a266ec5db3",
   "metadata": {},
   "outputs": [],
   "source": [
    "pairplot"
   ]
  },
  {
   "cell_type": "code",
   "execution_count": 342,
   "id": "05cc0a20-2189-43be-886f-db98b5269f5e",
   "metadata": {},
   "outputs": [],
   "source": [
    "#try pairplot"
   ]
  },
  {
   "cell_type": "code",
   "execution_count": 329,
   "id": "9d466458-6ad6-4256-83e0-321975d8e9ab",
   "metadata": {},
   "outputs": [
    {
     "data": {
      "text/plain": [
       "Index(['transfer_fee', 'AVGage', 'Foreigners', 'Pos', 'GP', 'W', 'D', 'L',\n",
       "       'GD', 'Points', 'Age', 'Overall_rating', 'Potential', 'ID', 'Height',\n",
       "       'Weight', 'Best_overall', 'Growth', 'Value', 'Wage', 'Total_attacking',\n",
       "       'Crossing', 'Finishing', 'Heading_accuracy', 'Short_passing', 'Volleys',\n",
       "       'Total_skill', 'Dribbling', 'Curve', 'FK_Accuracy', 'Long_passing',\n",
       "       'Ball_control', 'Total_movement', 'Acceleration', 'Sprint_speed',\n",
       "       'Agility', 'Reactions', 'Balance', 'Total_power', 'Shot_power',\n",
       "       'Jumping', 'Stamina', 'Strength', 'Long_shots', 'Total_mentality',\n",
       "       'Aggression', 'Interceptions', 'Positioning', 'Vision', 'Penalties',\n",
       "       'Composure', 'Total_defending', 'Marking', 'Standing_tackle',\n",
       "       'Sliding_tackle', 'Total_goalkeeping', 'GK_Diving', 'GK_Handling',\n",
       "       'GK_Kicking', 'GK_Positioning', 'GK_Reflexes', 'Total_stats',\n",
       "       'Base_stats', 'Weak_foot', 'Skill_moves', 'Pace_Diving',\n",
       "       'Shooting_Handling', 'Passing_Kicking', 'Dribbling_Reflexes',\n",
       "       'Defending_Pace', 'Physical_Positioning', 'Years_Left'],\n",
       "      dtype='object')"
      ]
     },
     "execution_count": 329,
     "metadata": {},
     "output_type": "execute_result"
    }
   ],
   "source": [
    "tf_data.columns"
   ]
  },
  {
   "cell_type": "code",
   "execution_count": 279,
   "id": "14c3f6f8-b185-46dc-9125-773de9abcba0",
   "metadata": {},
   "outputs": [],
   "source": [
    "from sklearn.model_selection import train_test_split\n",
    "all_tf_train, all_tf_test = train_test_split(tf_data, test_size = .2, shuffle = True)"
   ]
  },
  {
   "cell_type": "code",
   "execution_count": 280,
   "id": "e86011b2-ec23-4a31-9ee1-5667ed5d7382",
   "metadata": {},
   "outputs": [],
   "source": [
    "# #This makes the accuracy skyrocket and modeling work as expected, but why???\n",
    "#This is weird!!!\n",
    "# all_tf_train = all_tf_train.reset_index(drop=True)\n",
    "# all_tf_test = all_tf_test.reset_index(drop=True)"
   ]
  },
  {
   "cell_type": "code",
   "execution_count": 281,
   "id": "14a90c8a-81a1-4ddf-9114-ebb6ee40c0fa",
   "metadata": {},
   "outputs": [],
   "source": [
    "# all_tf_train=all_tf_train.drop([\"level_0\"], axis = 1)\n",
    "# all_tf_train=all_tf_train.drop([\"index\"], axis = 1)\n",
    "\n",
    "# all_tf_test=all_tf_test.drop([\"level_0\"], axis = 1)\n",
    "# all_tf_test=all_tf_test.drop([\"index\"], axis = 1)"
   ]
  },
  {
   "cell_type": "code",
   "execution_count": 282,
   "id": "6b6ec935-599f-4b81-b597-80c61a8f22e3",
   "metadata": {},
   "outputs": [],
   "source": [
    "#getting the feature matrix and target vector\n",
    "all_tf_train.dropna(how='any', inplace=True)\n",
    "X_train_fee = all_tf_train.drop([\"transfer_fee\"], axis = 1)\n",
    "y_train_fee = all_tf_train[\"transfer_fee\"]\n",
    "\n",
    "all_tf_test.dropna(how='any', inplace=True)\n",
    "X_test_fee = all_tf_test.drop([\"transfer_fee\"], axis = 1)\n",
    "y_test_fee = all_tf_test[\"transfer_fee\"] # do this to get it by index; want to reset the index"
   ]
  },
  {
   "cell_type": "markdown",
   "id": "570db7d8-99bf-4363-8cea-3e367b9e73ab",
   "metadata": {},
   "source": [
    "## Model Comparisons + Cross-Validation + Hyperparameter Tuning https://towardsdatascience.com/hyperparameter-tuning-the-random-forest-in-python-using-scikit-learn-28d2aa77dd74"
   ]
  },
  {
   "cell_type": "code",
   "execution_count": 120,
   "id": "e45d6ea9-3e8a-4804-8cd6-981d9b1a4d41",
   "metadata": {},
   "outputs": [
    {
     "name": "stderr",
     "output_type": "stream",
     "text": [
      "/Users/hedavamsolano/opt/anaconda3/envs/ml-0451/lib/python3.9/site-packages/sklearn/linear_model/_coordinate_descent.py:647: ConvergenceWarning: Objective did not converge. You might want to increase the number of iterations, check the scale of the features or consider increasing regularisation. Duality gap: 3.831e+16, tolerance: 1.450e+13\n",
      "  model = cd_fast.enet_coordinate_descent(\n"
     ]
    },
    {
     "data": {
      "text/plain": [
       "0.3451164863267083"
      ]
     },
     "execution_count": 120,
     "metadata": {},
     "output_type": "execute_result"
    }
   ],
   "source": [
    "from sklearn.linear_model import Lasso\n",
    "L5 = Lasso(alpha = 1010)\n",
    "L5.fit(X_train_fee, y_train_fee)\n",
    "L5.score(X_test_fee, y_test_fee)"
   ]
  },
  {
   "cell_type": "code",
   "execution_count": 121,
   "id": "02d905e8-fb78-486f-934c-5a7b1940b2ab",
   "metadata": {},
   "outputs": [
    {
     "data": {
      "text/plain": [
       "0.36014667938904654"
      ]
     },
     "execution_count": 121,
     "metadata": {},
     "output_type": "execute_result"
    }
   ],
   "source": [
    "from sklearn.ensemble import RandomForestRegressor\n",
    "regr = RandomForestRegressor(max_depth = 5, random_state=0)\n",
    "regr.fit(X_train_fee, y_train_fee)\n",
    "regr.score(X_test_fee, y_test_fee)"
   ]
  },
  {
   "cell_type": "code",
   "execution_count": 122,
   "id": "6b7eaf02-7697-43c4-8579-835b55364031",
   "metadata": {},
   "outputs": [
    {
     "data": {
      "text/plain": [
       "-0.45651028924742687"
      ]
     },
     "execution_count": 122,
     "metadata": {},
     "output_type": "execute_result"
    }
   ],
   "source": [
    "from sklearn.neighbors import KNeighborsRegressor\n",
    "neigh = KNeighborsRegressor(n_neighbors=1)\n",
    "neigh.fit(X_train_fee, y_train_fee)\n",
    "neigh.score(X_test_fee, y_test_fee)"
   ]
  },
  {
   "cell_type": "code",
   "execution_count": 286,
   "id": "bd4ae2f8-0b20-421f-bb06-f8d20d93e337",
   "metadata": {},
   "outputs": [
    {
     "name": "stdout",
     "output_type": "stream",
     "text": [
      "0.3387909338482892\n"
     ]
    }
   ],
   "source": [
    "#cross-validation\n",
    "from sklearn.model_selection import cross_val_score\n",
    "model_scores = cross_val_score(regr, X_train_fee, y_train_fee, cv=5)\n",
    "print(model_scores.mean())"
   ]
  },
  {
   "cell_type": "markdown",
   "id": "9d40ca19-7f35-4d53-b4af-451cba2335ae",
   "metadata": {
    "tags": []
   },
   "source": [
    "#### Take-Away: Huge discrepancy between holdout method and cross validation method, due to sample size??? double check with larger dataset, and do an experiment"
   ]
  },
  {
   "cell_type": "markdown",
   "id": "a5353a5f-c809-401a-9756-06e932a902ce",
   "metadata": {},
   "source": [
    "## Experiment: Holdout Set Vs. Cross-Validation Method comparison by Sample Size, # of features"
   ]
  },
  {
   "cell_type": "code",
   "execution_count": 246,
   "id": "4488ffbb-b9ca-4ac2-b021-13ff021220a6",
   "metadata": {},
   "outputs": [
    {
     "name": "stdout",
     "output_type": "stream",
     "text": [
      "109\n",
      "30\n",
      "71\n"
     ]
    }
   ],
   "source": [
    "print(len(X_test_fee.columns))"
   ]
  },
  {
   "cell_type": "code",
   "execution_count": null,
   "id": "1fe68917-43a6-4013-b652-20e07eae21df",
   "metadata": {},
   "outputs": [],
   "source": [
    "#This function helps modify our given feature array by adding column of 1's \n",
    "def pad(X):\n",
    "    return np.append(X, np.ones((X.shape[0], 1)), 1)\n",
    "\n",
    "#This function will create both testing and validation data \n",
    "def LR_data(n_train = 100, n_val = 100, p_features = 1, noise = 1, w = None):\n",
    "    if w is None: \n",
    "        w = np.random.rand(p_features + 1) + .2\n",
    "    \n",
    "    X_train = np.random.rand(n_train, p_features)\n",
    "    y_train = pad(X_train)@w + noise*np.random.randn(n_train)\n",
    "\n",
    "    X_val = np.random.rand(n_val, p_features)\n",
    "    y_val = pad(X_val)@w + noise*np.random.randn(n_val)\n",
    "    \n",
    "    return X_train, y_train, X_val, y_val"
   ]
  },
  {
   "cell_type": "code",
   "execution_count": null,
   "id": "6737bd48-469b-41d7-bc32-b169a8e1a6cd",
   "metadata": {},
   "outputs": [],
   "source": [
    "#choose # of samples and features\n",
    "n_train = 112\n",
    "n_val = 27\n",
    "p_features = 1\n",
    "\n",
    "#adjusts variability of the data\n",
    "noise = 0.5\n",
    "\n",
    "#initialize arrays to store scores\n",
    "train_score_hist = []\n",
    "val_score_hist = []\n",
    "\n",
    "\n",
    "# create some data\n",
    "X_train, y_train, X_val, y_val = LR_data(n_train, n_val, p_features, noise)\n",
    "\n",
    "\n",
    "#Record the score on training and validation as the #features increases\n",
    "for i in range(n_train-1):\n",
    "    X_train, y_train, X_val, y_val = LR_data(n_train, n_val, i, noise) #create data; #i is the p_features\n",
    "    lr.fit_analytic(X_train, y_train) #fit\n",
    "    train_score_hist.append(lr.score(X_train, y_train)) #update model's training score\n",
    "    val_score_hist.append((lr.score(X_val, y_val))) #update model's validation score\n",
    "    \n",
    "#Graph it\n",
    "num_steps = len(val_score_hist)\n",
    "plt.plot(np.arange(num_steps) + 1, val_score_hist, label = \"val\")\n",
    "\n",
    "num_steps = len(train_score_hist)\n",
    "plt.plot(np.arange(num_steps) + 1, train_score_hist, label = \"train\")\n",
    "\n",
    "plt.ylim([0, 1])\n",
    "labels = plt.gca().set(title = \"Scores vs. Features\", xlabel = \"# of Features\", ylabel = \"Score\")"
   ]
  },
  {
   "cell_type": "code",
   "execution_count": 199,
   "id": "6bc5c19c-c0e7-4aa0-8fa1-a6fba8df3eb3",
   "metadata": {},
   "outputs": [
    {
     "name": "stdout",
     "output_type": "stream",
     "text": [
      "Parameters currently in use:\n",
      "\n"
     ]
    },
    {
     "ename": "NameError",
     "evalue": "name 'rf' is not defined",
     "output_type": "error",
     "traceback": [
      "\u001b[0;31m---------------------------------------------------------------------------\u001b[0m",
      "\u001b[0;31mNameError\u001b[0m                                 Traceback (most recent call last)",
      "Cell \u001b[0;32mIn[199], line 4\u001b[0m\n\u001b[1;32m      2\u001b[0m \u001b[38;5;66;03m# Look at parameters used by our current forest\u001b[39;00m\n\u001b[1;32m      3\u001b[0m \u001b[38;5;28mprint\u001b[39m(\u001b[38;5;124m'\u001b[39m\u001b[38;5;124mParameters currently in use:\u001b[39m\u001b[38;5;130;01m\\n\u001b[39;00m\u001b[38;5;124m'\u001b[39m)\n\u001b[0;32m----> 4\u001b[0m pprint(\u001b[43mrf\u001b[49m\u001b[38;5;241m.\u001b[39mget_params())\n",
      "\u001b[0;31mNameError\u001b[0m: name 'rf' is not defined"
     ]
    }
   ],
   "source": [
    "from pprint import pprint\n",
    "# Look at parameters used by our current forest\n",
    "print('Parameters currently in use:\\n')\n",
    "pprint(rf.get_params())"
   ]
  },
  {
   "cell_type": "code",
   "execution_count": null,
   "id": "afa9754c-7aec-4590-9523-0d1873b983de",
   "metadata": {},
   "outputs": [],
   "source": [
    "leaf_size = []"
   ]
  },
  {
   "cell_type": "code",
   "execution_count": 102,
   "id": "242e333f-f925-41ed-a952-1586557aee9b",
   "metadata": {},
   "outputs": [
    {
     "name": "stdout",
     "output_type": "stream",
     "text": [
      "Parameters currently in use:\n",
      "\n",
      "{'algorithm': 'auto',\n",
      " 'leaf_size': 30,\n",
      " 'metric': 'minkowski',\n",
      " 'metric_params': None,\n",
      " 'n_jobs': None,\n",
      " 'n_neighbors': 2,\n",
      " 'p': 2,\n",
      " 'weights': 'uniform'}\n"
     ]
    }
   ],
   "source": [
    "# Create the random grid\n",
    "random_grid = {'leaf_size': leaf_size,\n",
    "               'n_neighbors': min_samples_split,\n",
    "               'p': min_samples_leaf,\n",
    "               'weights': bootstrap}"
   ]
  },
  {
   "cell_type": "code",
   "execution_count": 101,
   "id": "35869d94-7255-4df6-91fd-14d2e2bb9b70",
   "metadata": {},
   "outputs": [
    {
     "data": {
      "text/plain": [
       "-0.08488753917777081"
      ]
     },
     "execution_count": 101,
     "metadata": {},
     "output_type": "execute_result"
    }
   ],
   "source": [
    "from sklearn.svm import SVR\n",
    "from sklearn.pipeline import make_pipeline\n",
    "from sklearn.preprocessing import StandardScaler\n",
    "SVR = make_pipeline(StandardScaler(), SVR(C=.05, epsilon=0.2))\n",
    "SVR.fit(X_train_fee, y_train_fee)\n",
    "SVR.score(X_train_fee, y_train_fee)\n"
   ]
  },
  {
   "cell_type": "code",
   "execution_count": 98,
   "id": "dabf6612-a3fe-41e9-8bde-06126c003258",
   "metadata": {},
   "outputs": [
    {
     "data": {
      "text/plain": [
       "0.009259259259259259"
      ]
     },
     "execution_count": 98,
     "metadata": {},
     "output_type": "execute_result"
    }
   ],
   "source": [
    "from sklearn.linear_model import Perceptron\n",
    "per = Perceptron()\n",
    "per.fit(X_train_fee, y_train_fee)\n",
    "per.score(X_test_fee, y_test_fee)\n"
   ]
  },
  {
   "cell_type": "markdown",
   "id": "b32746cf-54db-48d8-ae6d-18a996f0e547",
   "metadata": {},
   "source": [
    "## Feature Importance  https://scikit-learn.org/stable/modules/permutation_importance.html#permutation-importance"
   ]
  },
  {
   "cell_type": "markdown",
   "id": "41e6c943-1324-42e0-a214-cd05a0dd523f",
   "metadata": {},
   "source": [
    "## Learning Curves (by models)"
   ]
  },
  {
   "cell_type": "code",
   "execution_count": 395,
   "id": "d2629857-c060-480b-a393-3ca75bded8f0",
   "metadata": {},
   "outputs": [
    {
     "data": {
      "text/html": [
       "<div>\n",
       "<style scoped>\n",
       "    .dataframe tbody tr th:only-of-type {\n",
       "        vertical-align: middle;\n",
       "    }\n",
       "\n",
       "    .dataframe tbody tr th {\n",
       "        vertical-align: top;\n",
       "    }\n",
       "\n",
       "    .dataframe thead th {\n",
       "        text-align: right;\n",
       "    }\n",
       "</style>\n",
       "<table border=\"1\" class=\"dataframe\">\n",
       "  <thead>\n",
       "    <tr style=\"text-align: right;\">\n",
       "      <th></th>\n",
       "      <th>AVGage</th>\n",
       "      <th>Foreigners</th>\n",
       "      <th>Pos</th>\n",
       "      <th>GP</th>\n",
       "      <th>W</th>\n",
       "      <th>D</th>\n",
       "      <th>L</th>\n",
       "      <th>GD</th>\n",
       "      <th>Points</th>\n",
       "      <th>Age</th>\n",
       "      <th>...</th>\n",
       "      <th>Base_stats</th>\n",
       "      <th>Weak_foot</th>\n",
       "      <th>Skill_moves</th>\n",
       "      <th>Pace_Diving</th>\n",
       "      <th>Shooting_Handling</th>\n",
       "      <th>Passing_Kicking</th>\n",
       "      <th>Dribbling_Reflexes</th>\n",
       "      <th>Defending_Pace</th>\n",
       "      <th>Physical_Positioning</th>\n",
       "      <th>Years_Left</th>\n",
       "    </tr>\n",
       "  </thead>\n",
       "  <tbody>\n",
       "    <tr>\n",
       "      <th>48</th>\n",
       "      <td>26.4</td>\n",
       "      <td>26</td>\n",
       "      <td>9</td>\n",
       "      <td>38</td>\n",
       "      <td>15</td>\n",
       "      <td>7</td>\n",
       "      <td>16</td>\n",
       "      <td>3</td>\n",
       "      <td>52</td>\n",
       "      <td>24</td>\n",
       "      <td>...</td>\n",
       "      <td>423</td>\n",
       "      <td>4</td>\n",
       "      <td>4</td>\n",
       "      <td>71</td>\n",
       "      <td>70</td>\n",
       "      <td>77</td>\n",
       "      <td>78</td>\n",
       "      <td>61</td>\n",
       "      <td>66</td>\n",
       "      <td>2.0</td>\n",
       "    </tr>\n",
       "    <tr>\n",
       "      <th>87</th>\n",
       "      <td>24.4</td>\n",
       "      <td>22</td>\n",
       "      <td>5</td>\n",
       "      <td>38</td>\n",
       "      <td>19</td>\n",
       "      <td>11</td>\n",
       "      <td>8</td>\n",
       "      <td>19</td>\n",
       "      <td>68</td>\n",
       "      <td>20</td>\n",
       "      <td>...</td>\n",
       "      <td>415</td>\n",
       "      <td>3</td>\n",
       "      <td>3</td>\n",
       "      <td>71</td>\n",
       "      <td>70</td>\n",
       "      <td>72</td>\n",
       "      <td>74</td>\n",
       "      <td>64</td>\n",
       "      <td>64</td>\n",
       "      <td>2.0</td>\n",
       "    </tr>\n",
       "    <tr>\n",
       "      <th>175</th>\n",
       "      <td>25.4</td>\n",
       "      <td>20</td>\n",
       "      <td>4</td>\n",
       "      <td>38</td>\n",
       "      <td>23</td>\n",
       "      <td>2</td>\n",
       "      <td>13</td>\n",
       "      <td>28</td>\n",
       "      <td>71</td>\n",
       "      <td>20</td>\n",
       "      <td>...</td>\n",
       "      <td>436</td>\n",
       "      <td>2</td>\n",
       "      <td>4</td>\n",
       "      <td>89</td>\n",
       "      <td>75</td>\n",
       "      <td>74</td>\n",
       "      <td>85</td>\n",
       "      <td>40</td>\n",
       "      <td>73</td>\n",
       "      <td>4.0</td>\n",
       "    </tr>\n",
       "  </tbody>\n",
       "</table>\n",
       "<p>3 rows × 71 columns</p>\n",
       "</div>"
      ],
      "text/plain": [
       "     AVGage  Foreigners  Pos  GP   W   D   L  GD  Points  Age  ...  \\\n",
       "48     26.4          26    9  38  15   7  16   3      52   24  ...   \n",
       "87     24.4          22    5  38  19  11   8  19      68   20  ...   \n",
       "175    25.4          20    4  38  23   2  13  28      71   20  ...   \n",
       "\n",
       "     Base_stats  Weak_foot  Skill_moves  Pace_Diving  Shooting_Handling  \\\n",
       "48          423          4            4           71                 70   \n",
       "87          415          3            3           71                 70   \n",
       "175         436          2            4           89                 75   \n",
       "\n",
       "     Passing_Kicking  Dribbling_Reflexes  Defending_Pace  \\\n",
       "48                77                  78              61   \n",
       "87                72                  74              64   \n",
       "175               74                  85              40   \n",
       "\n",
       "     Physical_Positioning  Years_Left  \n",
       "48                     66         2.0  \n",
       "87                     64         2.0  \n",
       "175                    73         4.0  \n",
       "\n",
       "[3 rows x 71 columns]"
      ]
     },
     "execution_count": 395,
     "metadata": {},
     "output_type": "execute_result"
    }
   ],
   "source": [
    "X_train_fee.iloc[0:3]"
   ]
  },
  {
   "cell_type": "code",
   "execution_count": 375,
   "id": "bfebedb7-d73f-4df8-b414-c853e93c8b9d",
   "metadata": {},
   "outputs": [],
   "source": [
    "import warnings\n",
    "warnings.filterwarnings('ignore')"
   ]
  },
  {
   "cell_type": "code",
   "execution_count": 399,
   "id": "18fb5d44-b277-4279-9c00-5cbeb6e426da",
   "metadata": {},
   "outputs": [
    {
     "data": {
      "image/png": "[encoded data removed]",
      "text/plain": [
       "<Figure size 640x480 with 1 Axes>"
      ]
     },
     "metadata": {},
     "output_type": "display_data"
    }
   ],
   "source": [
    "#effect of overfitting, keeping # features constant and increasing samples (good for when we get new dataset);\n",
    "\n",
    "#effect of overfitting, keeping # samples constant and increasing features (good for when we get new dataset);\n",
    "\n",
    "\n",
    "#initialize arrays to store scores\n",
    "train_score_hist = []\n",
    "cv_score_hist = []\n",
    "\n",
    "\n",
    "#loop through samples:\n",
    "for i in range(5, len(X_train_fee)):\n",
    "    #fit on training; I don't think I should refit everytime!!!!!\n",
    "    L6 = Lasso(alpha = 1) \n",
    "    L6.fit(X_train_fee.iloc[0:i], y_train_fee.iloc[0:i])\n",
    "    \n",
    "    #score on training\n",
    "    #print(L6.score(X_train_fee.iloc[0:i],y_train_fee.iloc[0:i]))\n",
    "    train_score_hist.append(L6.score(X_train_fee.iloc[0:i],y_train_fee.iloc[0:i]))  #update model's training score\n",
    "    \n",
    "    #cross-validation\n",
    "    cv_score_hist.append(cross_val_score(L6, X_train_fee.iloc[0:i], y_train_fee.iloc[0:i], cv=5).mean())\n",
    " \n",
    "\n",
    "    #Graph it\n",
    "    num_steps = len(train_score_hist)\n",
    "    plt.plot(np.arange(num_steps) + 1, cv_score_hist, label = \"cross_val\")\n",
    "\n",
    "    num_steps = len(train_score_hist)\n",
    "    plt.plot(np.arange(num_steps) + 1, train_score_hist, label = \"train\")\n",
    "\n",
    "    plt.ylim([0, 1])\n",
    "    #change x to be in batches of 5\n",
    "    labels = plt.gca().set(title = \"Scores vs. Samples\", xlabel = \"# of Samples (in batches of 5)\", ylabel = \"Score\")\n",
    "\n",
    "\n",
    "    \n",
    "#loop through features:\n",
    "\n",
    "#for i in rang\n",
    "\n",
    "#effect of overfitting, w/ our # of samples, changing the number of features "
   ]
  },
  {
   "cell_type": "code",
   "execution_count": null,
   "id": "f13509c8-8e69-42b8-b956-5f55e32324b5",
   "metadata": {},
   "outputs": [],
   "source": [
    "#loop through number of samples, checking training and validation score for each...\n",
    "\n",
    "#if training score is still increasing by the time we reach last sample then we probably need more training data"
   ]
  },
  {
   "cell_type": "code",
   "execution_count": null,
   "id": "2ac97867-457e-4b4c-b9e3-90c9eda64b09",
   "metadata": {},
   "outputs": [],
   "source": []
  },
  {
   "cell_type": "code",
   "execution_count": 326,
   "id": "f18ff78f-e0d0-4543-8c9e-518f0e7c07f7",
   "metadata": {},
   "outputs": [
    {
     "ename": "NameError",
     "evalue": "name 'LR_data' is not defined",
     "output_type": "error",
     "traceback": [
      "\u001b[0;31m---------------------------------------------------------------------------\u001b[0m",
      "\u001b[0;31mNameError\u001b[0m                                 Traceback (most recent call last)",
      "Cell \u001b[0;32mIn[326], line 15\u001b[0m\n\u001b[1;32m     11\u001b[0m val_score_hist \u001b[38;5;241m=\u001b[39m []\n\u001b[1;32m     14\u001b[0m \u001b[38;5;66;03m# create some data\u001b[39;00m\n\u001b[0;32m---> 15\u001b[0m X_train, y_train, X_val, y_val \u001b[38;5;241m=\u001b[39m \u001b[43mLR_data\u001b[49m(n_train, n_val, p_features, noise)\n\u001b[1;32m     17\u001b[0m \u001b[38;5;28mprint\u001b[39m(X_train)\n\u001b[1;32m     19\u001b[0m \u001b[38;5;66;03m#Record the score on training and validation as the #features increases\u001b[39;00m\n",
      "\u001b[0;31mNameError\u001b[0m: name 'LR_data' is not defined"
     ]
    }
   ],
   "source": [
    "#choose # of samples and features\n",
    "n_train = 100\n",
    "n_val = 100\n",
    "p_features = 1\n",
    "\n",
    "#adjusts variability of the data\n",
    "noise = 0.5\n",
    "\n",
    "#initialize arrays to store scores\n",
    "train_score_hist = []\n",
    "val_score_hist = []\n",
    "\n",
    "\n",
    "# create some data\n",
    "X_train, y_train, X_val, y_val = LR_data(n_train, n_val, p_features, noise)\n",
    "\n",
    "print(X_train)\n",
    "\n",
    "#Record the score on training and validation as the #features increases\n",
    "for i in range(n_train-1):\n",
    "    #X_train, y_train, X_val, y_val = LR_data(n_train, n_val, i, noise) #create data; #i is the p_features\n",
    "    lr.fit_analytic(X_train, y_train) #fit\n",
    "    #train_score_hist.append(lr.score(X_train, y_train)) #update model's training score\n",
    "    val_score_hist.append((lr.score(X_val, y_val))) #update model's validation score\n",
    "    \n",
    "#Graph it\n",
    "num_steps = len(val_score_hist)\n",
    "plt.plot(np.arange(num_steps) + 1, val_score_hist, label = \"val\")\n",
    "\n",
    "num_steps = len(train_score_hist)\n",
    "plt.plot(np.arange(num_steps) + 1, train_score_hist, label = \"train\")\n",
    "\n",
    "plt.ylim([0, 1])\n",
    "labels = plt.gca().set(title = \"Scores vs. Features\", xlabel = \"# of Features\", ylabel = \"Score\")\n",
    "\n"
   ]
  },
  {
   "cell_type": "code",
   "execution_count": 1010,
   "id": "6556c443-9cfa-4067-ba9f-380277fd7d1a",
   "metadata": {},
   "outputs": [],
   "source": [
    "#should we focus on optimizing this model for rn?\n",
    "#or\n",
    "#add real player stats (not collected yet) and try to switch out target vector to tranfermrkt.com values (still subjective, not collected)\n",
    "###just testing how good fifa's predictions are compared to tranfsermrkt.com; ehh\n",
    "\n",
    "#I THINK THIS IS THE MOVE; #COSIGNED BY PHIL + DO MACHINE LEARNY STUFF\n",
    "#add (merge) club data (collected) and try to predict transfer fees (not collected) for that year; not every player has tranfer fees (target vector will be smaller than #samples)\n",
    "#do we have to tailor make the test set to only include players that have tranfer fees?? eh\n",
    "#use all players for training, but only players with tranfer fees for testing\n",
    "#gonna be hard to get tranfer fees on here\n",
    "\n",
    "\n",
    "\n",
    "#250 available, but we have over 1400 players in our \n",
    "\n",
    "\n",
    "#misc: is it cheating to train multiple times and choose the training set that produces best parameter vector (based on score on validation test)\n",
    "\n",
    "\n",
    "#completely different problem but it's ok\n",
    "\n",
    "#Do some experimentation stuff w/ different models, etc.s\n",
    "\n"
   ]
  },
  {
   "cell_type": "markdown",
   "id": "b7b8c26b-1633-4e48-9572-d909e8f28e11",
   "metadata": {},
   "source": [
    "# Tranfer Fee Model with updated dataset"
   ]
  },
  {
   "cell_type": "markdown",
   "id": "979ecf91-2265-4790-a312-43e8078ab566",
   "metadata": {},
   "source": [
    "# - TRY IT ON SEPARATE POSITIONS\n",
    "\n",
    "# - TRY IT WITH ONLY PLAYER DATA\n",
    "\n",
    "# - TRY IT WITH ONLY CLUB DATA\n",
    "\n",
    "# - LOOK INTO NEURAL NETWORK"
   ]
  },
  {
   "cell_type": "code",
   "execution_count": 498,
   "id": "21d9812d-eca0-44e7-a497-888cf6346f0b",
   "metadata": {},
   "outputs": [],
   "source": [
    "tf2_data = pd.read_csv(\"transfer fee_final.csv\")"
   ]
  },
  {
   "cell_type": "code",
   "execution_count": 499,
   "id": "aea19599-23f1-4590-a5d6-2882dfc2dcc8",
   "metadata": {},
   "outputs": [
    {
     "name": "stderr",
     "output_type": "stream",
     "text": [
      "/var/folders/x_/pzlfspq52sd41dygb97kcztm0000gn/T/ipykernel_25712/987462435.py:3: FutureWarning: The default value of regex will change from True to False in a future version. In addition, single character regular expressions will *not* be treated as literal strings when regex=True.\n",
      "  tf2_data.columns = tf2_data.columns.str.replace('.', '_')\n"
     ]
    }
   ],
   "source": [
    "#clean column names\n",
    "\n",
    "tf2_data.columns = tf2_data.columns.str.replace('.', '_')\n",
    "tf2_data.columns = tf2_data.columns.str.replace('___', '_')\n",
    "tf2_data.columns = tf2_data.columns.str.replace(' ', '_')"
   ]
  },
  {
   "cell_type": "code",
   "execution_count": 500,
   "id": "6d89eb21-c22f-4ecd-a604-8127fb3a61c6",
   "metadata": {},
   "outputs": [
    {
     "data": {
      "text/html": [
       "<div>\n",
       "<style scoped>\n",
       "    .dataframe tbody tr th:only-of-type {\n",
       "        vertical-align: middle;\n",
       "    }\n",
       "\n",
       "    .dataframe tbody tr th {\n",
       "        vertical-align: top;\n",
       "    }\n",
       "\n",
       "    .dataframe thead th {\n",
       "        text-align: right;\n",
       "    }\n",
       "</style>\n",
       "<table border=\"1\" class=\"dataframe\">\n",
       "  <thead>\n",
       "    <tr style=\"text-align: right;\">\n",
       "      <th></th>\n",
       "      <th>age</th>\n",
       "      <th>fee_cleaned</th>\n",
       "      <th>value_eur</th>\n",
       "      <th>years_left</th>\n",
       "      <th>team</th>\n",
       "      <th>player_name</th>\n",
       "      <th>overall</th>\n",
       "      <th>potential</th>\n",
       "      <th>wage_eur</th>\n",
       "      <th>nationality_name</th>\n",
       "      <th>...</th>\n",
       "      <th>npxGA</th>\n",
       "      <th>npxGD</th>\n",
       "      <th>ppda_coef</th>\n",
       "      <th>oppda_coef</th>\n",
       "      <th>deep</th>\n",
       "      <th>deep_allowed</th>\n",
       "      <th>xpts</th>\n",
       "      <th>xpts_diff</th>\n",
       "      <th>SPI</th>\n",
       "      <th>tranfer_activity</th>\n",
       "    </tr>\n",
       "  </thead>\n",
       "  <tbody>\n",
       "    <tr>\n",
       "      <th>0</th>\n",
       "      <td>27</td>\n",
       "      <td>13.0</td>\n",
       "      <td>20500000.0</td>\n",
       "      <td>2.0</td>\n",
       "      <td>Barcelona</td>\n",
       "      <td>Jasper Cillessen</td>\n",
       "      <td>82</td>\n",
       "      <td>85</td>\n",
       "      <td>150000.0</td>\n",
       "      <td>Netherlands</td>\n",
       "      <td>...</td>\n",
       "      <td>33.285940</td>\n",
       "      <td>66.191080</td>\n",
       "      <td>6.012152</td>\n",
       "      <td>15.064390</td>\n",
       "      <td>570</td>\n",
       "      <td>163</td>\n",
       "      <td>94.3800</td>\n",
       "      <td>3.3800</td>\n",
       "      <td>67.72</td>\n",
       "      <td>-487</td>\n",
       "    </tr>\n",
       "    <tr>\n",
       "      <th>1</th>\n",
       "      <td>22</td>\n",
       "      <td>16.5</td>\n",
       "      <td>6000000.0</td>\n",
       "      <td>1.0</td>\n",
       "      <td>Barcelona</td>\n",
       "      <td>Lucas Digne</td>\n",
       "      <td>76</td>\n",
       "      <td>81</td>\n",
       "      <td>70000.0</td>\n",
       "      <td>France</td>\n",
       "      <td>...</td>\n",
       "      <td>33.285940</td>\n",
       "      <td>66.191080</td>\n",
       "      <td>6.012152</td>\n",
       "      <td>15.064390</td>\n",
       "      <td>570</td>\n",
       "      <td>163</td>\n",
       "      <td>94.3800</td>\n",
       "      <td>3.3800</td>\n",
       "      <td>67.72</td>\n",
       "      <td>-487</td>\n",
       "    </tr>\n",
       "    <tr>\n",
       "      <th>2</th>\n",
       "      <td>25</td>\n",
       "      <td>1.5</td>\n",
       "      <td>3300000.0</td>\n",
       "      <td>1.0</td>\n",
       "      <td>Eibar</td>\n",
       "      <td>Florian Lejeune</td>\n",
       "      <td>73</td>\n",
       "      <td>78</td>\n",
       "      <td>35000.0</td>\n",
       "      <td>France</td>\n",
       "      <td>...</td>\n",
       "      <td>47.452420</td>\n",
       "      <td>-0.608427</td>\n",
       "      <td>7.804410</td>\n",
       "      <td>7.974349</td>\n",
       "      <td>191</td>\n",
       "      <td>218</td>\n",
       "      <td>54.0253</td>\n",
       "      <td>11.0253</td>\n",
       "      <td>67.72</td>\n",
       "      <td>-487</td>\n",
       "    </tr>\n",
       "    <tr>\n",
       "      <th>3</th>\n",
       "      <td>27</td>\n",
       "      <td>4.0</td>\n",
       "      <td>3900000.0</td>\n",
       "      <td>3.0</td>\n",
       "      <td>Granada</td>\n",
       "      <td>Mehdi Carcela-González</td>\n",
       "      <td>74</td>\n",
       "      <td>76</td>\n",
       "      <td>60000.0</td>\n",
       "      <td>Morocco</td>\n",
       "      <td>...</td>\n",
       "      <td>58.658524</td>\n",
       "      <td>-22.508105</td>\n",
       "      <td>8.999245</td>\n",
       "      <td>7.241976</td>\n",
       "      <td>117</td>\n",
       "      <td>268</td>\n",
       "      <td>38.4994</td>\n",
       "      <td>-0.5006</td>\n",
       "      <td>67.72</td>\n",
       "      <td>-487</td>\n",
       "    </tr>\n",
       "    <tr>\n",
       "      <th>4</th>\n",
       "      <td>29</td>\n",
       "      <td>0.0</td>\n",
       "      <td>8000000.0</td>\n",
       "      <td>0.0</td>\n",
       "      <td>Las Palmas</td>\n",
       "      <td>Kevin-Prince Boateng</td>\n",
       "      <td>78</td>\n",
       "      <td>78</td>\n",
       "      <td>100000.0</td>\n",
       "      <td>Ghana</td>\n",
       "      <td>...</td>\n",
       "      <td>56.263722</td>\n",
       "      <td>-21.314619</td>\n",
       "      <td>10.079552</td>\n",
       "      <td>8.927858</td>\n",
       "      <td>228</td>\n",
       "      <td>250</td>\n",
       "      <td>41.1793</td>\n",
       "      <td>-2.8207</td>\n",
       "      <td>67.72</td>\n",
       "      <td>-487</td>\n",
       "    </tr>\n",
       "  </tbody>\n",
       "</table>\n",
       "<p>5 rows × 78 columns</p>\n",
       "</div>"
      ],
      "text/plain": [
       "   age  fee_cleaned   value_eur  years_left        team  \\\n",
       "0   27         13.0  20500000.0         2.0   Barcelona   \n",
       "1   22         16.5   6000000.0         1.0   Barcelona   \n",
       "2   25          1.5   3300000.0         1.0       Eibar   \n",
       "3   27          4.0   3900000.0         3.0     Granada   \n",
       "4   29          0.0   8000000.0         0.0  Las Palmas   \n",
       "\n",
       "              player_name  overall  potential  wage_eur nationality_name  ...  \\\n",
       "0        Jasper Cillessen       82         85  150000.0      Netherlands  ...   \n",
       "1             Lucas Digne       76         81   70000.0           France  ...   \n",
       "2         Florian Lejeune       73         78   35000.0           France  ...   \n",
       "3  Mehdi Carcela-González       74         76   60000.0          Morocco  ...   \n",
       "4    Kevin-Prince Boateng       78         78  100000.0            Ghana  ...   \n",
       "\n",
       "       npxGA      npxGD  ppda_coef  oppda_coef  deep  deep_allowed     xpts  \\\n",
       "0  33.285940  66.191080   6.012152   15.064390   570           163  94.3800   \n",
       "1  33.285940  66.191080   6.012152   15.064390   570           163  94.3800   \n",
       "2  47.452420  -0.608427   7.804410    7.974349   191           218  54.0253   \n",
       "3  58.658524 -22.508105   8.999245    7.241976   117           268  38.4994   \n",
       "4  56.263722 -21.314619  10.079552    8.927858   228           250  41.1793   \n",
       "\n",
       "   xpts_diff    SPI  tranfer_activity  \n",
       "0     3.3800  67.72              -487  \n",
       "1     3.3800  67.72              -487  \n",
       "2    11.0253  67.72              -487  \n",
       "3    -0.5006  67.72              -487  \n",
       "4    -2.8207  67.72              -487  \n",
       "\n",
       "[5 rows x 78 columns]"
      ]
     },
     "execution_count": 500,
     "metadata": {},
     "output_type": "execute_result"
    }
   ],
   "source": [
    "tf2_data.head(5)"
   ]
  },
  {
   "cell_type": "code",
   "execution_count": 501,
   "id": "04928d57-9170-4287-8c39-0b58ca995eab",
   "metadata": {},
   "outputs": [],
   "source": [
    "#turn fee_cleaned to millions\n",
    "tf2_data[\"fee_cleaned\"] = tf2_data[\"fee_cleaned\"]* 1000000"
   ]
  },
  {
   "cell_type": "code",
   "execution_count": 502,
   "id": "e00cd5a7-31a9-402d-895f-b225cf14fd7f",
   "metadata": {},
   "outputs": [
    {
     "data": {
      "text/plain": [
       "Index(['age', 'fee_cleaned', 'value_eur', 'years_left', 'team', 'player_name',\n",
       "       'overall', 'potential', 'wage_eur', 'nationality_name', 'weak_foot',\n",
       "       'skill_moves', 'international_reputation', 'pace', 'shooting',\n",
       "       'passing', 'dribbling', 'defending', 'physic', 'attacking_crossing',\n",
       "       'attacking_finishing', 'attacking_heading_accuracy',\n",
       "       'attacking_short_passing', 'attacking_volleys', 'skill_dribbling',\n",
       "       'skill_curve', 'skill_fk_accuracy', 'skill_long_passing',\n",
       "       'skill_ball_control', 'movement_acceleration', 'movement_sprint_speed',\n",
       "       'movement_agility', 'movement_reactions', 'movement_balance',\n",
       "       'power_shot_power', 'power_jumping', 'power_stamina', 'power_strength',\n",
       "       'power_long_shots', 'mentality_aggression', 'mentality_interceptions',\n",
       "       'mentality_positioning', 'mentality_vision', 'mentality_penalties',\n",
       "       'defending_marking_awareness', 'defending_standing_tackle',\n",
       "       'defending_sliding_tackle', 'goalkeeping_diving',\n",
       "       'goalkeeping_handling', 'goalkeeping_kicking',\n",
       "       'goalkeeping_positioning', 'goalkeeping_reflexes', 'position_x',\n",
       "       'club_involved_name', 'league_name_x_y', 'position_y', 'matches',\n",
       "       'wins', 'draws', 'loses', 'scored', 'missed', 'pts', 'xG', 'xG_diff',\n",
       "       'npxG', 'xGA', 'xGA_diff', 'npxGA', 'npxGD', 'ppda_coef', 'oppda_coef',\n",
       "       'deep', 'deep_allowed', 'xpts', 'xpts_diff', 'SPI', 'tranfer_activity'],\n",
       "      dtype='object')"
      ]
     },
     "execution_count": 502,
     "metadata": {},
     "output_type": "execute_result"
    }
   ],
   "source": [
    "tf2_data.columns"
   ]
  },
  {
   "cell_type": "code",
   "execution_count": 503,
   "id": "bc92e4cf-fcda-41d3-aa44-7f670020b187",
   "metadata": {},
   "outputs": [],
   "source": [
    "#getting gk datasets\n",
    "tf2_data_gk_index = tf2_data[\"position_x\"] == \"Goalkeeper\"\n",
    "tf2_data_gk = tf2_data[tf2_data_gk_index]"
   ]
  },
  {
   "cell_type": "code",
   "execution_count": 504,
   "id": "805cc61a-da20-4dfc-b784-1157705998ff",
   "metadata": {},
   "outputs": [],
   "source": [
    "tf2_data_gk = tf2_data_gk.dropna(axis = 1)"
   ]
  },
  {
   "cell_type": "code",
   "execution_count": 505,
   "id": "980f2181-81dd-4379-9cc6-ffb5b0c59000",
   "metadata": {},
   "outputs": [],
   "source": [
    "tf2_data_gk.to_csv('tf_gk.csv', index=False)"
   ]
  },
  {
   "cell_type": "code",
   "execution_count": 506,
   "id": "957567bf-c96c-400a-af8e-aff7ce75f132",
   "metadata": {},
   "outputs": [
    {
     "data": {
      "text/html": [
       "<div>\n",
       "<style scoped>\n",
       "    .dataframe tbody tr th:only-of-type {\n",
       "        vertical-align: middle;\n",
       "    }\n",
       "\n",
       "    .dataframe tbody tr th {\n",
       "        vertical-align: top;\n",
       "    }\n",
       "\n",
       "    .dataframe thead th {\n",
       "        text-align: right;\n",
       "    }\n",
       "</style>\n",
       "<table border=\"1\" class=\"dataframe\">\n",
       "  <thead>\n",
       "    <tr style=\"text-align: right;\">\n",
       "      <th></th>\n",
       "      <th>age</th>\n",
       "      <th>fee_cleaned</th>\n",
       "      <th>value_eur</th>\n",
       "      <th>years_left</th>\n",
       "      <th>team</th>\n",
       "      <th>player_name</th>\n",
       "      <th>overall</th>\n",
       "      <th>potential</th>\n",
       "      <th>wage_eur</th>\n",
       "      <th>nationality_name</th>\n",
       "      <th>...</th>\n",
       "      <th>npxGA</th>\n",
       "      <th>npxGD</th>\n",
       "      <th>ppda_coef</th>\n",
       "      <th>oppda_coef</th>\n",
       "      <th>deep</th>\n",
       "      <th>deep_allowed</th>\n",
       "      <th>xpts</th>\n",
       "      <th>xpts_diff</th>\n",
       "      <th>SPI</th>\n",
       "      <th>tranfer_activity</th>\n",
       "    </tr>\n",
       "  </thead>\n",
       "  <tbody>\n",
       "    <tr>\n",
       "      <th>0</th>\n",
       "      <td>27</td>\n",
       "      <td>13000000.0</td>\n",
       "      <td>20500000.0</td>\n",
       "      <td>2.0</td>\n",
       "      <td>Barcelona</td>\n",
       "      <td>Jasper Cillessen</td>\n",
       "      <td>82</td>\n",
       "      <td>85</td>\n",
       "      <td>150000.0</td>\n",
       "      <td>Netherlands</td>\n",
       "      <td>...</td>\n",
       "      <td>33.285940</td>\n",
       "      <td>66.191080</td>\n",
       "      <td>6.012152</td>\n",
       "      <td>15.064390</td>\n",
       "      <td>570</td>\n",
       "      <td>163</td>\n",
       "      <td>94.3800</td>\n",
       "      <td>3.3800</td>\n",
       "      <td>67.72</td>\n",
       "      <td>-487</td>\n",
       "    </tr>\n",
       "    <tr>\n",
       "      <th>10</th>\n",
       "      <td>25</td>\n",
       "      <td>1000000.0</td>\n",
       "      <td>2500000.0</td>\n",
       "      <td>2.0</td>\n",
       "      <td>Eibar</td>\n",
       "      <td>Marko Dmitrović</td>\n",
       "      <td>72</td>\n",
       "      <td>78</td>\n",
       "      <td>6000.0</td>\n",
       "      <td>Serbia</td>\n",
       "      <td>...</td>\n",
       "      <td>40.710463</td>\n",
       "      <td>-3.817782</td>\n",
       "      <td>7.821400</td>\n",
       "      <td>9.458058</td>\n",
       "      <td>157</td>\n",
       "      <td>218</td>\n",
       "      <td>50.0492</td>\n",
       "      <td>-3.9508</td>\n",
       "      <td>67.72</td>\n",
       "      <td>-487</td>\n",
       "    </tr>\n",
       "    <tr>\n",
       "      <th>12</th>\n",
       "      <td>27</td>\n",
       "      <td>0.0</td>\n",
       "      <td>1300000.0</td>\n",
       "      <td>0.0</td>\n",
       "      <td>Las Palmas</td>\n",
       "      <td>Leandro Chichizola</td>\n",
       "      <td>70</td>\n",
       "      <td>72</td>\n",
       "      <td>3000.0</td>\n",
       "      <td>Argentina</td>\n",
       "      <td>...</td>\n",
       "      <td>50.218214</td>\n",
       "      <td>-13.880975</td>\n",
       "      <td>10.230977</td>\n",
       "      <td>10.034512</td>\n",
       "      <td>270</td>\n",
       "      <td>211</td>\n",
       "      <td>42.1085</td>\n",
       "      <td>3.1085</td>\n",
       "      <td>67.72</td>\n",
       "      <td>-487</td>\n",
       "    </tr>\n",
       "  </tbody>\n",
       "</table>\n",
       "<p>3 rows × 72 columns</p>\n",
       "</div>"
      ],
      "text/plain": [
       "    age  fee_cleaned   value_eur  years_left        team         player_name  \\\n",
       "0    27   13000000.0  20500000.0         2.0   Barcelona    Jasper Cillessen   \n",
       "10   25    1000000.0   2500000.0         2.0       Eibar     Marko Dmitrović   \n",
       "12   27          0.0   1300000.0         0.0  Las Palmas  Leandro Chichizola   \n",
       "\n",
       "    overall  potential  wage_eur nationality_name  ...      npxGA      npxGD  \\\n",
       "0        82         85  150000.0      Netherlands  ...  33.285940  66.191080   \n",
       "10       72         78    6000.0           Serbia  ...  40.710463  -3.817782   \n",
       "12       70         72    3000.0        Argentina  ...  50.218214 -13.880975   \n",
       "\n",
       "    ppda_coef  oppda_coef  deep  deep_allowed     xpts  xpts_diff    SPI  \\\n",
       "0    6.012152   15.064390   570           163  94.3800     3.3800  67.72   \n",
       "10   7.821400    9.458058   157           218  50.0492    -3.9508  67.72   \n",
       "12  10.230977   10.034512   270           211  42.1085     3.1085  67.72   \n",
       "\n",
       "    tranfer_activity  \n",
       "0               -487  \n",
       "10              -487  \n",
       "12              -487  \n",
       "\n",
       "[3 rows x 72 columns]"
      ]
     },
     "execution_count": 506,
     "metadata": {},
     "output_type": "execute_result"
    }
   ],
   "source": [
    "tf2_data_gk.head(3)"
   ]
  },
  {
   "cell_type": "code",
   "execution_count": 507,
   "id": "2a6ce511-18d7-4718-bacf-6a38860330e8",
   "metadata": {},
   "outputs": [],
   "source": [
    "#getting data for other players\n",
    "tf2_data_field_index = tf2_data[\"position_x\"] != \"Goalkeeper\"\n",
    "tf2_data_field = tf2_data[tf2_data_field_index]\n",
    "\n",
    "tf2_data_field_index_2 = tf2_data_field[\"fee_cleaned\"] > 0\n",
    "tf2_data_field = tf2_data_field[tf2_data_field_index_2]\n",
    "\n",
    "tf2_data_field = tf2_data_field.dropna()"
   ]
  },
  {
   "cell_type": "code",
   "execution_count": 508,
   "id": "82e1525f-6741-4c9e-8520-d90f068a93cf",
   "metadata": {},
   "outputs": [
    {
     "data": {
      "text/plain": [
       "Index(['age', 'fee_cleaned', 'value_eur', 'years_left', 'team', 'player_name',\n",
       "       'overall', 'potential', 'wage_eur', 'nationality_name', 'weak_foot',\n",
       "       'skill_moves', 'international_reputation', 'pace', 'shooting',\n",
       "       'passing', 'dribbling', 'defending', 'physic', 'attacking_crossing',\n",
       "       'attacking_finishing', 'attacking_heading_accuracy',\n",
       "       'attacking_short_passing', 'attacking_volleys', 'skill_dribbling',\n",
       "       'skill_curve', 'skill_fk_accuracy', 'skill_long_passing',\n",
       "       'skill_ball_control', 'movement_acceleration', 'movement_sprint_speed',\n",
       "       'movement_agility', 'movement_reactions', 'movement_balance',\n",
       "       'power_shot_power', 'power_jumping', 'power_stamina', 'power_strength',\n",
       "       'power_long_shots', 'mentality_aggression', 'mentality_interceptions',\n",
       "       'mentality_positioning', 'mentality_vision', 'mentality_penalties',\n",
       "       'defending_marking_awareness', 'defending_standing_tackle',\n",
       "       'defending_sliding_tackle', 'goalkeeping_diving',\n",
       "       'goalkeeping_handling', 'goalkeeping_kicking',\n",
       "       'goalkeeping_positioning', 'goalkeeping_reflexes', 'position_x',\n",
       "       'club_involved_name', 'league_name_x_y', 'position_y', 'matches',\n",
       "       'wins', 'draws', 'loses', 'scored', 'missed', 'pts', 'xG', 'xG_diff',\n",
       "       'npxG', 'xGA', 'xGA_diff', 'npxGA', 'npxGD', 'ppda_coef', 'oppda_coef',\n",
       "       'deep', 'deep_allowed', 'xpts', 'xpts_diff', 'SPI', 'tranfer_activity'],\n",
       "      dtype='object')"
      ]
     },
     "execution_count": 508,
     "metadata": {},
     "output_type": "execute_result"
    }
   ],
   "source": [
    "tf2_data_field.columns"
   ]
  },
  {
   "cell_type": "markdown",
   "id": "109d9bf6-628c-4fcb-a624-8abc2f69bff3",
   "metadata": {},
   "source": [
    "## Feature Engineering"
   ]
  },
  {
   "cell_type": "code",
   "execution_count": 509,
   "id": "83b050ab-1aba-4fe3-8f39-88b63df677bb",
   "metadata": {},
   "outputs": [],
   "source": [
    "buyer_avg_tf = tf2_data_field.groupby(\"team\")[\"fee_cleaned\"].mean()\n",
    "seller_avg_tf = tf2_data_field.groupby(\"club_involved_name\")[\"fee_cleaned\"].mean()"
   ]
  },
  {
   "cell_type": "code",
   "execution_count": 510,
   "id": "d6c71f98-c877-4bb9-b101-08c1edd2089e",
   "metadata": {},
   "outputs": [],
   "source": [
    "#left-merge based on \"team names\"; preserves all rows of tf2_data_field and merges with buyer_avg_tf on matches on \"team\"\n",
    "tf2_data_field = pd.merge(tf2_data_field, buyer_avg_tf, on='team', how='left', suffixes=('', '_buyer_avg'))\n",
    "tf2_data_field = pd.merge(tf2_data_field, seller_avg_tf, on='club_involved_name', how='left', suffixes=('', '_seller_avg'))"
   ]
  },
  {
   "cell_type": "code",
   "execution_count": 511,
   "id": "1213a7cf-16ff-489e-98cf-69104877e18f",
   "metadata": {},
   "outputs": [
    {
     "data": {
      "text/plain": [
       "Index(['age', 'fee_cleaned', 'value_eur', 'years_left', 'team', 'player_name',\n",
       "       'overall', 'potential', 'wage_eur', 'nationality_name', 'weak_foot',\n",
       "       'skill_moves', 'international_reputation', 'pace', 'shooting',\n",
       "       'passing', 'dribbling', 'defending', 'physic', 'attacking_crossing',\n",
       "       'attacking_finishing', 'attacking_heading_accuracy',\n",
       "       'attacking_short_passing', 'attacking_volleys', 'skill_dribbling',\n",
       "       'skill_curve', 'skill_fk_accuracy', 'skill_long_passing',\n",
       "       'skill_ball_control', 'movement_acceleration', 'movement_sprint_speed',\n",
       "       'movement_agility', 'movement_reactions', 'movement_balance',\n",
       "       'power_shot_power', 'power_jumping', 'power_stamina', 'power_strength',\n",
       "       'power_long_shots', 'mentality_aggression', 'mentality_interceptions',\n",
       "       'mentality_positioning', 'mentality_vision', 'mentality_penalties',\n",
       "       'defending_marking_awareness', 'defending_standing_tackle',\n",
       "       'defending_sliding_tackle', 'goalkeeping_diving',\n",
       "       'goalkeeping_handling', 'goalkeeping_kicking',\n",
       "       'goalkeeping_positioning', 'goalkeeping_reflexes', 'position_x',\n",
       "       'club_involved_name', 'league_name_x_y', 'position_y', 'matches',\n",
       "       'wins', 'draws', 'loses', 'scored', 'missed', 'pts', 'xG', 'xG_diff',\n",
       "       'npxG', 'xGA', 'xGA_diff', 'npxGA', 'npxGD', 'ppda_coef', 'oppda_coef',\n",
       "       'deep', 'deep_allowed', 'xpts', 'xpts_diff', 'SPI', 'tranfer_activity',\n",
       "       'fee_cleaned_buyer_avg', 'fee_cleaned_seller_avg'],\n",
       "      dtype='object')"
      ]
     },
     "execution_count": 511,
     "metadata": {},
     "output_type": "execute_result"
    }
   ],
   "source": [
    "tf2_data_field.columns"
   ]
  },
  {
   "cell_type": "code",
   "execution_count": 512,
   "id": "8bb06d46-9732-4279-ad83-4b4a43600a80",
   "metadata": {},
   "outputs": [],
   "source": [
    "#tf2_data_field.to_csv('tf_field.csv', index=False)"
   ]
  },
  {
   "cell_type": "markdown",
   "id": "256ef846-4e9a-4204-b425-3ee7667b15be",
   "metadata": {},
   "source": [
    "# FEATURE SELECTION!!!!!!"
   ]
  },
  {
   "cell_type": "code",
   "execution_count": 513,
   "id": "34b4bfd3-01ad-43fc-87ff-6491654c84ef",
   "metadata": {},
   "outputs": [],
   "source": [
    "# try select from model, and RFE; compare"
   ]
  },
  {
   "cell_type": "markdown",
   "id": "c9a07269-e85b-4ece-81f5-142f0fa49be2",
   "metadata": {},
   "source": [
    "## Modeling"
   ]
  },
  {
   "cell_type": "code",
   "execution_count": 514,
   "id": "4e36a782-907f-4ebd-966a-cd2dcec8e964",
   "metadata": {},
   "outputs": [],
   "source": [
    "from sklearn.model_selection import train_test_split\n",
    "field_tf_upd_train, field_tf_upd_test = train_test_split(tf2_data_field, test_size = .2, shuffle = True)"
   ]
  },
  {
   "cell_type": "code",
   "execution_count": 515,
   "id": "eef07a88-ce27-4edf-845c-1eb2bcba28b4",
   "metadata": {},
   "outputs": [],
   "source": [
    "# #This makes the accuracy skyrocket and modeling work as expected, but why???\n",
    "#This is weird!!!\n",
    "# all_tf_train = all_tf_train.reset_index(drop=True)\n",
    "# all_tf_test = all_tf_test.reset_index(drop=True)"
   ]
  },
  {
   "cell_type": "code",
   "execution_count": 516,
   "id": "457ddaa4-01c2-47a2-bd66-e793b18747d7",
   "metadata": {},
   "outputs": [],
   "source": [
    "# all_tf_train=all_tf_train.drop([\"level_0\"], axis = 1)\n",
    "# all_tf_train=all_tf_train.drop([\"index\"], axis = 1)\n",
    "\n",
    "# all_tf_test=all_tf_test.drop([\"level_0\"], axis = 1)\n",
    "# all_tf_test=all_tf_test.drop([\"index\"], axis = 1)"
   ]
  },
  {
   "cell_type": "code",
   "execution_count": 517,
   "id": "7720f1c7-5c19-4d58-9526-36e199a4b19a",
   "metadata": {},
   "outputs": [
    {
     "data": {
      "text/plain": [
       "Index(['age', 'fee_cleaned', 'value_eur', 'years_left', 'team', 'player_name',\n",
       "       'overall', 'potential', 'wage_eur', 'nationality_name', 'weak_foot',\n",
       "       'skill_moves', 'international_reputation', 'pace', 'shooting',\n",
       "       'passing', 'dribbling', 'defending', 'physic', 'attacking_crossing',\n",
       "       'attacking_finishing', 'attacking_heading_accuracy',\n",
       "       'attacking_short_passing', 'attacking_volleys', 'skill_dribbling',\n",
       "       'skill_curve', 'skill_fk_accuracy', 'skill_long_passing',\n",
       "       'skill_ball_control', 'movement_acceleration', 'movement_sprint_speed',\n",
       "       'movement_agility', 'movement_reactions', 'movement_balance',\n",
       "       'power_shot_power', 'power_jumping', 'power_stamina', 'power_strength',\n",
       "       'power_long_shots', 'mentality_aggression', 'mentality_interceptions',\n",
       "       'mentality_positioning', 'mentality_vision', 'mentality_penalties',\n",
       "       'defending_marking_awareness', 'defending_standing_tackle',\n",
       "       'defending_sliding_tackle', 'goalkeeping_diving',\n",
       "       'goalkeeping_handling', 'goalkeeping_kicking',\n",
       "       'goalkeeping_positioning', 'goalkeeping_reflexes', 'position_x',\n",
       "       'club_involved_name', 'league_name_x_y', 'position_y', 'matches',\n",
       "       'wins', 'draws', 'loses', 'scored', 'missed', 'pts', 'xG', 'xG_diff',\n",
       "       'npxG', 'xGA', 'xGA_diff', 'npxGA', 'npxGD', 'ppda_coef', 'oppda_coef',\n",
       "       'deep', 'deep_allowed', 'xpts', 'xpts_diff', 'SPI', 'tranfer_activity',\n",
       "       'fee_cleaned_buyer_avg', 'fee_cleaned_seller_avg'],\n",
       "      dtype='object')"
      ]
     },
     "execution_count": 517,
     "metadata": {},
     "output_type": "execute_result"
    }
   ],
   "source": [
    "(field_tf_upd_train.columns)"
   ]
  },
  {
   "cell_type": "code",
   "execution_count": 518,
   "id": "6f70a9ea-7ddb-4e86-8439-6d18e74a96ec",
   "metadata": {},
   "outputs": [
    {
     "data": {
      "text/plain": [
       "Index(['age', 'fee_cleaned', 'value_eur', 'years_left', 'team', 'player_name',\n",
       "       'overall', 'potential', 'wage_eur', 'nationality_name', 'weak_foot',\n",
       "       'skill_moves', 'international_reputation', 'pace', 'shooting',\n",
       "       'passing', 'dribbling', 'defending', 'physic', 'attacking_crossing',\n",
       "       'attacking_finishing', 'attacking_heading_accuracy',\n",
       "       'attacking_short_passing', 'attacking_volleys', 'skill_dribbling',\n",
       "       'skill_curve', 'skill_fk_accuracy', 'skill_long_passing',\n",
       "       'skill_ball_control', 'movement_acceleration', 'movement_sprint_speed',\n",
       "       'movement_agility', 'movement_reactions', 'movement_balance',\n",
       "       'power_shot_power', 'power_jumping', 'power_stamina', 'power_strength',\n",
       "       'power_long_shots', 'mentality_aggression', 'mentality_interceptions',\n",
       "       'mentality_positioning', 'mentality_vision', 'mentality_penalties',\n",
       "       'defending_marking_awareness', 'defending_standing_tackle',\n",
       "       'defending_sliding_tackle', 'goalkeeping_diving',\n",
       "       'goalkeeping_handling', 'goalkeeping_kicking',\n",
       "       'goalkeeping_positioning', 'goalkeeping_reflexes', 'position_x',\n",
       "       'club_involved_name', 'league_name_x_y', 'position_y', 'matches',\n",
       "       'wins', 'draws', 'loses', 'scored', 'missed', 'pts', 'xG', 'xG_diff',\n",
       "       'npxG', 'xGA', 'xGA_diff', 'npxGA', 'npxGD', 'ppda_coef', 'oppda_coef',\n",
       "       'deep', 'deep_allowed', 'xpts', 'xpts_diff', 'SPI', 'tranfer_activity',\n",
       "       'fee_cleaned_buyer_avg', 'fee_cleaned_seller_avg'],\n",
       "      dtype='object')"
      ]
     },
     "execution_count": 518,
     "metadata": {},
     "output_type": "execute_result"
    }
   ],
   "source": [
    "(field_tf_upd_train.columns)"
   ]
  },
  {
   "cell_type": "code",
   "execution_count": 519,
   "id": "fdb20e70-c594-4da9-91bc-8e88f71fec3c",
   "metadata": {},
   "outputs": [],
   "source": [
    "#getting the feature matrix and target vector\n",
    "# field_tf_upd_train = field_tf_upd_train[field_tf_upd_train.columns[0:8]] #use this!!!\n",
    "# field_tf_upd_test = field_tf_upd_test[field_tf_upd_test.columns[0:8]] #use this!!!\n",
    "\n",
    "#re-clean; non-numerical stuff\n",
    "field_tf_upd_train = field_tf_upd_train.drop([\"team\"], axis = 1)\n",
    "field_tf_upd_train = field_tf_upd_train.drop([\"player_name\"], axis = 1)\n",
    "field_tf_upd_train = field_tf_upd_train.drop([\"nationality_name\"], axis = 1)\n",
    "field_tf_upd_train = field_tf_upd_train.drop([\"position_x\"], axis = 1)\n",
    "field_tf_upd_train = field_tf_upd_train.drop([\"league_name_x_y\"], axis = 1)\n",
    "field_tf_upd_train = field_tf_upd_train.drop([\"club_involved_name\"], axis = 1)\n",
    "\n",
    "#re-clean; non-numerical stuff\n",
    "field_tf_upd_test = field_tf_upd_test.drop([\"team\"], axis = 1)\n",
    "field_tf_upd_test = field_tf_upd_test.drop([\"player_name\"], axis = 1)\n",
    "field_tf_upd_test = field_tf_upd_test.drop([\"nationality_name\"], axis = 1)\n",
    "field_tf_upd_test = field_tf_upd_test.drop([\"position_x\"], axis = 1)\n",
    "field_tf_upd_test = field_tf_upd_test.drop([\"league_name_x_y\"], axis = 1)\n",
    "field_tf_upd_test = field_tf_upd_test.drop([\"club_involved_name\"], axis = 1)\n",
    "\n",
    "X_train_fee = field_tf_upd_train.drop([\"fee_cleaned\"], axis = 1)\n",
    "y_train_fee = field_tf_upd_train[\"fee_cleaned\"]\n",
    "\n",
    "X_test_fee = field_tf_upd_test.drop([\"fee_cleaned\"], axis = 1)\n",
    "y_test_fee = field_tf_upd_test[\"fee_cleaned\"] # do this to get it by index; want to reset the index\n",
    "\n",
    "\n",
    "# # print(X_train_all)\n",
    "# from sklearn.preprocessing import StandardScaler\n",
    "# sc = StandardScaler()\n",
    "# X_train_fee = sc.fit_transform(X_train_fee)\n",
    "# #y_train_all = sc.fit_transform(y_train_all)\n",
    "\n",
    "# X_test_fee = sc.fit_transform(X_test_fee)\n",
    "# #y_test_all = sc.fit_transform(y_test_all)"
   ]
  },
  {
   "cell_type": "code",
   "execution_count": 520,
   "id": "46307edc-1533-42fe-95e7-938a2efce85d",
   "metadata": {},
   "outputs": [
    {
     "data": {
      "text/plain": [
       "Index(['age', 'value_eur', 'years_left', 'overall', 'potential', 'wage_eur',\n",
       "       'weak_foot', 'skill_moves', 'international_reputation', 'pace',\n",
       "       'shooting', 'passing', 'dribbling', 'defending', 'physic',\n",
       "       'attacking_crossing', 'attacking_finishing',\n",
       "       'attacking_heading_accuracy', 'attacking_short_passing',\n",
       "       'attacking_volleys', 'skill_dribbling', 'skill_curve',\n",
       "       'skill_fk_accuracy', 'skill_long_passing', 'skill_ball_control',\n",
       "       'movement_acceleration', 'movement_sprint_speed', 'movement_agility',\n",
       "       'movement_reactions', 'movement_balance', 'power_shot_power',\n",
       "       'power_jumping', 'power_stamina', 'power_strength', 'power_long_shots',\n",
       "       'mentality_aggression', 'mentality_interceptions',\n",
       "       'mentality_positioning', 'mentality_vision', 'mentality_penalties',\n",
       "       'defending_marking_awareness', 'defending_standing_tackle',\n",
       "       'defending_sliding_tackle', 'goalkeeping_diving',\n",
       "       'goalkeeping_handling', 'goalkeeping_kicking',\n",
       "       'goalkeeping_positioning', 'goalkeeping_reflexes', 'position_y',\n",
       "       'matches', 'wins', 'draws', 'loses', 'scored', 'missed', 'pts', 'xG',\n",
       "       'xG_diff', 'npxG', 'xGA', 'xGA_diff', 'npxGA', 'npxGD', 'ppda_coef',\n",
       "       'oppda_coef', 'deep', 'deep_allowed', 'xpts', 'xpts_diff', 'SPI',\n",
       "       'tranfer_activity', 'fee_cleaned_buyer_avg', 'fee_cleaned_seller_avg'],\n",
       "      dtype='object')"
      ]
     },
     "execution_count": 520,
     "metadata": {},
     "output_type": "execute_result"
    }
   ],
   "source": [
    "#re-clean; non-numerical stuff\n",
    "X_train_fee.columns"
   ]
  },
  {
   "cell_type": "code",
   "execution_count": 521,
   "id": "a99c284f-e5b3-41d3-b0d3-5dc7c0a669ad",
   "metadata": {},
   "outputs": [],
   "source": [
    "###Feature selection!!!"
   ]
  },
  {
   "cell_type": "markdown",
   "id": "d59e8dc3-6811-431e-a999-fe8e1f02e2c3",
   "metadata": {},
   "source": [
    "## Filter Method: Univariate; mutual_info_regression + select_k_best; https://guhanesvar.medium.com/feature-selection-based-on-mutual-information-gain-for-classification-and-regression-d0f86ea5262a"
   ]
  },
  {
   "cell_type": "code",
   "execution_count": 522,
   "id": "aca4b41a-87fe-423a-bd11-6300f6ea4371",
   "metadata": {},
   "outputs": [
    {
     "data": {
      "text/plain": [
       "array([0.00964035, 0.20586145, 0.04471367, 0.19461433, 0.355439  ,\n",
       "       0.10998755, 0.        , 0.03801244, 0.03037722, 0.06289921,\n",
       "       0.04010068, 0.08809105, 0.10182688, 0.        , 0.        ,\n",
       "       0.05120854, 0.03482252, 0.01547637, 0.15148502, 0.01521376,\n",
       "       0.02886582, 0.        , 0.06704044, 0.07797571, 0.0506335 ,\n",
       "       0.08486154, 0.02504105, 0.00943107, 0.0811004 , 0.01387554,\n",
       "       0.09064886, 0.        , 0.10741426, 0.02776257, 0.03152314,\n",
       "       0.        , 0.        , 0.02663715, 0.06112615, 0.05651968,\n",
       "       0.01781297, 0.02791921, 0.        , 0.04274349, 0.05495006,\n",
       "       0.09796559, 0.01245257, 0.        , 0.12663373, 0.06574263,\n",
       "       0.16344754, 0.        , 0.0870201 , 0.11346711, 0.11737126,\n",
       "       0.13162014, 0.15270353, 0.01164139, 0.16936577, 0.10833019,\n",
       "       0.        , 0.06302136, 0.14213365, 0.04680956, 0.18318651,\n",
       "       0.14506983, 0.02996141, 0.163652  , 0.1005202 , 0.1779467 ,\n",
       "       0.18468089, 0.4371306 , 0.59507561])"
      ]
     },
     "execution_count": 522,
     "metadata": {},
     "output_type": "execute_result"
    }
   ],
   "source": [
    "from sklearn.feature_selection import mutual_info_regression\n",
    "mutual_info = mutual_info_regression(X_train_fee, y_train_fee)\n",
    "mutual_info"
   ]
  },
  {
   "cell_type": "code",
   "execution_count": 523,
   "id": "6a7d3421-7747-47cd-9585-7ccb8d2bbeb1",
   "metadata": {},
   "outputs": [
    {
     "data": {
      "text/plain": [
       "fee_cleaned_seller_avg     0.595076\n",
       "fee_cleaned_buyer_avg      0.437131\n",
       "potential                  0.355439\n",
       "value_eur                  0.205861\n",
       "overall                    0.194614\n",
       "                             ...   \n",
       "skill_curve                0.000000\n",
       "physic                     0.000000\n",
       "defending                  0.000000\n",
       "weak_foot                  0.000000\n",
       "mentality_interceptions    0.000000\n",
       "Length: 73, dtype: float64"
      ]
     },
     "execution_count": 523,
     "metadata": {},
     "output_type": "execute_result"
    }
   ],
   "source": [
    "mutual_info = pd.Series(mutual_info)\n",
    "mutual_info.index = X_train_fee.columns\n",
    "mutual_info.sort_values(ascending=False)"
   ]
  },
  {
   "cell_type": "code",
   "execution_count": 524,
   "id": "a3b1f8d2-dccd-4a24-9e1e-c5db70daf310",
   "metadata": {},
   "outputs": [
    {
     "data": {
      "text/plain": [
       "<AxesSubplot: >"
      ]
     },
     "execution_count": 524,
     "metadata": {},
     "output_type": "execute_result"
    },
    {
     "data": {
      "image/png": "[encoded data removed]",
      "text/plain": [
       "<Figure size 1500x500 with 1 Axes>"
      ]
     },
     "metadata": {},
     "output_type": "display_data"
    }
   ],
   "source": [
    "mutual_info.sort_values(ascending=False).plot.bar(figsize=(15,5))"
   ]
  },
  {
   "cell_type": "code",
   "execution_count": 525,
   "id": "944199dd-8955-469e-8c68-f467d755071f",
   "metadata": {},
   "outputs": [
    {
     "data": {
      "text/plain": [
       "array([False,  True, False,  True,  True, False, False, False, False,\n",
       "       False, False, False,  True, False, False, False, False, False,\n",
       "        True, False, False, False, False, False, False, False, False,\n",
       "       False, False, False, False, False, False, False, False, False,\n",
       "       False, False, False, False, False, False, False, False, False,\n",
       "       False, False, False,  True, False,  True, False, False,  True,\n",
       "        True,  True,  True, False,  True,  True, False, False,  True,\n",
       "       False,  True,  True, False,  True,  True,  True,  True,  True,\n",
       "        True])"
      ]
     },
     "execution_count": 525,
     "metadata": {},
     "output_type": "execute_result"
    }
   ],
   "source": [
    "from sklearn.feature_selection import SelectPercentile\n",
    "selected_top_columns = SelectPercentile(mutual_info_regression, percentile=30)\n",
    "selected_top_columns.fit(X_train_fee, y_train_fee)\n",
    "selected_top_columns.get_support()"
   ]
  },
  {
   "cell_type": "code",
   "execution_count": 526,
   "id": "1afd8359-41f3-41a5-bb8f-acce30143bf5",
   "metadata": {},
   "outputs": [
    {
     "data": {
      "text/plain": [
       "Index(['value_eur', 'overall', 'potential', 'dribbling',\n",
       "       'attacking_short_passing', 'position_y', 'wins', 'scored', 'missed',\n",
       "       'pts', 'xG', 'npxG', 'xGA', 'npxGD', 'oppda_coef', 'deep', 'xpts',\n",
       "       'xpts_diff', 'SPI', 'tranfer_activity', 'fee_cleaned_buyer_avg',\n",
       "       'fee_cleaned_seller_avg'],\n",
       "      dtype='object')"
      ]
     },
     "execution_count": 526,
     "metadata": {},
     "output_type": "execute_result"
    }
   ],
   "source": [
    "X_train_fee.columns[selected_top_columns.get_support()]"
   ]
  },
  {
   "cell_type": "code",
   "execution_count": 529,
   "id": "65aeaa6a-2252-4783-9f88-3089a5973956",
   "metadata": {},
   "outputs": [],
   "source": [
    "X_train_fee = X_train_fee[['value_eur', 'overall', 'potential', 'attacking_short_passing',\n",
    "       'power_shot_power', 'mentality_vision', 'goalkeeping_kicking', 'wins',\n",
    "       'missed', 'pts', 'xG', 'xGA', 'npxGA', 'npxGD', 'oppda_coef', 'deep',\n",
    "       'xpts', 'xpts_diff', 'SPI', 'tranfer_activity', 'fee_cleaned_buyer_avg',\n",
    "       'fee_cleaned_seller_avg']]\n",
    "\n",
    "X_test_fee = X_test_fee[['value_eur', 'overall', 'potential', 'attacking_short_passing',\n",
    "       'power_shot_power', 'mentality_vision', 'goalkeeping_kicking', 'wins',\n",
    "       'missed', 'pts', 'xG', 'xGA', 'npxGA', 'npxGD', 'oppda_coef', 'deep',\n",
    "       'xpts', 'xpts_diff', 'SPI', 'tranfer_activity', 'fee_cleaned_buyer_avg',\n",
    "       'fee_cleaned_seller_avg']]"
   ]
  },
  {
   "cell_type": "code",
   "execution_count": null,
   "id": "e6369209-8a78-4049-8128-6631e5004219",
   "metadata": {},
   "outputs": [],
   "source": [
    "### Normal LR, performs worse without the filter feature selection; visual?"
   ]
  },
  {
   "cell_type": "code",
   "execution_count": 530,
   "id": "95801361-277b-4c9b-8927-faaeb0d8c7a0",
   "metadata": {},
   "outputs": [
    {
     "data": {
      "text/plain": [
       "0.4169530033254192"
      ]
     },
     "execution_count": 530,
     "metadata": {},
     "output_type": "execute_result"
    }
   ],
   "source": [
    "from sklearn.linear_model import LinearRegression\n",
    "\n",
    "lr = LinearRegression()\n",
    "lr.fit(X_train_fee, y_train_fee)\n",
    "lr.score(X_test_fee, y_test_fee)"
   ]
  },
  {
   "cell_type": "code",
   "execution_count": 531,
   "id": "5a3ee336-77e9-4cb4-a4d1-b4ebd0166c2a",
   "metadata": {},
   "outputs": [
    {
     "name": "stdout",
     "output_type": "stream",
     "text": [
      "0.64735462334018\n"
     ]
    }
   ],
   "source": [
    "from sklearn.model_selection import cross_val_score\n",
    "model_scores = cross_val_score(lr, X_train_fee, y_train_fee, cv=5)\n",
    "print(model_scores.mean())"
   ]
  },
  {
   "cell_type": "markdown",
   "id": "8a86ed45-d071-4feb-b9bb-abd766e212ee",
   "metadata": {},
   "source": [
    "## Embedded Methods NEXT: Deal w/ multi-collinearity and how they compare with perfomance to filter methods."
   ]
  },
  {
   "cell_type": "code",
   "execution_count": 450,
   "id": "4f0a92e7-8742-4898-9313-9122e9e6f198",
   "metadata": {},
   "outputs": [
    {
     "name": "stdout",
     "output_type": "stream",
     "text": [
      "Selection status:  [ True  True  True  True  True  True  True  True  True  True  True  True\n",
      "  True  True  True  True  True  True  True  True  True  True  True  True\n",
      "  True  True  True  True  True  True  True  True  True  True  True  True\n",
      "  True  True  True  True  True  True  True  True  True  True  True  True\n",
      "  True  True  True  True  True  True  True  True  True  True  True  True\n",
      "  True  True  True  True  True  True  True  True  True  True  True  True\n",
      "  True]\n"
     ]
    },
    {
     "name": "stderr",
     "output_type": "stream",
     "text": [
      "/Users/hedavamsolano/opt/anaconda3/envs/ml-0451/lib/python3.9/site-packages/sklearn/linear_model/_coordinate_descent.py:647: ConvergenceWarning: Objective did not converge. You might want to increase the number of iterations, check the scale of the features or consider increasing regularisation. Duality gap: 1.494e+16, tolerance: 1.385e+13\n",
      "  model = cd_fast.enet_coordinate_descent(\n"
     ]
    },
    {
     "ename": "NameError",
     "evalue": "name 'array' is not defined",
     "output_type": "error",
     "traceback": [
      "\u001b[0;31m---------------------------------------------------------------------------\u001b[0m",
      "\u001b[0;31mNameError\u001b[0m                                 Traceback (most recent call last)",
      "Cell \u001b[0;32mIn[450], line 8\u001b[0m\n\u001b[1;32m      5\u001b[0m status \u001b[38;5;241m=\u001b[39m selector\u001b[38;5;241m.\u001b[39mget_support()\n\u001b[1;32m      6\u001b[0m \u001b[38;5;28mprint\u001b[39m(\u001b[38;5;124m\"\u001b[39m\u001b[38;5;124mSelection status: \u001b[39m\u001b[38;5;124m\"\u001b[39m, status)\n\u001b[0;32m----> 8\u001b[0m features \u001b[38;5;241m=\u001b[39m \u001b[43marray\u001b[49m(boston\u001b[38;5;241m.\u001b[39mfeature_names)\n\u001b[1;32m      9\u001b[0m \u001b[38;5;28mprint\u001b[39m(\u001b[38;5;124m\"\u001b[39m\u001b[38;5;124mAll features:\u001b[39m\u001b[38;5;124m\"\u001b[39m)\n\u001b[1;32m     10\u001b[0m \u001b[38;5;28mprint\u001b[39m(features)\n",
      "\u001b[0;31mNameError\u001b[0m: name 'array' is not defined"
     ]
    }
   ],
   "source": [
    "from sklearn.feature_selection import SelectFromModel\n",
    "selector = SelectFromModel(Lasso())\n",
    "selector = selector.fit(X_train_fee, y_train_fee)\n",
    "\n",
    "status = selector.get_support()\n",
    "print(\"Selection status: \", status)\n",
    "\n",
    "features = array(boston.feature_names)\n",
    "print(\"All features:\")\n",
    "print(features)\n",
    "\n",
    "print(\"Selected features:\")\n",
    "print(features[status])\n",
    "X_train_fee = selector.transform(X_train_fee)"
   ]
  },
  {
   "cell_type": "code",
   "execution_count": 495,
   "id": "4b4fd82c-6f98-4228-b3f9-741e52d8a308",
   "metadata": {},
   "outputs": [
    {
     "name": "stdout",
     "output_type": "stream",
     "text": [
      "[0.03067248081536961, 0.012826873306371847, 0.16163270093111343, 0.022558287306164555, 0.008424022783499569, 0.021104170083230973, 0.00883940791515136, 0.005205411305039056, 0.008220062342703767, 0.007134617092981306, 0.005748553356539739, 0.009681841214053017, 0.012751078079896226, 0.006828190855381849, 0.006837319793430817, 0.0074514481403189226, 0.003914220472050136, 0.016910317348921424, 0.0008773717568332874, 0.001729992350078094, 0.5409180001721742, 0.09973363257869687]\n"
     ]
    }
   ],
   "source": [
    "from sklearn.ensemble import RandomForestRegressor\n",
    "regr = RandomForestRegressor(max_depth = 15, random_state=0)\n",
    "regr.fit(X_train_fee, y_train_fee)\n",
    "regr.score(X_test_fee, y_test_fee)\n",
    "\n",
    "# Get numerical feature importances\n",
    "importances = list(regr.feature_importances_)\n",
    "print(importances)"
   ]
  },
  {
   "cell_type": "code",
   "execution_count": 462,
   "id": "6dc5d983-ad38-4b5d-8c43-6bd80b84c046",
   "metadata": {},
   "outputs": [
    {
     "name": "stdout",
     "output_type": "stream",
     "text": [
      "0.6898849748733976\n"
     ]
    }
   ],
   "source": [
    "from sklearn.model_selection import cross_val_score\n",
    "model_scores = cross_val_score(regr, X_train_fee, y_train_fee, cv=5)\n",
    "print(model_scores.mean())"
   ]
  },
  {
   "cell_type": "code",
   "execution_count": 463,
   "id": "6d61db71-1147-4809-a505-abbb1af75da5",
   "metadata": {},
   "outputs": [
    {
     "name": "stderr",
     "output_type": "stream",
     "text": [
      "/Users/hedavamsolano/opt/anaconda3/envs/ml-0451/lib/python3.9/site-packages/sklearn/linear_model/_coordinate_descent.py:647: ConvergenceWarning: Objective did not converge. You might want to increase the number of iterations, check the scale of the features or consider increasing regularisation. Duality gap: 1.865e+16, tolerance: 1.385e+13\n",
      "  model = cd_fast.enet_coordinate_descent(\n"
     ]
    },
    {
     "data": {
      "text/plain": [
       "0.6599095906238384"
      ]
     },
     "execution_count": 463,
     "metadata": {},
     "output_type": "execute_result"
    }
   ],
   "source": [
    "from sklearn.linear_model import ElasticNet\n",
    "from sklearn.datasets import make_regression\n",
    "\n",
    "reg_lin = ElasticNet(random_state=0)\n",
    "reg_lin.fit(X_train_fee, y_train_fee)\n",
    "reg_lin.score(X_test_fee, y_test_fee)"
   ]
  },
  {
   "cell_type": "code",
   "execution_count": 464,
   "id": "92135986-39b0-4fb2-87f9-fac5cc8ea086",
   "metadata": {},
   "outputs": [
    {
     "name": "stdout",
     "output_type": "stream",
     "text": [
      "0.6701905441668442\n"
     ]
    },
    {
     "name": "stderr",
     "output_type": "stream",
     "text": [
      "/Users/hedavamsolano/opt/anaconda3/envs/ml-0451/lib/python3.9/site-packages/sklearn/linear_model/_coordinate_descent.py:647: ConvergenceWarning: Objective did not converge. You might want to increase the number of iterations, check the scale of the features or consider increasing regularisation. Duality gap: 1.477e+16, tolerance: 1.036e+13\n",
      "  model = cd_fast.enet_coordinate_descent(\n",
      "/Users/hedavamsolano/opt/anaconda3/envs/ml-0451/lib/python3.9/site-packages/sklearn/linear_model/_coordinate_descent.py:647: ConvergenceWarning: Objective did not converge. You might want to increase the number of iterations, check the scale of the features or consider increasing regularisation. Duality gap: 1.183e+16, tolerance: 9.860e+12\n",
      "  model = cd_fast.enet_coordinate_descent(\n",
      "/Users/hedavamsolano/opt/anaconda3/envs/ml-0451/lib/python3.9/site-packages/sklearn/linear_model/_coordinate_descent.py:647: ConvergenceWarning: Objective did not converge. You might want to increase the number of iterations, check the scale of the features or consider increasing regularisation. Duality gap: 1.316e+16, tolerance: 1.164e+13\n",
      "  model = cd_fast.enet_coordinate_descent(\n",
      "/Users/hedavamsolano/opt/anaconda3/envs/ml-0451/lib/python3.9/site-packages/sklearn/linear_model/_coordinate_descent.py:647: ConvergenceWarning: Objective did not converge. You might want to increase the number of iterations, check the scale of the features or consider increasing regularisation. Duality gap: 1.560e+16, tolerance: 1.131e+13\n",
      "  model = cd_fast.enet_coordinate_descent(\n",
      "/Users/hedavamsolano/opt/anaconda3/envs/ml-0451/lib/python3.9/site-packages/sklearn/linear_model/_coordinate_descent.py:647: ConvergenceWarning: Objective did not converge. You might want to increase the number of iterations, check the scale of the features or consider increasing regularisation. Duality gap: 1.739e+16, tolerance: 1.221e+13\n",
      "  model = cd_fast.enet_coordinate_descent(\n"
     ]
    }
   ],
   "source": [
    "from sklearn.model_selection import cross_val_score\n",
    "model_scores = cross_val_score(reg_lin, X_train_fee, y_train_fee, cv=5)\n",
    "print(model_scores.mean())"
   ]
  },
  {
   "cell_type": "code",
   "execution_count": 458,
   "id": "d968d7cd-b101-4635-ab62-0a2407f0caf3",
   "metadata": {},
   "outputs": [
    {
     "data": {
      "text/plain": [
       "0.014331232626567547"
      ]
     },
     "execution_count": 458,
     "metadata": {},
     "output_type": "execute_result"
    }
   ],
   "source": [
    "from sklearn.ensemble import GradientBoostingRegressor\n",
    "xgb = GradientBoostingRegressor(n_estimators=10, learning_rate=1.0,\n",
    "    max_depth=8, random_state=4)\n",
    "xgb.fit(X_train_fee, y_train_fee)\n",
    "xgb.score(X_test_fee, y_test_fee)"
   ]
  },
  {
   "cell_type": "code",
   "execution_count": 459,
   "id": "fd47d589-2c7e-46ae-9beb-96296a6cb44f",
   "metadata": {},
   "outputs": [
    {
     "name": "stdout",
     "output_type": "stream",
     "text": [
      "0.33194068747855693\n"
     ]
    }
   ],
   "source": [
    "from sklearn.model_selection import cross_val_score\n",
    "model_scores = cross_val_score(xgb, X_train_fee, y_train_fee, cv=5)\n",
    "print(model_scores.mean())"
   ]
  },
  {
   "cell_type": "markdown",
   "id": "b07e9902-351a-49c2-ad1d-af448b4df4a6",
   "metadata": {
    "tags": []
   },
   "source": [
    "## Model Comparisons + Cross-Validation + Hyperparameter Tuning https://towardsdatascience.com/hyperparameter-tuning-the-random-forest-in-python-using-scikit-learn-28d2aa77dd74"
   ]
  },
  {
   "cell_type": "markdown",
   "id": "3e12c06a-990d-4a23-ad8c-51b39e5c187a",
   "metadata": {},
   "source": [
    "## Bias Audit: Nationality"
   ]
  },
  {
   "cell_type": "code",
   "execution_count": null,
   "id": "3fea7a96-82d7-4fed-a9fb-479d2af7b845",
   "metadata": {},
   "outputs": [],
   "source": [
    "#Motivation"
   ]
  },
  {
   "cell_type": "code",
   "execution_count": null,
   "id": "8e25fbe0-64b9-47c2-afc8-f48faeb92aed",
   "metadata": {},
   "outputs": [],
   "source": [
    "#avg. tf for all these countries\n",
    "#are these players just better?"
   ]
  },
  {
   "cell_type": "code",
   "execution_count": 140,
   "id": "aa57a276-b2f6-43c4-a487-350856bd4bbc",
   "metadata": {},
   "outputs": [
    {
     "data": {
      "text/plain": [
       "<AxesSubplot: xlabel='nationality_name', ylabel='fee_cleaned'>"
      ]
     },
     "execution_count": 140,
     "metadata": {},
     "output_type": "execute_result"
    },
    {
     "data": {
      "image/png": "[encoded data removed]",
      "text/plain": [
       "<Figure size 640x480 with 1 Axes>"
      ]
     },
     "metadata": {},
     "output_type": "display_data"
    }
   ],
   "source": [
    "sns.barplot(data =tf2_data_field , x = \"nationality_name\", y = \"fee_cleaned\") #just pick the top 5 from the article, groupby -> new dataset"
   ]
  },
  {
   "cell_type": "code",
   "execution_count": null,
   "id": "bac28040-97f2-4616-84cf-16565646052f",
   "metadata": {},
   "outputs": [],
   "source": [
    "#need a threshold or tiers"
   ]
  },
  {
   "cell_type": "code",
   "execution_count": null,
   "id": "b5687baa-9241-4c23-ab11-08307bc029bf",
   "metadata": {},
   "outputs": [],
   "source": [
    "#base rates\n",
    "\n",
    "\n",
    "\n",
    "#is the model biased to give them higher transfer fee predictions"
   ]
  },
  {
   "cell_type": "code",
   "execution_count": 198,
   "id": "58b61b12-84df-4da6-a99b-1499d400cf87",
   "metadata": {},
   "outputs": [
    {
     "data": {
      "text/plain": [
       "<AxesSubplot: xlabel='age', ylabel='fee_cleaned'>"
      ]
     },
     "execution_count": 198,
     "metadata": {},
     "output_type": "execute_result"
    },
    {
     "data": {
      "image/png": "[encoded data removed]",
      "text/plain": [
       "<Figure size 640x480 with 1 Axes>"
      ]
     },
     "metadata": {},
     "output_type": "display_data"
    }
   ],
   "source": [
    "sns.barplot(data = field_tf_upd_train, x = \"age\", y = \"fee_cleaned\")"
   ]
  },
  {
   "cell_type": "code",
   "execution_count": 198,
   "id": "bcb8dd3b-bb35-4530-9a71-481d40d35d6c",
   "metadata": {},
   "outputs": [
    {
     "data": {
      "text/plain": [
       "<AxesSubplot: xlabel='Skill_moves', ylabel='Value'>"
      ]
     },
     "execution_count": 198,
     "metadata": {},
     "output_type": "execute_result"
    },
    {
     "data": {
      "image/png": "[encoded data removed]",
      "text/plain": [
       "<Figure size 640x480 with 1 Axes>"
      ]
     },
     "metadata": {},
     "output_type": "display_data"
    }
   ],
   "source": [
    "sns.barplot(data = train, x = \"Skill_moves\", y = \"Value\")"
   ]
  },
  {
   "cell_type": "code",
   "execution_count": 410,
   "id": "4d096257-366b-4527-8f67-d58e5022d8b6",
   "metadata": {},
   "outputs": [
    {
     "data": {
      "text/plain": [
       "<AxesSubplot: xlabel='pace', ylabel='fee_cleaned'>"
      ]
     },
     "execution_count": 410,
     "metadata": {},
     "output_type": "execute_result"
    },
    {
     "data": {
      "image/png": "[encoded data removed]",
      "text/plain": [
       "<Figure size 640x480 with 1 Axes>"
      ]
     },
     "metadata": {},
     "output_type": "display_data"
    }
   ],
   "source": [
    "sns.barplot(data = field_tf_upd_train, x = \"pace\", y = \"fee_cleaned\")"
   ]
  },
  {
   "cell_type": "code",
   "execution_count": null,
   "id": "37b42e93-321b-4c5c-ad73-dbe04308da6b",
   "metadata": {},
   "outputs": [],
   "source": []
  }
 ],
 "metadata": {
  "kernelspec": {
   "display_name": "Python [conda env:ml-0451] *",
   "language": "python",
   "name": "conda-env-ml-0451-py"
  },
  "language_info": {
   "codemirror_mode": {
    "name": "ipython",
    "version": 3
   },
   "file_extension": ".py",
   "mimetype": "text/x-python",
   "name": "python",
   "nbconvert_exporter": "python",
   "pygments_lexer": "ipython3",
   "version": "3.9.16"
  }
 },
 "nbformat": 4,
 "nbformat_minor": 5
}
